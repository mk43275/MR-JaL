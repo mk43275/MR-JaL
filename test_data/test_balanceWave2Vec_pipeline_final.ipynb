{
  "cells": [
    {
      "cell_type": "markdown",
      "id": "572d2b42",
      "metadata": {
        "id": "572d2b42"
      },
      "source": [
        "# Test data"
      ]
    },
    {
      "cell_type": "code",
      "execution_count": 15,
      "id": "0da41b36",
      "metadata": {
        "id": "0da41b36"
      },
      "outputs": [],
      "source": [
        "import os\n",
        "import librosa\n",
        "import pandas as pd\n",
        "import numpy as np\n",
        "import random\n",
        "import torch\n",
        "import torch.nn as nn\n",
        "from torch.utils.data import Dataset, DataLoader\n",
        "from sklearn.model_selection import train_test_split\n",
        "from sklearn.preprocessing import StandardScaler\n",
        "import warnings"
      ]
    },
    {
      "cell_type": "markdown",
      "id": "69e87ff3",
      "metadata": {
        "id": "69e87ff3"
      },
      "source": [
        "### Transcript"
      ]
    },
    {
      "cell_type": "code",
      "execution_count": 16,
      "id": "7522db94",
      "metadata": {
        "colab": {
          "base_uri": "https://localhost:8080/"
        },
        "id": "7522db94",
        "outputId": "6674e393-6f31-4152-ebb4-646a7a57e627"
      },
      "outputs": [
        {
          "output_type": "stream",
          "name": "stdout",
          "text": [
            "Drive already mounted at /content/drive; to attempt to forcibly remount, call drive.mount(\"/content/drive\", force_remount=True).\n"
          ]
        }
      ],
      "source": [
        "from google.colab import drive\n",
        "drive.mount('/content/drive')"
      ]
    },
    {
      "cell_type": "code",
      "execution_count": 17,
      "id": "ba6d2f97",
      "metadata": {
        "colab": {
          "base_uri": "https://localhost:8080/",
          "height": 322
        },
        "id": "ba6d2f97",
        "outputId": "9ec6a929-2d7b-4ae8-d809-fad045d7bf59"
      },
      "outputs": [
        {
          "output_type": "execute_result",
          "data": {
            "text/plain": [
              "  clipname          transcript  group     word     tone indicator       type  \\\n",
              "0  IWTGH_1  I want to go home.      1  Neutral  Neutral       NaN  Statement   \n",
              "1  IWTGH_2  I want to go home.      1  Neutral    Anger       NaN  Statement   \n",
              "2  IWTGH_3  I want to go home.      1  Neutral  Disgust       NaN  Statement   \n",
              "3  IWTGH_4  I want to go home.      1  Neutral     Fear       NaN  Statement   \n",
              "4  IWTGH_5  I want to go home.      1  Neutral      Sad       NaN  Statement   \n",
              "\n",
              "  sentence  word_count      mfcc_1  ...    spect_4    spect_5    spect_6  \\\n",
              "0   Single          18 -456.161011  ...  12.345949  13.214580  16.673017   \n",
              "1   Single          18 -403.748169  ...  12.661829  13.684149  17.276580   \n",
              "2   Single          18 -455.887939  ...  12.708105  13.574046  15.457117   \n",
              "3   Single          18 -460.136444  ...  12.829127  13.194763  17.238967   \n",
              "4   Single          18 -432.942596  ...  12.880225  13.129890  17.900985   \n",
              "\n",
              "     spect_7  tonnetz_1  tonnetz_2  tonnetz_3  tonnetz_4  tonnetz_5  tonnetz_6  \n",
              "0  31.776100   0.028255  -0.018589   0.115786  -0.013089  -0.031850  -0.050886  \n",
              "1  33.785295   0.000486   0.028319   0.064798  -0.031453   0.001535  -0.017270  \n",
              "2  33.037995   0.022056  -0.044555   0.114726  -0.004732  -0.040863  -0.023962  \n",
              "3  32.216306   0.008253  -0.017944   0.081751  -0.002341  -0.019149  -0.016467  \n",
              "4  31.293743   0.010412  -0.034611   0.111465  -0.056060  -0.061425  -0.031940  \n",
              "\n",
              "[5 rows x 182 columns]"
            ],
            "text/html": [
              "\n",
              "  <div id=\"df-d4df75a8-c647-48ed-9206-111fe74cec95\" class=\"colab-df-container\">\n",
              "    <div>\n",
              "<style scoped>\n",
              "    .dataframe tbody tr th:only-of-type {\n",
              "        vertical-align: middle;\n",
              "    }\n",
              "\n",
              "    .dataframe tbody tr th {\n",
              "        vertical-align: top;\n",
              "    }\n",
              "\n",
              "    .dataframe thead th {\n",
              "        text-align: right;\n",
              "    }\n",
              "</style>\n",
              "<table border=\"1\" class=\"dataframe\">\n",
              "  <thead>\n",
              "    <tr style=\"text-align: right;\">\n",
              "      <th></th>\n",
              "      <th>clipname</th>\n",
              "      <th>transcript</th>\n",
              "      <th>group</th>\n",
              "      <th>word</th>\n",
              "      <th>tone</th>\n",
              "      <th>indicator</th>\n",
              "      <th>type</th>\n",
              "      <th>sentence</th>\n",
              "      <th>word_count</th>\n",
              "      <th>mfcc_1</th>\n",
              "      <th>...</th>\n",
              "      <th>spect_4</th>\n",
              "      <th>spect_5</th>\n",
              "      <th>spect_6</th>\n",
              "      <th>spect_7</th>\n",
              "      <th>tonnetz_1</th>\n",
              "      <th>tonnetz_2</th>\n",
              "      <th>tonnetz_3</th>\n",
              "      <th>tonnetz_4</th>\n",
              "      <th>tonnetz_5</th>\n",
              "      <th>tonnetz_6</th>\n",
              "    </tr>\n",
              "  </thead>\n",
              "  <tbody>\n",
              "    <tr>\n",
              "      <th>0</th>\n",
              "      <td>IWTGH_1</td>\n",
              "      <td>I want to go home.</td>\n",
              "      <td>1</td>\n",
              "      <td>Neutral</td>\n",
              "      <td>Neutral</td>\n",
              "      <td>NaN</td>\n",
              "      <td>Statement</td>\n",
              "      <td>Single</td>\n",
              "      <td>18</td>\n",
              "      <td>-456.161011</td>\n",
              "      <td>...</td>\n",
              "      <td>12.345949</td>\n",
              "      <td>13.214580</td>\n",
              "      <td>16.673017</td>\n",
              "      <td>31.776100</td>\n",
              "      <td>0.028255</td>\n",
              "      <td>-0.018589</td>\n",
              "      <td>0.115786</td>\n",
              "      <td>-0.013089</td>\n",
              "      <td>-0.031850</td>\n",
              "      <td>-0.050886</td>\n",
              "    </tr>\n",
              "    <tr>\n",
              "      <th>1</th>\n",
              "      <td>IWTGH_2</td>\n",
              "      <td>I want to go home.</td>\n",
              "      <td>1</td>\n",
              "      <td>Neutral</td>\n",
              "      <td>Anger</td>\n",
              "      <td>NaN</td>\n",
              "      <td>Statement</td>\n",
              "      <td>Single</td>\n",
              "      <td>18</td>\n",
              "      <td>-403.748169</td>\n",
              "      <td>...</td>\n",
              "      <td>12.661829</td>\n",
              "      <td>13.684149</td>\n",
              "      <td>17.276580</td>\n",
              "      <td>33.785295</td>\n",
              "      <td>0.000486</td>\n",
              "      <td>0.028319</td>\n",
              "      <td>0.064798</td>\n",
              "      <td>-0.031453</td>\n",
              "      <td>0.001535</td>\n",
              "      <td>-0.017270</td>\n",
              "    </tr>\n",
              "    <tr>\n",
              "      <th>2</th>\n",
              "      <td>IWTGH_3</td>\n",
              "      <td>I want to go home.</td>\n",
              "      <td>1</td>\n",
              "      <td>Neutral</td>\n",
              "      <td>Disgust</td>\n",
              "      <td>NaN</td>\n",
              "      <td>Statement</td>\n",
              "      <td>Single</td>\n",
              "      <td>18</td>\n",
              "      <td>-455.887939</td>\n",
              "      <td>...</td>\n",
              "      <td>12.708105</td>\n",
              "      <td>13.574046</td>\n",
              "      <td>15.457117</td>\n",
              "      <td>33.037995</td>\n",
              "      <td>0.022056</td>\n",
              "      <td>-0.044555</td>\n",
              "      <td>0.114726</td>\n",
              "      <td>-0.004732</td>\n",
              "      <td>-0.040863</td>\n",
              "      <td>-0.023962</td>\n",
              "    </tr>\n",
              "    <tr>\n",
              "      <th>3</th>\n",
              "      <td>IWTGH_4</td>\n",
              "      <td>I want to go home.</td>\n",
              "      <td>1</td>\n",
              "      <td>Neutral</td>\n",
              "      <td>Fear</td>\n",
              "      <td>NaN</td>\n",
              "      <td>Statement</td>\n",
              "      <td>Single</td>\n",
              "      <td>18</td>\n",
              "      <td>-460.136444</td>\n",
              "      <td>...</td>\n",
              "      <td>12.829127</td>\n",
              "      <td>13.194763</td>\n",
              "      <td>17.238967</td>\n",
              "      <td>32.216306</td>\n",
              "      <td>0.008253</td>\n",
              "      <td>-0.017944</td>\n",
              "      <td>0.081751</td>\n",
              "      <td>-0.002341</td>\n",
              "      <td>-0.019149</td>\n",
              "      <td>-0.016467</td>\n",
              "    </tr>\n",
              "    <tr>\n",
              "      <th>4</th>\n",
              "      <td>IWTGH_5</td>\n",
              "      <td>I want to go home.</td>\n",
              "      <td>1</td>\n",
              "      <td>Neutral</td>\n",
              "      <td>Sad</td>\n",
              "      <td>NaN</td>\n",
              "      <td>Statement</td>\n",
              "      <td>Single</td>\n",
              "      <td>18</td>\n",
              "      <td>-432.942596</td>\n",
              "      <td>...</td>\n",
              "      <td>12.880225</td>\n",
              "      <td>13.129890</td>\n",
              "      <td>17.900985</td>\n",
              "      <td>31.293743</td>\n",
              "      <td>0.010412</td>\n",
              "      <td>-0.034611</td>\n",
              "      <td>0.111465</td>\n",
              "      <td>-0.056060</td>\n",
              "      <td>-0.061425</td>\n",
              "      <td>-0.031940</td>\n",
              "    </tr>\n",
              "  </tbody>\n",
              "</table>\n",
              "<p>5 rows × 182 columns</p>\n",
              "</div>\n",
              "    <div class=\"colab-df-buttons\">\n",
              "\n",
              "  <div class=\"colab-df-container\">\n",
              "    <button class=\"colab-df-convert\" onclick=\"convertToInteractive('df-d4df75a8-c647-48ed-9206-111fe74cec95')\"\n",
              "            title=\"Convert this dataframe to an interactive table.\"\n",
              "            style=\"display:none;\">\n",
              "\n",
              "  <svg xmlns=\"http://www.w3.org/2000/svg\" height=\"24px\" viewBox=\"0 -960 960 960\">\n",
              "    <path d=\"M120-120v-720h720v720H120Zm60-500h600v-160H180v160Zm220 220h160v-160H400v160Zm0 220h160v-160H400v160ZM180-400h160v-160H180v160Zm440 0h160v-160H620v160ZM180-180h160v-160H180v160Zm440 0h160v-160H620v160Z\"/>\n",
              "  </svg>\n",
              "    </button>\n",
              "\n",
              "  <style>\n",
              "    .colab-df-container {\n",
              "      display:flex;\n",
              "      gap: 12px;\n",
              "    }\n",
              "\n",
              "    .colab-df-convert {\n",
              "      background-color: #E8F0FE;\n",
              "      border: none;\n",
              "      border-radius: 50%;\n",
              "      cursor: pointer;\n",
              "      display: none;\n",
              "      fill: #1967D2;\n",
              "      height: 32px;\n",
              "      padding: 0 0 0 0;\n",
              "      width: 32px;\n",
              "    }\n",
              "\n",
              "    .colab-df-convert:hover {\n",
              "      background-color: #E2EBFA;\n",
              "      box-shadow: 0px 1px 2px rgba(60, 64, 67, 0.3), 0px 1px 3px 1px rgba(60, 64, 67, 0.15);\n",
              "      fill: #174EA6;\n",
              "    }\n",
              "\n",
              "    .colab-df-buttons div {\n",
              "      margin-bottom: 4px;\n",
              "    }\n",
              "\n",
              "    [theme=dark] .colab-df-convert {\n",
              "      background-color: #3B4455;\n",
              "      fill: #D2E3FC;\n",
              "    }\n",
              "\n",
              "    [theme=dark] .colab-df-convert:hover {\n",
              "      background-color: #434B5C;\n",
              "      box-shadow: 0px 1px 3px 1px rgba(0, 0, 0, 0.15);\n",
              "      filter: drop-shadow(0px 1px 2px rgba(0, 0, 0, 0.3));\n",
              "      fill: #FFFFFF;\n",
              "    }\n",
              "  </style>\n",
              "\n",
              "    <script>\n",
              "      const buttonEl =\n",
              "        document.querySelector('#df-d4df75a8-c647-48ed-9206-111fe74cec95 button.colab-df-convert');\n",
              "      buttonEl.style.display =\n",
              "        google.colab.kernel.accessAllowed ? 'block' : 'none';\n",
              "\n",
              "      async function convertToInteractive(key) {\n",
              "        const element = document.querySelector('#df-d4df75a8-c647-48ed-9206-111fe74cec95');\n",
              "        const dataTable =\n",
              "          await google.colab.kernel.invokeFunction('convertToInteractive',\n",
              "                                                    [key], {});\n",
              "        if (!dataTable) return;\n",
              "\n",
              "        const docLinkHtml = 'Like what you see? Visit the ' +\n",
              "          '<a target=\"_blank\" href=https://colab.research.google.com/notebooks/data_table.ipynb>data table notebook</a>'\n",
              "          + ' to learn more about interactive tables.';\n",
              "        element.innerHTML = '';\n",
              "        dataTable['output_type'] = 'display_data';\n",
              "        await google.colab.output.renderOutput(dataTable, element);\n",
              "        const docLink = document.createElement('div');\n",
              "        docLink.innerHTML = docLinkHtml;\n",
              "        element.appendChild(docLink);\n",
              "      }\n",
              "    </script>\n",
              "  </div>\n",
              "\n",
              "\n",
              "<div id=\"df-9c4a79cc-4ee9-48d6-be33-bac2ef0c7728\">\n",
              "  <button class=\"colab-df-quickchart\" onclick=\"quickchart('df-9c4a79cc-4ee9-48d6-be33-bac2ef0c7728')\"\n",
              "            title=\"Suggest charts\"\n",
              "            style=\"display:none;\">\n",
              "\n",
              "<svg xmlns=\"http://www.w3.org/2000/svg\" height=\"24px\"viewBox=\"0 0 24 24\"\n",
              "     width=\"24px\">\n",
              "    <g>\n",
              "        <path d=\"M19 3H5c-1.1 0-2 .9-2 2v14c0 1.1.9 2 2 2h14c1.1 0 2-.9 2-2V5c0-1.1-.9-2-2-2zM9 17H7v-7h2v7zm4 0h-2V7h2v10zm4 0h-2v-4h2v4z\"/>\n",
              "    </g>\n",
              "</svg>\n",
              "  </button>\n",
              "\n",
              "<style>\n",
              "  .colab-df-quickchart {\n",
              "      --bg-color: #E8F0FE;\n",
              "      --fill-color: #1967D2;\n",
              "      --hover-bg-color: #E2EBFA;\n",
              "      --hover-fill-color: #174EA6;\n",
              "      --disabled-fill-color: #AAA;\n",
              "      --disabled-bg-color: #DDD;\n",
              "  }\n",
              "\n",
              "  [theme=dark] .colab-df-quickchart {\n",
              "      --bg-color: #3B4455;\n",
              "      --fill-color: #D2E3FC;\n",
              "      --hover-bg-color: #434B5C;\n",
              "      --hover-fill-color: #FFFFFF;\n",
              "      --disabled-bg-color: #3B4455;\n",
              "      --disabled-fill-color: #666;\n",
              "  }\n",
              "\n",
              "  .colab-df-quickchart {\n",
              "    background-color: var(--bg-color);\n",
              "    border: none;\n",
              "    border-radius: 50%;\n",
              "    cursor: pointer;\n",
              "    display: none;\n",
              "    fill: var(--fill-color);\n",
              "    height: 32px;\n",
              "    padding: 0;\n",
              "    width: 32px;\n",
              "  }\n",
              "\n",
              "  .colab-df-quickchart:hover {\n",
              "    background-color: var(--hover-bg-color);\n",
              "    box-shadow: 0 1px 2px rgba(60, 64, 67, 0.3), 0 1px 3px 1px rgba(60, 64, 67, 0.15);\n",
              "    fill: var(--button-hover-fill-color);\n",
              "  }\n",
              "\n",
              "  .colab-df-quickchart-complete:disabled,\n",
              "  .colab-df-quickchart-complete:disabled:hover {\n",
              "    background-color: var(--disabled-bg-color);\n",
              "    fill: var(--disabled-fill-color);\n",
              "    box-shadow: none;\n",
              "  }\n",
              "\n",
              "  .colab-df-spinner {\n",
              "    border: 2px solid var(--fill-color);\n",
              "    border-color: transparent;\n",
              "    border-bottom-color: var(--fill-color);\n",
              "    animation:\n",
              "      spin 1s steps(1) infinite;\n",
              "  }\n",
              "\n",
              "  @keyframes spin {\n",
              "    0% {\n",
              "      border-color: transparent;\n",
              "      border-bottom-color: var(--fill-color);\n",
              "      border-left-color: var(--fill-color);\n",
              "    }\n",
              "    20% {\n",
              "      border-color: transparent;\n",
              "      border-left-color: var(--fill-color);\n",
              "      border-top-color: var(--fill-color);\n",
              "    }\n",
              "    30% {\n",
              "      border-color: transparent;\n",
              "      border-left-color: var(--fill-color);\n",
              "      border-top-color: var(--fill-color);\n",
              "      border-right-color: var(--fill-color);\n",
              "    }\n",
              "    40% {\n",
              "      border-color: transparent;\n",
              "      border-right-color: var(--fill-color);\n",
              "      border-top-color: var(--fill-color);\n",
              "    }\n",
              "    60% {\n",
              "      border-color: transparent;\n",
              "      border-right-color: var(--fill-color);\n",
              "    }\n",
              "    80% {\n",
              "      border-color: transparent;\n",
              "      border-right-color: var(--fill-color);\n",
              "      border-bottom-color: var(--fill-color);\n",
              "    }\n",
              "    90% {\n",
              "      border-color: transparent;\n",
              "      border-bottom-color: var(--fill-color);\n",
              "    }\n",
              "  }\n",
              "</style>\n",
              "\n",
              "  <script>\n",
              "    async function quickchart(key) {\n",
              "      const quickchartButtonEl =\n",
              "        document.querySelector('#' + key + ' button');\n",
              "      quickchartButtonEl.disabled = true;  // To prevent multiple clicks.\n",
              "      quickchartButtonEl.classList.add('colab-df-spinner');\n",
              "      try {\n",
              "        const charts = await google.colab.kernel.invokeFunction(\n",
              "            'suggestCharts', [key], {});\n",
              "      } catch (error) {\n",
              "        console.error('Error during call to suggestCharts:', error);\n",
              "      }\n",
              "      quickchartButtonEl.classList.remove('colab-df-spinner');\n",
              "      quickchartButtonEl.classList.add('colab-df-quickchart-complete');\n",
              "    }\n",
              "    (() => {\n",
              "      let quickchartButtonEl =\n",
              "        document.querySelector('#df-9c4a79cc-4ee9-48d6-be33-bac2ef0c7728 button');\n",
              "      quickchartButtonEl.style.display =\n",
              "        google.colab.kernel.accessAllowed ? 'block' : 'none';\n",
              "    })();\n",
              "  </script>\n",
              "</div>\n",
              "\n",
              "    </div>\n",
              "  </div>\n"
            ],
            "application/vnd.google.colaboratory.intrinsic+json": {
              "type": "dataframe",
              "variable_name": "df"
            }
          },
          "metadata": {},
          "execution_count": 17
        }
      ],
      "source": [
        "features_path = \"/content/drive/MyDrive/speech_wav/features.csv\"\n",
        "df = pd.read_csv(features_path)\n",
        "df.head()"
      ]
    },
    {
      "cell_type": "markdown",
      "id": "1cfc024f",
      "metadata": {
        "id": "1cfc024f"
      },
      "source": [
        "### Audio"
      ]
    },
    {
      "cell_type": "code",
      "execution_count": 18,
      "id": "47d6da50",
      "metadata": {
        "id": "47d6da50"
      },
      "outputs": [],
      "source": [
        "import librosa\n",
        "import torchaudio\n",
        "\n",
        "# Set audio directory\n",
        "audio_dir = \"/content/drive/MyDrive/speech_wav/audio\"\n",
        "\n",
        "# Load all audio files recursively\n",
        "def load_audio_files(audio_dir):\n",
        "    file_paths = {}\n",
        "    total_files = 0\n",
        "\n",
        "    for root, dirs, files in os.walk(audio_dir):\n",
        "        for fname in files:\n",
        "            if fname.endswith('.wav'):\n",
        "                clip_name = fname.replace('.wav', '')\n",
        "                full_path = os.path.join(root, fname)\n",
        "                try:\n",
        "                    waveform, sample_rate = torchaudio.load(full_path)\n",
        "                    file_paths[clip_name] = waveform\n",
        "                    total_files += 1\n",
        "                except Exception as e:\n",
        "                    print(f\"Error loading {full_path}: {e}\")\n",
        "\n",
        "    print(f\"Loaded {total_files} audio files across subfolders.\")\n",
        "    return file_paths"
      ]
    },
    {
      "cell_type": "code",
      "execution_count": 19,
      "id": "af1e515c",
      "metadata": {
        "colab": {
          "base_uri": "https://localhost:8080/",
          "height": 533
        },
        "id": "af1e515c",
        "outputId": "f1cef606-ca46-461a-a6db-0e4e8fdb267c"
      },
      "outputs": [
        {
          "output_type": "stream",
          "name": "stdout",
          "text": [
            "Loaded 180 audio files across subfolders.\n"
          ]
        },
        {
          "output_type": "execute_result",
          "data": {
            "text/plain": [
              "  clipname          transcript  group     word     tone indicator       type  \\\n",
              "0  IWTGH_1  I want to go home.      1  Neutral  Neutral       NaN  Statement   \n",
              "1  IWTGH_2  I want to go home.      1  Neutral    Anger       NaN  Statement   \n",
              "2  IWTGH_3  I want to go home.      1  Neutral  Disgust       NaN  Statement   \n",
              "3  IWTGH_4  I want to go home.      1  Neutral     Fear       NaN  Statement   \n",
              "4  IWTGH_5  I want to go home.      1  Neutral      Sad       NaN  Statement   \n",
              "\n",
              "  sentence  word_count      mfcc_1  ...    spect_6    spect_7  tonnetz_1  \\\n",
              "0   Single          18 -456.161011  ...  16.673017  31.776100   0.028255   \n",
              "1   Single          18 -403.748169  ...  17.276580  33.785295   0.000486   \n",
              "2   Single          18 -455.887939  ...  15.457117  33.037995   0.022056   \n",
              "3   Single          18 -460.136444  ...  17.238967  32.216306   0.008253   \n",
              "4   Single          18 -432.942596  ...  17.900985  31.293743   0.010412   \n",
              "\n",
              "   tonnetz_2  tonnetz_3  tonnetz_4  tonnetz_5  tonnetz_6  \\\n",
              "0  -0.018589   0.115786  -0.013089  -0.031850  -0.050886   \n",
              "1   0.028319   0.064798  -0.031453   0.001535  -0.017270   \n",
              "2  -0.044555   0.114726  -0.004732  -0.040863  -0.023962   \n",
              "3  -0.017944   0.081751  -0.002341  -0.019149  -0.016467   \n",
              "4  -0.034611   0.111465  -0.056060  -0.061425  -0.031940   \n",
              "\n",
              "                                          audio_path  \\\n",
              "0  /content/drive/MyDrive/speech_wav/audio/IWTGH_...   \n",
              "1  /content/drive/MyDrive/speech_wav/audio/IWTGH_...   \n",
              "2  /content/drive/MyDrive/speech_wav/audio/IWTGH_...   \n",
              "3  /content/drive/MyDrive/speech_wav/audio/IWTGH_...   \n",
              "4  /content/drive/MyDrive/speech_wav/audio/IWTGH_...   \n",
              "\n",
              "                                               audio  \n",
              "0  [[tensor(0.), tensor(0.), tensor(0.), tensor(0...  \n",
              "1  [[tensor(0.), tensor(0.), tensor(0.), tensor(0...  \n",
              "2  [[tensor(0.), tensor(0.), tensor(0.), tensor(0...  \n",
              "3  [[tensor(0.), tensor(0.), tensor(0.), tensor(0...  \n",
              "4  [[tensor(0.), tensor(0.), tensor(0.), tensor(0...  \n",
              "\n",
              "[5 rows x 184 columns]"
            ],
            "text/html": [
              "\n",
              "  <div id=\"df-cbff7d2f-8178-49cf-a8ea-9219415571df\" class=\"colab-df-container\">\n",
              "    <div>\n",
              "<style scoped>\n",
              "    .dataframe tbody tr th:only-of-type {\n",
              "        vertical-align: middle;\n",
              "    }\n",
              "\n",
              "    .dataframe tbody tr th {\n",
              "        vertical-align: top;\n",
              "    }\n",
              "\n",
              "    .dataframe thead th {\n",
              "        text-align: right;\n",
              "    }\n",
              "</style>\n",
              "<table border=\"1\" class=\"dataframe\">\n",
              "  <thead>\n",
              "    <tr style=\"text-align: right;\">\n",
              "      <th></th>\n",
              "      <th>clipname</th>\n",
              "      <th>transcript</th>\n",
              "      <th>group</th>\n",
              "      <th>word</th>\n",
              "      <th>tone</th>\n",
              "      <th>indicator</th>\n",
              "      <th>type</th>\n",
              "      <th>sentence</th>\n",
              "      <th>word_count</th>\n",
              "      <th>mfcc_1</th>\n",
              "      <th>...</th>\n",
              "      <th>spect_6</th>\n",
              "      <th>spect_7</th>\n",
              "      <th>tonnetz_1</th>\n",
              "      <th>tonnetz_2</th>\n",
              "      <th>tonnetz_3</th>\n",
              "      <th>tonnetz_4</th>\n",
              "      <th>tonnetz_5</th>\n",
              "      <th>tonnetz_6</th>\n",
              "      <th>audio_path</th>\n",
              "      <th>audio</th>\n",
              "    </tr>\n",
              "  </thead>\n",
              "  <tbody>\n",
              "    <tr>\n",
              "      <th>0</th>\n",
              "      <td>IWTGH_1</td>\n",
              "      <td>I want to go home.</td>\n",
              "      <td>1</td>\n",
              "      <td>Neutral</td>\n",
              "      <td>Neutral</td>\n",
              "      <td>NaN</td>\n",
              "      <td>Statement</td>\n",
              "      <td>Single</td>\n",
              "      <td>18</td>\n",
              "      <td>-456.161011</td>\n",
              "      <td>...</td>\n",
              "      <td>16.673017</td>\n",
              "      <td>31.776100</td>\n",
              "      <td>0.028255</td>\n",
              "      <td>-0.018589</td>\n",
              "      <td>0.115786</td>\n",
              "      <td>-0.013089</td>\n",
              "      <td>-0.031850</td>\n",
              "      <td>-0.050886</td>\n",
              "      <td>/content/drive/MyDrive/speech_wav/audio/IWTGH_...</td>\n",
              "      <td>[[tensor(0.), tensor(0.), tensor(0.), tensor(0...</td>\n",
              "    </tr>\n",
              "    <tr>\n",
              "      <th>1</th>\n",
              "      <td>IWTGH_2</td>\n",
              "      <td>I want to go home.</td>\n",
              "      <td>1</td>\n",
              "      <td>Neutral</td>\n",
              "      <td>Anger</td>\n",
              "      <td>NaN</td>\n",
              "      <td>Statement</td>\n",
              "      <td>Single</td>\n",
              "      <td>18</td>\n",
              "      <td>-403.748169</td>\n",
              "      <td>...</td>\n",
              "      <td>17.276580</td>\n",
              "      <td>33.785295</td>\n",
              "      <td>0.000486</td>\n",
              "      <td>0.028319</td>\n",
              "      <td>0.064798</td>\n",
              "      <td>-0.031453</td>\n",
              "      <td>0.001535</td>\n",
              "      <td>-0.017270</td>\n",
              "      <td>/content/drive/MyDrive/speech_wav/audio/IWTGH_...</td>\n",
              "      <td>[[tensor(0.), tensor(0.), tensor(0.), tensor(0...</td>\n",
              "    </tr>\n",
              "    <tr>\n",
              "      <th>2</th>\n",
              "      <td>IWTGH_3</td>\n",
              "      <td>I want to go home.</td>\n",
              "      <td>1</td>\n",
              "      <td>Neutral</td>\n",
              "      <td>Disgust</td>\n",
              "      <td>NaN</td>\n",
              "      <td>Statement</td>\n",
              "      <td>Single</td>\n",
              "      <td>18</td>\n",
              "      <td>-455.887939</td>\n",
              "      <td>...</td>\n",
              "      <td>15.457117</td>\n",
              "      <td>33.037995</td>\n",
              "      <td>0.022056</td>\n",
              "      <td>-0.044555</td>\n",
              "      <td>0.114726</td>\n",
              "      <td>-0.004732</td>\n",
              "      <td>-0.040863</td>\n",
              "      <td>-0.023962</td>\n",
              "      <td>/content/drive/MyDrive/speech_wav/audio/IWTGH_...</td>\n",
              "      <td>[[tensor(0.), tensor(0.), tensor(0.), tensor(0...</td>\n",
              "    </tr>\n",
              "    <tr>\n",
              "      <th>3</th>\n",
              "      <td>IWTGH_4</td>\n",
              "      <td>I want to go home.</td>\n",
              "      <td>1</td>\n",
              "      <td>Neutral</td>\n",
              "      <td>Fear</td>\n",
              "      <td>NaN</td>\n",
              "      <td>Statement</td>\n",
              "      <td>Single</td>\n",
              "      <td>18</td>\n",
              "      <td>-460.136444</td>\n",
              "      <td>...</td>\n",
              "      <td>17.238967</td>\n",
              "      <td>32.216306</td>\n",
              "      <td>0.008253</td>\n",
              "      <td>-0.017944</td>\n",
              "      <td>0.081751</td>\n",
              "      <td>-0.002341</td>\n",
              "      <td>-0.019149</td>\n",
              "      <td>-0.016467</td>\n",
              "      <td>/content/drive/MyDrive/speech_wav/audio/IWTGH_...</td>\n",
              "      <td>[[tensor(0.), tensor(0.), tensor(0.), tensor(0...</td>\n",
              "    </tr>\n",
              "    <tr>\n",
              "      <th>4</th>\n",
              "      <td>IWTGH_5</td>\n",
              "      <td>I want to go home.</td>\n",
              "      <td>1</td>\n",
              "      <td>Neutral</td>\n",
              "      <td>Sad</td>\n",
              "      <td>NaN</td>\n",
              "      <td>Statement</td>\n",
              "      <td>Single</td>\n",
              "      <td>18</td>\n",
              "      <td>-432.942596</td>\n",
              "      <td>...</td>\n",
              "      <td>17.900985</td>\n",
              "      <td>31.293743</td>\n",
              "      <td>0.010412</td>\n",
              "      <td>-0.034611</td>\n",
              "      <td>0.111465</td>\n",
              "      <td>-0.056060</td>\n",
              "      <td>-0.061425</td>\n",
              "      <td>-0.031940</td>\n",
              "      <td>/content/drive/MyDrive/speech_wav/audio/IWTGH_...</td>\n",
              "      <td>[[tensor(0.), tensor(0.), tensor(0.), tensor(0...</td>\n",
              "    </tr>\n",
              "  </tbody>\n",
              "</table>\n",
              "<p>5 rows × 184 columns</p>\n",
              "</div>\n",
              "    <div class=\"colab-df-buttons\">\n",
              "\n",
              "  <div class=\"colab-df-container\">\n",
              "    <button class=\"colab-df-convert\" onclick=\"convertToInteractive('df-cbff7d2f-8178-49cf-a8ea-9219415571df')\"\n",
              "            title=\"Convert this dataframe to an interactive table.\"\n",
              "            style=\"display:none;\">\n",
              "\n",
              "  <svg xmlns=\"http://www.w3.org/2000/svg\" height=\"24px\" viewBox=\"0 -960 960 960\">\n",
              "    <path d=\"M120-120v-720h720v720H120Zm60-500h600v-160H180v160Zm220 220h160v-160H400v160Zm0 220h160v-160H400v160ZM180-400h160v-160H180v160Zm440 0h160v-160H620v160ZM180-180h160v-160H180v160Zm440 0h160v-160H620v160Z\"/>\n",
              "  </svg>\n",
              "    </button>\n",
              "\n",
              "  <style>\n",
              "    .colab-df-container {\n",
              "      display:flex;\n",
              "      gap: 12px;\n",
              "    }\n",
              "\n",
              "    .colab-df-convert {\n",
              "      background-color: #E8F0FE;\n",
              "      border: none;\n",
              "      border-radius: 50%;\n",
              "      cursor: pointer;\n",
              "      display: none;\n",
              "      fill: #1967D2;\n",
              "      height: 32px;\n",
              "      padding: 0 0 0 0;\n",
              "      width: 32px;\n",
              "    }\n",
              "\n",
              "    .colab-df-convert:hover {\n",
              "      background-color: #E2EBFA;\n",
              "      box-shadow: 0px 1px 2px rgba(60, 64, 67, 0.3), 0px 1px 3px 1px rgba(60, 64, 67, 0.15);\n",
              "      fill: #174EA6;\n",
              "    }\n",
              "\n",
              "    .colab-df-buttons div {\n",
              "      margin-bottom: 4px;\n",
              "    }\n",
              "\n",
              "    [theme=dark] .colab-df-convert {\n",
              "      background-color: #3B4455;\n",
              "      fill: #D2E3FC;\n",
              "    }\n",
              "\n",
              "    [theme=dark] .colab-df-convert:hover {\n",
              "      background-color: #434B5C;\n",
              "      box-shadow: 0px 1px 3px 1px rgba(0, 0, 0, 0.15);\n",
              "      filter: drop-shadow(0px 1px 2px rgba(0, 0, 0, 0.3));\n",
              "      fill: #FFFFFF;\n",
              "    }\n",
              "  </style>\n",
              "\n",
              "    <script>\n",
              "      const buttonEl =\n",
              "        document.querySelector('#df-cbff7d2f-8178-49cf-a8ea-9219415571df button.colab-df-convert');\n",
              "      buttonEl.style.display =\n",
              "        google.colab.kernel.accessAllowed ? 'block' : 'none';\n",
              "\n",
              "      async function convertToInteractive(key) {\n",
              "        const element = document.querySelector('#df-cbff7d2f-8178-49cf-a8ea-9219415571df');\n",
              "        const dataTable =\n",
              "          await google.colab.kernel.invokeFunction('convertToInteractive',\n",
              "                                                    [key], {});\n",
              "        if (!dataTable) return;\n",
              "\n",
              "        const docLinkHtml = 'Like what you see? Visit the ' +\n",
              "          '<a target=\"_blank\" href=https://colab.research.google.com/notebooks/data_table.ipynb>data table notebook</a>'\n",
              "          + ' to learn more about interactive tables.';\n",
              "        element.innerHTML = '';\n",
              "        dataTable['output_type'] = 'display_data';\n",
              "        await google.colab.output.renderOutput(dataTable, element);\n",
              "        const docLink = document.createElement('div');\n",
              "        docLink.innerHTML = docLinkHtml;\n",
              "        element.appendChild(docLink);\n",
              "      }\n",
              "    </script>\n",
              "  </div>\n",
              "\n",
              "\n",
              "<div id=\"df-d995d2ec-3b31-4d91-aea5-2d20bcee9a74\">\n",
              "  <button class=\"colab-df-quickchart\" onclick=\"quickchart('df-d995d2ec-3b31-4d91-aea5-2d20bcee9a74')\"\n",
              "            title=\"Suggest charts\"\n",
              "            style=\"display:none;\">\n",
              "\n",
              "<svg xmlns=\"http://www.w3.org/2000/svg\" height=\"24px\"viewBox=\"0 0 24 24\"\n",
              "     width=\"24px\">\n",
              "    <g>\n",
              "        <path d=\"M19 3H5c-1.1 0-2 .9-2 2v14c0 1.1.9 2 2 2h14c1.1 0 2-.9 2-2V5c0-1.1-.9-2-2-2zM9 17H7v-7h2v7zm4 0h-2V7h2v10zm4 0h-2v-4h2v4z\"/>\n",
              "    </g>\n",
              "</svg>\n",
              "  </button>\n",
              "\n",
              "<style>\n",
              "  .colab-df-quickchart {\n",
              "      --bg-color: #E8F0FE;\n",
              "      --fill-color: #1967D2;\n",
              "      --hover-bg-color: #E2EBFA;\n",
              "      --hover-fill-color: #174EA6;\n",
              "      --disabled-fill-color: #AAA;\n",
              "      --disabled-bg-color: #DDD;\n",
              "  }\n",
              "\n",
              "  [theme=dark] .colab-df-quickchart {\n",
              "      --bg-color: #3B4455;\n",
              "      --fill-color: #D2E3FC;\n",
              "      --hover-bg-color: #434B5C;\n",
              "      --hover-fill-color: #FFFFFF;\n",
              "      --disabled-bg-color: #3B4455;\n",
              "      --disabled-fill-color: #666;\n",
              "  }\n",
              "\n",
              "  .colab-df-quickchart {\n",
              "    background-color: var(--bg-color);\n",
              "    border: none;\n",
              "    border-radius: 50%;\n",
              "    cursor: pointer;\n",
              "    display: none;\n",
              "    fill: var(--fill-color);\n",
              "    height: 32px;\n",
              "    padding: 0;\n",
              "    width: 32px;\n",
              "  }\n",
              "\n",
              "  .colab-df-quickchart:hover {\n",
              "    background-color: var(--hover-bg-color);\n",
              "    box-shadow: 0 1px 2px rgba(60, 64, 67, 0.3), 0 1px 3px 1px rgba(60, 64, 67, 0.15);\n",
              "    fill: var(--button-hover-fill-color);\n",
              "  }\n",
              "\n",
              "  .colab-df-quickchart-complete:disabled,\n",
              "  .colab-df-quickchart-complete:disabled:hover {\n",
              "    background-color: var(--disabled-bg-color);\n",
              "    fill: var(--disabled-fill-color);\n",
              "    box-shadow: none;\n",
              "  }\n",
              "\n",
              "  .colab-df-spinner {\n",
              "    border: 2px solid var(--fill-color);\n",
              "    border-color: transparent;\n",
              "    border-bottom-color: var(--fill-color);\n",
              "    animation:\n",
              "      spin 1s steps(1) infinite;\n",
              "  }\n",
              "\n",
              "  @keyframes spin {\n",
              "    0% {\n",
              "      border-color: transparent;\n",
              "      border-bottom-color: var(--fill-color);\n",
              "      border-left-color: var(--fill-color);\n",
              "    }\n",
              "    20% {\n",
              "      border-color: transparent;\n",
              "      border-left-color: var(--fill-color);\n",
              "      border-top-color: var(--fill-color);\n",
              "    }\n",
              "    30% {\n",
              "      border-color: transparent;\n",
              "      border-left-color: var(--fill-color);\n",
              "      border-top-color: var(--fill-color);\n",
              "      border-right-color: var(--fill-color);\n",
              "    }\n",
              "    40% {\n",
              "      border-color: transparent;\n",
              "      border-right-color: var(--fill-color);\n",
              "      border-top-color: var(--fill-color);\n",
              "    }\n",
              "    60% {\n",
              "      border-color: transparent;\n",
              "      border-right-color: var(--fill-color);\n",
              "    }\n",
              "    80% {\n",
              "      border-color: transparent;\n",
              "      border-right-color: var(--fill-color);\n",
              "      border-bottom-color: var(--fill-color);\n",
              "    }\n",
              "    90% {\n",
              "      border-color: transparent;\n",
              "      border-bottom-color: var(--fill-color);\n",
              "    }\n",
              "  }\n",
              "</style>\n",
              "\n",
              "  <script>\n",
              "    async function quickchart(key) {\n",
              "      const quickchartButtonEl =\n",
              "        document.querySelector('#' + key + ' button');\n",
              "      quickchartButtonEl.disabled = true;  // To prevent multiple clicks.\n",
              "      quickchartButtonEl.classList.add('colab-df-spinner');\n",
              "      try {\n",
              "        const charts = await google.colab.kernel.invokeFunction(\n",
              "            'suggestCharts', [key], {});\n",
              "      } catch (error) {\n",
              "        console.error('Error during call to suggestCharts:', error);\n",
              "      }\n",
              "      quickchartButtonEl.classList.remove('colab-df-spinner');\n",
              "      quickchartButtonEl.classList.add('colab-df-quickchart-complete');\n",
              "    }\n",
              "    (() => {\n",
              "      let quickchartButtonEl =\n",
              "        document.querySelector('#df-d995d2ec-3b31-4d91-aea5-2d20bcee9a74 button');\n",
              "      quickchartButtonEl.style.display =\n",
              "        google.colab.kernel.accessAllowed ? 'block' : 'none';\n",
              "    })();\n",
              "  </script>\n",
              "</div>\n",
              "\n",
              "    </div>\n",
              "  </div>\n"
            ],
            "application/vnd.google.colaboratory.intrinsic+json": {
              "type": "dataframe",
              "variable_name": "df"
            }
          },
          "metadata": {},
          "execution_count": 19
        }
      ],
      "source": [
        "# Load audio\n",
        "audio_data = load_audio_files(audio_dir)\n",
        "\n",
        "# Map audio to dataframe\n",
        "df['audio_path'] = df['clipname'].apply(lambda x: os.path.join(audio_dir, x + '.wav'))\n",
        "df['audio'] = df['clipname'].map(audio_data)\n",
        "#df = df[df['audio'].apply(lambda x: isinstance(x, torch.Tensor) or (isinstance(x, list) and torch.is_tensor(x[0])))]\n",
        "\n",
        "# Display data\n",
        "df.head()"
      ]
    },
    {
      "cell_type": "code",
      "execution_count": 20,
      "id": "2313ffec",
      "metadata": {
        "colab": {
          "base_uri": "https://localhost:8080/",
          "height": 314
        },
        "id": "2313ffec",
        "outputId": "1e9c5b4d-8779-42f8-8b49-3b960d33c2a9"
      },
      "outputs": [
        {
          "output_type": "display_data",
          "data": {
            "text/plain": [
              "<Figure size 1000x300 with 1 Axes>"
            ],
            "image/png": "[encoded data removed]"
          },
          "metadata": {}
        }
      ],
      "source": [
        "import matplotlib.pyplot as plt\n",
        "\n",
        "waveform = df.iloc[0]['audio'][0]\n",
        "plt.figure(figsize=(10, 3))\n",
        "plt.plot(waveform.numpy())\n",
        "plt.title(f\"Waveform for {df.iloc[0]['clipname']}\")\n",
        "plt.show()"
      ]
    },
    {
      "cell_type": "markdown",
      "id": "29d231ae",
      "metadata": {
        "id": "29d231ae"
      },
      "source": [
        "# Audio only"
      ]
    },
    {
      "cell_type": "code",
      "execution_count": 21,
      "id": "084bb1fa",
      "metadata": {
        "id": "084bb1fa"
      },
      "outputs": [],
      "source": [
        "# HuggingFace Transformers modules\n",
        "from transformers import (\n",
        "    Wav2Vec2Model, Wav2Vec2FeatureExtractor,\n",
        "    AutoTokenizer, AutoModelForSequenceClassification,\n",
        "    AutoModelForSpeechSeq2Seq, AutoProcessor, pipeline\n",
        ")\n",
        "\n",
        "# Set seeds for reproducibility\n",
        "def set_seed(seed):\n",
        "    torch.manual_seed(seed)\n",
        "    torch.cuda.manual_seed_all(seed)\n",
        "    np.random.seed(seed)\n",
        "    random.seed(seed)\n",
        "    if torch.cuda.is_available():\n",
        "        torch.backends.cudnn.deterministic = True\n",
        "        torch.backends.cudnn.benchmark = False\n",
        "\n",
        "set_seed(42)"
      ]
    },
    {
      "cell_type": "code",
      "execution_count": 22,
      "id": "844de4f8",
      "metadata": {
        "id": "844de4f8"
      },
      "outputs": [],
      "source": [
        "class wav2Vec_transferModel(nn.Module):\n",
        "    def __init__(self, pretrained_model_name=\"r-f/wav2vec-english-speech-emotion-recognition\"):\n",
        "        super().__init__()\n",
        "        self.model = Wav2Vec2Model.from_pretrained(pretrained_model_name)\n",
        "        for param in self.model.parameters():\n",
        "            param.requires_grad = False\n",
        "        self.dropout = nn.Dropout(0.2)\n",
        "\n",
        "        # Match exactly what was saved\n",
        "        self.classifier_emo = nn.Sequential(\n",
        "            nn.Linear(self.model.config.hidden_size, 128),\n",
        "            nn.ReLU(),\n",
        "            nn.Linear(128, 128),\n",
        "            nn.ReLU(),\n",
        "            nn.Linear(128, 64),\n",
        "            nn.ReLU(),\n",
        "            nn.Linear(64, 32),\n",
        "            nn.ReLU(),\n",
        "            self.dropout,\n",
        "            nn.Linear(32, 6)\n",
        "        )\n",
        "\n",
        "    def forward(self, inputs):\n",
        "        input_values = inputs['input_values']\n",
        "        attention_mask = inputs['attention_mask']\n",
        "        with torch.no_grad():\n",
        "            outputs = self.model(input_values=input_values, attention_mask=attention_mask)\n",
        "            pooled = outputs.last_hidden_state.mean(1)\n",
        "        logits = self.classifier_emo(pooled)\n",
        "        return logits"
      ]
    },
    {
      "cell_type": "markdown",
      "id": "b034ef9d",
      "metadata": {
        "id": "b034ef9d"
      },
      "source": [
        "# Combined audio and text"
      ]
    },
    {
      "cell_type": "code",
      "execution_count": 23,
      "id": "e20f167a",
      "metadata": {
        "id": "e20f167a"
      },
      "outputs": [],
      "source": [
        "class emotionDetectionSystem():\n",
        "    def __init__(self, useAudio=True, useText=True):\n",
        "        self.useAudio = useAudio\n",
        "        self.useText = useText\n",
        "        self.device = \"cuda\" if torch.cuda.is_available() else \"cpu\"\n",
        "\n",
        "        # Load Wav2Vec2 model for audio emotion recognition\n",
        "        if self.useAudio:\n",
        "            self.wav2vec_modelName = \"r-f/wav2vec-english-speech-emotion-recognition\"\n",
        "            self.wav2vec_model = wav2Vec_transferModel()\n",
        "            self.wav2vec_model.load_state_dict(torch.load(\"balanceWav2Vec.pth\", map_location=self.device), strict=False)\n",
        "            self.wav2vec_model.eval()\n",
        "            self.wav2vec_model.to(self.device)\n",
        "            self.audio_feature_extractor = Wav2Vec2FeatureExtractor.from_pretrained(self.wav2vec_modelName)\n",
        "\n",
        "        # Load BERT-based text emotion classifier and Whisper transcription model\n",
        "        if self.useText:\n",
        "            self.textClassifier_model_name = \"michellejieli/emotion_text_classifier\"\n",
        "            self.tokenizer = AutoTokenizer.from_pretrained(self.textClassifier_model_name)\n",
        "            self.textModel = AutoModelForSequenceClassification.from_pretrained(self.textClassifier_model_name)\n",
        "            self.textModel.to(self.device)\n",
        "            self.textModel.eval()\n",
        "\n",
        "            self.transcriptModel_id = \"openai/whisper-large-v3-turbo\"\n",
        "            self.torch_dtype = torch.float16 if torch.cuda.is_available() else torch.float32\n",
        "\n",
        "            self.transcriptModel = AutoModelForSpeechSeq2Seq.from_pretrained(\n",
        "                self.transcriptModel_id,\n",
        "                torch_dtype=self.torch_dtype,\n",
        "                low_cpu_mem_usage=True,\n",
        "                use_safetensors=True\n",
        "            ).to(self.device)\n",
        "\n",
        "            self.transcriptProcessor = AutoProcessor.from_pretrained(self.transcriptModel_id)\n",
        "\n",
        "            self.transcriptPipe = pipeline(\n",
        "                \"automatic-speech-recognition\",\n",
        "                model=self.transcriptModel,\n",
        "                tokenizer=self.transcriptProcessor.tokenizer,\n",
        "                feature_extractor=self.transcriptProcessor.feature_extractor,\n",
        "                torch_dtype=self.torch_dtype,\n",
        "                device=0 if self.device == \"cuda\" else -1,\n",
        "            )\n",
        "\n",
        "    def predict(self, audio_path=None):\n",
        "        # Load and preprocess audio to 16kHz\n",
        "        audio, sr = librosa.load(audio_path, sr=16000)\n",
        "\n",
        "        # Convert to torch tensor and fix shape\n",
        "        audio_tensor = torch.tensor(audio)\n",
        "        if audio_tensor.ndim == 1:\n",
        "            audio_tensor = audio_tensor.unsqueeze(0)  # [time] → [1, time]\n",
        "        elif audio_tensor.ndim > 2:\n",
        "            audio_tensor = audio_tensor.squeeze()\n",
        "\n",
        "        # Audio-based prediction\n",
        "        if self.useAudio:\n",
        "            audioInput = self.audio_feature_extractor(\n",
        "                audio_tensor.squeeze().numpy(), sampling_rate=16000, return_tensors=\"pt\"\n",
        "            ).to(self.device)\n",
        "\n",
        "            with torch.no_grad():\n",
        "                audio_logits = self.wav2vec_model(audioInput)\n",
        "                audio_probs = F.softmax(audio_logits, dim=1)[0]\n",
        "\n",
        "        # Text-based prediction via Whisper\n",
        "        if self.useText:\n",
        "            transcript = self.transcriptPipe(audio_path)[\"text\"]\n",
        "            inputs = self.tokenizer(transcript, return_tensors=\"pt\", padding=True, truncation=True).to(self.device)\n",
        "\n",
        "            with torch.no_grad():\n",
        "                text_logits = self.textModel(**inputs).logits\n",
        "                text_probs_raw = F.softmax(text_logits, dim=1)[0]\n",
        "\n",
        "                text_probs = torch.tensor([\n",
        "                    text_probs_raw[4],                   # Neutral\n",
        "                    text_probs_raw[0],                   # Anger\n",
        "                    text_probs_raw[1],                   # Disgust\n",
        "                    text_probs_raw[2] + text_probs_raw[6],  # Fear + Surprise\n",
        "                    text_probs_raw[5],                   # Sadness\n",
        "                    text_probs_raw[3],                   # Happiness\n",
        "                ], device=self.device)\n",
        "\n",
        "        # Combine or return available predictions\n",
        "        if self.useAudio and self.useText:\n",
        "            emo_probs = (audio_probs + text_probs) / 2\n",
        "        elif self.useAudio:\n",
        "            emo_probs = audio_probs\n",
        "        elif self.useText:\n",
        "            emo_probs = text_probs\n",
        "        else:\n",
        "            raise ValueError(\"At least one of useAudio or useText must be True.\")\n",
        "\n",
        "        emoList = [\"Neutral\", \"Anger\", \"Disgust\", \"Fear\", \"Sadness\", \"Happiness\"]\n",
        "        emo_pred = emoList[torch.argmax(emo_probs).item()]\n",
        "\n",
        "        print(f\"\\nPredicted Emotion: {emo_pred}\")\n",
        "        print(\"\\nEmotion Probabilities:\")\n",
        "        for i, prob in enumerate(emo_probs):\n",
        "            print(f\"{emoList[i]}: {prob.item():.4f}\")\n",
        "\n",
        "        return emo_pred"
      ]
    },
    {
      "cell_type": "markdown",
      "id": "20d320d9",
      "metadata": {
        "id": "20d320d9"
      },
      "source": [
        "## Architect"
      ]
    },
    {
      "cell_type": "markdown",
      "id": "f63222ac",
      "metadata": {
        "id": "f63222ac"
      },
      "source": [
        "Intialize models"
      ]
    },
    {
      "cell_type": "code",
      "source": [
        "# Install gdown if not already installed\n",
        "!pip install -q gdown\n",
        "\n",
        "# Download the balanceWave2Vec.pth file using its Google Drive file ID\n",
        "!gdown --id 1tq0oiiMnX8v48mCH8vBEptLawoNLrmxN --output balanceWav2Vec.pth\n",
        "\n",
        "# Initialize audio only models\n",
        "model_audio_only = wav2Vec_transferModel().to('cuda' if torch.cuda.is_available() else 'cpu')\n",
        "\n",
        "# Initialize audio + text models\n",
        "model_text_audio = emotionDetectionSystem()"
      ],
      "metadata": {
        "colab": {
          "base_uri": "https://localhost:8080/"
        },
        "id": "oIx2PY42k4em",
        "outputId": "2df4d3d0-94da-4c81-f8f4-d823a2c58729"
      },
      "id": "oIx2PY42k4em",
      "execution_count": 25,
      "outputs": [
        {
          "output_type": "stream",
          "name": "stdout",
          "text": [
            "/usr/local/lib/python3.11/dist-packages/gdown/__main__.py:140: FutureWarning: Option `--id` was deprecated in version 4.3.1 and will be removed in 5.0. You don't need to pass it anymore to use a file ID.\n",
            "  warnings.warn(\n",
            "Downloading...\n",
            "From (original): https://drive.google.com/uc?id=1tq0oiiMnX8v48mCH8vBEptLawoNLrmxN\n",
            "From (redirected): https://drive.google.com/uc?id=1tq0oiiMnX8v48mCH8vBEptLawoNLrmxN&confirm=t&uuid=f4f9a354-8809-473d-bed6-a55c23f8ef1c\n",
            "To: /content/balanceWav2Vec.pth\n",
            "100% 1.26G/1.26G [00:08<00:00, 152MB/s]\n"
          ]
        },
        {
          "output_type": "stream",
          "name": "stderr",
          "text": [
            "Device set to use cuda:0\n"
          ]
        }
      ]
    },
    {
      "cell_type": "markdown",
      "id": "d478e2f5",
      "metadata": {
        "id": "d478e2f5"
      },
      "source": [
        "Data loader"
      ]
    },
    {
      "cell_type": "code",
      "execution_count": 26,
      "id": "c08f753b",
      "metadata": {
        "id": "c08f753b"
      },
      "outputs": [],
      "source": [
        "class EmotionDataset(torch.utils.data.Dataset):\n",
        "    def __init__(self, df, tokenizer=None, audio_only=True):\n",
        "        self.df = df\n",
        "        self.tokenizer = tokenizer\n",
        "        self.audio_only = audio_only\n",
        "\n",
        "    def __len__(self):\n",
        "        return len(self.df)\n",
        "\n",
        "    def __getitem__(self, idx):\n",
        "        row = self.df.iloc[idx]\n",
        "        audio = row['audio'][0]\n",
        "        label = row['tone']\n",
        "\n",
        "        if self.audio_only:\n",
        "            return audio, label\n",
        "        else:\n",
        "            text = row['transcript']\n",
        "            tokens = self.tokenizer(text, return_tensors='pt', padding='max_length', truncation=True)\n",
        "            return audio, tokens, label"
      ]
    },
    {
      "cell_type": "markdown",
      "id": "7d8096a7",
      "metadata": {
        "id": "7d8096a7"
      },
      "source": [
        "Evaluate model"
      ]
    },
    {
      "cell_type": "code",
      "execution_count": 27,
      "id": "fbe26265",
      "metadata": {
        "id": "fbe26265"
      },
      "outputs": [],
      "source": [
        "def evaluate_model(model, dataloader, audio_only=True, device='cuda'):\n",
        "    model.eval()\n",
        "    preds, labels = [], []\n",
        "\n",
        "    with torch.no_grad():\n",
        "        for batch in dataloader:\n",
        "            if audio_only:\n",
        "                audio, label = batch\n",
        "                audio = audio.to(device)\n",
        "                outputs = model(audio)\n",
        "            else:\n",
        "                audio, tokens, label = batch\n",
        "                audio = audio.to(device)\n",
        "                tokens = {k: v.squeeze(1).to(device) for k, v in tokens.items()}\n",
        "                outputs = model(audio, tokens)\n",
        "\n",
        "            pred = torch.argmax(outputs, dim=1)\n",
        "            preds.extend(pred.cpu().numpy())\n",
        "            labels.extend(label.cpu().numpy())\n",
        "\n",
        "    return preds, labels"
      ]
    },
    {
      "cell_type": "markdown",
      "id": "e8bc3132",
      "metadata": {
        "id": "e8bc3132"
      },
      "source": [
        "Run group for testing"
      ]
    },
    {
      "cell_type": "code",
      "execution_count": 28,
      "id": "ea1a1608",
      "metadata": {
        "id": "ea1a1608"
      },
      "outputs": [],
      "source": [
        "def run_group(model, df_group, name=\"Unnamed\"):\n",
        "    print(f\"\\n Running: {name}\")\n",
        "    predictions = []\n",
        "\n",
        "    is_system_wrapper = hasattr(model, \"predict\")\n",
        "\n",
        "    for idx, row in df_group.iterrows():\n",
        "        audio_tensor = row[\"audio\"]  # shape: [1, 16000]\n",
        "\n",
        "        # Save to temp .wav file if needed by Whisper pipeline\n",
        "        temp_path = f\"temp_audio_{idx}.wav\"\n",
        "        torchaudio.save(temp_path, audio_tensor, 16000)\n",
        "\n",
        "        if is_system_wrapper:\n",
        "            # For emotionDetectionSystem (audio + text)\n",
        "            emotion = model.predict(audio_path=temp_path)\n",
        "        else:\n",
        "            # For raw audio model like wav2Vec_transferModel\n",
        "            feature_extractor = Wav2Vec2FeatureExtractor.from_pretrained(\"r-f/wav2vec-english-speech-emotion-recognition\")\n",
        "            device = \"cuda\" if torch.cuda.is_available() else \"cpu\"\n",
        "            inputs = feature_extractor(audio_tensor.squeeze().numpy(), sampling_rate=16000, return_tensors=\"pt\")\n",
        "            inputs = {k: v.to(device) for k, v in inputs.items()}\n",
        "\n",
        "            with torch.no_grad():\n",
        "                logits = model(inputs)\n",
        "                probs = torch.nn.functional.softmax(logits, dim=-1)\n",
        "                pred_idx = torch.argmax(probs, dim=-1).item()\n",
        "                emotion = [\"Neutral\", \"Anger\", \"Disgust\", \"Fear\", \"Sadness\", \"Happiness\"][pred_idx]\n",
        "\n",
        "        predictions.append(emotion)\n",
        "\n",
        "    df_group = df_group.copy()\n",
        "    df_group[\"predicted_emotion\"] = predictions\n",
        "    return df_group"
      ]
    },
    {
      "cell_type": "markdown",
      "id": "8b63283c",
      "metadata": {
        "id": "8b63283c"
      },
      "source": [
        "# Testing\n",
        "\n",
        "Group 1: Same sentences, different tones\n",
        "\n",
        "Group 2: Different sentences, same tones\n",
        "\n",
        "Group 3: Different sentences, different tones"
      ]
    },
    {
      "cell_type": "code",
      "execution_count": 29,
      "id": "7e40f5b5",
      "metadata": {
        "id": "7e40f5b5"
      },
      "outputs": [],
      "source": [
        "# split groups for testing\n",
        "group1_df = df[df['group'] == 1]\n",
        "group2_df = df[df['group'] == 2]\n",
        "group3_df = df[df['group'] == 3]"
      ]
    },
    {
      "cell_type": "markdown",
      "source": [
        "### Audio only"
      ],
      "metadata": {
        "id": "ZFZx5En20hH3"
      },
      "id": "ZFZx5En20hH3"
    },
    {
      "cell_type": "code",
      "execution_count": 30,
      "id": "09161018",
      "metadata": {
        "colab": {
          "base_uri": "https://localhost:8080/"
        },
        "id": "09161018",
        "outputId": "55cc5fb2-bcb3-4475-dadc-028dfc4b97c6"
      },
      "outputs": [
        {
          "output_type": "stream",
          "name": "stdout",
          "text": [
            "\n",
            " Running: Group 1 - Audio Only\n",
            "\n",
            " Running: Group 2 - Audio Only\n",
            "\n",
            " Running: Group 3 - Audio Only\n"
          ]
        }
      ],
      "source": [
        "# Audio only\n",
        "group1_pred = run_group(model_audio_only, group1_df, name=\"Group 1 - Audio Only\")\n",
        "group2_pred = run_group(model_audio_only, group2_df, name=\"Group 2 - Audio Only\")\n",
        "group3_pred = run_group(model_audio_only, group3_df, name=\"Group 3 - Audio Only\")"
      ]
    },
    {
      "cell_type": "code",
      "source": [
        "def evaluate_group(df, group_name, label_list=None):\n",
        "    from sklearn.metrics import accuracy_score, classification_report, confusion_matrix\n",
        "    import seaborn as sns\n",
        "    import matplotlib.pyplot as plt\n",
        "\n",
        "    print(f\"\\n Evaluation for {group_name}\")\n",
        "    y_true = df[\"tone\"]\n",
        "    y_pred = df[\"predicted_emotion\"]\n",
        "\n",
        "    acc = accuracy_score(y_true, y_pred)\n",
        "    print(f\"Accuracy: {acc:.4f}\")\n",
        "\n",
        "    # Warn if any emotion labels are missing\n",
        "    present_classes = set(y_true) | set(y_pred)\n",
        "    missing = set(label_list) - present_classes\n",
        "    if missing:\n",
        "        print(f\"Warning: These classes are missing in this group: {missing}\")\n",
        "\n",
        "    print(\"\\nClassification Report:\")\n",
        "    print(classification_report(y_true, y_pred, labels=label_list, target_names=label_list, zero_division=0))\n",
        "\n",
        "    cm = confusion_matrix(y_true, y_pred, labels=label_list)\n",
        "    plt.figure(figsize=(6, 5))\n",
        "    sns.heatmap(cm, annot=True, fmt='d', xticklabels=label_list, yticklabels=label_list, cmap='Blues')\n",
        "    plt.title(f\"Confusion Matrix: {group_name}\")\n",
        "    plt.xlabel(\"Predicted\")\n",
        "    plt.ylabel(\"True\")\n",
        "    plt.tight_layout()\n",
        "    plt.show(block=False)\n",
        "\n",
        "emo_labels = [\"Neutral\", \"Anger\", \"Disgust\", \"Fear\", \"Sadness\", \"Happiness\"]\n",
        "\n",
        "evaluate_group(group1_pred, \"Group 1 - Audio Only\", label_list=emo_labels)\n",
        "evaluate_group(group2_pred, \"Group 2 - Audio Only\", label_list=emo_labels)\n",
        "evaluate_group(group3_pred, \"Group 3 - Audio Only\", label_list=emo_labels)"
      ],
      "metadata": {
        "colab": {
          "base_uri": "https://localhost:8080/",
          "height": 1000
        },
        "id": "fT3AsTOVUbPZ",
        "outputId": "7934093f-365f-4d1a-f5fe-97f75dd53c20"
      },
      "id": "fT3AsTOVUbPZ",
      "execution_count": 31,
      "outputs": [
        {
          "output_type": "stream",
          "name": "stdout",
          "text": [
            "\n",
            " Evaluation for Group 1 - Audio Only\n",
            "Accuracy: 0.1525\n",
            "Warning: These classes are missing in this group: {'Happiness', 'Sadness'}\n",
            "\n",
            "Classification Report:\n",
            "              precision    recall  f1-score   support\n",
            "\n",
            "     Neutral       0.15      1.00      0.26         9\n",
            "       Anger       0.00      0.00      0.00        10\n",
            "     Disgust       0.00      0.00      0.00        10\n",
            "        Fear       0.00      0.00      0.00        10\n",
            "     Sadness       0.00      0.00      0.00         0\n",
            "   Happiness       0.00      0.00      0.00         0\n",
            "\n",
            "   micro avg       0.15      0.23      0.18        39\n",
            "   macro avg       0.03      0.17      0.04        39\n",
            "weighted avg       0.04      0.23      0.06        39\n",
            "\n"
          ]
        },
        {
          "output_type": "display_data",
          "data": {
            "text/plain": [
              "<Figure size 600x500 with 2 Axes>"
            ],
            "image/png": "[encoded data removed]"
          },
          "metadata": {}
        },
        {
          "output_type": "stream",
          "name": "stdout",
          "text": [
            "\n",
            " Evaluation for Group 2 - Audio Only\n",
            "Accuracy: 1.0000\n",
            "Warning: These classes are missing in this group: {'Anger', 'Happiness', 'Fear', 'Sadness', 'Disgust'}\n",
            "\n",
            "Classification Report:\n",
            "              precision    recall  f1-score   support\n",
            "\n",
            "     Neutral       1.00      1.00      1.00        60\n",
            "       Anger       0.00      0.00      0.00         0\n",
            "     Disgust       0.00      0.00      0.00         0\n",
            "        Fear       0.00      0.00      0.00         0\n",
            "     Sadness       0.00      0.00      0.00         0\n",
            "   Happiness       0.00      0.00      0.00         0\n",
            "\n",
            "    accuracy                           1.00        60\n",
            "   macro avg       0.17      0.17      0.17        60\n",
            "weighted avg       1.00      1.00      1.00        60\n",
            "\n"
          ]
        },
        {
          "output_type": "display_data",
          "data": {
            "text/plain": [
              "<Figure size 600x500 with 2 Axes>"
            ],
            "image/png": "[encoded data removed]"
          },
          "metadata": {}
        },
        {
          "output_type": "stream",
          "name": "stdout",
          "text": [
            "\n",
            " Evaluation for Group 3 - Audio Only\n",
            "Accuracy: 0.1667\n",
            "Warning: These classes are missing in this group: {'Happiness', 'Sadness'}\n",
            "\n",
            "Classification Report:\n",
            "              precision    recall  f1-score   support\n",
            "\n",
            "     Neutral       0.17      1.00      0.29        10\n",
            "       Anger       0.00      0.00      0.00        10\n",
            "     Disgust       0.00      0.00      0.00        10\n",
            "        Fear       0.00      0.00      0.00        10\n",
            "     Sadness       0.00      0.00      0.00         0\n",
            "   Happiness       0.00      0.00      0.00         0\n",
            "\n",
            "   micro avg       0.17      0.25      0.20        40\n",
            "   macro avg       0.03      0.17      0.05        40\n",
            "weighted avg       0.04      0.25      0.07        40\n",
            "\n"
          ]
        },
        {
          "output_type": "display_data",
          "data": {
            "text/plain": [
              "<Figure size 600x500 with 2 Axes>"
            ],
            "image/png": "[encoded data removed]"
          },
          "metadata": {}
        }
      ]
    },
    {
      "cell_type": "markdown",
      "source": [
        "### Audio + text"
      ],
      "metadata": {
        "id": "rEbosSE70WHi"
      },
      "id": "rEbosSE70WHi"
    },
    {
      "cell_type": "code",
      "source": [
        "import torch.nn.functional as F"
      ],
      "metadata": {
        "id": "2MVu55971nDy"
      },
      "id": "2MVu55971nDy",
      "execution_count": 32,
      "outputs": []
    },
    {
      "cell_type": "code",
      "source": [
        "# Audio + Text\n",
        "group1_pred_text = run_group(model_text_audio, group1_df, name=\"Group 1 - Audio + Text\")\n",
        "group2_pred_text = run_group(model_text_audio, group2_df, name=\"Group 2 - Audio + Text\")\n",
        "group3_pred_text = run_group(model_text_audio, group3_df, name=\"Group 3 - Audio + Text\")"
      ],
      "metadata": {
        "colab": {
          "base_uri": "https://localhost:8080/"
        },
        "id": "XE5XG8Syv14T",
        "outputId": "c2693ceb-9402-4a2a-8f61-2225bb3c8dc7"
      },
      "id": "XE5XG8Syv14T",
      "execution_count": 33,
      "outputs": [
        {
          "output_type": "stream",
          "name": "stdout",
          "text": [
            "\n",
            " Running: Group 1 - Audio + Text\n"
          ]
        },
        {
          "output_type": "stream",
          "name": "stderr",
          "text": [
            "/usr/local/lib/python3.11/dist-packages/transformers/models/whisper/generation_whisper.py:573: FutureWarning: The input name `inputs` is deprecated. Please make sure to use `input_features` instead.\n",
            "  warnings.warn(\n",
            "Due to a bug fix in https://github.com/huggingface/transformers/pull/28687 transcription using a multilingual Whisper will default to language detection followed by transcription instead of translation to English.This might be a breaking change for your use case. If you want to instead always translate your audio to English, make sure to pass `language='en'`.\n"
          ]
        },
        {
          "output_type": "stream",
          "name": "stdout",
          "text": [
            "\n",
            "Predicted Emotion: Neutral\n",
            "\n",
            "Emotion Probabilities:\n",
            "Neutral: 0.5567\n",
            "Anger: 0.0696\n",
            "Disgust: 0.0817\n",
            "Fear: 0.0814\n",
            "Sadness: 0.0685\n",
            "Happiness: 0.1420\n"
          ]
        },
        {
          "output_type": "stream",
          "name": "stderr",
          "text": [
            "/usr/local/lib/python3.11/dist-packages/transformers/models/whisper/generation_whisper.py:573: FutureWarning: The input name `inputs` is deprecated. Please make sure to use `input_features` instead.\n",
            "  warnings.warn(\n"
          ]
        },
        {
          "output_type": "stream",
          "name": "stdout",
          "text": [
            "\n",
            "Predicted Emotion: Neutral\n",
            "\n",
            "Emotion Probabilities:\n",
            "Neutral: 0.5579\n",
            "Anger: 0.0792\n",
            "Disgust: 0.0757\n",
            "Fear: 0.0751\n",
            "Sadness: 0.0632\n",
            "Happiness: 0.1489\n"
          ]
        },
        {
          "output_type": "stream",
          "name": "stderr",
          "text": [
            "/usr/local/lib/python3.11/dist-packages/transformers/models/whisper/generation_whisper.py:573: FutureWarning: The input name `inputs` is deprecated. Please make sure to use `input_features` instead.\n",
            "  warnings.warn(\n"
          ]
        },
        {
          "output_type": "stream",
          "name": "stdout",
          "text": [
            "\n",
            "Predicted Emotion: Neutral\n",
            "\n",
            "Emotion Probabilities:\n",
            "Neutral: 0.5977\n",
            "Anger: 0.0511\n",
            "Disgust: 0.1097\n",
            "Fear: 0.0728\n",
            "Sadness: 0.0806\n",
            "Happiness: 0.0882\n"
          ]
        },
        {
          "output_type": "stream",
          "name": "stderr",
          "text": [
            "/usr/local/lib/python3.11/dist-packages/transformers/models/whisper/generation_whisper.py:573: FutureWarning: The input name `inputs` is deprecated. Please make sure to use `input_features` instead.\n",
            "  warnings.warn(\n"
          ]
        },
        {
          "output_type": "stream",
          "name": "stdout",
          "text": [
            "\n",
            "Predicted Emotion: Neutral\n",
            "\n",
            "Emotion Probabilities:\n",
            "Neutral: 0.4142\n",
            "Anger: 0.0599\n",
            "Disgust: 0.1064\n",
            "Fear: 0.0805\n",
            "Sadness: 0.2442\n",
            "Happiness: 0.0948\n"
          ]
        },
        {
          "output_type": "stream",
          "name": "stderr",
          "text": [
            "/usr/local/lib/python3.11/dist-packages/transformers/models/whisper/generation_whisper.py:573: FutureWarning: The input name `inputs` is deprecated. Please make sure to use `input_features` instead.\n",
            "  warnings.warn(\n"
          ]
        },
        {
          "output_type": "stream",
          "name": "stdout",
          "text": [
            "\n",
            "Predicted Emotion: Happiness\n",
            "\n",
            "Emotion Probabilities:\n",
            "Neutral: 0.1181\n",
            "Anger: 0.0830\n",
            "Disgust: 0.0742\n",
            "Fear: 0.0759\n",
            "Sadness: 0.0670\n",
            "Happiness: 0.5818\n"
          ]
        },
        {
          "output_type": "stream",
          "name": "stderr",
          "text": [
            "/usr/local/lib/python3.11/dist-packages/transformers/models/whisper/generation_whisper.py:573: FutureWarning: The input name `inputs` is deprecated. Please make sure to use `input_features` instead.\n",
            "  warnings.warn(\n"
          ]
        },
        {
          "output_type": "stream",
          "name": "stdout",
          "text": [
            "\n",
            "Predicted Emotion: Neutral\n",
            "\n",
            "Emotion Probabilities:\n",
            "Neutral: 0.5047\n",
            "Anger: 0.0817\n",
            "Disgust: 0.0723\n",
            "Fear: 0.0772\n",
            "Sadness: 0.0618\n",
            "Happiness: 0.2024\n"
          ]
        },
        {
          "output_type": "stream",
          "name": "stderr",
          "text": [
            "/usr/local/lib/python3.11/dist-packages/transformers/models/whisper/generation_whisper.py:573: FutureWarning: The input name `inputs` is deprecated. Please make sure to use `input_features` instead.\n",
            "  warnings.warn(\n"
          ]
        },
        {
          "output_type": "stream",
          "name": "stdout",
          "text": [
            "\n",
            "Predicted Emotion: Neutral\n",
            "\n",
            "Emotion Probabilities:\n",
            "Neutral: 0.5446\n",
            "Anger: 0.1221\n",
            "Disgust: 0.0537\n",
            "Fear: 0.0910\n",
            "Sadness: 0.0608\n",
            "Happiness: 0.1279\n"
          ]
        },
        {
          "output_type": "stream",
          "name": "stderr",
          "text": [
            "/usr/local/lib/python3.11/dist-packages/transformers/models/whisper/generation_whisper.py:573: FutureWarning: The input name `inputs` is deprecated. Please make sure to use `input_features` instead.\n",
            "  warnings.warn(\n"
          ]
        },
        {
          "output_type": "stream",
          "name": "stdout",
          "text": [
            "\n",
            "Predicted Emotion: Neutral\n",
            "\n",
            "Emotion Probabilities:\n",
            "Neutral: 0.5128\n",
            "Anger: 0.1609\n",
            "Disgust: 0.0702\n",
            "Fear: 0.0975\n",
            "Sadness: 0.0761\n",
            "Happiness: 0.0826\n"
          ]
        },
        {
          "output_type": "stream",
          "name": "stderr",
          "text": [
            "/usr/local/lib/python3.11/dist-packages/transformers/models/whisper/generation_whisper.py:573: FutureWarning: The input name `inputs` is deprecated. Please make sure to use `input_features` instead.\n",
            "  warnings.warn(\n"
          ]
        },
        {
          "output_type": "stream",
          "name": "stdout",
          "text": [
            "\n",
            "Predicted Emotion: Fear\n",
            "\n",
            "Emotion Probabilities:\n",
            "Neutral: 0.2388\n",
            "Anger: 0.2541\n",
            "Disgust: 0.0794\n",
            "Fear: 0.2671\n",
            "Sadness: 0.0703\n",
            "Happiness: 0.0902\n"
          ]
        },
        {
          "output_type": "stream",
          "name": "stderr",
          "text": [
            "/usr/local/lib/python3.11/dist-packages/transformers/models/whisper/generation_whisper.py:573: FutureWarning: The input name `inputs` is deprecated. Please make sure to use `input_features` instead.\n",
            "  warnings.warn(\n",
            "You seem to be using the pipelines sequentially on GPU. In order to maximize efficiency please use a dataset\n"
          ]
        },
        {
          "output_type": "stream",
          "name": "stdout",
          "text": [
            "\n",
            "Predicted Emotion: Neutral\n",
            "\n",
            "Emotion Probabilities:\n",
            "Neutral: 0.5465\n",
            "Anger: 0.1353\n",
            "Disgust: 0.0597\n",
            "Fear: 0.0830\n",
            "Sadness: 0.0775\n",
            "Happiness: 0.0980\n"
          ]
        },
        {
          "output_type": "stream",
          "name": "stderr",
          "text": [
            "/usr/local/lib/python3.11/dist-packages/transformers/models/whisper/generation_whisper.py:573: FutureWarning: The input name `inputs` is deprecated. Please make sure to use `input_features` instead.\n",
            "  warnings.warn(\n"
          ]
        },
        {
          "output_type": "stream",
          "name": "stdout",
          "text": [
            "\n",
            "Predicted Emotion: Neutral\n",
            "\n",
            "Emotion Probabilities:\n",
            "Neutral: 0.5458\n",
            "Anger: 0.1117\n",
            "Disgust: 0.0588\n",
            "Fear: 0.0973\n",
            "Sadness: 0.0626\n",
            "Happiness: 0.1239\n"
          ]
        },
        {
          "output_type": "stream",
          "name": "stderr",
          "text": [
            "/usr/local/lib/python3.11/dist-packages/transformers/models/whisper/generation_whisper.py:573: FutureWarning: The input name `inputs` is deprecated. Please make sure to use `input_features` instead.\n",
            "  warnings.warn(\n"
          ]
        },
        {
          "output_type": "stream",
          "name": "stdout",
          "text": [
            "\n",
            "Predicted Emotion: Neutral\n",
            "\n",
            "Emotion Probabilities:\n",
            "Neutral: 0.5564\n",
            "Anger: 0.1605\n",
            "Disgust: 0.0528\n",
            "Fear: 0.0793\n",
            "Sadness: 0.0681\n",
            "Happiness: 0.0830\n"
          ]
        },
        {
          "output_type": "stream",
          "name": "stderr",
          "text": [
            "/usr/local/lib/python3.11/dist-packages/transformers/models/whisper/generation_whisper.py:573: FutureWarning: The input name `inputs` is deprecated. Please make sure to use `input_features` instead.\n",
            "  warnings.warn(\n"
          ]
        },
        {
          "output_type": "stream",
          "name": "stdout",
          "text": [
            "\n",
            "Predicted Emotion: Neutral\n",
            "\n",
            "Emotion Probabilities:\n",
            "Neutral: 0.5593\n",
            "Anger: 0.0861\n",
            "Disgust: 0.0757\n",
            "Fear: 0.0817\n",
            "Sadness: 0.0695\n",
            "Happiness: 0.1276\n"
          ]
        },
        {
          "output_type": "stream",
          "name": "stderr",
          "text": [
            "/usr/local/lib/python3.11/dist-packages/transformers/models/whisper/generation_whisper.py:573: FutureWarning: The input name `inputs` is deprecated. Please make sure to use `input_features` instead.\n",
            "  warnings.warn(\n"
          ]
        },
        {
          "output_type": "stream",
          "name": "stdout",
          "text": [
            "\n",
            "Predicted Emotion: Happiness\n",
            "\n",
            "Emotion Probabilities:\n",
            "Neutral: 0.0972\n",
            "Anger: 0.0799\n",
            "Disgust: 0.0788\n",
            "Fear: 0.0811\n",
            "Sadness: 0.0667\n",
            "Happiness: 0.5963\n"
          ]
        },
        {
          "output_type": "stream",
          "name": "stderr",
          "text": [
            "/usr/local/lib/python3.11/dist-packages/transformers/models/whisper/generation_whisper.py:573: FutureWarning: The input name `inputs` is deprecated. Please make sure to use `input_features` instead.\n",
            "  warnings.warn(\n"
          ]
        },
        {
          "output_type": "stream",
          "name": "stdout",
          "text": [
            "\n",
            "Predicted Emotion: Neutral\n",
            "\n",
            "Emotion Probabilities:\n",
            "Neutral: 0.4114\n",
            "Anger: 0.0671\n",
            "Disgust: 0.1099\n",
            "Fear: 0.2054\n",
            "Sadness: 0.1084\n",
            "Happiness: 0.0978\n"
          ]
        },
        {
          "output_type": "stream",
          "name": "stderr",
          "text": [
            "/usr/local/lib/python3.11/dist-packages/transformers/models/whisper/generation_whisper.py:573: FutureWarning: The input name `inputs` is deprecated. Please make sure to use `input_features` instead.\n",
            "  warnings.warn(\n"
          ]
        },
        {
          "output_type": "stream",
          "name": "stdout",
          "text": [
            "\n",
            "Predicted Emotion: Neutral\n",
            "\n",
            "Emotion Probabilities:\n",
            "Neutral: 0.5531\n",
            "Anger: 0.0792\n",
            "Disgust: 0.0817\n",
            "Fear: 0.0894\n",
            "Sadness: 0.0713\n",
            "Happiness: 0.1252\n"
          ]
        },
        {
          "output_type": "stream",
          "name": "stderr",
          "text": [
            "/usr/local/lib/python3.11/dist-packages/transformers/models/whisper/generation_whisper.py:573: FutureWarning: The input name `inputs` is deprecated. Please make sure to use `input_features` instead.\n",
            "  warnings.warn(\n"
          ]
        },
        {
          "output_type": "stream",
          "name": "stdout",
          "text": [
            "\n",
            "Predicted Emotion: Neutral\n",
            "\n",
            "Emotion Probabilities:\n",
            "Neutral: 0.3454\n",
            "Anger: 0.0953\n",
            "Disgust: 0.1097\n",
            "Fear: 0.1865\n",
            "Sadness: 0.1320\n",
            "Happiness: 0.1311\n"
          ]
        },
        {
          "output_type": "stream",
          "name": "stderr",
          "text": [
            "/usr/local/lib/python3.11/dist-packages/transformers/models/whisper/generation_whisper.py:573: FutureWarning: The input name `inputs` is deprecated. Please make sure to use `input_features` instead.\n",
            "  warnings.warn(\n"
          ]
        },
        {
          "output_type": "stream",
          "name": "stdout",
          "text": [
            "\n",
            "Predicted Emotion: Neutral\n",
            "\n",
            "Emotion Probabilities:\n",
            "Neutral: 0.5221\n",
            "Anger: 0.1636\n",
            "Disgust: 0.0457\n",
            "Fear: 0.0979\n",
            "Sadness: 0.0675\n",
            "Happiness: 0.1032\n"
          ]
        },
        {
          "output_type": "stream",
          "name": "stderr",
          "text": [
            "/usr/local/lib/python3.11/dist-packages/transformers/models/whisper/generation_whisper.py:573: FutureWarning: The input name `inputs` is deprecated. Please make sure to use `input_features` instead.\n",
            "  warnings.warn(\n"
          ]
        },
        {
          "output_type": "stream",
          "name": "stdout",
          "text": [
            "\n",
            "Predicted Emotion: Neutral\n",
            "\n",
            "Emotion Probabilities:\n",
            "Neutral: 0.5599\n",
            "Anger: 0.1360\n",
            "Disgust: 0.0587\n",
            "Fear: 0.0821\n",
            "Sadness: 0.0637\n",
            "Happiness: 0.0995\n"
          ]
        },
        {
          "output_type": "stream",
          "name": "stderr",
          "text": [
            "/usr/local/lib/python3.11/dist-packages/transformers/models/whisper/generation_whisper.py:573: FutureWarning: The input name `inputs` is deprecated. Please make sure to use `input_features` instead.\n",
            "  warnings.warn(\n"
          ]
        },
        {
          "output_type": "stream",
          "name": "stdout",
          "text": [
            "\n",
            "Predicted Emotion: Neutral\n",
            "\n",
            "Emotion Probabilities:\n",
            "Neutral: 0.5723\n",
            "Anger: 0.1287\n",
            "Disgust: 0.0650\n",
            "Fear: 0.0801\n",
            "Sadness: 0.0740\n",
            "Happiness: 0.0798\n"
          ]
        },
        {
          "output_type": "stream",
          "name": "stderr",
          "text": [
            "/usr/local/lib/python3.11/dist-packages/transformers/models/whisper/generation_whisper.py:573: FutureWarning: The input name `inputs` is deprecated. Please make sure to use `input_features` instead.\n",
            "  warnings.warn(\n"
          ]
        },
        {
          "output_type": "stream",
          "name": "stdout",
          "text": [
            "\n",
            "Predicted Emotion: Neutral\n",
            "\n",
            "Emotion Probabilities:\n",
            "Neutral: 0.4812\n",
            "Anger: 0.1228\n",
            "Disgust: 0.0930\n",
            "Fear: 0.0817\n",
            "Sadness: 0.1169\n",
            "Happiness: 0.1043\n"
          ]
        },
        {
          "output_type": "stream",
          "name": "stderr",
          "text": [
            "/usr/local/lib/python3.11/dist-packages/transformers/models/whisper/generation_whisper.py:573: FutureWarning: The input name `inputs` is deprecated. Please make sure to use `input_features` instead.\n",
            "  warnings.warn(\n"
          ]
        },
        {
          "output_type": "stream",
          "name": "stdout",
          "text": [
            "\n",
            "Predicted Emotion: Neutral\n",
            "\n",
            "Emotion Probabilities:\n",
            "Neutral: 0.5720\n",
            "Anger: 0.1332\n",
            "Disgust: 0.0646\n",
            "Fear: 0.0778\n",
            "Sadness: 0.0717\n",
            "Happiness: 0.0806\n"
          ]
        },
        {
          "output_type": "stream",
          "name": "stderr",
          "text": [
            "/usr/local/lib/python3.11/dist-packages/transformers/models/whisper/generation_whisper.py:573: FutureWarning: The input name `inputs` is deprecated. Please make sure to use `input_features` instead.\n",
            "  warnings.warn(\n"
          ]
        },
        {
          "output_type": "stream",
          "name": "stdout",
          "text": [
            "\n",
            "Predicted Emotion: Anger\n",
            "\n",
            "Emotion Probabilities:\n",
            "Neutral: 0.1410\n",
            "Anger: 0.3525\n",
            "Disgust: 0.1967\n",
            "Fear: 0.0840\n",
            "Sadness: 0.1243\n",
            "Happiness: 0.1015\n"
          ]
        },
        {
          "output_type": "stream",
          "name": "stderr",
          "text": [
            "/usr/local/lib/python3.11/dist-packages/transformers/models/whisper/generation_whisper.py:573: FutureWarning: The input name `inputs` is deprecated. Please make sure to use `input_features` instead.\n",
            "  warnings.warn(\n"
          ]
        },
        {
          "output_type": "stream",
          "name": "stdout",
          "text": [
            "\n",
            "Predicted Emotion: Disgust\n",
            "\n",
            "Emotion Probabilities:\n",
            "Neutral: 0.1071\n",
            "Anger: 0.1484\n",
            "Disgust: 0.3584\n",
            "Fear: 0.0801\n",
            "Sadness: 0.2237\n",
            "Happiness: 0.0822\n"
          ]
        },
        {
          "output_type": "stream",
          "name": "stderr",
          "text": [
            "/usr/local/lib/python3.11/dist-packages/transformers/models/whisper/generation_whisper.py:573: FutureWarning: The input name `inputs` is deprecated. Please make sure to use `input_features` instead.\n",
            "  warnings.warn(\n"
          ]
        },
        {
          "output_type": "stream",
          "name": "stdout",
          "text": [
            "\n",
            "Predicted Emotion: Neutral\n",
            "\n",
            "Emotion Probabilities:\n",
            "Neutral: 0.5446\n",
            "Anger: 0.1443\n",
            "Disgust: 0.0462\n",
            "Fear: 0.0790\n",
            "Sadness: 0.0588\n",
            "Happiness: 0.1270\n"
          ]
        },
        {
          "output_type": "stream",
          "name": "stderr",
          "text": [
            "/usr/local/lib/python3.11/dist-packages/transformers/models/whisper/generation_whisper.py:573: FutureWarning: The input name `inputs` is deprecated. Please make sure to use `input_features` instead.\n",
            "  warnings.warn(\n"
          ]
        },
        {
          "output_type": "stream",
          "name": "stdout",
          "text": [
            "\n",
            "Predicted Emotion: Anger\n",
            "\n",
            "Emotion Probabilities:\n",
            "Neutral: 0.0727\n",
            "Anger: 0.6358\n",
            "Disgust: 0.0507\n",
            "Fear: 0.0846\n",
            "Sadness: 0.0631\n",
            "Happiness: 0.0932\n"
          ]
        },
        {
          "output_type": "stream",
          "name": "stderr",
          "text": [
            "/usr/local/lib/python3.11/dist-packages/transformers/models/whisper/generation_whisper.py:573: FutureWarning: The input name `inputs` is deprecated. Please make sure to use `input_features` instead.\n",
            "  warnings.warn(\n"
          ]
        },
        {
          "output_type": "stream",
          "name": "stdout",
          "text": [
            "\n",
            "Predicted Emotion: Neutral\n",
            "\n",
            "Emotion Probabilities:\n",
            "Neutral: 0.5456\n",
            "Anger: 0.1540\n",
            "Disgust: 0.0457\n",
            "Fear: 0.0819\n",
            "Sadness: 0.0593\n",
            "Happiness: 0.1135\n"
          ]
        },
        {
          "output_type": "stream",
          "name": "stderr",
          "text": [
            "/usr/local/lib/python3.11/dist-packages/transformers/models/whisper/generation_whisper.py:573: FutureWarning: The input name `inputs` is deprecated. Please make sure to use `input_features` instead.\n",
            "  warnings.warn(\n"
          ]
        },
        {
          "output_type": "stream",
          "name": "stdout",
          "text": [
            "\n",
            "Predicted Emotion: Neutral\n",
            "\n",
            "Emotion Probabilities:\n",
            "Neutral: 0.3466\n",
            "Anger: 0.1562\n",
            "Disgust: 0.0482\n",
            "Fear: 0.2599\n",
            "Sadness: 0.0590\n",
            "Happiness: 0.1301\n"
          ]
        },
        {
          "output_type": "stream",
          "name": "stderr",
          "text": [
            "/usr/local/lib/python3.11/dist-packages/transformers/models/whisper/generation_whisper.py:573: FutureWarning: The input name `inputs` is deprecated. Please make sure to use `input_features` instead.\n",
            "  warnings.warn(\n"
          ]
        },
        {
          "output_type": "stream",
          "name": "stdout",
          "text": [
            "\n",
            "Predicted Emotion: Neutral\n",
            "\n",
            "Emotion Probabilities:\n",
            "Neutral: 0.5365\n",
            "Anger: 0.1489\n",
            "Disgust: 0.0403\n",
            "Fear: 0.0750\n",
            "Sadness: 0.0555\n",
            "Happiness: 0.1438\n"
          ]
        },
        {
          "output_type": "stream",
          "name": "stderr",
          "text": [
            "/usr/local/lib/python3.11/dist-packages/transformers/models/whisper/generation_whisper.py:573: FutureWarning: The input name `inputs` is deprecated. Please make sure to use `input_features` instead.\n",
            "  warnings.warn(\n"
          ]
        },
        {
          "output_type": "stream",
          "name": "stdout",
          "text": [
            "\n",
            "Predicted Emotion: Neutral\n",
            "\n",
            "Emotion Probabilities:\n",
            "Neutral: 0.5400\n",
            "Anger: 0.1716\n",
            "Disgust: 0.0405\n",
            "Fear: 0.0796\n",
            "Sadness: 0.0591\n",
            "Happiness: 0.1091\n"
          ]
        },
        {
          "output_type": "stream",
          "name": "stderr",
          "text": [
            "/usr/local/lib/python3.11/dist-packages/transformers/models/whisper/generation_whisper.py:573: FutureWarning: The input name `inputs` is deprecated. Please make sure to use `input_features` instead.\n",
            "  warnings.warn(\n"
          ]
        },
        {
          "output_type": "stream",
          "name": "stdout",
          "text": [
            "\n",
            "Predicted Emotion: Neutral\n",
            "\n",
            "Emotion Probabilities:\n",
            "Neutral: 0.5281\n",
            "Anger: 0.1293\n",
            "Disgust: 0.0789\n",
            "Fear: 0.0806\n",
            "Sadness: 0.0680\n",
            "Happiness: 0.1152\n"
          ]
        },
        {
          "output_type": "stream",
          "name": "stderr",
          "text": [
            "/usr/local/lib/python3.11/dist-packages/transformers/models/whisper/generation_whisper.py:573: FutureWarning: The input name `inputs` is deprecated. Please make sure to use `input_features` instead.\n",
            "  warnings.warn(\n"
          ]
        },
        {
          "output_type": "stream",
          "name": "stdout",
          "text": [
            "\n",
            "Predicted Emotion: Neutral\n",
            "\n",
            "Emotion Probabilities:\n",
            "Neutral: 0.5767\n",
            "Anger: 0.0998\n",
            "Disgust: 0.0811\n",
            "Fear: 0.0728\n",
            "Sadness: 0.0673\n",
            "Happiness: 0.1024\n"
          ]
        },
        {
          "output_type": "stream",
          "name": "stderr",
          "text": [
            "/usr/local/lib/python3.11/dist-packages/transformers/models/whisper/generation_whisper.py:573: FutureWarning: The input name `inputs` is deprecated. Please make sure to use `input_features` instead.\n",
            "  warnings.warn(\n"
          ]
        },
        {
          "output_type": "stream",
          "name": "stdout",
          "text": [
            "\n",
            "Predicted Emotion: Disgust\n",
            "\n",
            "Emotion Probabilities:\n",
            "Neutral: 0.2102\n",
            "Anger: 0.1106\n",
            "Disgust: 0.4141\n",
            "Fear: 0.0763\n",
            "Sadness: 0.0775\n",
            "Happiness: 0.1113\n"
          ]
        },
        {
          "output_type": "stream",
          "name": "stderr",
          "text": [
            "/usr/local/lib/python3.11/dist-packages/transformers/models/whisper/generation_whisper.py:573: FutureWarning: The input name `inputs` is deprecated. Please make sure to use `input_features` instead.\n",
            "  warnings.warn(\n"
          ]
        },
        {
          "output_type": "stream",
          "name": "stdout",
          "text": [
            "\n",
            "Predicted Emotion: Fear\n",
            "\n",
            "Emotion Probabilities:\n",
            "Neutral: 0.2380\n",
            "Anger: 0.1197\n",
            "Disgust: 0.1485\n",
            "Fear: 0.2598\n",
            "Sadness: 0.0764\n",
            "Happiness: 0.1577\n"
          ]
        },
        {
          "output_type": "stream",
          "name": "stderr",
          "text": [
            "/usr/local/lib/python3.11/dist-packages/transformers/models/whisper/generation_whisper.py:573: FutureWarning: The input name `inputs` is deprecated. Please make sure to use `input_features` instead.\n",
            "  warnings.warn(\n"
          ]
        },
        {
          "output_type": "stream",
          "name": "stdout",
          "text": [
            "\n",
            "Predicted Emotion: Neutral\n",
            "\n",
            "Emotion Probabilities:\n",
            "Neutral: 0.5343\n",
            "Anger: 0.1102\n",
            "Disgust: 0.0803\n",
            "Fear: 0.0847\n",
            "Sadness: 0.0868\n",
            "Happiness: 0.1037\n"
          ]
        },
        {
          "output_type": "stream",
          "name": "stderr",
          "text": [
            "/usr/local/lib/python3.11/dist-packages/transformers/models/whisper/generation_whisper.py:573: FutureWarning: The input name `inputs` is deprecated. Please make sure to use `input_features` instead.\n",
            "  warnings.warn(\n"
          ]
        },
        {
          "output_type": "stream",
          "name": "stdout",
          "text": [
            "\n",
            "Predicted Emotion: Neutral\n",
            "\n",
            "Emotion Probabilities:\n",
            "Neutral: 0.2242\n",
            "Anger: 0.1869\n",
            "Disgust: 0.0867\n",
            "Fear: 0.1727\n",
            "Sadness: 0.1109\n",
            "Happiness: 0.2187\n"
          ]
        },
        {
          "output_type": "stream",
          "name": "stderr",
          "text": [
            "/usr/local/lib/python3.11/dist-packages/transformers/models/whisper/generation_whisper.py:573: FutureWarning: The input name `inputs` is deprecated. Please make sure to use `input_features` instead.\n",
            "  warnings.warn(\n"
          ]
        },
        {
          "output_type": "stream",
          "name": "stdout",
          "text": [
            "\n",
            "Predicted Emotion: Neutral\n",
            "\n",
            "Emotion Probabilities:\n",
            "Neutral: 0.5540\n",
            "Anger: 0.1317\n",
            "Disgust: 0.0529\n",
            "Fear: 0.0863\n",
            "Sadness: 0.0636\n",
            "Happiness: 0.1116\n"
          ]
        },
        {
          "output_type": "stream",
          "name": "stderr",
          "text": [
            "/usr/local/lib/python3.11/dist-packages/transformers/models/whisper/generation_whisper.py:573: FutureWarning: The input name `inputs` is deprecated. Please make sure to use `input_features` instead.\n",
            "  warnings.warn(\n"
          ]
        },
        {
          "output_type": "stream",
          "name": "stdout",
          "text": [
            "\n",
            "Predicted Emotion: Neutral\n",
            "\n",
            "Emotion Probabilities:\n",
            "Neutral: 0.5475\n",
            "Anger: 0.1083\n",
            "Disgust: 0.0685\n",
            "Fear: 0.0839\n",
            "Sadness: 0.0702\n",
            "Happiness: 0.1216\n"
          ]
        },
        {
          "output_type": "stream",
          "name": "stderr",
          "text": [
            "/usr/local/lib/python3.11/dist-packages/transformers/models/whisper/generation_whisper.py:573: FutureWarning: The input name `inputs` is deprecated. Please make sure to use `input_features` instead.\n",
            "  warnings.warn(\n"
          ]
        },
        {
          "output_type": "stream",
          "name": "stdout",
          "text": [
            "\n",
            "Predicted Emotion: Happiness\n",
            "\n",
            "Emotion Probabilities:\n",
            "Neutral: 0.1348\n",
            "Anger: 0.1344\n",
            "Disgust: 0.0647\n",
            "Fear: 0.0774\n",
            "Sadness: 0.0708\n",
            "Happiness: 0.5178\n"
          ]
        },
        {
          "output_type": "stream",
          "name": "stderr",
          "text": [
            "/usr/local/lib/python3.11/dist-packages/transformers/models/whisper/generation_whisper.py:573: FutureWarning: The input name `inputs` is deprecated. Please make sure to use `input_features` instead.\n",
            "  warnings.warn(\n"
          ]
        },
        {
          "output_type": "stream",
          "name": "stdout",
          "text": [
            "\n",
            "Predicted Emotion: Neutral\n",
            "\n",
            "Emotion Probabilities:\n",
            "Neutral: 0.5367\n",
            "Anger: 0.0986\n",
            "Disgust: 0.0833\n",
            "Fear: 0.0786\n",
            "Sadness: 0.0763\n",
            "Happiness: 0.1266\n"
          ]
        },
        {
          "output_type": "stream",
          "name": "stderr",
          "text": [
            "/usr/local/lib/python3.11/dist-packages/transformers/models/whisper/generation_whisper.py:573: FutureWarning: The input name `inputs` is deprecated. Please make sure to use `input_features` instead.\n",
            "  warnings.warn(\n"
          ]
        },
        {
          "output_type": "stream",
          "name": "stdout",
          "text": [
            "\n",
            "Predicted Emotion: Neutral\n",
            "\n",
            "Emotion Probabilities:\n",
            "Neutral: 0.5630\n",
            "Anger: 0.1224\n",
            "Disgust: 0.0677\n",
            "Fear: 0.0823\n",
            "Sadness: 0.0669\n",
            "Happiness: 0.0978\n"
          ]
        },
        {
          "output_type": "stream",
          "name": "stderr",
          "text": [
            "/usr/local/lib/python3.11/dist-packages/transformers/models/whisper/generation_whisper.py:573: FutureWarning: The input name `inputs` is deprecated. Please make sure to use `input_features` instead.\n",
            "  warnings.warn(\n"
          ]
        },
        {
          "output_type": "stream",
          "name": "stdout",
          "text": [
            "\n",
            "Predicted Emotion: Happiness\n",
            "\n",
            "Emotion Probabilities:\n",
            "Neutral: 0.1011\n",
            "Anger: 0.1421\n",
            "Disgust: 0.0541\n",
            "Fear: 0.0820\n",
            "Sadness: 0.0638\n",
            "Happiness: 0.5569\n"
          ]
        },
        {
          "output_type": "stream",
          "name": "stderr",
          "text": [
            "/usr/local/lib/python3.11/dist-packages/transformers/models/whisper/generation_whisper.py:573: FutureWarning: The input name `inputs` is deprecated. Please make sure to use `input_features` instead.\n",
            "  warnings.warn(\n"
          ]
        },
        {
          "output_type": "stream",
          "name": "stdout",
          "text": [
            "\n",
            "Predicted Emotion: Neutral\n",
            "\n",
            "Emotion Probabilities:\n",
            "Neutral: 0.4891\n",
            "Anger: 0.1133\n",
            "Disgust: 0.0748\n",
            "Fear: 0.1629\n",
            "Sadness: 0.0825\n",
            "Happiness: 0.0775\n"
          ]
        },
        {
          "output_type": "stream",
          "name": "stderr",
          "text": [
            "/usr/local/lib/python3.11/dist-packages/transformers/models/whisper/generation_whisper.py:573: FutureWarning: The input name `inputs` is deprecated. Please make sure to use `input_features` instead.\n",
            "  warnings.warn(\n"
          ]
        },
        {
          "output_type": "stream",
          "name": "stdout",
          "text": [
            "\n",
            "Predicted Emotion: Neutral\n",
            "\n",
            "Emotion Probabilities:\n",
            "Neutral: 0.4507\n",
            "Anger: 0.1629\n",
            "Disgust: 0.0397\n",
            "Fear: 0.1782\n",
            "Sadness: 0.0505\n",
            "Happiness: 0.1179\n"
          ]
        },
        {
          "output_type": "stream",
          "name": "stderr",
          "text": [
            "/usr/local/lib/python3.11/dist-packages/transformers/models/whisper/generation_whisper.py:573: FutureWarning: The input name `inputs` is deprecated. Please make sure to use `input_features` instead.\n",
            "  warnings.warn(\n"
          ]
        },
        {
          "output_type": "stream",
          "name": "stdout",
          "text": [
            "\n",
            "Predicted Emotion: Neutral\n",
            "\n",
            "Emotion Probabilities:\n",
            "Neutral: 0.4832\n",
            "Anger: 0.1285\n",
            "Disgust: 0.0632\n",
            "Fear: 0.1624\n",
            "Sadness: 0.0718\n",
            "Happiness: 0.0908\n"
          ]
        },
        {
          "output_type": "stream",
          "name": "stderr",
          "text": [
            "/usr/local/lib/python3.11/dist-packages/transformers/models/whisper/generation_whisper.py:573: FutureWarning: The input name `inputs` is deprecated. Please make sure to use `input_features` instead.\n",
            "  warnings.warn(\n"
          ]
        },
        {
          "output_type": "stream",
          "name": "stdout",
          "text": [
            "\n",
            "Predicted Emotion: Neutral\n",
            "\n",
            "Emotion Probabilities:\n",
            "Neutral: 0.4831\n",
            "Anger: 0.1194\n",
            "Disgust: 0.0684\n",
            "Fear: 0.1650\n",
            "Sadness: 0.0812\n",
            "Happiness: 0.0830\n"
          ]
        },
        {
          "output_type": "stream",
          "name": "stderr",
          "text": [
            "/usr/local/lib/python3.11/dist-packages/transformers/models/whisper/generation_whisper.py:573: FutureWarning: The input name `inputs` is deprecated. Please make sure to use `input_features` instead.\n",
            "  warnings.warn(\n"
          ]
        },
        {
          "output_type": "stream",
          "name": "stdout",
          "text": [
            "\n",
            "Predicted Emotion: Neutral\n",
            "\n",
            "Emotion Probabilities:\n",
            "Neutral: 0.4788\n",
            "Anger: 0.1257\n",
            "Disgust: 0.0628\n",
            "Fear: 0.1653\n",
            "Sadness: 0.0753\n",
            "Happiness: 0.0922\n"
          ]
        },
        {
          "output_type": "stream",
          "name": "stderr",
          "text": [
            "/usr/local/lib/python3.11/dist-packages/transformers/models/whisper/generation_whisper.py:573: FutureWarning: The input name `inputs` is deprecated. Please make sure to use `input_features` instead.\n",
            "  warnings.warn(\n"
          ]
        },
        {
          "output_type": "stream",
          "name": "stdout",
          "text": [
            "\n",
            "Predicted Emotion: Neutral\n",
            "\n",
            "Emotion Probabilities:\n",
            "Neutral: 0.4462\n",
            "Anger: 0.1687\n",
            "Disgust: 0.0357\n",
            "Fear: 0.1783\n",
            "Sadness: 0.0473\n",
            "Happiness: 0.1238\n"
          ]
        },
        {
          "output_type": "stream",
          "name": "stderr",
          "text": [
            "/usr/local/lib/python3.11/dist-packages/transformers/models/whisper/generation_whisper.py:573: FutureWarning: The input name `inputs` is deprecated. Please make sure to use `input_features` instead.\n",
            "  warnings.warn(\n"
          ]
        },
        {
          "output_type": "stream",
          "name": "stdout",
          "text": [
            "\n",
            "Predicted Emotion: Fear\n",
            "\n",
            "Emotion Probabilities:\n",
            "Neutral: 0.0684\n",
            "Anger: 0.1391\n",
            "Disgust: 0.0414\n",
            "Fear: 0.5513\n",
            "Sadness: 0.0480\n",
            "Happiness: 0.1519\n"
          ]
        },
        {
          "output_type": "stream",
          "name": "stderr",
          "text": [
            "/usr/local/lib/python3.11/dist-packages/transformers/models/whisper/generation_whisper.py:573: FutureWarning: The input name `inputs` is deprecated. Please make sure to use `input_features` instead.\n",
            "  warnings.warn(\n"
          ]
        },
        {
          "output_type": "stream",
          "name": "stdout",
          "text": [
            "\n",
            "Predicted Emotion: Fear\n",
            "\n",
            "Emotion Probabilities:\n",
            "Neutral: 0.0592\n",
            "Anger: 0.1658\n",
            "Disgust: 0.0455\n",
            "Fear: 0.5556\n",
            "Sadness: 0.0485\n",
            "Happiness: 0.1254\n"
          ]
        },
        {
          "output_type": "stream",
          "name": "stderr",
          "text": [
            "/usr/local/lib/python3.11/dist-packages/transformers/models/whisper/generation_whisper.py:573: FutureWarning: The input name `inputs` is deprecated. Please make sure to use `input_features` instead.\n",
            "  warnings.warn(\n"
          ]
        },
        {
          "output_type": "stream",
          "name": "stdout",
          "text": [
            "\n",
            "Predicted Emotion: Fear\n",
            "\n",
            "Emotion Probabilities:\n",
            "Neutral: 0.0783\n",
            "Anger: 0.0894\n",
            "Disgust: 0.0611\n",
            "Fear: 0.5462\n",
            "Sadness: 0.0525\n",
            "Happiness: 0.1724\n"
          ]
        },
        {
          "output_type": "stream",
          "name": "stderr",
          "text": [
            "/usr/local/lib/python3.11/dist-packages/transformers/models/whisper/generation_whisper.py:573: FutureWarning: The input name `inputs` is deprecated. Please make sure to use `input_features` instead.\n",
            "  warnings.warn(\n"
          ]
        },
        {
          "output_type": "stream",
          "name": "stdout",
          "text": [
            "\n",
            "Predicted Emotion: Fear\n",
            "\n",
            "Emotion Probabilities:\n",
            "Neutral: 0.1108\n",
            "Anger: 0.1115\n",
            "Disgust: 0.0466\n",
            "Fear: 0.5165\n",
            "Sadness: 0.0482\n",
            "Happiness: 0.1665\n"
          ]
        },
        {
          "output_type": "stream",
          "name": "stderr",
          "text": [
            "/usr/local/lib/python3.11/dist-packages/transformers/models/whisper/generation_whisper.py:573: FutureWarning: The input name `inputs` is deprecated. Please make sure to use `input_features` instead.\n",
            "  warnings.warn(\n"
          ]
        },
        {
          "output_type": "stream",
          "name": "stdout",
          "text": [
            "\n",
            "Predicted Emotion: Fear\n",
            "\n",
            "Emotion Probabilities:\n",
            "Neutral: 0.0704\n",
            "Anger: 0.1142\n",
            "Disgust: 0.0452\n",
            "Fear: 0.5502\n",
            "Sadness: 0.0480\n",
            "Happiness: 0.1721\n"
          ]
        },
        {
          "output_type": "stream",
          "name": "stderr",
          "text": [
            "/usr/local/lib/python3.11/dist-packages/transformers/models/whisper/generation_whisper.py:573: FutureWarning: The input name `inputs` is deprecated. Please make sure to use `input_features` instead.\n",
            "  warnings.warn(\n"
          ]
        },
        {
          "output_type": "stream",
          "name": "stdout",
          "text": [
            "\n",
            "Predicted Emotion: Fear\n",
            "\n",
            "Emotion Probabilities:\n",
            "Neutral: 0.0486\n",
            "Anger: 0.1457\n",
            "Disgust: 0.0437\n",
            "Fear: 0.5662\n",
            "Sadness: 0.0494\n",
            "Happiness: 0.1466\n"
          ]
        },
        {
          "output_type": "stream",
          "name": "stderr",
          "text": [
            "/usr/local/lib/python3.11/dist-packages/transformers/models/whisper/generation_whisper.py:573: FutureWarning: The input name `inputs` is deprecated. Please make sure to use `input_features` instead.\n",
            "  warnings.warn(\n"
          ]
        },
        {
          "output_type": "stream",
          "name": "stdout",
          "text": [
            "\n",
            "Predicted Emotion: Happiness\n",
            "\n",
            "Emotion Probabilities:\n",
            "Neutral: 0.1864\n",
            "Anger: 0.1468\n",
            "Disgust: 0.0506\n",
            "Fear: 0.0809\n",
            "Sadness: 0.0624\n",
            "Happiness: 0.4730\n"
          ]
        },
        {
          "output_type": "stream",
          "name": "stderr",
          "text": [
            "/usr/local/lib/python3.11/dist-packages/transformers/models/whisper/generation_whisper.py:573: FutureWarning: The input name `inputs` is deprecated. Please make sure to use `input_features` instead.\n",
            "  warnings.warn(\n"
          ]
        },
        {
          "output_type": "stream",
          "name": "stdout",
          "text": [
            "\n",
            "Predicted Emotion: Neutral\n",
            "\n",
            "Emotion Probabilities:\n",
            "Neutral: 0.5108\n",
            "Anger: 0.1581\n",
            "Disgust: 0.0580\n",
            "Fear: 0.0788\n",
            "Sadness: 0.0941\n",
            "Happiness: 0.1002\n"
          ]
        },
        {
          "output_type": "stream",
          "name": "stderr",
          "text": [
            "/usr/local/lib/python3.11/dist-packages/transformers/models/whisper/generation_whisper.py:573: FutureWarning: The input name `inputs` is deprecated. Please make sure to use `input_features` instead.\n",
            "  warnings.warn(\n"
          ]
        },
        {
          "output_type": "stream",
          "name": "stdout",
          "text": [
            "\n",
            "Predicted Emotion: Neutral\n",
            "\n",
            "Emotion Probabilities:\n",
            "Neutral: 0.3387\n",
            "Anger: 0.1847\n",
            "Disgust: 0.1087\n",
            "Fear: 0.0851\n",
            "Sadness: 0.1752\n",
            "Happiness: 0.1076\n"
          ]
        },
        {
          "output_type": "stream",
          "name": "stderr",
          "text": [
            "/usr/local/lib/python3.11/dist-packages/transformers/models/whisper/generation_whisper.py:573: FutureWarning: The input name `inputs` is deprecated. Please make sure to use `input_features` instead.\n",
            "  warnings.warn(\n"
          ]
        },
        {
          "output_type": "stream",
          "name": "stdout",
          "text": [
            "\n",
            "Predicted Emotion: Neutral\n",
            "\n",
            "Emotion Probabilities:\n",
            "Neutral: 0.5344\n",
            "Anger: 0.1361\n",
            "Disgust: 0.0429\n",
            "Fear: 0.0805\n",
            "Sadness: 0.0597\n",
            "Happiness: 0.1464\n"
          ]
        },
        {
          "output_type": "stream",
          "name": "stderr",
          "text": [
            "/usr/local/lib/python3.11/dist-packages/transformers/models/whisper/generation_whisper.py:573: FutureWarning: The input name `inputs` is deprecated. Please make sure to use `input_features` instead.\n",
            "  warnings.warn(\n"
          ]
        },
        {
          "output_type": "stream",
          "name": "stdout",
          "text": [
            "\n",
            "Predicted Emotion: Neutral\n",
            "\n",
            "Emotion Probabilities:\n",
            "Neutral: 0.5354\n",
            "Anger: 0.1482\n",
            "Disgust: 0.0459\n",
            "Fear: 0.0807\n",
            "Sadness: 0.0691\n",
            "Happiness: 0.1207\n",
            "\n",
            " Running: Group 2 - Audio + Text\n"
          ]
        },
        {
          "output_type": "stream",
          "name": "stderr",
          "text": [
            "/usr/local/lib/python3.11/dist-packages/transformers/models/whisper/generation_whisper.py:573: FutureWarning: The input name `inputs` is deprecated. Please make sure to use `input_features` instead.\n",
            "  warnings.warn(\n"
          ]
        },
        {
          "output_type": "stream",
          "name": "stdout",
          "text": [
            "\n",
            "Predicted Emotion: Neutral\n",
            "\n",
            "Emotion Probabilities:\n",
            "Neutral: 0.5710\n",
            "Anger: 0.0612\n",
            "Disgust: 0.1000\n",
            "Fear: 0.0767\n",
            "Sadness: 0.0759\n",
            "Happiness: 0.1153\n"
          ]
        },
        {
          "output_type": "stream",
          "name": "stderr",
          "text": [
            "/usr/local/lib/python3.11/dist-packages/transformers/models/whisper/generation_whisper.py:573: FutureWarning: The input name `inputs` is deprecated. Please make sure to use `input_features` instead.\n",
            "  warnings.warn(\n"
          ]
        },
        {
          "output_type": "stream",
          "name": "stdout",
          "text": [
            "\n",
            "Predicted Emotion: Happiness\n",
            "\n",
            "Emotion Probabilities:\n",
            "Neutral: 0.2411\n",
            "Anger: 0.0673\n",
            "Disgust: 0.0898\n",
            "Fear: 0.0792\n",
            "Sadness: 0.0715\n",
            "Happiness: 0.4511\n"
          ]
        },
        {
          "output_type": "stream",
          "name": "stderr",
          "text": [
            "/usr/local/lib/python3.11/dist-packages/transformers/models/whisper/generation_whisper.py:573: FutureWarning: The input name `inputs` is deprecated. Please make sure to use `input_features` instead.\n",
            "  warnings.warn(\n"
          ]
        },
        {
          "output_type": "stream",
          "name": "stdout",
          "text": [
            "\n",
            "Predicted Emotion: Neutral\n",
            "\n",
            "Emotion Probabilities:\n",
            "Neutral: 0.5417\n",
            "Anger: 0.0594\n",
            "Disgust: 0.1001\n",
            "Fear: 0.0808\n",
            "Sadness: 0.0741\n",
            "Happiness: 0.1438\n"
          ]
        },
        {
          "output_type": "stream",
          "name": "stderr",
          "text": [
            "/usr/local/lib/python3.11/dist-packages/transformers/models/whisper/generation_whisper.py:573: FutureWarning: The input name `inputs` is deprecated. Please make sure to use `input_features` instead.\n",
            "  warnings.warn(\n"
          ]
        },
        {
          "output_type": "stream",
          "name": "stdout",
          "text": [
            "\n",
            "Predicted Emotion: Neutral\n",
            "\n",
            "Emotion Probabilities:\n",
            "Neutral: 0.5464\n",
            "Anger: 0.0688\n",
            "Disgust: 0.0866\n",
            "Fear: 0.0811\n",
            "Sadness: 0.0714\n",
            "Happiness: 0.1458\n"
          ]
        },
        {
          "output_type": "stream",
          "name": "stderr",
          "text": [
            "/usr/local/lib/python3.11/dist-packages/transformers/models/whisper/generation_whisper.py:573: FutureWarning: The input name `inputs` is deprecated. Please make sure to use `input_features` instead.\n",
            "  warnings.warn(\n"
          ]
        },
        {
          "output_type": "stream",
          "name": "stdout",
          "text": [
            "\n",
            "Predicted Emotion: Happiness\n",
            "\n",
            "Emotion Probabilities:\n",
            "Neutral: 0.0835\n",
            "Anger: 0.0665\n",
            "Disgust: 0.0842\n",
            "Fear: 0.0805\n",
            "Sadness: 0.0666\n",
            "Happiness: 0.6188\n"
          ]
        },
        {
          "output_type": "stream",
          "name": "stderr",
          "text": [
            "/usr/local/lib/python3.11/dist-packages/transformers/models/whisper/generation_whisper.py:573: FutureWarning: The input name `inputs` is deprecated. Please make sure to use `input_features` instead.\n",
            "  warnings.warn(\n"
          ]
        },
        {
          "output_type": "stream",
          "name": "stdout",
          "text": [
            "\n",
            "Predicted Emotion: Neutral\n",
            "\n",
            "Emotion Probabilities:\n",
            "Neutral: 0.5639\n",
            "Anger: 0.0731\n",
            "Disgust: 0.0803\n",
            "Fear: 0.0797\n",
            "Sadness: 0.0634\n",
            "Happiness: 0.1397\n"
          ]
        },
        {
          "output_type": "stream",
          "name": "stderr",
          "text": [
            "/usr/local/lib/python3.11/dist-packages/transformers/models/whisper/generation_whisper.py:573: FutureWarning: The input name `inputs` is deprecated. Please make sure to use `input_features` instead.\n",
            "  warnings.warn(\n"
          ]
        },
        {
          "output_type": "stream",
          "name": "stdout",
          "text": [
            "\n",
            "Predicted Emotion: Sadness\n",
            "\n",
            "Emotion Probabilities:\n",
            "Neutral: 0.0739\n",
            "Anger: 0.1068\n",
            "Disgust: 0.0645\n",
            "Fear: 0.0935\n",
            "Sadness: 0.5324\n",
            "Happiness: 0.1288\n"
          ]
        },
        {
          "output_type": "stream",
          "name": "stderr",
          "text": [
            "/usr/local/lib/python3.11/dist-packages/transformers/models/whisper/generation_whisper.py:573: FutureWarning: The input name `inputs` is deprecated. Please make sure to use `input_features` instead.\n",
            "  warnings.warn(\n"
          ]
        },
        {
          "output_type": "stream",
          "name": "stdout",
          "text": [
            "\n",
            "Predicted Emotion: Neutral\n",
            "\n",
            "Emotion Probabilities:\n",
            "Neutral: 0.3249\n",
            "Anger: 0.1248\n",
            "Disgust: 0.1618\n",
            "Fear: 0.1338\n",
            "Sadness: 0.1203\n",
            "Happiness: 0.1344\n"
          ]
        },
        {
          "output_type": "stream",
          "name": "stderr",
          "text": [
            "/usr/local/lib/python3.11/dist-packages/transformers/models/whisper/generation_whisper.py:573: FutureWarning: The input name `inputs` is deprecated. Please make sure to use `input_features` instead.\n",
            "  warnings.warn(\n"
          ]
        },
        {
          "output_type": "stream",
          "name": "stdout",
          "text": [
            "\n",
            "Predicted Emotion: Anger\n",
            "\n",
            "Emotion Probabilities:\n",
            "Neutral: 0.1025\n",
            "Anger: 0.3339\n",
            "Disgust: 0.0617\n",
            "Fear: 0.2163\n",
            "Sadness: 0.1213\n",
            "Happiness: 0.1642\n"
          ]
        },
        {
          "output_type": "stream",
          "name": "stderr",
          "text": [
            "/usr/local/lib/python3.11/dist-packages/transformers/models/whisper/generation_whisper.py:573: FutureWarning: The input name `inputs` is deprecated. Please make sure to use `input_features` instead.\n",
            "  warnings.warn(\n"
          ]
        },
        {
          "output_type": "stream",
          "name": "stdout",
          "text": [
            "\n",
            "Predicted Emotion: Happiness\n",
            "\n",
            "Emotion Probabilities:\n",
            "Neutral: 0.0874\n",
            "Anger: 0.1204\n",
            "Disgust: 0.0772\n",
            "Fear: 0.0944\n",
            "Sadness: 0.0631\n",
            "Happiness: 0.5576\n"
          ]
        },
        {
          "output_type": "stream",
          "name": "stderr",
          "text": [
            "/usr/local/lib/python3.11/dist-packages/transformers/models/whisper/generation_whisper.py:573: FutureWarning: The input name `inputs` is deprecated. Please make sure to use `input_features` instead.\n",
            "  warnings.warn(\n"
          ]
        },
        {
          "output_type": "stream",
          "name": "stdout",
          "text": [
            "\n",
            "Predicted Emotion: Neutral\n",
            "\n",
            "Emotion Probabilities:\n",
            "Neutral: 0.5553\n",
            "Anger: 0.0997\n",
            "Disgust: 0.0776\n",
            "Fear: 0.0890\n",
            "Sadness: 0.0644\n",
            "Happiness: 0.1139\n"
          ]
        },
        {
          "output_type": "stream",
          "name": "stderr",
          "text": [
            "/usr/local/lib/python3.11/dist-packages/transformers/models/whisper/generation_whisper.py:573: FutureWarning: The input name `inputs` is deprecated. Please make sure to use `input_features` instead.\n",
            "  warnings.warn(\n"
          ]
        },
        {
          "output_type": "stream",
          "name": "stdout",
          "text": [
            "\n",
            "Predicted Emotion: Neutral\n",
            "\n",
            "Emotion Probabilities:\n",
            "Neutral: 0.3264\n",
            "Anger: 0.1251\n",
            "Disgust: 0.1589\n",
            "Fear: 0.1962\n",
            "Sadness: 0.0851\n",
            "Happiness: 0.1084\n"
          ]
        },
        {
          "output_type": "stream",
          "name": "stderr",
          "text": [
            "/usr/local/lib/python3.11/dist-packages/transformers/models/whisper/generation_whisper.py:573: FutureWarning: The input name `inputs` is deprecated. Please make sure to use `input_features` instead.\n",
            "  warnings.warn(\n"
          ]
        },
        {
          "output_type": "stream",
          "name": "stdout",
          "text": [
            "\n",
            "Predicted Emotion: Neutral\n",
            "\n",
            "Emotion Probabilities:\n",
            "Neutral: 0.5473\n",
            "Anger: 0.0805\n",
            "Disgust: 0.0919\n",
            "Fear: 0.0786\n",
            "Sadness: 0.0989\n",
            "Happiness: 0.1028\n"
          ]
        },
        {
          "output_type": "stream",
          "name": "stderr",
          "text": [
            "/usr/local/lib/python3.11/dist-packages/transformers/models/whisper/generation_whisper.py:573: FutureWarning: The input name `inputs` is deprecated. Please make sure to use `input_features` instead.\n",
            "  warnings.warn(\n"
          ]
        },
        {
          "output_type": "stream",
          "name": "stdout",
          "text": [
            "\n",
            "Predicted Emotion: Neutral\n",
            "\n",
            "Emotion Probabilities:\n",
            "Neutral: 0.5357\n",
            "Anger: 0.0971\n",
            "Disgust: 0.0943\n",
            "Fear: 0.0822\n",
            "Sadness: 0.0844\n",
            "Happiness: 0.1063\n"
          ]
        },
        {
          "output_type": "stream",
          "name": "stderr",
          "text": [
            "/usr/local/lib/python3.11/dist-packages/transformers/models/whisper/generation_whisper.py:573: FutureWarning: The input name `inputs` is deprecated. Please make sure to use `input_features` instead.\n",
            "  warnings.warn(\n"
          ]
        },
        {
          "output_type": "stream",
          "name": "stdout",
          "text": [
            "\n",
            "Predicted Emotion: Neutral\n",
            "\n",
            "Emotion Probabilities:\n",
            "Neutral: 0.5398\n",
            "Anger: 0.1020\n",
            "Disgust: 0.0860\n",
            "Fear: 0.0912\n",
            "Sadness: 0.0808\n",
            "Happiness: 0.1002\n"
          ]
        },
        {
          "output_type": "stream",
          "name": "stderr",
          "text": [
            "/usr/local/lib/python3.11/dist-packages/transformers/models/whisper/generation_whisper.py:573: FutureWarning: The input name `inputs` is deprecated. Please make sure to use `input_features` instead.\n",
            "  warnings.warn(\n"
          ]
        },
        {
          "output_type": "stream",
          "name": "stdout",
          "text": [
            "\n",
            "Predicted Emotion: Sadness\n",
            "\n",
            "Emotion Probabilities:\n",
            "Neutral: 0.0997\n",
            "Anger: 0.1339\n",
            "Disgust: 0.0910\n",
            "Fear: 0.1250\n",
            "Sadness: 0.3352\n",
            "Happiness: 0.2152\n"
          ]
        },
        {
          "output_type": "stream",
          "name": "stderr",
          "text": [
            "/usr/local/lib/python3.11/dist-packages/transformers/models/whisper/generation_whisper.py:573: FutureWarning: The input name `inputs` is deprecated. Please make sure to use `input_features` instead.\n",
            "  warnings.warn(\n"
          ]
        },
        {
          "output_type": "stream",
          "name": "stdout",
          "text": [
            "\n",
            "Predicted Emotion: Neutral\n",
            "\n",
            "Emotion Probabilities:\n",
            "Neutral: 0.5493\n",
            "Anger: 0.1179\n",
            "Disgust: 0.0740\n",
            "Fear: 0.0805\n",
            "Sadness: 0.0688\n",
            "Happiness: 0.1096\n"
          ]
        },
        {
          "output_type": "stream",
          "name": "stderr",
          "text": [
            "/usr/local/lib/python3.11/dist-packages/transformers/models/whisper/generation_whisper.py:573: FutureWarning: The input name `inputs` is deprecated. Please make sure to use `input_features` instead.\n",
            "  warnings.warn(\n"
          ]
        },
        {
          "output_type": "stream",
          "name": "stdout",
          "text": [
            "\n",
            "Predicted Emotion: Neutral\n",
            "\n",
            "Emotion Probabilities:\n",
            "Neutral: 0.5476\n",
            "Anger: 0.1138\n",
            "Disgust: 0.0772\n",
            "Fear: 0.0788\n",
            "Sadness: 0.0667\n",
            "Happiness: 0.1158\n"
          ]
        },
        {
          "output_type": "stream",
          "name": "stderr",
          "text": [
            "/usr/local/lib/python3.11/dist-packages/transformers/models/whisper/generation_whisper.py:573: FutureWarning: The input name `inputs` is deprecated. Please make sure to use `input_features` instead.\n",
            "  warnings.warn(\n"
          ]
        },
        {
          "output_type": "stream",
          "name": "stdout",
          "text": [
            "\n",
            "Predicted Emotion: Neutral\n",
            "\n",
            "Emotion Probabilities:\n",
            "Neutral: 0.2827\n",
            "Anger: 0.1158\n",
            "Disgust: 0.1840\n",
            "Fear: 0.0793\n",
            "Sadness: 0.0677\n",
            "Happiness: 0.2704\n"
          ]
        },
        {
          "output_type": "stream",
          "name": "stderr",
          "text": [
            "/usr/local/lib/python3.11/dist-packages/transformers/models/whisper/generation_whisper.py:573: FutureWarning: The input name `inputs` is deprecated. Please make sure to use `input_features` instead.\n",
            "  warnings.warn(\n"
          ]
        },
        {
          "output_type": "stream",
          "name": "stdout",
          "text": [
            "\n",
            "Predicted Emotion: Neutral\n",
            "\n",
            "Emotion Probabilities:\n",
            "Neutral: 0.5784\n",
            "Anger: 0.1186\n",
            "Disgust: 0.0732\n",
            "Fear: 0.0748\n",
            "Sadness: 0.0710\n",
            "Happiness: 0.0840\n"
          ]
        },
        {
          "output_type": "stream",
          "name": "stderr",
          "text": [
            "/usr/local/lib/python3.11/dist-packages/transformers/models/whisper/generation_whisper.py:573: FutureWarning: The input name `inputs` is deprecated. Please make sure to use `input_features` instead.\n",
            "  warnings.warn(\n"
          ]
        },
        {
          "output_type": "stream",
          "name": "stdout",
          "text": [
            "\n",
            "Predicted Emotion: Happiness\n",
            "\n",
            "Emotion Probabilities:\n",
            "Neutral: 0.1996\n",
            "Anger: 0.1342\n",
            "Disgust: 0.0733\n",
            "Fear: 0.1037\n",
            "Sadness: 0.1415\n",
            "Happiness: 0.3477\n"
          ]
        },
        {
          "output_type": "stream",
          "name": "stderr",
          "text": [
            "/usr/local/lib/python3.11/dist-packages/transformers/models/whisper/generation_whisper.py:573: FutureWarning: The input name `inputs` is deprecated. Please make sure to use `input_features` instead.\n",
            "  warnings.warn(\n"
          ]
        },
        {
          "output_type": "stream",
          "name": "stdout",
          "text": [
            "\n",
            "Predicted Emotion: Neutral\n",
            "\n",
            "Emotion Probabilities:\n",
            "Neutral: 0.5377\n",
            "Anger: 0.1270\n",
            "Disgust: 0.0786\n",
            "Fear: 0.0778\n",
            "Sadness: 0.0910\n",
            "Happiness: 0.0879\n"
          ]
        },
        {
          "output_type": "stream",
          "name": "stderr",
          "text": [
            "/usr/local/lib/python3.11/dist-packages/transformers/models/whisper/generation_whisper.py:573: FutureWarning: The input name `inputs` is deprecated. Please make sure to use `input_features` instead.\n",
            "  warnings.warn(\n"
          ]
        },
        {
          "output_type": "stream",
          "name": "stdout",
          "text": [
            "\n",
            "Predicted Emotion: Sadness\n",
            "\n",
            "Emotion Probabilities:\n",
            "Neutral: 0.0921\n",
            "Anger: 0.1134\n",
            "Disgust: 0.0787\n",
            "Fear: 0.0737\n",
            "Sadness: 0.5617\n",
            "Happiness: 0.0805\n"
          ]
        },
        {
          "output_type": "stream",
          "name": "stderr",
          "text": [
            "/usr/local/lib/python3.11/dist-packages/transformers/models/whisper/generation_whisper.py:573: FutureWarning: The input name `inputs` is deprecated. Please make sure to use `input_features` instead.\n",
            "  warnings.warn(\n"
          ]
        },
        {
          "output_type": "stream",
          "name": "stdout",
          "text": [
            "\n",
            "Predicted Emotion: Neutral\n",
            "\n",
            "Emotion Probabilities:\n",
            "Neutral: 0.5559\n",
            "Anger: 0.1223\n",
            "Disgust: 0.0720\n",
            "Fear: 0.0754\n",
            "Sadness: 0.0683\n",
            "Happiness: 0.1062\n"
          ]
        },
        {
          "output_type": "stream",
          "name": "stderr",
          "text": [
            "/usr/local/lib/python3.11/dist-packages/transformers/models/whisper/generation_whisper.py:573: FutureWarning: The input name `inputs` is deprecated. Please make sure to use `input_features` instead.\n",
            "  warnings.warn(\n"
          ]
        },
        {
          "output_type": "stream",
          "name": "stdout",
          "text": [
            "\n",
            "Predicted Emotion: Happiness\n",
            "\n",
            "Emotion Probabilities:\n",
            "Neutral: 0.1869\n",
            "Anger: 0.1765\n",
            "Disgust: 0.0564\n",
            "Fear: 0.0810\n",
            "Sadness: 0.0611\n",
            "Happiness: 0.4381\n"
          ]
        },
        {
          "output_type": "stream",
          "name": "stderr",
          "text": [
            "/usr/local/lib/python3.11/dist-packages/transformers/models/whisper/generation_whisper.py:573: FutureWarning: The input name `inputs` is deprecated. Please make sure to use `input_features` instead.\n",
            "  warnings.warn(\n"
          ]
        },
        {
          "output_type": "stream",
          "name": "stdout",
          "text": [
            "\n",
            "Predicted Emotion: Sadness\n",
            "\n",
            "Emotion Probabilities:\n",
            "Neutral: 0.2367\n",
            "Anger: 0.1645\n",
            "Disgust: 0.0516\n",
            "Fear: 0.0983\n",
            "Sadness: 0.3309\n",
            "Happiness: 0.1180\n"
          ]
        },
        {
          "output_type": "stream",
          "name": "stderr",
          "text": [
            "/usr/local/lib/python3.11/dist-packages/transformers/models/whisper/generation_whisper.py:573: FutureWarning: The input name `inputs` is deprecated. Please make sure to use `input_features` instead.\n",
            "  warnings.warn(\n"
          ]
        },
        {
          "output_type": "stream",
          "name": "stdout",
          "text": [
            "\n",
            "Predicted Emotion: Neutral\n",
            "\n",
            "Emotion Probabilities:\n",
            "Neutral: 0.5414\n",
            "Anger: 0.1424\n",
            "Disgust: 0.0482\n",
            "Fear: 0.0769\n",
            "Sadness: 0.0587\n",
            "Happiness: 0.1324\n"
          ]
        },
        {
          "output_type": "stream",
          "name": "stderr",
          "text": [
            "/usr/local/lib/python3.11/dist-packages/transformers/models/whisper/generation_whisper.py:573: FutureWarning: The input name `inputs` is deprecated. Please make sure to use `input_features` instead.\n",
            "  warnings.warn(\n"
          ]
        },
        {
          "output_type": "stream",
          "name": "stdout",
          "text": [
            "\n",
            "Predicted Emotion: Neutral\n",
            "\n",
            "Emotion Probabilities:\n",
            "Neutral: 0.5111\n",
            "Anger: 0.1501\n",
            "Disgust: 0.0472\n",
            "Fear: 0.0785\n",
            "Sadness: 0.0640\n",
            "Happiness: 0.1492\n"
          ]
        },
        {
          "output_type": "stream",
          "name": "stderr",
          "text": [
            "/usr/local/lib/python3.11/dist-packages/transformers/models/whisper/generation_whisper.py:573: FutureWarning: The input name `inputs` is deprecated. Please make sure to use `input_features` instead.\n",
            "  warnings.warn(\n"
          ]
        },
        {
          "output_type": "stream",
          "name": "stdout",
          "text": [
            "\n",
            "Predicted Emotion: Neutral\n",
            "\n",
            "Emotion Probabilities:\n",
            "Neutral: 0.5418\n",
            "Anger: 0.1178\n",
            "Disgust: 0.0552\n",
            "Fear: 0.0734\n",
            "Sadness: 0.0608\n",
            "Happiness: 0.1509\n"
          ]
        },
        {
          "output_type": "stream",
          "name": "stderr",
          "text": [
            "/usr/local/lib/python3.11/dist-packages/transformers/models/whisper/generation_whisper.py:573: FutureWarning: The input name `inputs` is deprecated. Please make sure to use `input_features` instead.\n",
            "  warnings.warn(\n"
          ]
        },
        {
          "output_type": "stream",
          "name": "stdout",
          "text": [
            "\n",
            "Predicted Emotion: Neutral\n",
            "\n",
            "Emotion Probabilities:\n",
            "Neutral: 0.4849\n",
            "Anger: 0.1668\n",
            "Disgust: 0.0445\n",
            "Fear: 0.0807\n",
            "Sadness: 0.0607\n",
            "Happiness: 0.1624\n"
          ]
        },
        {
          "output_type": "stream",
          "name": "stderr",
          "text": [
            "/usr/local/lib/python3.11/dist-packages/transformers/models/whisper/generation_whisper.py:573: FutureWarning: The input name `inputs` is deprecated. Please make sure to use `input_features` instead.\n",
            "  warnings.warn(\n"
          ]
        },
        {
          "output_type": "stream",
          "name": "stdout",
          "text": [
            "\n",
            "Predicted Emotion: Neutral\n",
            "\n",
            "Emotion Probabilities:\n",
            "Neutral: 0.4696\n",
            "Anger: 0.0921\n",
            "Disgust: 0.0806\n",
            "Fear: 0.0728\n",
            "Sadness: 0.0764\n",
            "Happiness: 0.2084\n"
          ]
        },
        {
          "output_type": "stream",
          "name": "stderr",
          "text": [
            "/usr/local/lib/python3.11/dist-packages/transformers/models/whisper/generation_whisper.py:573: FutureWarning: The input name `inputs` is deprecated. Please make sure to use `input_features` instead.\n",
            "  warnings.warn(\n"
          ]
        },
        {
          "output_type": "stream",
          "name": "stdout",
          "text": [
            "\n",
            "Predicted Emotion: Neutral\n",
            "\n",
            "Emotion Probabilities:\n",
            "Neutral: 0.5707\n",
            "Anger: 0.0902\n",
            "Disgust: 0.0801\n",
            "Fear: 0.0772\n",
            "Sadness: 0.0692\n",
            "Happiness: 0.1127\n"
          ]
        },
        {
          "output_type": "stream",
          "name": "stderr",
          "text": [
            "/usr/local/lib/python3.11/dist-packages/transformers/models/whisper/generation_whisper.py:573: FutureWarning: The input name `inputs` is deprecated. Please make sure to use `input_features` instead.\n",
            "  warnings.warn(\n"
          ]
        },
        {
          "output_type": "stream",
          "name": "stdout",
          "text": [
            "\n",
            "Predicted Emotion: Neutral\n",
            "\n",
            "Emotion Probabilities:\n",
            "Neutral: 0.5516\n",
            "Anger: 0.1150\n",
            "Disgust: 0.0790\n",
            "Fear: 0.0791\n",
            "Sadness: 0.0668\n",
            "Happiness: 0.1085\n"
          ]
        },
        {
          "output_type": "stream",
          "name": "stderr",
          "text": [
            "/usr/local/lib/python3.11/dist-packages/transformers/models/whisper/generation_whisper.py:573: FutureWarning: The input name `inputs` is deprecated. Please make sure to use `input_features` instead.\n",
            "  warnings.warn(\n"
          ]
        },
        {
          "output_type": "stream",
          "name": "stdout",
          "text": [
            "\n",
            "Predicted Emotion: Neutral\n",
            "\n",
            "Emotion Probabilities:\n",
            "Neutral: 0.4062\n",
            "Anger: 0.1056\n",
            "Disgust: 0.0900\n",
            "Fear: 0.0836\n",
            "Sadness: 0.2026\n",
            "Happiness: 0.1120\n"
          ]
        },
        {
          "output_type": "stream",
          "name": "stderr",
          "text": [
            "/usr/local/lib/python3.11/dist-packages/transformers/models/whisper/generation_whisper.py:573: FutureWarning: The input name `inputs` is deprecated. Please make sure to use `input_features` instead.\n",
            "  warnings.warn(\n"
          ]
        },
        {
          "output_type": "stream",
          "name": "stdout",
          "text": [
            "\n",
            "Predicted Emotion: Neutral\n",
            "\n",
            "Emotion Probabilities:\n",
            "Neutral: 0.5567\n",
            "Anger: 0.0987\n",
            "Disgust: 0.0770\n",
            "Fear: 0.0821\n",
            "Sadness: 0.0682\n",
            "Happiness: 0.1172\n"
          ]
        },
        {
          "output_type": "stream",
          "name": "stderr",
          "text": [
            "/usr/local/lib/python3.11/dist-packages/transformers/models/whisper/generation_whisper.py:573: FutureWarning: The input name `inputs` is deprecated. Please make sure to use `input_features` instead.\n",
            "  warnings.warn(\n"
          ]
        },
        {
          "output_type": "stream",
          "name": "stdout",
          "text": [
            "\n",
            "Predicted Emotion: Disgust\n",
            "\n",
            "Emotion Probabilities:\n",
            "Neutral: 0.1675\n",
            "Anger: 0.0934\n",
            "Disgust: 0.4486\n",
            "Fear: 0.1048\n",
            "Sadness: 0.0789\n",
            "Happiness: 0.1068\n"
          ]
        },
        {
          "output_type": "stream",
          "name": "stderr",
          "text": [
            "/usr/local/lib/python3.11/dist-packages/transformers/models/whisper/generation_whisper.py:573: FutureWarning: The input name `inputs` is deprecated. Please make sure to use `input_features` instead.\n",
            "  warnings.warn(\n"
          ]
        },
        {
          "output_type": "stream",
          "name": "stdout",
          "text": [
            "\n",
            "Predicted Emotion: Happiness\n",
            "\n",
            "Emotion Probabilities:\n",
            "Neutral: 0.1432\n",
            "Anger: 0.1260\n",
            "Disgust: 0.0682\n",
            "Fear: 0.0789\n",
            "Sadness: 0.0685\n",
            "Happiness: 0.5152\n"
          ]
        },
        {
          "output_type": "stream",
          "name": "stderr",
          "text": [
            "/usr/local/lib/python3.11/dist-packages/transformers/models/whisper/generation_whisper.py:573: FutureWarning: The input name `inputs` is deprecated. Please make sure to use `input_features` instead.\n",
            "  warnings.warn(\n"
          ]
        },
        {
          "output_type": "stream",
          "name": "stdout",
          "text": [
            "\n",
            "Predicted Emotion: Neutral\n",
            "\n",
            "Emotion Probabilities:\n",
            "Neutral: 0.3191\n",
            "Anger: 0.1563\n",
            "Disgust: 0.2253\n",
            "Fear: 0.0967\n",
            "Sadness: 0.1059\n",
            "Happiness: 0.0967\n"
          ]
        },
        {
          "output_type": "stream",
          "name": "stderr",
          "text": [
            "/usr/local/lib/python3.11/dist-packages/transformers/models/whisper/generation_whisper.py:573: FutureWarning: The input name `inputs` is deprecated. Please make sure to use `input_features` instead.\n",
            "  warnings.warn(\n"
          ]
        },
        {
          "output_type": "stream",
          "name": "stdout",
          "text": [
            "\n",
            "Predicted Emotion: Neutral\n",
            "\n",
            "Emotion Probabilities:\n",
            "Neutral: 0.5742\n",
            "Anger: 0.1120\n",
            "Disgust: 0.0775\n",
            "Fear: 0.0813\n",
            "Sadness: 0.0699\n",
            "Happiness: 0.0849\n"
          ]
        },
        {
          "output_type": "stream",
          "name": "stderr",
          "text": [
            "/usr/local/lib/python3.11/dist-packages/transformers/models/whisper/generation_whisper.py:573: FutureWarning: The input name `inputs` is deprecated. Please make sure to use `input_features` instead.\n",
            "  warnings.warn(\n"
          ]
        },
        {
          "output_type": "stream",
          "name": "stdout",
          "text": [
            "\n",
            "Predicted Emotion: Neutral\n",
            "\n",
            "Emotion Probabilities:\n",
            "Neutral: 0.5519\n",
            "Anger: 0.1372\n",
            "Disgust: 0.0654\n",
            "Fear: 0.0863\n",
            "Sadness: 0.0701\n",
            "Happiness: 0.0892\n"
          ]
        },
        {
          "output_type": "stream",
          "name": "stderr",
          "text": [
            "/usr/local/lib/python3.11/dist-packages/transformers/models/whisper/generation_whisper.py:573: FutureWarning: The input name `inputs` is deprecated. Please make sure to use `input_features` instead.\n",
            "  warnings.warn(\n"
          ]
        },
        {
          "output_type": "stream",
          "name": "stdout",
          "text": [
            "\n",
            "Predicted Emotion: Neutral\n",
            "\n",
            "Emotion Probabilities:\n",
            "Neutral: 0.4473\n",
            "Anger: 0.1628\n",
            "Disgust: 0.0925\n",
            "Fear: 0.0833\n",
            "Sadness: 0.1101\n",
            "Happiness: 0.1040\n"
          ]
        },
        {
          "output_type": "stream",
          "name": "stderr",
          "text": [
            "/usr/local/lib/python3.11/dist-packages/transformers/models/whisper/generation_whisper.py:573: FutureWarning: The input name `inputs` is deprecated. Please make sure to use `input_features` instead.\n",
            "  warnings.warn(\n"
          ]
        },
        {
          "output_type": "stream",
          "name": "stdout",
          "text": [
            "\n",
            "Predicted Emotion: Neutral\n",
            "\n",
            "Emotion Probabilities:\n",
            "Neutral: 0.3437\n",
            "Anger: 0.1320\n",
            "Disgust: 0.0756\n",
            "Fear: 0.0812\n",
            "Sadness: 0.2783\n",
            "Happiness: 0.0893\n"
          ]
        },
        {
          "output_type": "stream",
          "name": "stderr",
          "text": [
            "/usr/local/lib/python3.11/dist-packages/transformers/models/whisper/generation_whisper.py:573: FutureWarning: The input name `inputs` is deprecated. Please make sure to use `input_features` instead.\n",
            "  warnings.warn(\n"
          ]
        },
        {
          "output_type": "stream",
          "name": "stdout",
          "text": [
            "\n",
            "Predicted Emotion: Fear\n",
            "\n",
            "Emotion Probabilities:\n",
            "Neutral: 0.1656\n",
            "Anger: 0.1830\n",
            "Disgust: 0.1163\n",
            "Fear: 0.3389\n",
            "Sadness: 0.1004\n",
            "Happiness: 0.0958\n"
          ]
        },
        {
          "output_type": "stream",
          "name": "stderr",
          "text": [
            "/usr/local/lib/python3.11/dist-packages/transformers/models/whisper/generation_whisper.py:573: FutureWarning: The input name `inputs` is deprecated. Please make sure to use `input_features` instead.\n",
            "  warnings.warn(\n"
          ]
        },
        {
          "output_type": "stream",
          "name": "stdout",
          "text": [
            "\n",
            "Predicted Emotion: Neutral\n",
            "\n",
            "Emotion Probabilities:\n",
            "Neutral: 0.2953\n",
            "Anger: 0.2513\n",
            "Disgust: 0.0990\n",
            "Fear: 0.1836\n",
            "Sadness: 0.0659\n",
            "Happiness: 0.1047\n"
          ]
        },
        {
          "output_type": "stream",
          "name": "stderr",
          "text": [
            "/usr/local/lib/python3.11/dist-packages/transformers/models/whisper/generation_whisper.py:573: FutureWarning: The input name `inputs` is deprecated. Please make sure to use `input_features` instead.\n",
            "  warnings.warn(\n"
          ]
        },
        {
          "output_type": "stream",
          "name": "stdout",
          "text": [
            "\n",
            "Predicted Emotion: Fear\n",
            "\n",
            "Emotion Probabilities:\n",
            "Neutral: 0.0638\n",
            "Anger: 0.1594\n",
            "Disgust: 0.0554\n",
            "Fear: 0.5541\n",
            "Sadness: 0.0581\n",
            "Happiness: 0.1091\n"
          ]
        },
        {
          "output_type": "stream",
          "name": "stderr",
          "text": [
            "/usr/local/lib/python3.11/dist-packages/transformers/models/whisper/generation_whisper.py:573: FutureWarning: The input name `inputs` is deprecated. Please make sure to use `input_features` instead.\n",
            "  warnings.warn(\n"
          ]
        },
        {
          "output_type": "stream",
          "name": "stdout",
          "text": [
            "\n",
            "Predicted Emotion: Neutral\n",
            "\n",
            "Emotion Probabilities:\n",
            "Neutral: 0.5515\n",
            "Anger: 0.1453\n",
            "Disgust: 0.0530\n",
            "Fear: 0.0816\n",
            "Sadness: 0.0670\n",
            "Happiness: 0.1016\n"
          ]
        },
        {
          "output_type": "stream",
          "name": "stderr",
          "text": [
            "/usr/local/lib/python3.11/dist-packages/transformers/models/whisper/generation_whisper.py:573: FutureWarning: The input name `inputs` is deprecated. Please make sure to use `input_features` instead.\n",
            "  warnings.warn(\n"
          ]
        },
        {
          "output_type": "stream",
          "name": "stdout",
          "text": [
            "\n",
            "Predicted Emotion: Neutral\n",
            "\n",
            "Emotion Probabilities:\n",
            "Neutral: 0.4746\n",
            "Anger: 0.1649\n",
            "Disgust: 0.0717\n",
            "Fear: 0.0933\n",
            "Sadness: 0.0900\n",
            "Happiness: 0.1055\n"
          ]
        },
        {
          "output_type": "stream",
          "name": "stderr",
          "text": [
            "/usr/local/lib/python3.11/dist-packages/transformers/models/whisper/generation_whisper.py:573: FutureWarning: The input name `inputs` is deprecated. Please make sure to use `input_features` instead.\n",
            "  warnings.warn(\n"
          ]
        },
        {
          "output_type": "stream",
          "name": "stdout",
          "text": [
            "\n",
            "Predicted Emotion: Neutral\n",
            "\n",
            "Emotion Probabilities:\n",
            "Neutral: 0.4609\n",
            "Anger: 0.1525\n",
            "Disgust: 0.0486\n",
            "Fear: 0.1089\n",
            "Sadness: 0.0601\n",
            "Happiness: 0.1690\n"
          ]
        },
        {
          "output_type": "stream",
          "name": "stderr",
          "text": [
            "/usr/local/lib/python3.11/dist-packages/transformers/models/whisper/generation_whisper.py:573: FutureWarning: The input name `inputs` is deprecated. Please make sure to use `input_features` instead.\n",
            "  warnings.warn(\n"
          ]
        },
        {
          "output_type": "stream",
          "name": "stdout",
          "text": [
            "\n",
            "Predicted Emotion: Fear\n",
            "\n",
            "Emotion Probabilities:\n",
            "Neutral: 0.1928\n",
            "Anger: 0.1316\n",
            "Disgust: 0.0477\n",
            "Fear: 0.4340\n",
            "Sadness: 0.0519\n",
            "Happiness: 0.1419\n"
          ]
        },
        {
          "output_type": "stream",
          "name": "stderr",
          "text": [
            "/usr/local/lib/python3.11/dist-packages/transformers/models/whisper/generation_whisper.py:573: FutureWarning: The input name `inputs` is deprecated. Please make sure to use `input_features` instead.\n",
            "  warnings.warn(\n"
          ]
        },
        {
          "output_type": "stream",
          "name": "stdout",
          "text": [
            "\n",
            "Predicted Emotion: Fear\n",
            "\n",
            "Emotion Probabilities:\n",
            "Neutral: 0.0804\n",
            "Anger: 0.1490\n",
            "Disgust: 0.0467\n",
            "Fear: 0.5197\n",
            "Sadness: 0.0494\n",
            "Happiness: 0.1548\n"
          ]
        },
        {
          "output_type": "stream",
          "name": "stderr",
          "text": [
            "/usr/local/lib/python3.11/dist-packages/transformers/models/whisper/generation_whisper.py:573: FutureWarning: The input name `inputs` is deprecated. Please make sure to use `input_features` instead.\n",
            "  warnings.warn(\n"
          ]
        },
        {
          "output_type": "stream",
          "name": "stdout",
          "text": [
            "\n",
            "Predicted Emotion: Fear\n",
            "\n",
            "Emotion Probabilities:\n",
            "Neutral: 0.0600\n",
            "Anger: 0.3233\n",
            "Disgust: 0.0599\n",
            "Fear: 0.3347\n",
            "Sadness: 0.0644\n",
            "Happiness: 0.1578\n"
          ]
        },
        {
          "output_type": "stream",
          "name": "stderr",
          "text": [
            "/usr/local/lib/python3.11/dist-packages/transformers/models/whisper/generation_whisper.py:573: FutureWarning: The input name `inputs` is deprecated. Please make sure to use `input_features` instead.\n",
            "  warnings.warn(\n"
          ]
        },
        {
          "output_type": "stream",
          "name": "stdout",
          "text": [
            "\n",
            "Predicted Emotion: Fear\n",
            "\n",
            "Emotion Probabilities:\n",
            "Neutral: 0.1683\n",
            "Anger: 0.1157\n",
            "Disgust: 0.0536\n",
            "Fear: 0.4318\n",
            "Sadness: 0.0602\n",
            "Happiness: 0.1705\n"
          ]
        },
        {
          "output_type": "stream",
          "name": "stderr",
          "text": [
            "/usr/local/lib/python3.11/dist-packages/transformers/models/whisper/generation_whisper.py:573: FutureWarning: The input name `inputs` is deprecated. Please make sure to use `input_features` instead.\n",
            "  warnings.warn(\n"
          ]
        },
        {
          "output_type": "stream",
          "name": "stdout",
          "text": [
            "\n",
            "Predicted Emotion: Fear\n",
            "\n",
            "Emotion Probabilities:\n",
            "Neutral: 0.0713\n",
            "Anger: 0.1582\n",
            "Disgust: 0.1413\n",
            "Fear: 0.2910\n",
            "Sadness: 0.1771\n",
            "Happiness: 0.1611\n"
          ]
        },
        {
          "output_type": "stream",
          "name": "stderr",
          "text": [
            "/usr/local/lib/python3.11/dist-packages/transformers/models/whisper/generation_whisper.py:573: FutureWarning: The input name `inputs` is deprecated. Please make sure to use `input_features` instead.\n",
            "  warnings.warn(\n"
          ]
        },
        {
          "output_type": "stream",
          "name": "stdout",
          "text": [
            "\n",
            "Predicted Emotion: Fear\n",
            "\n",
            "Emotion Probabilities:\n",
            "Neutral: 0.0887\n",
            "Anger: 0.1030\n",
            "Disgust: 0.0524\n",
            "Fear: 0.5451\n",
            "Sadness: 0.0513\n",
            "Happiness: 0.1596\n"
          ]
        },
        {
          "output_type": "stream",
          "name": "stderr",
          "text": [
            "/usr/local/lib/python3.11/dist-packages/transformers/models/whisper/generation_whisper.py:573: FutureWarning: The input name `inputs` is deprecated. Please make sure to use `input_features` instead.\n",
            "  warnings.warn(\n"
          ]
        },
        {
          "output_type": "stream",
          "name": "stdout",
          "text": [
            "\n",
            "Predicted Emotion: Neutral\n",
            "\n",
            "Emotion Probabilities:\n",
            "Neutral: 0.5268\n",
            "Anger: 0.1585\n",
            "Disgust: 0.0527\n",
            "Fear: 0.0795\n",
            "Sadness: 0.0644\n",
            "Happiness: 0.1181\n"
          ]
        },
        {
          "output_type": "stream",
          "name": "stderr",
          "text": [
            "/usr/local/lib/python3.11/dist-packages/transformers/models/whisper/generation_whisper.py:573: FutureWarning: The input name `inputs` is deprecated. Please make sure to use `input_features` instead.\n",
            "  warnings.warn(\n"
          ]
        },
        {
          "output_type": "stream",
          "name": "stdout",
          "text": [
            "\n",
            "Predicted Emotion: Sadness\n",
            "\n",
            "Emotion Probabilities:\n",
            "Neutral: 0.1773\n",
            "Anger: 0.1534\n",
            "Disgust: 0.0565\n",
            "Fear: 0.0807\n",
            "Sadness: 0.4242\n",
            "Happiness: 0.1079\n"
          ]
        },
        {
          "output_type": "stream",
          "name": "stderr",
          "text": [
            "/usr/local/lib/python3.11/dist-packages/transformers/models/whisper/generation_whisper.py:573: FutureWarning: The input name `inputs` is deprecated. Please make sure to use `input_features` instead.\n",
            "  warnings.warn(\n"
          ]
        },
        {
          "output_type": "stream",
          "name": "stdout",
          "text": [
            "\n",
            "Predicted Emotion: Neutral\n",
            "\n",
            "Emotion Probabilities:\n",
            "Neutral: 0.4808\n",
            "Anger: 0.1593\n",
            "Disgust: 0.0631\n",
            "Fear: 0.0815\n",
            "Sadness: 0.1017\n",
            "Happiness: 0.1137\n"
          ]
        },
        {
          "output_type": "stream",
          "name": "stderr",
          "text": [
            "/usr/local/lib/python3.11/dist-packages/transformers/models/whisper/generation_whisper.py:573: FutureWarning: The input name `inputs` is deprecated. Please make sure to use `input_features` instead.\n",
            "  warnings.warn(\n"
          ]
        },
        {
          "output_type": "stream",
          "name": "stdout",
          "text": [
            "\n",
            "Predicted Emotion: Neutral\n",
            "\n",
            "Emotion Probabilities:\n",
            "Neutral: 0.4907\n",
            "Anger: 0.1590\n",
            "Disgust: 0.0713\n",
            "Fear: 0.0798\n",
            "Sadness: 0.0710\n",
            "Happiness: 0.1282\n"
          ]
        },
        {
          "output_type": "stream",
          "name": "stderr",
          "text": [
            "/usr/local/lib/python3.11/dist-packages/transformers/models/whisper/generation_whisper.py:573: FutureWarning: The input name `inputs` is deprecated. Please make sure to use `input_features` instead.\n",
            "  warnings.warn(\n"
          ]
        },
        {
          "output_type": "stream",
          "name": "stdout",
          "text": [
            "\n",
            "Predicted Emotion: Happiness\n",
            "\n",
            "Emotion Probabilities:\n",
            "Neutral: 0.0660\n",
            "Anger: 0.1436\n",
            "Disgust: 0.0533\n",
            "Fear: 0.0833\n",
            "Sadness: 0.0664\n",
            "Happiness: 0.5874\n"
          ]
        },
        {
          "output_type": "stream",
          "name": "stderr",
          "text": [
            "/usr/local/lib/python3.11/dist-packages/transformers/models/whisper/generation_whisper.py:573: FutureWarning: The input name `inputs` is deprecated. Please make sure to use `input_features` instead.\n",
            "  warnings.warn(\n"
          ]
        },
        {
          "output_type": "stream",
          "name": "stdout",
          "text": [
            "\n",
            "Predicted Emotion: Neutral\n",
            "\n",
            "Emotion Probabilities:\n",
            "Neutral: 0.4443\n",
            "Anger: 0.1372\n",
            "Disgust: 0.0796\n",
            "Fear: 0.0796\n",
            "Sadness: 0.1488\n",
            "Happiness: 0.1105\n",
            "\n",
            " Running: Group 3 - Audio + Text\n"
          ]
        },
        {
          "output_type": "stream",
          "name": "stderr",
          "text": [
            "/usr/local/lib/python3.11/dist-packages/transformers/models/whisper/generation_whisper.py:573: FutureWarning: The input name `inputs` is deprecated. Please make sure to use `input_features` instead.\n",
            "  warnings.warn(\n"
          ]
        },
        {
          "output_type": "stream",
          "name": "stdout",
          "text": [
            "\n",
            "Predicted Emotion: Neutral\n",
            "\n",
            "Emotion Probabilities:\n",
            "Neutral: 0.4856\n",
            "Anger: 0.0770\n",
            "Disgust: 0.0858\n",
            "Fear: 0.0789\n",
            "Sadness: 0.0652\n",
            "Happiness: 0.2076\n"
          ]
        },
        {
          "output_type": "stream",
          "name": "stderr",
          "text": [
            "/usr/local/lib/python3.11/dist-packages/transformers/models/whisper/generation_whisper.py:573: FutureWarning: The input name `inputs` is deprecated. Please make sure to use `input_features` instead.\n",
            "  warnings.warn(\n"
          ]
        },
        {
          "output_type": "stream",
          "name": "stdout",
          "text": [
            "\n",
            "Predicted Emotion: Happiness\n",
            "\n",
            "Emotion Probabilities:\n",
            "Neutral: 0.0748\n",
            "Anger: 0.0787\n",
            "Disgust: 0.0789\n",
            "Fear: 0.0758\n",
            "Sadness: 0.0607\n",
            "Happiness: 0.6312\n"
          ]
        },
        {
          "output_type": "stream",
          "name": "stderr",
          "text": [
            "/usr/local/lib/python3.11/dist-packages/transformers/models/whisper/generation_whisper.py:573: FutureWarning: The input name `inputs` is deprecated. Please make sure to use `input_features` instead.\n",
            "  warnings.warn(\n"
          ]
        },
        {
          "output_type": "stream",
          "name": "stdout",
          "text": [
            "\n",
            "Predicted Emotion: Neutral\n",
            "\n",
            "Emotion Probabilities:\n",
            "Neutral: 0.5545\n",
            "Anger: 0.0768\n",
            "Disgust: 0.0758\n",
            "Fear: 0.0789\n",
            "Sadness: 0.0650\n",
            "Happiness: 0.1491\n"
          ]
        },
        {
          "output_type": "stream",
          "name": "stderr",
          "text": [
            "/usr/local/lib/python3.11/dist-packages/transformers/models/whisper/generation_whisper.py:573: FutureWarning: The input name `inputs` is deprecated. Please make sure to use `input_features` instead.\n",
            "  warnings.warn(\n"
          ]
        },
        {
          "output_type": "stream",
          "name": "stdout",
          "text": [
            "\n",
            "Predicted Emotion: Neutral\n",
            "\n",
            "Emotion Probabilities:\n",
            "Neutral: 0.5539\n",
            "Anger: 0.0836\n",
            "Disgust: 0.0766\n",
            "Fear: 0.0829\n",
            "Sadness: 0.0707\n",
            "Happiness: 0.1323\n"
          ]
        },
        {
          "output_type": "stream",
          "name": "stderr",
          "text": [
            "/usr/local/lib/python3.11/dist-packages/transformers/models/whisper/generation_whisper.py:573: FutureWarning: The input name `inputs` is deprecated. Please make sure to use `input_features` instead.\n",
            "  warnings.warn(\n"
          ]
        },
        {
          "output_type": "stream",
          "name": "stdout",
          "text": [
            "\n",
            "Predicted Emotion: Happiness\n",
            "\n",
            "Emotion Probabilities:\n",
            "Neutral: 0.0778\n",
            "Anger: 0.0664\n",
            "Disgust: 0.0825\n",
            "Fear: 0.0798\n",
            "Sadness: 0.0674\n",
            "Happiness: 0.6261\n"
          ]
        },
        {
          "output_type": "stream",
          "name": "stderr",
          "text": [
            "/usr/local/lib/python3.11/dist-packages/transformers/models/whisper/generation_whisper.py:573: FutureWarning: The input name `inputs` is deprecated. Please make sure to use `input_features` instead.\n",
            "  warnings.warn(\n"
          ]
        },
        {
          "output_type": "stream",
          "name": "stdout",
          "text": [
            "\n",
            "Predicted Emotion: Neutral\n",
            "\n",
            "Emotion Probabilities:\n",
            "Neutral: 0.5649\n",
            "Anger: 0.0735\n",
            "Disgust: 0.0826\n",
            "Fear: 0.0767\n",
            "Sadness: 0.0623\n",
            "Happiness: 0.1400\n"
          ]
        },
        {
          "output_type": "stream",
          "name": "stderr",
          "text": [
            "/usr/local/lib/python3.11/dist-packages/transformers/models/whisper/generation_whisper.py:573: FutureWarning: The input name `inputs` is deprecated. Please make sure to use `input_features` instead.\n",
            "  warnings.warn(\n"
          ]
        },
        {
          "output_type": "stream",
          "name": "stdout",
          "text": [
            "\n",
            "Predicted Emotion: Neutral\n",
            "\n",
            "Emotion Probabilities:\n",
            "Neutral: 0.5508\n",
            "Anger: 0.1248\n",
            "Disgust: 0.0634\n",
            "Fear: 0.0950\n",
            "Sadness: 0.0645\n",
            "Happiness: 0.1014\n"
          ]
        },
        {
          "output_type": "stream",
          "name": "stderr",
          "text": [
            "/usr/local/lib/python3.11/dist-packages/transformers/models/whisper/generation_whisper.py:573: FutureWarning: The input name `inputs` is deprecated. Please make sure to use `input_features` instead.\n",
            "  warnings.warn(\n"
          ]
        },
        {
          "output_type": "stream",
          "name": "stdout",
          "text": [
            "\n",
            "Predicted Emotion: Disgust\n",
            "\n",
            "Emotion Probabilities:\n",
            "Neutral: 0.1596\n",
            "Anger: 0.1296\n",
            "Disgust: 0.4570\n",
            "Fear: 0.0929\n",
            "Sadness: 0.0750\n",
            "Happiness: 0.0859\n"
          ]
        },
        {
          "output_type": "stream",
          "name": "stderr",
          "text": [
            "/usr/local/lib/python3.11/dist-packages/transformers/models/whisper/generation_whisper.py:573: FutureWarning: The input name `inputs` is deprecated. Please make sure to use `input_features` instead.\n",
            "  warnings.warn(\n"
          ]
        },
        {
          "output_type": "stream",
          "name": "stdout",
          "text": [
            "\n",
            "Predicted Emotion: Neutral\n",
            "\n",
            "Emotion Probabilities:\n",
            "Neutral: 0.5617\n",
            "Anger: 0.1226\n",
            "Disgust: 0.0651\n",
            "Fear: 0.0845\n",
            "Sadness: 0.0645\n",
            "Happiness: 0.1016\n"
          ]
        },
        {
          "output_type": "stream",
          "name": "stderr",
          "text": [
            "/usr/local/lib/python3.11/dist-packages/transformers/models/whisper/generation_whisper.py:573: FutureWarning: The input name `inputs` is deprecated. Please make sure to use `input_features` instead.\n",
            "  warnings.warn(\n"
          ]
        },
        {
          "output_type": "stream",
          "name": "stdout",
          "text": [
            "\n",
            "Predicted Emotion: Neutral\n",
            "\n",
            "Emotion Probabilities:\n",
            "Neutral: 0.5555\n",
            "Anger: 0.1327\n",
            "Disgust: 0.0512\n",
            "Fear: 0.0805\n",
            "Sadness: 0.0593\n",
            "Happiness: 0.1208\n"
          ]
        },
        {
          "output_type": "stream",
          "name": "stderr",
          "text": [
            "/usr/local/lib/python3.11/dist-packages/transformers/models/whisper/generation_whisper.py:573: FutureWarning: The input name `inputs` is deprecated. Please make sure to use `input_features` instead.\n",
            "  warnings.warn(\n"
          ]
        },
        {
          "output_type": "stream",
          "name": "stdout",
          "text": [
            "\n",
            "Predicted Emotion: Anger\n",
            "\n",
            "Emotion Probabilities:\n",
            "Neutral: 0.1854\n",
            "Anger: 0.3451\n",
            "Disgust: 0.1684\n",
            "Fear: 0.0877\n",
            "Sadness: 0.1098\n",
            "Happiness: 0.1037\n"
          ]
        },
        {
          "output_type": "stream",
          "name": "stderr",
          "text": [
            "/usr/local/lib/python3.11/dist-packages/transformers/models/whisper/generation_whisper.py:573: FutureWarning: The input name `inputs` is deprecated. Please make sure to use `input_features` instead.\n",
            "  warnings.warn(\n"
          ]
        },
        {
          "output_type": "stream",
          "name": "stdout",
          "text": [
            "\n",
            "Predicted Emotion: Neutral\n",
            "\n",
            "Emotion Probabilities:\n",
            "Neutral: 0.5359\n",
            "Anger: 0.1430\n",
            "Disgust: 0.0599\n",
            "Fear: 0.0880\n",
            "Sadness: 0.0772\n",
            "Happiness: 0.0962\n"
          ]
        },
        {
          "output_type": "stream",
          "name": "stderr",
          "text": [
            "/usr/local/lib/python3.11/dist-packages/transformers/models/whisper/generation_whisper.py:573: FutureWarning: The input name `inputs` is deprecated. Please make sure to use `input_features` instead.\n",
            "  warnings.warn(\n"
          ]
        },
        {
          "output_type": "stream",
          "name": "stdout",
          "text": [
            "\n",
            "Predicted Emotion: Disgust\n",
            "\n",
            "Emotion Probabilities:\n",
            "Neutral: 0.1409\n",
            "Anger: 0.1883\n",
            "Disgust: 0.4278\n",
            "Fear: 0.0839\n",
            "Sadness: 0.0760\n",
            "Happiness: 0.0831\n"
          ]
        },
        {
          "output_type": "stream",
          "name": "stderr",
          "text": [
            "/usr/local/lib/python3.11/dist-packages/transformers/models/whisper/generation_whisper.py:573: FutureWarning: The input name `inputs` is deprecated. Please make sure to use `input_features` instead.\n",
            "  warnings.warn(\n"
          ]
        },
        {
          "output_type": "stream",
          "name": "stdout",
          "text": [
            "\n",
            "Predicted Emotion: Neutral\n",
            "\n",
            "Emotion Probabilities:\n",
            "Neutral: 0.5311\n",
            "Anger: 0.1444\n",
            "Disgust: 0.0947\n",
            "Fear: 0.0760\n",
            "Sadness: 0.0739\n",
            "Happiness: 0.0799\n"
          ]
        },
        {
          "output_type": "stream",
          "name": "stderr",
          "text": [
            "/usr/local/lib/python3.11/dist-packages/transformers/models/whisper/generation_whisper.py:573: FutureWarning: The input name `inputs` is deprecated. Please make sure to use `input_features` instead.\n",
            "  warnings.warn(\n"
          ]
        },
        {
          "output_type": "stream",
          "name": "stdout",
          "text": [
            "\n",
            "Predicted Emotion: Happiness\n",
            "\n",
            "Emotion Probabilities:\n",
            "Neutral: 0.1054\n",
            "Anger: 0.1322\n",
            "Disgust: 0.0704\n",
            "Fear: 0.2982\n",
            "Sadness: 0.0687\n",
            "Happiness: 0.3251\n"
          ]
        },
        {
          "output_type": "stream",
          "name": "stderr",
          "text": [
            "/usr/local/lib/python3.11/dist-packages/transformers/models/whisper/generation_whisper.py:573: FutureWarning: The input name `inputs` is deprecated. Please make sure to use `input_features` instead.\n",
            "  warnings.warn(\n"
          ]
        },
        {
          "output_type": "stream",
          "name": "stdout",
          "text": [
            "\n",
            "Predicted Emotion: Neutral\n",
            "\n",
            "Emotion Probabilities:\n",
            "Neutral: 0.4990\n",
            "Anger: 0.1319\n",
            "Disgust: 0.0671\n",
            "Fear: 0.1272\n",
            "Sadness: 0.0660\n",
            "Happiness: 0.1088\n"
          ]
        },
        {
          "output_type": "stream",
          "name": "stderr",
          "text": [
            "/usr/local/lib/python3.11/dist-packages/transformers/models/whisper/generation_whisper.py:573: FutureWarning: The input name `inputs` is deprecated. Please make sure to use `input_features` instead.\n",
            "  warnings.warn(\n"
          ]
        },
        {
          "output_type": "stream",
          "name": "stdout",
          "text": [
            "\n",
            "Predicted Emotion: Neutral\n",
            "\n",
            "Emotion Probabilities:\n",
            "Neutral: 0.4578\n",
            "Anger: 0.1561\n",
            "Disgust: 0.1154\n",
            "Fear: 0.1054\n",
            "Sadness: 0.0651\n",
            "Happiness: 0.1002\n"
          ]
        },
        {
          "output_type": "stream",
          "name": "stderr",
          "text": [
            "/usr/local/lib/python3.11/dist-packages/transformers/models/whisper/generation_whisper.py:573: FutureWarning: The input name `inputs` is deprecated. Please make sure to use `input_features` instead.\n",
            "  warnings.warn(\n"
          ]
        },
        {
          "output_type": "stream",
          "name": "stdout",
          "text": [
            "\n",
            "Predicted Emotion: Neutral\n",
            "\n",
            "Emotion Probabilities:\n",
            "Neutral: 0.5523\n",
            "Anger: 0.1369\n",
            "Disgust: 0.0728\n",
            "Fear: 0.0815\n",
            "Sadness: 0.0646\n",
            "Happiness: 0.0919\n"
          ]
        },
        {
          "output_type": "stream",
          "name": "stderr",
          "text": [
            "/usr/local/lib/python3.11/dist-packages/transformers/models/whisper/generation_whisper.py:573: FutureWarning: The input name `inputs` is deprecated. Please make sure to use `input_features` instead.\n",
            "  warnings.warn(\n"
          ]
        },
        {
          "output_type": "stream",
          "name": "stdout",
          "text": [
            "\n",
            "Predicted Emotion: Neutral\n",
            "\n",
            "Emotion Probabilities:\n",
            "Neutral: 0.5551\n",
            "Anger: 0.1201\n",
            "Disgust: 0.0722\n",
            "Fear: 0.0749\n",
            "Sadness: 0.0699\n",
            "Happiness: 0.1077\n"
          ]
        },
        {
          "output_type": "stream",
          "name": "stderr",
          "text": [
            "/usr/local/lib/python3.11/dist-packages/transformers/models/whisper/generation_whisper.py:573: FutureWarning: The input name `inputs` is deprecated. Please make sure to use `input_features` instead.\n",
            "  warnings.warn(\n"
          ]
        },
        {
          "output_type": "stream",
          "name": "stdout",
          "text": [
            "\n",
            "Predicted Emotion: Neutral\n",
            "\n",
            "Emotion Probabilities:\n",
            "Neutral: 0.5618\n",
            "Anger: 0.1205\n",
            "Disgust: 0.0721\n",
            "Fear: 0.0879\n",
            "Sadness: 0.0704\n",
            "Happiness: 0.0873\n"
          ]
        },
        {
          "output_type": "stream",
          "name": "stderr",
          "text": [
            "/usr/local/lib/python3.11/dist-packages/transformers/models/whisper/generation_whisper.py:573: FutureWarning: The input name `inputs` is deprecated. Please make sure to use `input_features` instead.\n",
            "  warnings.warn(\n"
          ]
        },
        {
          "output_type": "stream",
          "name": "stdout",
          "text": [
            "\n",
            "Predicted Emotion: Fear\n",
            "\n",
            "Emotion Probabilities:\n",
            "Neutral: 0.2459\n",
            "Anger: 0.1365\n",
            "Disgust: 0.0637\n",
            "Fear: 0.3768\n",
            "Sadness: 0.0820\n",
            "Happiness: 0.0952\n"
          ]
        },
        {
          "output_type": "stream",
          "name": "stderr",
          "text": [
            "/usr/local/lib/python3.11/dist-packages/transformers/models/whisper/generation_whisper.py:573: FutureWarning: The input name `inputs` is deprecated. Please make sure to use `input_features` instead.\n",
            "  warnings.warn(\n"
          ]
        },
        {
          "output_type": "stream",
          "name": "stdout",
          "text": [
            "\n",
            "Predicted Emotion: Anger\n",
            "\n",
            "Emotion Probabilities:\n",
            "Neutral: 0.2672\n",
            "Anger: 0.2918\n",
            "Disgust: 0.1703\n",
            "Fear: 0.0756\n",
            "Sadness: 0.0743\n",
            "Happiness: 0.1209\n"
          ]
        },
        {
          "output_type": "stream",
          "name": "stderr",
          "text": [
            "/usr/local/lib/python3.11/dist-packages/transformers/models/whisper/generation_whisper.py:573: FutureWarning: The input name `inputs` is deprecated. Please make sure to use `input_features` instead.\n",
            "  warnings.warn(\n"
          ]
        },
        {
          "output_type": "stream",
          "name": "stdout",
          "text": [
            "\n",
            "Predicted Emotion: Happiness\n",
            "\n",
            "Emotion Probabilities:\n",
            "Neutral: 0.0989\n",
            "Anger: 0.1032\n",
            "Disgust: 0.0788\n",
            "Fear: 0.0776\n",
            "Sadness: 0.0710\n",
            "Happiness: 0.5705\n"
          ]
        },
        {
          "output_type": "stream",
          "name": "stderr",
          "text": [
            "/usr/local/lib/python3.11/dist-packages/transformers/models/whisper/generation_whisper.py:573: FutureWarning: The input name `inputs` is deprecated. Please make sure to use `input_features` instead.\n",
            "  warnings.warn(\n"
          ]
        },
        {
          "output_type": "stream",
          "name": "stdout",
          "text": [
            "\n",
            "Predicted Emotion: Neutral\n",
            "\n",
            "Emotion Probabilities:\n",
            "Neutral: 0.5718\n",
            "Anger: 0.0921\n",
            "Disgust: 0.0812\n",
            "Fear: 0.0773\n",
            "Sadness: 0.0733\n",
            "Happiness: 0.1042\n"
          ]
        },
        {
          "output_type": "stream",
          "name": "stderr",
          "text": [
            "/usr/local/lib/python3.11/dist-packages/transformers/models/whisper/generation_whisper.py:573: FutureWarning: The input name `inputs` is deprecated. Please make sure to use `input_features` instead.\n",
            "  warnings.warn(\n"
          ]
        },
        {
          "output_type": "stream",
          "name": "stdout",
          "text": [
            "\n",
            "Predicted Emotion: Neutral\n",
            "\n",
            "Emotion Probabilities:\n",
            "Neutral: 0.5174\n",
            "Anger: 0.1468\n",
            "Disgust: 0.0472\n",
            "Fear: 0.0795\n",
            "Sadness: 0.0791\n",
            "Happiness: 0.1299\n"
          ]
        },
        {
          "output_type": "stream",
          "name": "stderr",
          "text": [
            "/usr/local/lib/python3.11/dist-packages/transformers/models/whisper/generation_whisper.py:573: FutureWarning: The input name `inputs` is deprecated. Please make sure to use `input_features` instead.\n",
            "  warnings.warn(\n"
          ]
        },
        {
          "output_type": "stream",
          "name": "stdout",
          "text": [
            "\n",
            "Predicted Emotion: Neutral\n",
            "\n",
            "Emotion Probabilities:\n",
            "Neutral: 0.4762\n",
            "Anger: 0.1684\n",
            "Disgust: 0.0760\n",
            "Fear: 0.0778\n",
            "Sadness: 0.0965\n",
            "Happiness: 0.1052\n"
          ]
        },
        {
          "output_type": "stream",
          "name": "stderr",
          "text": [
            "/usr/local/lib/python3.11/dist-packages/transformers/models/whisper/generation_whisper.py:573: FutureWarning: The input name `inputs` is deprecated. Please make sure to use `input_features` instead.\n",
            "  warnings.warn(\n"
          ]
        },
        {
          "output_type": "stream",
          "name": "stdout",
          "text": [
            "\n",
            "Predicted Emotion: Neutral\n",
            "\n",
            "Emotion Probabilities:\n",
            "Neutral: 0.5492\n",
            "Anger: 0.1261\n",
            "Disgust: 0.0573\n",
            "Fear: 0.0760\n",
            "Sadness: 0.0613\n",
            "Happiness: 0.1300\n"
          ]
        },
        {
          "output_type": "stream",
          "name": "stderr",
          "text": [
            "/usr/local/lib/python3.11/dist-packages/transformers/models/whisper/generation_whisper.py:573: FutureWarning: The input name `inputs` is deprecated. Please make sure to use `input_features` instead.\n",
            "  warnings.warn(\n"
          ]
        },
        {
          "output_type": "stream",
          "name": "stdout",
          "text": [
            "\n",
            "Predicted Emotion: Neutral\n",
            "\n",
            "Emotion Probabilities:\n",
            "Neutral: 0.5426\n",
            "Anger: 0.1561\n",
            "Disgust: 0.0532\n",
            "Fear: 0.0755\n",
            "Sadness: 0.0702\n",
            "Happiness: 0.1024\n"
          ]
        },
        {
          "output_type": "stream",
          "name": "stderr",
          "text": [
            "/usr/local/lib/python3.11/dist-packages/transformers/models/whisper/generation_whisper.py:573: FutureWarning: The input name `inputs` is deprecated. Please make sure to use `input_features` instead.\n",
            "  warnings.warn(\n"
          ]
        },
        {
          "output_type": "stream",
          "name": "stdout",
          "text": [
            "\n",
            "Predicted Emotion: Happiness\n",
            "\n",
            "Emotion Probabilities:\n",
            "Neutral: 0.0948\n",
            "Anger: 0.1204\n",
            "Disgust: 0.0542\n",
            "Fear: 0.0738\n",
            "Sadness: 0.0634\n",
            "Happiness: 0.5935\n"
          ]
        },
        {
          "output_type": "stream",
          "name": "stderr",
          "text": [
            "/usr/local/lib/python3.11/dist-packages/transformers/models/whisper/generation_whisper.py:573: FutureWarning: The input name `inputs` is deprecated. Please make sure to use `input_features` instead.\n",
            "  warnings.warn(\n"
          ]
        },
        {
          "output_type": "stream",
          "name": "stdout",
          "text": [
            "\n",
            "Predicted Emotion: Happiness\n",
            "\n",
            "Emotion Probabilities:\n",
            "Neutral: 0.2746\n",
            "Anger: 0.1552\n",
            "Disgust: 0.0480\n",
            "Fear: 0.0758\n",
            "Sadness: 0.0634\n",
            "Happiness: 0.3830\n"
          ]
        },
        {
          "output_type": "stream",
          "name": "stderr",
          "text": [
            "/usr/local/lib/python3.11/dist-packages/transformers/models/whisper/generation_whisper.py:573: FutureWarning: The input name `inputs` is deprecated. Please make sure to use `input_features` instead.\n",
            "  warnings.warn(\n"
          ]
        },
        {
          "output_type": "stream",
          "name": "stdout",
          "text": [
            "\n",
            "Predicted Emotion: Sadness\n",
            "\n",
            "Emotion Probabilities:\n",
            "Neutral: 0.0990\n",
            "Anger: 0.0958\n",
            "Disgust: 0.0772\n",
            "Fear: 0.0788\n",
            "Sadness: 0.5368\n",
            "Happiness: 0.1124\n"
          ]
        },
        {
          "output_type": "stream",
          "name": "stderr",
          "text": [
            "/usr/local/lib/python3.11/dist-packages/transformers/models/whisper/generation_whisper.py:573: FutureWarning: The input name `inputs` is deprecated. Please make sure to use `input_features` instead.\n",
            "  warnings.warn(\n"
          ]
        },
        {
          "output_type": "stream",
          "name": "stdout",
          "text": [
            "\n",
            "Predicted Emotion: Neutral\n",
            "\n",
            "Emotion Probabilities:\n",
            "Neutral: 0.2854\n",
            "Anger: 0.1043\n",
            "Disgust: 0.0773\n",
            "Fear: 0.0753\n",
            "Sadness: 0.2068\n",
            "Happiness: 0.2508\n"
          ]
        },
        {
          "output_type": "stream",
          "name": "stderr",
          "text": [
            "/usr/local/lib/python3.11/dist-packages/transformers/models/whisper/generation_whisper.py:573: FutureWarning: The input name `inputs` is deprecated. Please make sure to use `input_features` instead.\n",
            "  warnings.warn(\n"
          ]
        },
        {
          "output_type": "stream",
          "name": "stdout",
          "text": [
            "\n",
            "Predicted Emotion: Sadness\n",
            "\n",
            "Emotion Probabilities:\n",
            "Neutral: 0.0915\n",
            "Anger: 0.0855\n",
            "Disgust: 0.0849\n",
            "Fear: 0.0769\n",
            "Sadness: 0.5592\n",
            "Happiness: 0.1020\n"
          ]
        },
        {
          "output_type": "stream",
          "name": "stderr",
          "text": [
            "/usr/local/lib/python3.11/dist-packages/transformers/models/whisper/generation_whisper.py:573: FutureWarning: The input name `inputs` is deprecated. Please make sure to use `input_features` instead.\n",
            "  warnings.warn(\n"
          ]
        },
        {
          "output_type": "stream",
          "name": "stdout",
          "text": [
            "\n",
            "Predicted Emotion: Sadness\n",
            "\n",
            "Emotion Probabilities:\n",
            "Neutral: 0.1088\n",
            "Anger: 0.2307\n",
            "Disgust: 0.0892\n",
            "Fear: 0.0990\n",
            "Sadness: 0.3541\n",
            "Happiness: 0.1183\n"
          ]
        },
        {
          "output_type": "stream",
          "name": "stderr",
          "text": [
            "/usr/local/lib/python3.11/dist-packages/transformers/models/whisper/generation_whisper.py:573: FutureWarning: The input name `inputs` is deprecated. Please make sure to use `input_features` instead.\n",
            "  warnings.warn(\n"
          ]
        },
        {
          "output_type": "stream",
          "name": "stdout",
          "text": [
            "\n",
            "Predicted Emotion: Neutral\n",
            "\n",
            "Emotion Probabilities:\n",
            "Neutral: 0.5655\n",
            "Anger: 0.1024\n",
            "Disgust: 0.0729\n",
            "Fear: 0.0814\n",
            "Sadness: 0.0656\n",
            "Happiness: 0.1123\n"
          ]
        },
        {
          "output_type": "stream",
          "name": "stderr",
          "text": [
            "/usr/local/lib/python3.11/dist-packages/transformers/models/whisper/generation_whisper.py:573: FutureWarning: The input name `inputs` is deprecated. Please make sure to use `input_features` instead.\n",
            "  warnings.warn(\n"
          ]
        },
        {
          "output_type": "stream",
          "name": "stdout",
          "text": [
            "\n",
            "Predicted Emotion: Sadness\n",
            "\n",
            "Emotion Probabilities:\n",
            "Neutral: 0.1000\n",
            "Anger: 0.0825\n",
            "Disgust: 0.0853\n",
            "Fear: 0.0804\n",
            "Sadness: 0.5477\n",
            "Happiness: 0.1040\n"
          ]
        },
        {
          "output_type": "stream",
          "name": "stderr",
          "text": [
            "/usr/local/lib/python3.11/dist-packages/transformers/models/whisper/generation_whisper.py:573: FutureWarning: The input name `inputs` is deprecated. Please make sure to use `input_features` instead.\n",
            "  warnings.warn(\n"
          ]
        },
        {
          "output_type": "stream",
          "name": "stdout",
          "text": [
            "\n",
            "Predicted Emotion: Neutral\n",
            "\n",
            "Emotion Probabilities:\n",
            "Neutral: 0.5554\n",
            "Anger: 0.1310\n",
            "Disgust: 0.0718\n",
            "Fear: 0.0735\n",
            "Sadness: 0.0705\n",
            "Happiness: 0.0977\n"
          ]
        },
        {
          "output_type": "stream",
          "name": "stderr",
          "text": [
            "/usr/local/lib/python3.11/dist-packages/transformers/models/whisper/generation_whisper.py:573: FutureWarning: The input name `inputs` is deprecated. Please make sure to use `input_features` instead.\n",
            "  warnings.warn(\n"
          ]
        },
        {
          "output_type": "stream",
          "name": "stdout",
          "text": [
            "\n",
            "Predicted Emotion: Neutral\n",
            "\n",
            "Emotion Probabilities:\n",
            "Neutral: 0.2912\n",
            "Anger: 0.1886\n",
            "Disgust: 0.0913\n",
            "Fear: 0.0962\n",
            "Sadness: 0.2585\n",
            "Happiness: 0.0741\n"
          ]
        },
        {
          "output_type": "stream",
          "name": "stderr",
          "text": [
            "/usr/local/lib/python3.11/dist-packages/transformers/models/whisper/generation_whisper.py:573: FutureWarning: The input name `inputs` is deprecated. Please make sure to use `input_features` instead.\n",
            "  warnings.warn(\n"
          ]
        },
        {
          "output_type": "stream",
          "name": "stdout",
          "text": [
            "\n",
            "Predicted Emotion: Neutral\n",
            "\n",
            "Emotion Probabilities:\n",
            "Neutral: 0.5797\n",
            "Anger: 0.1283\n",
            "Disgust: 0.0763\n",
            "Fear: 0.0722\n",
            "Sadness: 0.0717\n",
            "Happiness: 0.0717\n"
          ]
        },
        {
          "output_type": "stream",
          "name": "stderr",
          "text": [
            "/usr/local/lib/python3.11/dist-packages/transformers/models/whisper/generation_whisper.py:573: FutureWarning: The input name `inputs` is deprecated. Please make sure to use `input_features` instead.\n",
            "  warnings.warn(\n"
          ]
        },
        {
          "output_type": "stream",
          "name": "stdout",
          "text": [
            "\n",
            "Predicted Emotion: Fear\n",
            "\n",
            "Emotion Probabilities:\n",
            "Neutral: 0.1447\n",
            "Anger: 0.1593\n",
            "Disgust: 0.0823\n",
            "Fear: 0.4647\n",
            "Sadness: 0.0674\n",
            "Happiness: 0.0815\n"
          ]
        },
        {
          "output_type": "stream",
          "name": "stderr",
          "text": [
            "/usr/local/lib/python3.11/dist-packages/transformers/models/whisper/generation_whisper.py:573: FutureWarning: The input name `inputs` is deprecated. Please make sure to use `input_features` instead.\n",
            "  warnings.warn(\n"
          ]
        },
        {
          "output_type": "stream",
          "name": "stdout",
          "text": [
            "\n",
            "Predicted Emotion: Neutral\n",
            "\n",
            "Emotion Probabilities:\n",
            "Neutral: 0.3377\n",
            "Anger: 0.1515\n",
            "Disgust: 0.0746\n",
            "Fear: 0.0877\n",
            "Sadness: 0.2700\n",
            "Happiness: 0.0786\n"
          ]
        },
        {
          "output_type": "stream",
          "name": "stderr",
          "text": [
            "/usr/local/lib/python3.11/dist-packages/transformers/models/whisper/generation_whisper.py:573: FutureWarning: The input name `inputs` is deprecated. Please make sure to use `input_features` instead.\n",
            "  warnings.warn(\n"
          ]
        },
        {
          "output_type": "stream",
          "name": "stdout",
          "text": [
            "\n",
            "Predicted Emotion: Neutral\n",
            "\n",
            "Emotion Probabilities:\n",
            "Neutral: 0.5693\n",
            "Anger: 0.1339\n",
            "Disgust: 0.0709\n",
            "Fear: 0.0765\n",
            "Sadness: 0.0734\n",
            "Happiness: 0.0760\n"
          ]
        },
        {
          "output_type": "stream",
          "name": "stderr",
          "text": [
            "/usr/local/lib/python3.11/dist-packages/transformers/models/whisper/generation_whisper.py:573: FutureWarning: The input name `inputs` is deprecated. Please make sure to use `input_features` instead.\n",
            "  warnings.warn(\n"
          ]
        },
        {
          "output_type": "stream",
          "name": "stdout",
          "text": [
            "\n",
            "Predicted Emotion: Fear\n",
            "\n",
            "Emotion Probabilities:\n",
            "Neutral: 0.1507\n",
            "Anger: 0.2063\n",
            "Disgust: 0.1029\n",
            "Fear: 0.3434\n",
            "Sadness: 0.0913\n",
            "Happiness: 0.1054\n"
          ]
        },
        {
          "output_type": "stream",
          "name": "stderr",
          "text": [
            "/usr/local/lib/python3.11/dist-packages/transformers/models/whisper/generation_whisper.py:573: FutureWarning: The input name `inputs` is deprecated. Please make sure to use `input_features` instead.\n",
            "  warnings.warn(\n"
          ]
        },
        {
          "output_type": "stream",
          "name": "stdout",
          "text": [
            "\n",
            "Predicted Emotion: Neutral\n",
            "\n",
            "Emotion Probabilities:\n",
            "Neutral: 0.2902\n",
            "Anger: 0.2611\n",
            "Disgust: 0.0944\n",
            "Fear: 0.1869\n",
            "Sadness: 0.0604\n",
            "Happiness: 0.1069\n"
          ]
        },
        {
          "output_type": "stream",
          "name": "stderr",
          "text": [
            "/usr/local/lib/python3.11/dist-packages/transformers/models/whisper/generation_whisper.py:573: FutureWarning: The input name `inputs` is deprecated. Please make sure to use `input_features` instead.\n",
            "  warnings.warn(\n"
          ]
        },
        {
          "output_type": "stream",
          "name": "stdout",
          "text": [
            "\n",
            "Predicted Emotion: Fear\n",
            "\n",
            "Emotion Probabilities:\n",
            "Neutral: 0.0592\n",
            "Anger: 0.1680\n",
            "Disgust: 0.0476\n",
            "Fear: 0.5594\n",
            "Sadness: 0.0521\n",
            "Happiness: 0.1137\n"
          ]
        },
        {
          "output_type": "stream",
          "name": "stderr",
          "text": [
            "/usr/local/lib/python3.11/dist-packages/transformers/models/whisper/generation_whisper.py:573: FutureWarning: The input name `inputs` is deprecated. Please make sure to use `input_features` instead.\n",
            "  warnings.warn(\n"
          ]
        },
        {
          "output_type": "stream",
          "name": "stdout",
          "text": [
            "\n",
            "Predicted Emotion: Neutral\n",
            "\n",
            "Emotion Probabilities:\n",
            "Neutral: 0.5691\n",
            "Anger: 0.1247\n",
            "Disgust: 0.0665\n",
            "Fear: 0.0737\n",
            "Sadness: 0.0816\n",
            "Happiness: 0.0843\n"
          ]
        },
        {
          "output_type": "stream",
          "name": "stderr",
          "text": [
            "/usr/local/lib/python3.11/dist-packages/transformers/models/whisper/generation_whisper.py:573: FutureWarning: The input name `inputs` is deprecated. Please make sure to use `input_features` instead.\n",
            "  warnings.warn(\n"
          ]
        },
        {
          "output_type": "stream",
          "name": "stdout",
          "text": [
            "\n",
            "Predicted Emotion: Neutral\n",
            "\n",
            "Emotion Probabilities:\n",
            "Neutral: 0.4980\n",
            "Anger: 0.1414\n",
            "Disgust: 0.0608\n",
            "Fear: 0.1225\n",
            "Sadness: 0.0763\n",
            "Happiness: 0.1009\n"
          ]
        },
        {
          "output_type": "stream",
          "name": "stderr",
          "text": [
            "/usr/local/lib/python3.11/dist-packages/transformers/models/whisper/generation_whisper.py:573: FutureWarning: The input name `inputs` is deprecated. Please make sure to use `input_features` instead.\n",
            "  warnings.warn(\n"
          ]
        },
        {
          "output_type": "stream",
          "name": "stdout",
          "text": [
            "\n",
            "Predicted Emotion: Neutral\n",
            "\n",
            "Emotion Probabilities:\n",
            "Neutral: 0.4404\n",
            "Anger: 0.1865\n",
            "Disgust: 0.0297\n",
            "Fear: 0.1110\n",
            "Sadness: 0.0451\n",
            "Happiness: 0.1873\n"
          ]
        },
        {
          "output_type": "stream",
          "name": "stderr",
          "text": [
            "/usr/local/lib/python3.11/dist-packages/transformers/models/whisper/generation_whisper.py:573: FutureWarning: The input name `inputs` is deprecated. Please make sure to use `input_features` instead.\n",
            "  warnings.warn(\n"
          ]
        },
        {
          "output_type": "stream",
          "name": "stdout",
          "text": [
            "\n",
            "Predicted Emotion: Fear\n",
            "\n",
            "Emotion Probabilities:\n",
            "Neutral: 0.0608\n",
            "Anger: 0.1701\n",
            "Disgust: 0.0858\n",
            "Fear: 0.4833\n",
            "Sadness: 0.0494\n",
            "Happiness: 0.1507\n"
          ]
        },
        {
          "output_type": "stream",
          "name": "stderr",
          "text": [
            "/usr/local/lib/python3.11/dist-packages/transformers/models/whisper/generation_whisper.py:573: FutureWarning: The input name `inputs` is deprecated. Please make sure to use `input_features` instead.\n",
            "  warnings.warn(\n"
          ]
        },
        {
          "output_type": "stream",
          "name": "stdout",
          "text": [
            "\n",
            "Predicted Emotion: Anger\n",
            "\n",
            "Emotion Probabilities:\n",
            "Neutral: 0.0767\n",
            "Anger: 0.2922\n",
            "Disgust: 0.2497\n",
            "Fear: 0.2147\n",
            "Sadness: 0.0534\n",
            "Happiness: 0.1133\n"
          ]
        },
        {
          "output_type": "stream",
          "name": "stderr",
          "text": [
            "/usr/local/lib/python3.11/dist-packages/transformers/models/whisper/generation_whisper.py:573: FutureWarning: The input name `inputs` is deprecated. Please make sure to use `input_features` instead.\n",
            "  warnings.warn(\n"
          ]
        },
        {
          "output_type": "stream",
          "name": "stdout",
          "text": [
            "\n",
            "Predicted Emotion: Anger\n",
            "\n",
            "Emotion Probabilities:\n",
            "Neutral: 0.0692\n",
            "Anger: 0.3558\n",
            "Disgust: 0.0604\n",
            "Fear: 0.3342\n",
            "Sadness: 0.0650\n",
            "Happiness: 0.1153\n"
          ]
        },
        {
          "output_type": "stream",
          "name": "stderr",
          "text": [
            "/usr/local/lib/python3.11/dist-packages/transformers/models/whisper/generation_whisper.py:573: FutureWarning: The input name `inputs` is deprecated. Please make sure to use `input_features` instead.\n",
            "  warnings.warn(\n"
          ]
        },
        {
          "output_type": "stream",
          "name": "stdout",
          "text": [
            "\n",
            "Predicted Emotion: Fear\n",
            "\n",
            "Emotion Probabilities:\n",
            "Neutral: 0.1661\n",
            "Anger: 0.1644\n",
            "Disgust: 0.0420\n",
            "Fear: 0.4354\n",
            "Sadness: 0.0586\n",
            "Happiness: 0.1336\n"
          ]
        },
        {
          "output_type": "stream",
          "name": "stderr",
          "text": [
            "/usr/local/lib/python3.11/dist-packages/transformers/models/whisper/generation_whisper.py:573: FutureWarning: The input name `inputs` is deprecated. Please make sure to use `input_features` instead.\n",
            "  warnings.warn(\n"
          ]
        },
        {
          "output_type": "stream",
          "name": "stdout",
          "text": [
            "\n",
            "Predicted Emotion: Fear\n",
            "\n",
            "Emotion Probabilities:\n",
            "Neutral: 0.0670\n",
            "Anger: 0.2042\n",
            "Disgust: 0.1289\n",
            "Fear: 0.2941\n",
            "Sadness: 0.1740\n",
            "Happiness: 0.1317\n"
          ]
        },
        {
          "output_type": "stream",
          "name": "stderr",
          "text": [
            "/usr/local/lib/python3.11/dist-packages/transformers/models/whisper/generation_whisper.py:573: FutureWarning: The input name `inputs` is deprecated. Please make sure to use `input_features` instead.\n",
            "  warnings.warn(\n"
          ]
        },
        {
          "output_type": "stream",
          "name": "stdout",
          "text": [
            "\n",
            "Predicted Emotion: Fear\n",
            "\n",
            "Emotion Probabilities:\n",
            "Neutral: 0.0665\n",
            "Anger: 0.1410\n",
            "Disgust: 0.0454\n",
            "Fear: 0.5692\n",
            "Sadness: 0.0489\n",
            "Happiness: 0.1290\n"
          ]
        },
        {
          "output_type": "stream",
          "name": "stderr",
          "text": [
            "/usr/local/lib/python3.11/dist-packages/transformers/models/whisper/generation_whisper.py:573: FutureWarning: The input name `inputs` is deprecated. Please make sure to use `input_features` instead.\n",
            "  warnings.warn(\n"
          ]
        },
        {
          "output_type": "stream",
          "name": "stdout",
          "text": [
            "\n",
            "Predicted Emotion: Neutral\n",
            "\n",
            "Emotion Probabilities:\n",
            "Neutral: 0.4106\n",
            "Anger: 0.1443\n",
            "Disgust: 0.1184\n",
            "Fear: 0.0820\n",
            "Sadness: 0.1215\n",
            "Happiness: 0.1232\n"
          ]
        },
        {
          "output_type": "stream",
          "name": "stderr",
          "text": [
            "/usr/local/lib/python3.11/dist-packages/transformers/models/whisper/generation_whisper.py:573: FutureWarning: The input name `inputs` is deprecated. Please make sure to use `input_features` instead.\n",
            "  warnings.warn(\n"
          ]
        },
        {
          "output_type": "stream",
          "name": "stdout",
          "text": [
            "\n",
            "Predicted Emotion: Neutral\n",
            "\n",
            "Emotion Probabilities:\n",
            "Neutral: 0.5569\n",
            "Anger: 0.1513\n",
            "Disgust: 0.0569\n",
            "Fear: 0.0764\n",
            "Sadness: 0.0666\n",
            "Happiness: 0.0918\n"
          ]
        },
        {
          "output_type": "stream",
          "name": "stderr",
          "text": [
            "/usr/local/lib/python3.11/dist-packages/transformers/models/whisper/generation_whisper.py:573: FutureWarning: The input name `inputs` is deprecated. Please make sure to use `input_features` instead.\n",
            "  warnings.warn(\n"
          ]
        },
        {
          "output_type": "stream",
          "name": "stdout",
          "text": [
            "\n",
            "Predicted Emotion: Happiness\n",
            "\n",
            "Emotion Probabilities:\n",
            "Neutral: 0.0972\n",
            "Anger: 0.1269\n",
            "Disgust: 0.0571\n",
            "Fear: 0.0807\n",
            "Sadness: 0.0670\n",
            "Happiness: 0.5712\n"
          ]
        },
        {
          "output_type": "stream",
          "name": "stderr",
          "text": [
            "/usr/local/lib/python3.11/dist-packages/transformers/models/whisper/generation_whisper.py:573: FutureWarning: The input name `inputs` is deprecated. Please make sure to use `input_features` instead.\n",
            "  warnings.warn(\n"
          ]
        },
        {
          "output_type": "stream",
          "name": "stdout",
          "text": [
            "\n",
            "Predicted Emotion: Neutral\n",
            "\n",
            "Emotion Probabilities:\n",
            "Neutral: 0.5261\n",
            "Anger: 0.1264\n",
            "Disgust: 0.0707\n",
            "Fear: 0.0819\n",
            "Sadness: 0.0708\n",
            "Happiness: 0.1241\n"
          ]
        },
        {
          "output_type": "stream",
          "name": "stderr",
          "text": [
            "/usr/local/lib/python3.11/dist-packages/transformers/models/whisper/generation_whisper.py:573: FutureWarning: The input name `inputs` is deprecated. Please make sure to use `input_features` instead.\n",
            "  warnings.warn(\n"
          ]
        },
        {
          "output_type": "stream",
          "name": "stdout",
          "text": [
            "\n",
            "Predicted Emotion: Disgust\n",
            "\n",
            "Emotion Probabilities:\n",
            "Neutral: 0.0711\n",
            "Anger: 0.3004\n",
            "Disgust: 0.3640\n",
            "Fear: 0.0826\n",
            "Sadness: 0.0682\n",
            "Happiness: 0.1138\n"
          ]
        },
        {
          "output_type": "stream",
          "name": "stderr",
          "text": [
            "/usr/local/lib/python3.11/dist-packages/transformers/models/whisper/generation_whisper.py:573: FutureWarning: The input name `inputs` is deprecated. Please make sure to use `input_features` instead.\n",
            "  warnings.warn(\n"
          ]
        },
        {
          "output_type": "stream",
          "name": "stdout",
          "text": [
            "\n",
            "Predicted Emotion: Anger\n",
            "\n",
            "Emotion Probabilities:\n",
            "Neutral: 0.2127\n",
            "Anger: 0.3328\n",
            "Disgust: 0.1764\n",
            "Fear: 0.0811\n",
            "Sadness: 0.1045\n",
            "Happiness: 0.0924\n"
          ]
        }
      ]
    },
    {
      "cell_type": "code",
      "source": [
        "from sklearn.metrics import classification_report, confusion_matrix, accuracy_score\n",
        "import seaborn as sns\n",
        "import matplotlib.pyplot as plt\n",
        "\n",
        "def evaluate_text_group(df, group_name, modality):\n",
        "    print(f\"\\n Evaluation for {group_name} - {modality}\")\n",
        "\n",
        "    # Get true and predicted labels\n",
        "    y_true = df[\"tone\"]\n",
        "    y_pred = df[\"predicted_emotion\"]\n",
        "\n",
        "    # Get sorted unique labels\n",
        "    unique_labels = sorted(list(set(y_true) | set(y_pred)))\n",
        "\n",
        "    # Accuracy\n",
        "    acc = accuracy_score(y_true, y_pred)\n",
        "    print(f\" Accuracy: {acc:.4f}\")\n",
        "\n",
        "    # Classification report\n",
        "    print(\"\\n Classification Report:\")\n",
        "    print(classification_report(y_true, y_pred, target_names=unique_labels, zero_division=0))\n",
        "\n",
        "    # Confusion matrix heatmap\n",
        "    cm = confusion_matrix(y_true, y_pred, labels=unique_labels)\n",
        "    plt.figure(figsize=(7, 6))\n",
        "    sns.heatmap(cm, annot=True, fmt='d', cmap=\"Purples\",\n",
        "                xticklabels=unique_labels, yticklabels=unique_labels)\n",
        "    plt.title(f\"Confusion Matrix: {group_name} - {modality}\")\n",
        "    plt.xlabel(\"Predicted Emotion\")\n",
        "    plt.ylabel(\"True Emotion\")\n",
        "    plt.tight_layout()\n",
        "    plt.show()\n",
        "\n",
        "# Run evaluations\n",
        "# Run evaluations\n",
        "evaluate_text_group(group1_pred_text, \"Group 1\", \"Audio + Text\")\n",
        "evaluate_text_group(group2_pred_text, \"Group 2\", \"Audio + Text\")\n",
        "evaluate_text_group(group3_pred_text, \"Group 3\", \"Audio + Text\")"
      ],
      "metadata": {
        "colab": {
          "base_uri": "https://localhost:8080/",
          "height": 1000
        },
        "id": "FJlLxOWY2Bs6",
        "outputId": "92818f44-b120-4312-b468-e491e8cd4454"
      },
      "id": "FJlLxOWY2Bs6",
      "execution_count": null,
      "outputs": [
        {
          "output_type": "stream",
          "name": "stdout",
          "text": [
            "\n",
            " Evaluation for Group 1 - Audio + Text\n",
            " Accuracy: 0.1695\n",
            "\n",
            " Classification Report:\n",
            "              precision    recall  f1-score   support\n",
            "\n",
            "       Anger       0.33      0.10      0.15        10\n",
            "     Disgust       0.00      0.00      0.00        10\n",
            "        Fear       0.17      0.10      0.12        10\n",
            "   Happiness       0.00      0.00      0.00         0\n",
            "       Happy       0.00      0.00      0.00        10\n",
            "     Neutral       0.18      0.89      0.30         9\n",
            "         Sad       0.00      0.00      0.00        10\n",
            "\n",
            "    accuracy                           0.17        59\n",
            "   macro avg       0.10      0.16      0.08        59\n",
            "weighted avg       0.11      0.17      0.09        59\n",
            "\n"
          ]
        },
        {
          "output_type": "display_data",
          "data": {
            "text/plain": [
              "<Figure size 700x600 with 2 Axes>"
            ],
            "image/png": "[encoded data removed]"
          },
          "metadata": {}
        },
        {
          "output_type": "stream",
          "name": "stdout",
          "text": [
            "\n",
            " Evaluation for Group 2 - Audio + Text\n",
            " Accuracy: 0.6333\n",
            "\n",
            " Classification Report:\n",
            "              precision    recall  f1-score   support\n",
            "\n",
            "       Anger       0.00      0.00      0.00         0\n",
            "     Disgust       0.00      0.00      0.00         0\n",
            "        Fear       0.00      0.00      0.00         0\n",
            "   Happiness       0.00      0.00      0.00         0\n",
            "     Neutral       1.00      0.63      0.78        60\n",
            "     Sadness       0.00      0.00      0.00         0\n",
            "\n",
            "    accuracy                           0.63        60\n",
            "   macro avg       0.17      0.11      0.13        60\n",
            "weighted avg       1.00      0.63      0.78        60\n",
            "\n"
          ]
        },
        {
          "output_type": "display_data",
          "data": {
            "text/plain": [
              "<Figure size 700x600 with 2 Axes>"
            ],
            "image/png": "[encoded data removed]"
          },
          "metadata": {}
        },
        {
          "output_type": "stream",
          "name": "stdout",
          "text": [
            "\n",
            " Evaluation for Group 3 - Audio + Text\n",
            " Accuracy: 0.1667\n",
            "\n",
            " Classification Report:\n",
            "              precision    recall  f1-score   support\n",
            "\n",
            "       Anger       0.29      0.20      0.24        10\n",
            "     Disgust       0.00      0.00      0.00        10\n",
            "        Fear       0.29      0.20      0.24        10\n",
            "   Happiness       0.00      0.00      0.00         0\n",
            "       Happy       0.00      0.00      0.00        10\n",
            "     Neutral       0.18      0.60      0.28        10\n",
            "         Sad       0.00      0.00      0.00        10\n",
            "     Sadness       0.00      0.00      0.00         0\n",
            "\n",
            "    accuracy                           0.17        60\n",
            "   macro avg       0.09      0.12      0.09        60\n",
            "weighted avg       0.13      0.17      0.12        60\n",
            "\n"
          ]
        },
        {
          "output_type": "display_data",
          "data": {
            "text/plain": [
              "<Figure size 700x600 with 2 Axes>"
            ],
            "image/png": "[encoded data removed]"
          },
          "metadata": {}
        }
      ]
    }
  ],
  "metadata": {
    "colab": {
      "provenance": [],
      "machine_shape": "hm",
      "gpuType": "T4"
    },
    "accelerator": "GPU",
    "language_info": {
      "name": "python"
    },
    "kernelspec": {
      "name": "python3",
      "display_name": "Python 3"
    }
  },
  "nbformat": 4,
  "nbformat_minor": 5
}