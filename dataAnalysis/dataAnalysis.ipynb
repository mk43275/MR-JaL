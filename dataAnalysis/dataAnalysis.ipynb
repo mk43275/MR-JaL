{
 "cells": [
  {
   "cell_type": "code",
   "execution_count": 1,
   "metadata": {},
   "outputs": [],
   "source": [
    "import pandas as pd"
   ]
  },
  {
   "cell_type": "code",
   "execution_count": 2,
   "metadata": {},
   "outputs": [
    {
     "name": "stderr",
     "output_type": "stream",
     "text": [
      "/var/folders/3y/2jj6w99n11g766vg19kpr73h0000gn/T/ipykernel_18397/3381019248.py:1: DtypeWarning: Columns (13) have mixed types. Specify dtype option on import or set low_memory=False.\n",
      "  df = pd.read_csv('finishedResponses.csv')\n"
     ]
    }
   ],
   "source": [
    "df = pd.read_csv('finishedResponses.csv')"
   ]
  },
  {
   "cell_type": "code",
   "execution_count": 3,
   "metadata": {},
   "outputs": [
    {
     "data": {
      "text/html": [
       "<div>\n",
       "<style scoped>\n",
       "    .dataframe tbody tr th:only-of-type {\n",
       "        vertical-align: middle;\n",
       "    }\n",
       "\n",
       "    .dataframe tbody tr th {\n",
       "        vertical-align: top;\n",
       "    }\n",
       "\n",
       "    .dataframe thead th {\n",
       "        text-align: right;\n",
       "    }\n",
       "</style>\n",
       "<table border=\"1\" class=\"dataframe\">\n",
       "  <thead>\n",
       "    <tr style=\"text-align: right;\">\n",
       "      <th></th>\n",
       "      <th>Unnamed: 0</th>\n",
       "      <th>localid</th>\n",
       "      <th>pos</th>\n",
       "      <th>ans</th>\n",
       "      <th>ttr</th>\n",
       "      <th>queryType</th>\n",
       "      <th>numTries</th>\n",
       "      <th>clipNum</th>\n",
       "      <th>questNum</th>\n",
       "      <th>subType</th>\n",
       "      <th>clipName</th>\n",
       "      <th>sessionNums</th>\n",
       "      <th>respEmo</th>\n",
       "      <th>respLevel</th>\n",
       "      <th>dispEmo</th>\n",
       "      <th>dispVal</th>\n",
       "      <th>dispLevel</th>\n",
       "    </tr>\n",
       "  </thead>\n",
       "  <tbody>\n",
       "    <tr>\n",
       "      <th>0</th>\n",
       "      <td>13</td>\n",
       "      <td>SSI_1090000584</td>\n",
       "      <td>13</td>\n",
       "      <td>N_58</td>\n",
       "      <td>14516</td>\n",
       "      <td>1</td>\n",
       "      <td>0</td>\n",
       "      <td>768</td>\n",
       "      <td>1</td>\n",
       "      <td>4</td>\n",
       "      <td>1010_MTI_SAD_XX</td>\n",
       "      <td>1</td>\n",
       "      <td>N</td>\n",
       "      <td>58</td>\n",
       "      <td>S</td>\n",
       "      <td>50.0</td>\n",
       "      <td>X</td>\n",
       "    </tr>\n",
       "    <tr>\n",
       "      <th>1</th>\n",
       "      <td>17</td>\n",
       "      <td>SSI_1090000584</td>\n",
       "      <td>17</td>\n",
       "      <td>H_39</td>\n",
       "      <td>6977</td>\n",
       "      <td>1</td>\n",
       "      <td>0</td>\n",
       "      <td>2981</td>\n",
       "      <td>2</td>\n",
       "      <td>4</td>\n",
       "      <td>1037_IWL_HAP_XX</td>\n",
       "      <td>1</td>\n",
       "      <td>H</td>\n",
       "      <td>39</td>\n",
       "      <td>H</td>\n",
       "      <td>50.0</td>\n",
       "      <td>X</td>\n",
       "    </tr>\n",
       "    <tr>\n",
       "      <th>2</th>\n",
       "      <td>21</td>\n",
       "      <td>SSI_1090000584</td>\n",
       "      <td>21</td>\n",
       "      <td>S_79</td>\n",
       "      <td>5760</td>\n",
       "      <td>1</td>\n",
       "      <td>0</td>\n",
       "      <td>1736</td>\n",
       "      <td>3</td>\n",
       "      <td>4</td>\n",
       "      <td>1022_IWW_FEA_XX</td>\n",
       "      <td>1</td>\n",
       "      <td>S</td>\n",
       "      <td>79</td>\n",
       "      <td>F</td>\n",
       "      <td>50.0</td>\n",
       "      <td>X</td>\n",
       "    </tr>\n",
       "    <tr>\n",
       "      <th>3</th>\n",
       "      <td>25</td>\n",
       "      <td>SSI_1090000584</td>\n",
       "      <td>25</td>\n",
       "      <td>F_40</td>\n",
       "      <td>10512</td>\n",
       "      <td>1</td>\n",
       "      <td>0</td>\n",
       "      <td>5471</td>\n",
       "      <td>4</td>\n",
       "      <td>4</td>\n",
       "      <td>1067_WSI_HAP_XX</td>\n",
       "      <td>1</td>\n",
       "      <td>F</td>\n",
       "      <td>40</td>\n",
       "      <td>H</td>\n",
       "      <td>50.0</td>\n",
       "      <td>X</td>\n",
       "    </tr>\n",
       "    <tr>\n",
       "      <th>4</th>\n",
       "      <td>29</td>\n",
       "      <td>SSI_1090000584</td>\n",
       "      <td>29</td>\n",
       "      <td>N_88</td>\n",
       "      <td>6911</td>\n",
       "      <td>1</td>\n",
       "      <td>0</td>\n",
       "      <td>21</td>\n",
       "      <td>5</td>\n",
       "      <td>4</td>\n",
       "      <td>1001_TIE_FEA_XX</td>\n",
       "      <td>1</td>\n",
       "      <td>N</td>\n",
       "      <td>88</td>\n",
       "      <td>F</td>\n",
       "      <td>50.0</td>\n",
       "      <td>X</td>\n",
       "    </tr>\n",
       "  </tbody>\n",
       "</table>\n",
       "</div>"
      ],
      "text/plain": [
       "   Unnamed: 0         localid  pos   ans    ttr  queryType  numTries  clipNum  \\\n",
       "0          13  SSI_1090000584   13  N_58  14516          1         0      768   \n",
       "1          17  SSI_1090000584   17  H_39   6977          1         0     2981   \n",
       "2          21  SSI_1090000584   21  S_79   5760          1         0     1736   \n",
       "3          25  SSI_1090000584   25  F_40  10512          1         0     5471   \n",
       "4          29  SSI_1090000584   29  N_88   6911          1         0       21   \n",
       "\n",
       "   questNum  subType         clipName  sessionNums respEmo respLevel dispEmo  \\\n",
       "0         1        4  1010_MTI_SAD_XX            1       N        58       S   \n",
       "1         2        4  1037_IWL_HAP_XX            1       H        39       H   \n",
       "2         3        4  1022_IWW_FEA_XX            1       S        79       F   \n",
       "3         4        4  1067_WSI_HAP_XX            1       F        40       H   \n",
       "4         5        4  1001_TIE_FEA_XX            1       N        88       F   \n",
       "\n",
       "   dispVal dispLevel  \n",
       "0     50.0         X  \n",
       "1     50.0         X  \n",
       "2     50.0         X  \n",
       "3     50.0         X  \n",
       "4     50.0         X  "
      ]
     },
     "execution_count": 3,
     "metadata": {},
     "output_type": "execute_result"
    }
   ],
   "source": [
    "df.head()"
   ]
  },
  {
   "cell_type": "code",
   "execution_count": 4,
   "metadata": {},
   "outputs": [
    {
     "data": {
      "text/plain": [
       "array([1])"
      ]
     },
     "execution_count": 4,
     "metadata": {},
     "output_type": "execute_result"
    }
   ],
   "source": [
    "#Only save the queryType == 1 (Audio only) to align the setting\n",
    "df = df[df['queryType'] == 1]\n",
    "#Check\n",
    "df['queryType'].unique()"
   ]
  },
  {
   "cell_type": "code",
   "execution_count": 5,
   "metadata": {},
   "outputs": [
    {
     "name": "stdout",
     "output_type": "stream",
     "text": [
      "N    32145\n",
      "A    10376\n",
      "D     9588\n",
      "F     8831\n",
      "S     7404\n",
      "H     4910\n",
      "Name: respEmo, dtype: int64\n"
     ]
    }
   ],
   "source": [
    "print(df['respEmo'].value_counts())"
   ]
  },
  {
   "cell_type": "code",
   "execution_count": 6,
   "metadata": {},
   "outputs": [
    {
     "data": {
      "text/plain": [
       "array([ 58,  39,  79,  40,  88,  52,  36,  50,  68, 100,  63,  48,  37,\n",
       "        55,  69,  60,  42,  65,  61,  51,  99,  80,  35,  66,  72,  26,\n",
       "        24,  74,  47,  23,  89,  75,  87,  82,  38,  71,  78,  92,  97,\n",
       "        15,  18,  13,  95,  43,  53,  67,  31,  91,  14,   5,   4,  17,\n",
       "         9,  81,  34,  27,   7,   8,  12,  45,  32,  46,  22,  10,  77,\n",
       "        30,  16,  20,  56,  29,  41,  25,  57,  44,  49,  76,  84,  19,\n",
       "        28,   6,  64,  70,  85,  83,  90,  73,  33,  96,  93,  98,  62,\n",
       "        86,  59,  54,  94,   1,  11,  21,   3,   2])"
      ]
     },
     "execution_count": 6,
     "metadata": {},
     "output_type": "execute_result"
    }
   ],
   "source": [
    "#Clean the respLevel column as it includes some noises (unrelated alphabets, and numbers in string form)\n",
    "#Convert the numeric string to numeric and the rest to NaN\n",
    "df['respLevel'] =pd.to_numeric(df['respLevel'], errors='coerce')\n",
    "#Drop rows with NaN in respLevel\n",
    "df.dropna(subset=['respLevel'], inplace=True)\n",
    "#Make sure the respLevel is integer\n",
    "df['respLevel'] = df['respLevel'].astype(int)\n",
    "#Check\n",
    "df['respLevel'].unique()"
   ]
  },
  {
   "cell_type": "code",
   "execution_count": 7,
   "metadata": {},
   "outputs": [
    {
     "name": "stdout",
     "output_type": "stream",
     "text": [
      "('N', 32145)\n",
      "('A', 10375)\n",
      "('D', 9587)\n",
      "('F', 8831)\n",
      "('S', 7404)\n",
      "('H', 4909)\n"
     ]
    }
   ],
   "source": [
    "for count in df['respEmo'].value_counts().items():\n",
    "    print(count)"
   ]
  },
  {
   "cell_type": "code",
   "execution_count": 8,
   "metadata": {},
   "outputs": [],
   "source": [
    "from tqdm import tqdm\n",
    "def dataFrameMaker(df):\n",
    "    newDataFrame = pd.DataFrame(columns=['clipName', \n",
    "                                         'angry', \n",
    "                                         'disgust', \n",
    "                                         'fear', \n",
    "                                         'happy',\n",
    "                                         'neutral', \n",
    "                                         'sad', \n",
    "                                         'low', \n",
    "                                         'medium', \n",
    "                                         'high'])\n",
    "    \n",
    "    for clipName in tqdm(df['clipName'].unique()):\n",
    "        # Create a new dataframe per clip\n",
    "        dfClip = df[df['clipName'] == clipName]\n",
    "        totalNum = len(dfClip)\n",
    "        content = {'clipName': clipName}\n",
    "        # Get the emotion counts\n",
    "        for emo in dfClip['respEmo'].value_counts().items():\n",
    "            # From value_counts, get the emotion flag and voting counts\n",
    "            # Devide the voting counts by the total number of votes to make it a probability distribution\n",
    "            content[emo[0]] = emo[1] / totalNum\n",
    "        \n",
    "        # Set the placeholder for the emotional level counts\n",
    "        low = 0\n",
    "        medium = 0\n",
    "        high = 0\n",
    "        \n",
    "        # Get the emotional level counts.\n",
    "        # The emotional level is reported as an integer betweeen 0 - 100\n",
    "        # The author of the dataset specified following threshold: 20: low, 50: medium, 80: high\n",
    "        # Following the threshold, we can count the number of votes for each level\n",
    "        for level in dfClip['respLevel']:\n",
    "            if level < 20:\n",
    "                low += 1\n",
    "            elif level < 50:\n",
    "                medium += 1\n",
    "            else:\n",
    "                high += 1\n",
    "                \n",
    "        # Normalize the counts to make it a probability distribution\n",
    "        low /= totalNum\n",
    "        medium /= totalNum\n",
    "        high /= totalNum\n",
    "                \n",
    "        content['low'] = low\n",
    "        content['medium'] = medium\n",
    "        content['high'] = high\n",
    "        \n",
    "        # Append the content to the new dataframe\n",
    "        newDataFrame = pd.concat([newDataFrame,dfClip], ignore_index=True)\n",
    "        \n",
    "    return newDataFrame\n",
    "        "
   ]
  },
  {
   "cell_type": "code",
   "execution_count": 9,
   "metadata": {},
   "outputs": [
    {
     "name": "stderr",
     "output_type": "stream",
     "text": [
      "100%|██████████| 7442/7442 [17:31<00:00,  7.08it/s]\n"
     ]
    }
   ],
   "source": [
    "newDF = dataFrameMaker(df)\n",
    "newDF.head()\n",
    "\n",
    "newDF.to_csv('tabulatedData.csv', index=False)"
   ]
  }
 ],
 "metadata": {
  "kernelspec": {
   "display_name": "base",
   "language": "python",
   "name": "python3"
  },
  "language_info": {
   "codemirror_mode": {
    "name": "ipython",
    "version": 3
   },
   "file_extension": ".py",
   "mimetype": "text/x-python",
   "name": "python",
   "nbconvert_exporter": "python",
   "pygments_lexer": "ipython3",
   "version": "3.11.0"
  }
 },
 "nbformat": 4,
 "nbformat_minor": 2
}
