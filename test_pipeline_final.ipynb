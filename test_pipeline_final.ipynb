{
  "cells": [
    {
      "cell_type": "markdown",
      "id": "572d2b42",
      "metadata": {
        "id": "572d2b42"
      },
      "source": [
        "# Test data"
      ]
    },
    {
      "cell_type": "code",
      "execution_count": 1,
      "id": "0da41b36",
      "metadata": {
        "id": "0da41b36"
      },
      "outputs": [],
      "source": [
        "import os\n",
        "import librosa\n",
        "import pandas as pd\n",
        "import numpy as np\n",
        "import random\n",
        "import torch\n",
        "import torch.nn as nn\n",
        "from torch.utils.data import Dataset, DataLoader\n",
        "from sklearn.model_selection import train_test_split\n",
        "from sklearn.preprocessing import StandardScaler"
      ]
    },
    {
      "cell_type": "markdown",
      "id": "69e87ff3",
      "metadata": {
        "id": "69e87ff3"
      },
      "source": [
        "### Transcript"
      ]
    },
    {
      "cell_type": "code",
      "execution_count": 2,
      "id": "7522db94",
      "metadata": {
        "colab": {
          "base_uri": "https://localhost:8080/"
        },
        "id": "7522db94",
        "outputId": "3854a235-78fa-4781-fcae-e490ae1cf1d3"
      },
      "outputs": [
        {
          "output_type": "stream",
          "name": "stdout",
          "text": [
            "Drive already mounted at /content/drive; to attempt to forcibly remount, call drive.mount(\"/content/drive\", force_remount=True).\n"
          ]
        }
      ],
      "source": [
        "from google.colab import drive\n",
        "drive.mount('/content/drive')"
      ]
    },
    {
      "cell_type": "code",
      "execution_count": 3,
      "id": "ba6d2f97",
      "metadata": {
        "colab": {
          "base_uri": "https://localhost:8080/",
          "height": 342
        },
        "id": "ba6d2f97",
        "outputId": "f98f98ab-6d97-4c93-bb22-d887def4177c"
      },
      "outputs": [
        {
          "output_type": "execute_result",
          "data": {
            "text/plain": [
              "  clipName        transcript_x  group_x   word_x   tone_x indicator_x  \\\n",
              "0  IWTGH_1  I want to go home.        1  Neutral  Neutral         NaN   \n",
              "1  IWTGH_2  I want to go home.        1  Neutral    Anger         NaN   \n",
              "2  IWTGH_3  I want to go home.        1  Neutral  Disgust         NaN   \n",
              "3  IWTGH_4  I want to go home.        1  Neutral     Fear         NaN   \n",
              "4  IWTGH_5  I want to go home.        1  Neutral      Sad         NaN   \n",
              "\n",
              "      type_x sentence_x  word_count_x        transcript_y  ...  spect_143  \\\n",
              "0  Statement     Single            18  I want to go home.  ...  12.345949   \n",
              "1  Statement     Single            18  I want to go home.  ...  12.661829   \n",
              "2  Statement     Single            18  I want to go home.  ...  12.708105   \n",
              "3  Statement     Single            18  I want to go home.  ...  12.829127   \n",
              "4  Statement     Single            18  I want to go home.  ...  12.880225   \n",
              "\n",
              "   spect_144  spect_145  spect_146 tonnets_147 tonnets_148  tonnets_149  \\\n",
              "0  13.214580  16.673017  31.776100    0.028255   -0.018589     0.115786   \n",
              "1  13.684149  17.276580  33.785295    0.000486    0.028319     0.064798   \n",
              "2  13.574046  15.457117  33.037995    0.022056   -0.044555     0.114726   \n",
              "3  13.194763  17.238967  32.216306    0.008253   -0.017944     0.081751   \n",
              "4  13.129890  17.900985  31.293743    0.010412   -0.034611     0.111465   \n",
              "\n",
              "   tonnets_150  tonnets_151  tonnets_152  \n",
              "0    -0.013089    -0.031850    -0.050886  \n",
              "1    -0.031453     0.001535    -0.017270  \n",
              "2    -0.004732    -0.040863    -0.023962  \n",
              "3    -0.002341    -0.019149    -0.016467  \n",
              "4    -0.056060    -0.061425    -0.031940  \n",
              "\n",
              "[5 rows x 170 columns]"
            ],
            "text/html": [
              "\n",
              "  <div id=\"df-55b4919c-0bb3-4013-a026-cb107c7cec5a\" class=\"colab-df-container\">\n",
              "    <div>\n",
              "<style scoped>\n",
              "    .dataframe tbody tr th:only-of-type {\n",
              "        vertical-align: middle;\n",
              "    }\n",
              "\n",
              "    .dataframe tbody tr th {\n",
              "        vertical-align: top;\n",
              "    }\n",
              "\n",
              "    .dataframe thead th {\n",
              "        text-align: right;\n",
              "    }\n",
              "</style>\n",
              "<table border=\"1\" class=\"dataframe\">\n",
              "  <thead>\n",
              "    <tr style=\"text-align: right;\">\n",
              "      <th></th>\n",
              "      <th>clipName</th>\n",
              "      <th>transcript_x</th>\n",
              "      <th>group_x</th>\n",
              "      <th>word_x</th>\n",
              "      <th>tone_x</th>\n",
              "      <th>indicator_x</th>\n",
              "      <th>type_x</th>\n",
              "      <th>sentence_x</th>\n",
              "      <th>word_count_x</th>\n",
              "      <th>transcript_y</th>\n",
              "      <th>...</th>\n",
              "      <th>spect_143</th>\n",
              "      <th>spect_144</th>\n",
              "      <th>spect_145</th>\n",
              "      <th>spect_146</th>\n",
              "      <th>tonnets_147</th>\n",
              "      <th>tonnets_148</th>\n",
              "      <th>tonnets_149</th>\n",
              "      <th>tonnets_150</th>\n",
              "      <th>tonnets_151</th>\n",
              "      <th>tonnets_152</th>\n",
              "    </tr>\n",
              "  </thead>\n",
              "  <tbody>\n",
              "    <tr>\n",
              "      <th>0</th>\n",
              "      <td>IWTGH_1</td>\n",
              "      <td>I want to go home.</td>\n",
              "      <td>1</td>\n",
              "      <td>Neutral</td>\n",
              "      <td>Neutral</td>\n",
              "      <td>NaN</td>\n",
              "      <td>Statement</td>\n",
              "      <td>Single</td>\n",
              "      <td>18</td>\n",
              "      <td>I want to go home.</td>\n",
              "      <td>...</td>\n",
              "      <td>12.345949</td>\n",
              "      <td>13.214580</td>\n",
              "      <td>16.673017</td>\n",
              "      <td>31.776100</td>\n",
              "      <td>0.028255</td>\n",
              "      <td>-0.018589</td>\n",
              "      <td>0.115786</td>\n",
              "      <td>-0.013089</td>\n",
              "      <td>-0.031850</td>\n",
              "      <td>-0.050886</td>\n",
              "    </tr>\n",
              "    <tr>\n",
              "      <th>1</th>\n",
              "      <td>IWTGH_2</td>\n",
              "      <td>I want to go home.</td>\n",
              "      <td>1</td>\n",
              "      <td>Neutral</td>\n",
              "      <td>Anger</td>\n",
              "      <td>NaN</td>\n",
              "      <td>Statement</td>\n",
              "      <td>Single</td>\n",
              "      <td>18</td>\n",
              "      <td>I want to go home.</td>\n",
              "      <td>...</td>\n",
              "      <td>12.661829</td>\n",
              "      <td>13.684149</td>\n",
              "      <td>17.276580</td>\n",
              "      <td>33.785295</td>\n",
              "      <td>0.000486</td>\n",
              "      <td>0.028319</td>\n",
              "      <td>0.064798</td>\n",
              "      <td>-0.031453</td>\n",
              "      <td>0.001535</td>\n",
              "      <td>-0.017270</td>\n",
              "    </tr>\n",
              "    <tr>\n",
              "      <th>2</th>\n",
              "      <td>IWTGH_3</td>\n",
              "      <td>I want to go home.</td>\n",
              "      <td>1</td>\n",
              "      <td>Neutral</td>\n",
              "      <td>Disgust</td>\n",
              "      <td>NaN</td>\n",
              "      <td>Statement</td>\n",
              "      <td>Single</td>\n",
              "      <td>18</td>\n",
              "      <td>I want to go home.</td>\n",
              "      <td>...</td>\n",
              "      <td>12.708105</td>\n",
              "      <td>13.574046</td>\n",
              "      <td>15.457117</td>\n",
              "      <td>33.037995</td>\n",
              "      <td>0.022056</td>\n",
              "      <td>-0.044555</td>\n",
              "      <td>0.114726</td>\n",
              "      <td>-0.004732</td>\n",
              "      <td>-0.040863</td>\n",
              "      <td>-0.023962</td>\n",
              "    </tr>\n",
              "    <tr>\n",
              "      <th>3</th>\n",
              "      <td>IWTGH_4</td>\n",
              "      <td>I want to go home.</td>\n",
              "      <td>1</td>\n",
              "      <td>Neutral</td>\n",
              "      <td>Fear</td>\n",
              "      <td>NaN</td>\n",
              "      <td>Statement</td>\n",
              "      <td>Single</td>\n",
              "      <td>18</td>\n",
              "      <td>I want to go home.</td>\n",
              "      <td>...</td>\n",
              "      <td>12.829127</td>\n",
              "      <td>13.194763</td>\n",
              "      <td>17.238967</td>\n",
              "      <td>32.216306</td>\n",
              "      <td>0.008253</td>\n",
              "      <td>-0.017944</td>\n",
              "      <td>0.081751</td>\n",
              "      <td>-0.002341</td>\n",
              "      <td>-0.019149</td>\n",
              "      <td>-0.016467</td>\n",
              "    </tr>\n",
              "    <tr>\n",
              "      <th>4</th>\n",
              "      <td>IWTGH_5</td>\n",
              "      <td>I want to go home.</td>\n",
              "      <td>1</td>\n",
              "      <td>Neutral</td>\n",
              "      <td>Sad</td>\n",
              "      <td>NaN</td>\n",
              "      <td>Statement</td>\n",
              "      <td>Single</td>\n",
              "      <td>18</td>\n",
              "      <td>I want to go home.</td>\n",
              "      <td>...</td>\n",
              "      <td>12.880225</td>\n",
              "      <td>13.129890</td>\n",
              "      <td>17.900985</td>\n",
              "      <td>31.293743</td>\n",
              "      <td>0.010412</td>\n",
              "      <td>-0.034611</td>\n",
              "      <td>0.111465</td>\n",
              "      <td>-0.056060</td>\n",
              "      <td>-0.061425</td>\n",
              "      <td>-0.031940</td>\n",
              "    </tr>\n",
              "  </tbody>\n",
              "</table>\n",
              "<p>5 rows × 170 columns</p>\n",
              "</div>\n",
              "    <div class=\"colab-df-buttons\">\n",
              "\n",
              "  <div class=\"colab-df-container\">\n",
              "    <button class=\"colab-df-convert\" onclick=\"convertToInteractive('df-55b4919c-0bb3-4013-a026-cb107c7cec5a')\"\n",
              "            title=\"Convert this dataframe to an interactive table.\"\n",
              "            style=\"display:none;\">\n",
              "\n",
              "  <svg xmlns=\"http://www.w3.org/2000/svg\" height=\"24px\" viewBox=\"0 -960 960 960\">\n",
              "    <path d=\"M120-120v-720h720v720H120Zm60-500h600v-160H180v160Zm220 220h160v-160H400v160Zm0 220h160v-160H400v160ZM180-400h160v-160H180v160Zm440 0h160v-160H620v160ZM180-180h160v-160H180v160Zm440 0h160v-160H620v160Z\"/>\n",
              "  </svg>\n",
              "    </button>\n",
              "\n",
              "  <style>\n",
              "    .colab-df-container {\n",
              "      display:flex;\n",
              "      gap: 12px;\n",
              "    }\n",
              "\n",
              "    .colab-df-convert {\n",
              "      background-color: #E8F0FE;\n",
              "      border: none;\n",
              "      border-radius: 50%;\n",
              "      cursor: pointer;\n",
              "      display: none;\n",
              "      fill: #1967D2;\n",
              "      height: 32px;\n",
              "      padding: 0 0 0 0;\n",
              "      width: 32px;\n",
              "    }\n",
              "\n",
              "    .colab-df-convert:hover {\n",
              "      background-color: #E2EBFA;\n",
              "      box-shadow: 0px 1px 2px rgba(60, 64, 67, 0.3), 0px 1px 3px 1px rgba(60, 64, 67, 0.15);\n",
              "      fill: #174EA6;\n",
              "    }\n",
              "\n",
              "    .colab-df-buttons div {\n",
              "      margin-bottom: 4px;\n",
              "    }\n",
              "\n",
              "    [theme=dark] .colab-df-convert {\n",
              "      background-color: #3B4455;\n",
              "      fill: #D2E3FC;\n",
              "    }\n",
              "\n",
              "    [theme=dark] .colab-df-convert:hover {\n",
              "      background-color: #434B5C;\n",
              "      box-shadow: 0px 1px 3px 1px rgba(0, 0, 0, 0.15);\n",
              "      filter: drop-shadow(0px 1px 2px rgba(0, 0, 0, 0.3));\n",
              "      fill: #FFFFFF;\n",
              "    }\n",
              "  </style>\n",
              "\n",
              "    <script>\n",
              "      const buttonEl =\n",
              "        document.querySelector('#df-55b4919c-0bb3-4013-a026-cb107c7cec5a button.colab-df-convert');\n",
              "      buttonEl.style.display =\n",
              "        google.colab.kernel.accessAllowed ? 'block' : 'none';\n",
              "\n",
              "      async function convertToInteractive(key) {\n",
              "        const element = document.querySelector('#df-55b4919c-0bb3-4013-a026-cb107c7cec5a');\n",
              "        const dataTable =\n",
              "          await google.colab.kernel.invokeFunction('convertToInteractive',\n",
              "                                                    [key], {});\n",
              "        if (!dataTable) return;\n",
              "\n",
              "        const docLinkHtml = 'Like what you see? Visit the ' +\n",
              "          '<a target=\"_blank\" href=https://colab.research.google.com/notebooks/data_table.ipynb>data table notebook</a>'\n",
              "          + ' to learn more about interactive tables.';\n",
              "        element.innerHTML = '';\n",
              "        dataTable['output_type'] = 'display_data';\n",
              "        await google.colab.output.renderOutput(dataTable, element);\n",
              "        const docLink = document.createElement('div');\n",
              "        docLink.innerHTML = docLinkHtml;\n",
              "        element.appendChild(docLink);\n",
              "      }\n",
              "    </script>\n",
              "  </div>\n",
              "\n",
              "\n",
              "<div id=\"df-f5e54aeb-8245-4de6-813c-5fde5af10657\">\n",
              "  <button class=\"colab-df-quickchart\" onclick=\"quickchart('df-f5e54aeb-8245-4de6-813c-5fde5af10657')\"\n",
              "            title=\"Suggest charts\"\n",
              "            style=\"display:none;\">\n",
              "\n",
              "<svg xmlns=\"http://www.w3.org/2000/svg\" height=\"24px\"viewBox=\"0 0 24 24\"\n",
              "     width=\"24px\">\n",
              "    <g>\n",
              "        <path d=\"M19 3H5c-1.1 0-2 .9-2 2v14c0 1.1.9 2 2 2h14c1.1 0 2-.9 2-2V5c0-1.1-.9-2-2-2zM9 17H7v-7h2v7zm4 0h-2V7h2v10zm4 0h-2v-4h2v4z\"/>\n",
              "    </g>\n",
              "</svg>\n",
              "  </button>\n",
              "\n",
              "<style>\n",
              "  .colab-df-quickchart {\n",
              "      --bg-color: #E8F0FE;\n",
              "      --fill-color: #1967D2;\n",
              "      --hover-bg-color: #E2EBFA;\n",
              "      --hover-fill-color: #174EA6;\n",
              "      --disabled-fill-color: #AAA;\n",
              "      --disabled-bg-color: #DDD;\n",
              "  }\n",
              "\n",
              "  [theme=dark] .colab-df-quickchart {\n",
              "      --bg-color: #3B4455;\n",
              "      --fill-color: #D2E3FC;\n",
              "      --hover-bg-color: #434B5C;\n",
              "      --hover-fill-color: #FFFFFF;\n",
              "      --disabled-bg-color: #3B4455;\n",
              "      --disabled-fill-color: #666;\n",
              "  }\n",
              "\n",
              "  .colab-df-quickchart {\n",
              "    background-color: var(--bg-color);\n",
              "    border: none;\n",
              "    border-radius: 50%;\n",
              "    cursor: pointer;\n",
              "    display: none;\n",
              "    fill: var(--fill-color);\n",
              "    height: 32px;\n",
              "    padding: 0;\n",
              "    width: 32px;\n",
              "  }\n",
              "\n",
              "  .colab-df-quickchart:hover {\n",
              "    background-color: var(--hover-bg-color);\n",
              "    box-shadow: 0 1px 2px rgba(60, 64, 67, 0.3), 0 1px 3px 1px rgba(60, 64, 67, 0.15);\n",
              "    fill: var(--button-hover-fill-color);\n",
              "  }\n",
              "\n",
              "  .colab-df-quickchart-complete:disabled,\n",
              "  .colab-df-quickchart-complete:disabled:hover {\n",
              "    background-color: var(--disabled-bg-color);\n",
              "    fill: var(--disabled-fill-color);\n",
              "    box-shadow: none;\n",
              "  }\n",
              "\n",
              "  .colab-df-spinner {\n",
              "    border: 2px solid var(--fill-color);\n",
              "    border-color: transparent;\n",
              "    border-bottom-color: var(--fill-color);\n",
              "    animation:\n",
              "      spin 1s steps(1) infinite;\n",
              "  }\n",
              "\n",
              "  @keyframes spin {\n",
              "    0% {\n",
              "      border-color: transparent;\n",
              "      border-bottom-color: var(--fill-color);\n",
              "      border-left-color: var(--fill-color);\n",
              "    }\n",
              "    20% {\n",
              "      border-color: transparent;\n",
              "      border-left-color: var(--fill-color);\n",
              "      border-top-color: var(--fill-color);\n",
              "    }\n",
              "    30% {\n",
              "      border-color: transparent;\n",
              "      border-left-color: var(--fill-color);\n",
              "      border-top-color: var(--fill-color);\n",
              "      border-right-color: var(--fill-color);\n",
              "    }\n",
              "    40% {\n",
              "      border-color: transparent;\n",
              "      border-right-color: var(--fill-color);\n",
              "      border-top-color: var(--fill-color);\n",
              "    }\n",
              "    60% {\n",
              "      border-color: transparent;\n",
              "      border-right-color: var(--fill-color);\n",
              "    }\n",
              "    80% {\n",
              "      border-color: transparent;\n",
              "      border-right-color: var(--fill-color);\n",
              "      border-bottom-color: var(--fill-color);\n",
              "    }\n",
              "    90% {\n",
              "      border-color: transparent;\n",
              "      border-bottom-color: var(--fill-color);\n",
              "    }\n",
              "  }\n",
              "</style>\n",
              "\n",
              "  <script>\n",
              "    async function quickchart(key) {\n",
              "      const quickchartButtonEl =\n",
              "        document.querySelector('#' + key + ' button');\n",
              "      quickchartButtonEl.disabled = true;  // To prevent multiple clicks.\n",
              "      quickchartButtonEl.classList.add('colab-df-spinner');\n",
              "      try {\n",
              "        const charts = await google.colab.kernel.invokeFunction(\n",
              "            'suggestCharts', [key], {});\n",
              "      } catch (error) {\n",
              "        console.error('Error during call to suggestCharts:', error);\n",
              "      }\n",
              "      quickchartButtonEl.classList.remove('colab-df-spinner');\n",
              "      quickchartButtonEl.classList.add('colab-df-quickchart-complete');\n",
              "    }\n",
              "    (() => {\n",
              "      let quickchartButtonEl =\n",
              "        document.querySelector('#df-f5e54aeb-8245-4de6-813c-5fde5af10657 button');\n",
              "      quickchartButtonEl.style.display =\n",
              "        google.colab.kernel.accessAllowed ? 'block' : 'none';\n",
              "    })();\n",
              "  </script>\n",
              "</div>\n",
              "\n",
              "    </div>\n",
              "  </div>\n"
            ],
            "application/vnd.google.colaboratory.intrinsic+json": {
              "type": "dataframe",
              "variable_name": "df"
            }
          },
          "metadata": {},
          "execution_count": 3
        }
      ],
      "source": [
        "features_path = \"/content/drive/MyDrive/speech_wav/features.csv\"\n",
        "df = pd.read_csv(features_path)\n",
        "df.head()"
      ]
    },
    {
      "cell_type": "markdown",
      "id": "1cfc024f",
      "metadata": {
        "id": "1cfc024f"
      },
      "source": [
        "### Audio"
      ]
    },
    {
      "cell_type": "code",
      "execution_count": 4,
      "id": "47d6da50",
      "metadata": {
        "id": "47d6da50"
      },
      "outputs": [],
      "source": [
        "import librosa\n",
        "import torchaudio\n",
        "\n",
        "# Set audio directory\n",
        "audio_dir = \"/content/drive/MyDrive/speech_wav/audio\"\n",
        "\n",
        "# Load all audio files recursively\n",
        "def load_audio_files(audio_dir):\n",
        "    file_paths = {}\n",
        "    total_files = 0\n",
        "\n",
        "    for root, dirs, files in os.walk(audio_dir):\n",
        "        for fname in files:\n",
        "            if fname.endswith('.wav'):\n",
        "                clip_name = fname.replace('.wav', '')\n",
        "                full_path = os.path.join(root, fname)\n",
        "                try:\n",
        "                    waveform, sample_rate = torchaudio.load(full_path)\n",
        "                    file_paths[clip_name] = waveform\n",
        "                    total_files += 1\n",
        "                except Exception as e:\n",
        "                    print(f\"Error loading {full_path}: {e}\")\n",
        "\n",
        "    print(f\"Loaded {total_files} audio files across subfolders.\")\n",
        "    return file_paths"
      ]
    },
    {
      "cell_type": "code",
      "execution_count": 5,
      "id": "af1e515c",
      "metadata": {
        "colab": {
          "base_uri": "https://localhost:8080/",
          "height": 534
        },
        "id": "af1e515c",
        "outputId": "c3f573cd-cf33-46d0-927c-68c9cb160fba"
      },
      "outputs": [
        {
          "output_type": "stream",
          "name": "stdout",
          "text": [
            "Loaded 179 audio files across subfolders.\n"
          ]
        },
        {
          "output_type": "execute_result",
          "data": {
            "text/plain": [
              "  clipName        transcript_x  group_x   word_x   tone_x indicator_x  \\\n",
              "0  IWTGH_1  I want to go home.        1  Neutral  Neutral         NaN   \n",
              "1  IWTGH_2  I want to go home.        1  Neutral    Anger         NaN   \n",
              "2  IWTGH_3  I want to go home.        1  Neutral  Disgust         NaN   \n",
              "3  IWTGH_4  I want to go home.        1  Neutral     Fear         NaN   \n",
              "4  IWTGH_5  I want to go home.        1  Neutral      Sad         NaN   \n",
              "\n",
              "      type_x sentence_x  word_count_x        transcript_y  ...  spect_145  \\\n",
              "0  Statement     Single            18  I want to go home.  ...  16.673017   \n",
              "1  Statement     Single            18  I want to go home.  ...  17.276580   \n",
              "2  Statement     Single            18  I want to go home.  ...  15.457117   \n",
              "3  Statement     Single            18  I want to go home.  ...  17.238967   \n",
              "4  Statement     Single            18  I want to go home.  ...  17.900985   \n",
              "\n",
              "   spect_146 tonnets_147 tonnets_148 tonnets_149 tonnets_150  tonnets_151  \\\n",
              "0  31.776100    0.028255   -0.018589    0.115786   -0.013089    -0.031850   \n",
              "1  33.785295    0.000486    0.028319    0.064798   -0.031453     0.001535   \n",
              "2  33.037995    0.022056   -0.044555    0.114726   -0.004732    -0.040863   \n",
              "3  32.216306    0.008253   -0.017944    0.081751   -0.002341    -0.019149   \n",
              "4  31.293743    0.010412   -0.034611    0.111465   -0.056060    -0.061425   \n",
              "\n",
              "   tonnets_152                                         audio_path  \\\n",
              "0    -0.050886  /content/drive/MyDrive/speech_wav/audio/IWTGH_...   \n",
              "1    -0.017270  /content/drive/MyDrive/speech_wav/audio/IWTGH_...   \n",
              "2    -0.023962  /content/drive/MyDrive/speech_wav/audio/IWTGH_...   \n",
              "3    -0.016467  /content/drive/MyDrive/speech_wav/audio/IWTGH_...   \n",
              "4    -0.031940  /content/drive/MyDrive/speech_wav/audio/IWTGH_...   \n",
              "\n",
              "                                               audio  \n",
              "0  [[tensor(0.), tensor(0.), tensor(0.), tensor(0...  \n",
              "1  [[tensor(0.), tensor(0.), tensor(0.), tensor(0...  \n",
              "2  [[tensor(0.), tensor(0.), tensor(0.), tensor(0...  \n",
              "3  [[tensor(0.), tensor(0.), tensor(0.), tensor(0...  \n",
              "4  [[tensor(0.), tensor(0.), tensor(0.), tensor(0...  \n",
              "\n",
              "[5 rows x 172 columns]"
            ],
            "text/html": [
              "\n",
              "  <div id=\"df-79226561-771e-4a2b-a046-f2d1776ccc77\" class=\"colab-df-container\">\n",
              "    <div>\n",
              "<style scoped>\n",
              "    .dataframe tbody tr th:only-of-type {\n",
              "        vertical-align: middle;\n",
              "    }\n",
              "\n",
              "    .dataframe tbody tr th {\n",
              "        vertical-align: top;\n",
              "    }\n",
              "\n",
              "    .dataframe thead th {\n",
              "        text-align: right;\n",
              "    }\n",
              "</style>\n",
              "<table border=\"1\" class=\"dataframe\">\n",
              "  <thead>\n",
              "    <tr style=\"text-align: right;\">\n",
              "      <th></th>\n",
              "      <th>clipName</th>\n",
              "      <th>transcript_x</th>\n",
              "      <th>group_x</th>\n",
              "      <th>word_x</th>\n",
              "      <th>tone_x</th>\n",
              "      <th>indicator_x</th>\n",
              "      <th>type_x</th>\n",
              "      <th>sentence_x</th>\n",
              "      <th>word_count_x</th>\n",
              "      <th>transcript_y</th>\n",
              "      <th>...</th>\n",
              "      <th>spect_145</th>\n",
              "      <th>spect_146</th>\n",
              "      <th>tonnets_147</th>\n",
              "      <th>tonnets_148</th>\n",
              "      <th>tonnets_149</th>\n",
              "      <th>tonnets_150</th>\n",
              "      <th>tonnets_151</th>\n",
              "      <th>tonnets_152</th>\n",
              "      <th>audio_path</th>\n",
              "      <th>audio</th>\n",
              "    </tr>\n",
              "  </thead>\n",
              "  <tbody>\n",
              "    <tr>\n",
              "      <th>0</th>\n",
              "      <td>IWTGH_1</td>\n",
              "      <td>I want to go home.</td>\n",
              "      <td>1</td>\n",
              "      <td>Neutral</td>\n",
              "      <td>Neutral</td>\n",
              "      <td>NaN</td>\n",
              "      <td>Statement</td>\n",
              "      <td>Single</td>\n",
              "      <td>18</td>\n",
              "      <td>I want to go home.</td>\n",
              "      <td>...</td>\n",
              "      <td>16.673017</td>\n",
              "      <td>31.776100</td>\n",
              "      <td>0.028255</td>\n",
              "      <td>-0.018589</td>\n",
              "      <td>0.115786</td>\n",
              "      <td>-0.013089</td>\n",
              "      <td>-0.031850</td>\n",
              "      <td>-0.050886</td>\n",
              "      <td>/content/drive/MyDrive/speech_wav/audio/IWTGH_...</td>\n",
              "      <td>[[tensor(0.), tensor(0.), tensor(0.), tensor(0...</td>\n",
              "    </tr>\n",
              "    <tr>\n",
              "      <th>1</th>\n",
              "      <td>IWTGH_2</td>\n",
              "      <td>I want to go home.</td>\n",
              "      <td>1</td>\n",
              "      <td>Neutral</td>\n",
              "      <td>Anger</td>\n",
              "      <td>NaN</td>\n",
              "      <td>Statement</td>\n",
              "      <td>Single</td>\n",
              "      <td>18</td>\n",
              "      <td>I want to go home.</td>\n",
              "      <td>...</td>\n",
              "      <td>17.276580</td>\n",
              "      <td>33.785295</td>\n",
              "      <td>0.000486</td>\n",
              "      <td>0.028319</td>\n",
              "      <td>0.064798</td>\n",
              "      <td>-0.031453</td>\n",
              "      <td>0.001535</td>\n",
              "      <td>-0.017270</td>\n",
              "      <td>/content/drive/MyDrive/speech_wav/audio/IWTGH_...</td>\n",
              "      <td>[[tensor(0.), tensor(0.), tensor(0.), tensor(0...</td>\n",
              "    </tr>\n",
              "    <tr>\n",
              "      <th>2</th>\n",
              "      <td>IWTGH_3</td>\n",
              "      <td>I want to go home.</td>\n",
              "      <td>1</td>\n",
              "      <td>Neutral</td>\n",
              "      <td>Disgust</td>\n",
              "      <td>NaN</td>\n",
              "      <td>Statement</td>\n",
              "      <td>Single</td>\n",
              "      <td>18</td>\n",
              "      <td>I want to go home.</td>\n",
              "      <td>...</td>\n",
              "      <td>15.457117</td>\n",
              "      <td>33.037995</td>\n",
              "      <td>0.022056</td>\n",
              "      <td>-0.044555</td>\n",
              "      <td>0.114726</td>\n",
              "      <td>-0.004732</td>\n",
              "      <td>-0.040863</td>\n",
              "      <td>-0.023962</td>\n",
              "      <td>/content/drive/MyDrive/speech_wav/audio/IWTGH_...</td>\n",
              "      <td>[[tensor(0.), tensor(0.), tensor(0.), tensor(0...</td>\n",
              "    </tr>\n",
              "    <tr>\n",
              "      <th>3</th>\n",
              "      <td>IWTGH_4</td>\n",
              "      <td>I want to go home.</td>\n",
              "      <td>1</td>\n",
              "      <td>Neutral</td>\n",
              "      <td>Fear</td>\n",
              "      <td>NaN</td>\n",
              "      <td>Statement</td>\n",
              "      <td>Single</td>\n",
              "      <td>18</td>\n",
              "      <td>I want to go home.</td>\n",
              "      <td>...</td>\n",
              "      <td>17.238967</td>\n",
              "      <td>32.216306</td>\n",
              "      <td>0.008253</td>\n",
              "      <td>-0.017944</td>\n",
              "      <td>0.081751</td>\n",
              "      <td>-0.002341</td>\n",
              "      <td>-0.019149</td>\n",
              "      <td>-0.016467</td>\n",
              "      <td>/content/drive/MyDrive/speech_wav/audio/IWTGH_...</td>\n",
              "      <td>[[tensor(0.), tensor(0.), tensor(0.), tensor(0...</td>\n",
              "    </tr>\n",
              "    <tr>\n",
              "      <th>4</th>\n",
              "      <td>IWTGH_5</td>\n",
              "      <td>I want to go home.</td>\n",
              "      <td>1</td>\n",
              "      <td>Neutral</td>\n",
              "      <td>Sad</td>\n",
              "      <td>NaN</td>\n",
              "      <td>Statement</td>\n",
              "      <td>Single</td>\n",
              "      <td>18</td>\n",
              "      <td>I want to go home.</td>\n",
              "      <td>...</td>\n",
              "      <td>17.900985</td>\n",
              "      <td>31.293743</td>\n",
              "      <td>0.010412</td>\n",
              "      <td>-0.034611</td>\n",
              "      <td>0.111465</td>\n",
              "      <td>-0.056060</td>\n",
              "      <td>-0.061425</td>\n",
              "      <td>-0.031940</td>\n",
              "      <td>/content/drive/MyDrive/speech_wav/audio/IWTGH_...</td>\n",
              "      <td>[[tensor(0.), tensor(0.), tensor(0.), tensor(0...</td>\n",
              "    </tr>\n",
              "  </tbody>\n",
              "</table>\n",
              "<p>5 rows × 172 columns</p>\n",
              "</div>\n",
              "    <div class=\"colab-df-buttons\">\n",
              "\n",
              "  <div class=\"colab-df-container\">\n",
              "    <button class=\"colab-df-convert\" onclick=\"convertToInteractive('df-79226561-771e-4a2b-a046-f2d1776ccc77')\"\n",
              "            title=\"Convert this dataframe to an interactive table.\"\n",
              "            style=\"display:none;\">\n",
              "\n",
              "  <svg xmlns=\"http://www.w3.org/2000/svg\" height=\"24px\" viewBox=\"0 -960 960 960\">\n",
              "    <path d=\"M120-120v-720h720v720H120Zm60-500h600v-160H180v160Zm220 220h160v-160H400v160Zm0 220h160v-160H400v160ZM180-400h160v-160H180v160Zm440 0h160v-160H620v160ZM180-180h160v-160H180v160Zm440 0h160v-160H620v160Z\"/>\n",
              "  </svg>\n",
              "    </button>\n",
              "\n",
              "  <style>\n",
              "    .colab-df-container {\n",
              "      display:flex;\n",
              "      gap: 12px;\n",
              "    }\n",
              "\n",
              "    .colab-df-convert {\n",
              "      background-color: #E8F0FE;\n",
              "      border: none;\n",
              "      border-radius: 50%;\n",
              "      cursor: pointer;\n",
              "      display: none;\n",
              "      fill: #1967D2;\n",
              "      height: 32px;\n",
              "      padding: 0 0 0 0;\n",
              "      width: 32px;\n",
              "    }\n",
              "\n",
              "    .colab-df-convert:hover {\n",
              "      background-color: #E2EBFA;\n",
              "      box-shadow: 0px 1px 2px rgba(60, 64, 67, 0.3), 0px 1px 3px 1px rgba(60, 64, 67, 0.15);\n",
              "      fill: #174EA6;\n",
              "    }\n",
              "\n",
              "    .colab-df-buttons div {\n",
              "      margin-bottom: 4px;\n",
              "    }\n",
              "\n",
              "    [theme=dark] .colab-df-convert {\n",
              "      background-color: #3B4455;\n",
              "      fill: #D2E3FC;\n",
              "    }\n",
              "\n",
              "    [theme=dark] .colab-df-convert:hover {\n",
              "      background-color: #434B5C;\n",
              "      box-shadow: 0px 1px 3px 1px rgba(0, 0, 0, 0.15);\n",
              "      filter: drop-shadow(0px 1px 2px rgba(0, 0, 0, 0.3));\n",
              "      fill: #FFFFFF;\n",
              "    }\n",
              "  </style>\n",
              "\n",
              "    <script>\n",
              "      const buttonEl =\n",
              "        document.querySelector('#df-79226561-771e-4a2b-a046-f2d1776ccc77 button.colab-df-convert');\n",
              "      buttonEl.style.display =\n",
              "        google.colab.kernel.accessAllowed ? 'block' : 'none';\n",
              "\n",
              "      async function convertToInteractive(key) {\n",
              "        const element = document.querySelector('#df-79226561-771e-4a2b-a046-f2d1776ccc77');\n",
              "        const dataTable =\n",
              "          await google.colab.kernel.invokeFunction('convertToInteractive',\n",
              "                                                    [key], {});\n",
              "        if (!dataTable) return;\n",
              "\n",
              "        const docLinkHtml = 'Like what you see? Visit the ' +\n",
              "          '<a target=\"_blank\" href=https://colab.research.google.com/notebooks/data_table.ipynb>data table notebook</a>'\n",
              "          + ' to learn more about interactive tables.';\n",
              "        element.innerHTML = '';\n",
              "        dataTable['output_type'] = 'display_data';\n",
              "        await google.colab.output.renderOutput(dataTable, element);\n",
              "        const docLink = document.createElement('div');\n",
              "        docLink.innerHTML = docLinkHtml;\n",
              "        element.appendChild(docLink);\n",
              "      }\n",
              "    </script>\n",
              "  </div>\n",
              "\n",
              "\n",
              "<div id=\"df-b8f5fe21-9dde-4ec2-8061-7bf8da0b317e\">\n",
              "  <button class=\"colab-df-quickchart\" onclick=\"quickchart('df-b8f5fe21-9dde-4ec2-8061-7bf8da0b317e')\"\n",
              "            title=\"Suggest charts\"\n",
              "            style=\"display:none;\">\n",
              "\n",
              "<svg xmlns=\"http://www.w3.org/2000/svg\" height=\"24px\"viewBox=\"0 0 24 24\"\n",
              "     width=\"24px\">\n",
              "    <g>\n",
              "        <path d=\"M19 3H5c-1.1 0-2 .9-2 2v14c0 1.1.9 2 2 2h14c1.1 0 2-.9 2-2V5c0-1.1-.9-2-2-2zM9 17H7v-7h2v7zm4 0h-2V7h2v10zm4 0h-2v-4h2v4z\"/>\n",
              "    </g>\n",
              "</svg>\n",
              "  </button>\n",
              "\n",
              "<style>\n",
              "  .colab-df-quickchart {\n",
              "      --bg-color: #E8F0FE;\n",
              "      --fill-color: #1967D2;\n",
              "      --hover-bg-color: #E2EBFA;\n",
              "      --hover-fill-color: #174EA6;\n",
              "      --disabled-fill-color: #AAA;\n",
              "      --disabled-bg-color: #DDD;\n",
              "  }\n",
              "\n",
              "  [theme=dark] .colab-df-quickchart {\n",
              "      --bg-color: #3B4455;\n",
              "      --fill-color: #D2E3FC;\n",
              "      --hover-bg-color: #434B5C;\n",
              "      --hover-fill-color: #FFFFFF;\n",
              "      --disabled-bg-color: #3B4455;\n",
              "      --disabled-fill-color: #666;\n",
              "  }\n",
              "\n",
              "  .colab-df-quickchart {\n",
              "    background-color: var(--bg-color);\n",
              "    border: none;\n",
              "    border-radius: 50%;\n",
              "    cursor: pointer;\n",
              "    display: none;\n",
              "    fill: var(--fill-color);\n",
              "    height: 32px;\n",
              "    padding: 0;\n",
              "    width: 32px;\n",
              "  }\n",
              "\n",
              "  .colab-df-quickchart:hover {\n",
              "    background-color: var(--hover-bg-color);\n",
              "    box-shadow: 0 1px 2px rgba(60, 64, 67, 0.3), 0 1px 3px 1px rgba(60, 64, 67, 0.15);\n",
              "    fill: var(--button-hover-fill-color);\n",
              "  }\n",
              "\n",
              "  .colab-df-quickchart-complete:disabled,\n",
              "  .colab-df-quickchart-complete:disabled:hover {\n",
              "    background-color: var(--disabled-bg-color);\n",
              "    fill: var(--disabled-fill-color);\n",
              "    box-shadow: none;\n",
              "  }\n",
              "\n",
              "  .colab-df-spinner {\n",
              "    border: 2px solid var(--fill-color);\n",
              "    border-color: transparent;\n",
              "    border-bottom-color: var(--fill-color);\n",
              "    animation:\n",
              "      spin 1s steps(1) infinite;\n",
              "  }\n",
              "\n",
              "  @keyframes spin {\n",
              "    0% {\n",
              "      border-color: transparent;\n",
              "      border-bottom-color: var(--fill-color);\n",
              "      border-left-color: var(--fill-color);\n",
              "    }\n",
              "    20% {\n",
              "      border-color: transparent;\n",
              "      border-left-color: var(--fill-color);\n",
              "      border-top-color: var(--fill-color);\n",
              "    }\n",
              "    30% {\n",
              "      border-color: transparent;\n",
              "      border-left-color: var(--fill-color);\n",
              "      border-top-color: var(--fill-color);\n",
              "      border-right-color: var(--fill-color);\n",
              "    }\n",
              "    40% {\n",
              "      border-color: transparent;\n",
              "      border-right-color: var(--fill-color);\n",
              "      border-top-color: var(--fill-color);\n",
              "    }\n",
              "    60% {\n",
              "      border-color: transparent;\n",
              "      border-right-color: var(--fill-color);\n",
              "    }\n",
              "    80% {\n",
              "      border-color: transparent;\n",
              "      border-right-color: var(--fill-color);\n",
              "      border-bottom-color: var(--fill-color);\n",
              "    }\n",
              "    90% {\n",
              "      border-color: transparent;\n",
              "      border-bottom-color: var(--fill-color);\n",
              "    }\n",
              "  }\n",
              "</style>\n",
              "\n",
              "  <script>\n",
              "    async function quickchart(key) {\n",
              "      const quickchartButtonEl =\n",
              "        document.querySelector('#' + key + ' button');\n",
              "      quickchartButtonEl.disabled = true;  // To prevent multiple clicks.\n",
              "      quickchartButtonEl.classList.add('colab-df-spinner');\n",
              "      try {\n",
              "        const charts = await google.colab.kernel.invokeFunction(\n",
              "            'suggestCharts', [key], {});\n",
              "      } catch (error) {\n",
              "        console.error('Error during call to suggestCharts:', error);\n",
              "      }\n",
              "      quickchartButtonEl.classList.remove('colab-df-spinner');\n",
              "      quickchartButtonEl.classList.add('colab-df-quickchart-complete');\n",
              "    }\n",
              "    (() => {\n",
              "      let quickchartButtonEl =\n",
              "        document.querySelector('#df-b8f5fe21-9dde-4ec2-8061-7bf8da0b317e button');\n",
              "      quickchartButtonEl.style.display =\n",
              "        google.colab.kernel.accessAllowed ? 'block' : 'none';\n",
              "    })();\n",
              "  </script>\n",
              "</div>\n",
              "\n",
              "    </div>\n",
              "  </div>\n"
            ],
            "application/vnd.google.colaboratory.intrinsic+json": {
              "type": "dataframe",
              "variable_name": "df"
            }
          },
          "metadata": {},
          "execution_count": 5
        }
      ],
      "source": [
        "# Load audio\n",
        "audio_data = load_audio_files(audio_dir)\n",
        "\n",
        "# Map audio to dataframe\n",
        "df['audio_path'] = df['clipName'].apply(lambda x: os.path.join(audio_dir, x + '.wav'))\n",
        "df['audio'] = df['clipName'].map(audio_data)\n",
        "#df = df[df['audio'].apply(lambda x: isinstance(x, torch.Tensor) or (isinstance(x, list) and torch.is_tensor(x[0])))]\n",
        "\n",
        "# Display data\n",
        "df.head()"
      ]
    },
    {
      "cell_type": "code",
      "execution_count": 6,
      "id": "2313ffec",
      "metadata": {
        "colab": {
          "base_uri": "https://localhost:8080/",
          "height": 314
        },
        "id": "2313ffec",
        "outputId": "5cfe69c7-3b1c-4848-9ceb-e9b8499b31f6"
      },
      "outputs": [
        {
          "output_type": "display_data",
          "data": {
            "text/plain": [
              "<Figure size 1000x300 with 1 Axes>"
            ],
            "image/png": "[encoded data removed]"
          },
          "metadata": {}
        }
      ],
      "source": [
        "import matplotlib.pyplot as plt\n",
        "\n",
        "waveform = df.iloc[0]['audio'][0]\n",
        "plt.figure(figsize=(10, 3))\n",
        "plt.plot(waveform.numpy())\n",
        "plt.title(f\"Waveform for {df.iloc[0]['clipName']}\")\n",
        "plt.show()"
      ]
    },
    {
      "cell_type": "markdown",
      "id": "29d231ae",
      "metadata": {
        "id": "29d231ae"
      },
      "source": [
        "# Audio only"
      ]
    },
    {
      "cell_type": "code",
      "execution_count": 7,
      "id": "084bb1fa",
      "metadata": {
        "id": "084bb1fa"
      },
      "outputs": [],
      "source": [
        "# HuggingFace Transformers modules\n",
        "from transformers import (\n",
        "    Wav2Vec2Model, Wav2Vec2FeatureExtractor,\n",
        "    AutoTokenizer, AutoModelForSequenceClassification,\n",
        "    AutoModelForSpeechSeq2Seq, AutoProcessor, pipeline\n",
        ")\n",
        "\n",
        "# Set seeds for reproducibility\n",
        "def set_seed(seed):\n",
        "    torch.manual_seed(seed)\n",
        "    torch.cuda.manual_seed_all(seed)\n",
        "    np.random.seed(seed)\n",
        "    random.seed(seed)\n",
        "    if torch.cuda.is_available():\n",
        "        torch.backends.cudnn.deterministic = True\n",
        "        torch.backends.cudnn.benchmark = False\n",
        "\n",
        "set_seed(42)"
      ]
    },
    {
      "cell_type": "code",
      "execution_count": 8,
      "id": "844de4f8",
      "metadata": {
        "id": "844de4f8"
      },
      "outputs": [],
      "source": [
        "class wav2Vec_transferModel(nn.Module):\n",
        "    def __init__(self, pretrained_model_name=\"r-f/wav2vec-english-speech-emotion-recognition\"):\n",
        "        super().__init__()\n",
        "        self.model = Wav2Vec2Model.from_pretrained(pretrained_model_name)\n",
        "        for param in self.model.parameters():\n",
        "            param.requires_grad = False\n",
        "        self.dropout = nn.Dropout(0.2)\n",
        "\n",
        "        # Match exactly what was saved\n",
        "        self.classifier_emo = nn.Sequential(\n",
        "            nn.Linear(self.model.config.hidden_size, 128),\n",
        "            nn.ReLU(),\n",
        "            nn.Linear(128, 128),\n",
        "            nn.ReLU(),\n",
        "            nn.Linear(128, 64),\n",
        "            nn.ReLU(),\n",
        "            nn.Linear(64, 32),\n",
        "            nn.ReLU(),\n",
        "            self.dropout,\n",
        "            nn.Linear(32, 6)\n",
        "        )\n",
        "\n",
        "    def forward(self, inputs):\n",
        "        input_values = inputs['input_values']\n",
        "        attention_mask = inputs['attention_mask']\n",
        "        with torch.no_grad():\n",
        "            outputs = self.model(input_values=input_values, attention_mask=attention_mask)\n",
        "            pooled = outputs.last_hidden_state.mean(1)\n",
        "        logits = self.classifier_emo(pooled)\n",
        "        return logits"
      ]
    },
    {
      "cell_type": "markdown",
      "id": "b034ef9d",
      "metadata": {
        "id": "b034ef9d"
      },
      "source": [
        "# Combined audio and text"
      ]
    },
    {
      "cell_type": "code",
      "execution_count": 10,
      "id": "e20f167a",
      "metadata": {
        "id": "e20f167a"
      },
      "outputs": [],
      "source": [
        "class emotionDetectionSystem():\n",
        "    def __init__(self, useAudio=True, useText=True):\n",
        "        self.useAudio = useAudio\n",
        "        self.useText = useText\n",
        "        self.device = \"cuda\" if torch.cuda.is_available() else \"cpu\"\n",
        "\n",
        "        # Load Wav2Vec2 model for audio emotion recognition\n",
        "        if self.useAudio:\n",
        "            self.wav2vec_modelName = \"r-f/wav2vec-english-speech-emotion-recognition\"\n",
        "            self.wav2vec_model = wav2Vec_transferModel()\n",
        "            self.wav2vec_model.load_state_dict(torch.load(\"bestWav2Vec.pth\", map_location=self.device), strict=False)\n",
        "            self.wav2vec_model.eval()\n",
        "            self.wav2vec_model.to(self.device)\n",
        "            self.audio_feature_extractor = Wav2Vec2FeatureExtractor.from_pretrained(self.wav2vec_modelName)\n",
        "\n",
        "        # Load BERT-based text emotion classifier and Whisper transcription model\n",
        "        if self.useText:\n",
        "            self.textClassifier_model_name = \"michellejieli/emotion_text_classifier\"\n",
        "            self.tokenizer = AutoTokenizer.from_pretrained(self.textClassifier_model_name)\n",
        "            self.textModel = AutoModelForSequenceClassification.from_pretrained(self.textClassifier_model_name)\n",
        "            self.textModel.to(self.device)\n",
        "            self.textModel.eval()\n",
        "\n",
        "            self.transcriptModel_id = \"openai/whisper-large-v3-turbo\"\n",
        "            self.torch_dtype = torch.float16 if torch.cuda.is_available() else torch.float32\n",
        "\n",
        "            self.transcriptModel = AutoModelForSpeechSeq2Seq.from_pretrained(\n",
        "                self.transcriptModel_id,\n",
        "                torch_dtype=self.torch_dtype,\n",
        "                low_cpu_mem_usage=True,\n",
        "                use_safetensors=True\n",
        "            ).to(self.device)\n",
        "\n",
        "            self.transcriptProcessor = AutoProcessor.from_pretrained(self.transcriptModel_id)\n",
        "\n",
        "            self.transcriptPipe = pipeline(\n",
        "                \"automatic-speech-recognition\",\n",
        "                model=self.transcriptModel,\n",
        "                tokenizer=self.transcriptProcessor.tokenizer,\n",
        "                feature_extractor=self.transcriptProcessor.feature_extractor,\n",
        "                torch_dtype=self.torch_dtype,\n",
        "                device=0 if self.device == \"cuda\" else -1,\n",
        "            )\n",
        "\n",
        "    def predict(self, audio_path=None):\n",
        "        # Load and preprocess audio to 16kHz\n",
        "        audio, sr = librosa.load(audio_path, sr=16000)\n",
        "\n",
        "        # Convert to torch tensor and fix shape\n",
        "        audio_tensor = torch.tensor(audio)\n",
        "        if audio_tensor.ndim == 1:\n",
        "            audio_tensor = audio_tensor.unsqueeze(0)  # [time] → [1, time]\n",
        "        elif audio_tensor.ndim > 2:\n",
        "            audio_tensor = audio_tensor.squeeze()\n",
        "\n",
        "        # Audio-based prediction\n",
        "        if self.useAudio:\n",
        "            audioInput = self.audio_feature_extractor(\n",
        "                audio_tensor.squeeze().numpy(), sampling_rate=16000, return_tensors=\"pt\"\n",
        "            ).to(self.device)\n",
        "\n",
        "            with torch.no_grad():\n",
        "                audio_logits = self.wav2vec_model(audioInput)\n",
        "                audio_probs = F.softmax(audio_logits, dim=1)[0]\n",
        "\n",
        "        # Text-based prediction via Whisper\n",
        "        if self.useText:\n",
        "            transcript = self.transcriptPipe(audio_path)[\"text\"]\n",
        "            inputs = self.tokenizer(transcript, return_tensors=\"pt\", padding=True, truncation=True).to(self.device)\n",
        "\n",
        "            with torch.no_grad():\n",
        "                text_logits = self.textModel(**inputs).logits\n",
        "                text_probs_raw = F.softmax(text_logits, dim=1)[0]\n",
        "\n",
        "                text_probs = torch.tensor([\n",
        "                    text_probs_raw[4],                   # Neutral\n",
        "                    text_probs_raw[0],                   # Anger\n",
        "                    text_probs_raw[1],                   # Disgust\n",
        "                    text_probs_raw[2] + text_probs_raw[6],  # Fear + Surprise\n",
        "                    text_probs_raw[5],                   # Sadness\n",
        "                    text_probs_raw[3],                   # Happiness\n",
        "                ], device=self.device)\n",
        "\n",
        "        # Combine or return available predictions\n",
        "        if self.useAudio and self.useText:\n",
        "            emo_probs = (audio_probs + text_probs) / 2\n",
        "        elif self.useAudio:\n",
        "            emo_probs = audio_probs\n",
        "        elif self.useText:\n",
        "            emo_probs = text_probs\n",
        "        else:\n",
        "            raise ValueError(\"At least one of useAudio or useText must be True.\")\n",
        "\n",
        "        emoList = [\"Neutral\", \"Anger\", \"Disgust\", \"Fear\", \"Sadness\", \"Happiness\"]\n",
        "        emo_pred = emoList[torch.argmax(emo_probs).item()]\n",
        "\n",
        "        print(f\"\\nPredicted Emotion: {emo_pred}\")\n",
        "        print(\"\\nEmotion Probabilities:\")\n",
        "        for i, prob in enumerate(emo_probs):\n",
        "            print(f\"{emoList[i]}: {prob.item():.4f}\")\n",
        "\n",
        "        return emo_pred"
      ]
    },
    {
      "cell_type": "markdown",
      "id": "20d320d9",
      "metadata": {
        "id": "20d320d9"
      },
      "source": [
        "## Architect"
      ]
    },
    {
      "cell_type": "markdown",
      "id": "f63222ac",
      "metadata": {
        "id": "f63222ac"
      },
      "source": [
        "Intialize models"
      ]
    },
    {
      "cell_type": "code",
      "source": [
        "# Install gdown if not already installed\n",
        "!pip install -q gdown\n",
        "\n",
        "# Download the .pth file using its Google Drive file ID\n",
        "!gdown --id 1srF631gt6CkvSG6tWADsHxe6mS7H5gxi --output bestWav2Vec.pth\n",
        "\n",
        "# Initialize audio only models\n",
        "model_audio_only = wav2Vec_transferModel().to('cuda' if torch.cuda.is_available() else 'cpu')\n",
        "\n",
        "# Initialize audio + text models\n",
        "model_text_audio = emotionDetectionSystem()"
      ],
      "metadata": {
        "colab": {
          "base_uri": "https://localhost:8080/"
        },
        "id": "oIx2PY42k4em",
        "outputId": "55f13ada-e64d-481f-ee66-a735e16cad2f"
      },
      "id": "oIx2PY42k4em",
      "execution_count": 11,
      "outputs": [
        {
          "output_type": "stream",
          "name": "stdout",
          "text": [
            "/usr/local/lib/python3.11/dist-packages/gdown/__main__.py:140: FutureWarning: Option `--id` was deprecated in version 4.3.1 and will be removed in 5.0. You don't need to pass it anymore to use a file ID.\n",
            "  warnings.warn(\n",
            "Downloading...\n",
            "From (original): https://drive.google.com/uc?id=1srF631gt6CkvSG6tWADsHxe6mS7H5gxi\n",
            "From (redirected): https://drive.google.com/uc?id=1srF631gt6CkvSG6tWADsHxe6mS7H5gxi&confirm=t&uuid=05c3a3ee-6493-4581-8051-4e356dfdfdcf\n",
            "To: /content/bestWav2Vec.pth\n",
            "100% 1.26G/1.26G [00:13<00:00, 91.0MB/s]\n"
          ]
        },
        {
          "output_type": "stream",
          "name": "stderr",
          "text": [
            "/usr/local/lib/python3.11/dist-packages/huggingface_hub/utils/_auth.py:94: UserWarning: \n",
            "The secret `HF_TOKEN` does not exist in your Colab secrets.\n",
            "To authenticate with the Hugging Face Hub, create a token in your settings tab (https://huggingface.co/settings/tokens), set it as secret in your Google Colab and restart your session.\n",
            "You will be able to reuse this secret in all of your notebooks.\n",
            "Please note that authentication is recommended but still optional to access public models or datasets.\n",
            "  warnings.warn(\n"
          ]
        }
      ]
    },
    {
      "cell_type": "markdown",
      "id": "d478e2f5",
      "metadata": {
        "id": "d478e2f5"
      },
      "source": [
        "Data loader"
      ]
    },
    {
      "cell_type": "code",
      "execution_count": 13,
      "id": "c08f753b",
      "metadata": {
        "id": "c08f753b"
      },
      "outputs": [],
      "source": [
        "class EmotionDataset(torch.utils.data.Dataset):\n",
        "    def __init__(self, df, tokenizer=None, audio_only=True):\n",
        "        self.df = df\n",
        "        self.tokenizer = tokenizer\n",
        "        self.audio_only = audio_only\n",
        "\n",
        "    def __len__(self):\n",
        "        return len(self.df)\n",
        "\n",
        "    def __getitem__(self, idx):\n",
        "        row = self.df.iloc[idx]\n",
        "        audio = row['audio'][0]\n",
        "        label = row['tone_x']\n",
        "\n",
        "        if self.audio_only:\n",
        "            return audio, label\n",
        "        else:\n",
        "            text = row['transcript_x']\n",
        "            tokens = self.tokenizer(text, return_tensors='pt', padding='max_length', truncation=True)\n",
        "            return audio, tokens, label"
      ]
    },
    {
      "cell_type": "markdown",
      "id": "7d8096a7",
      "metadata": {
        "id": "7d8096a7"
      },
      "source": [
        "Evaluate model"
      ]
    },
    {
      "cell_type": "code",
      "execution_count": 14,
      "id": "fbe26265",
      "metadata": {
        "id": "fbe26265"
      },
      "outputs": [],
      "source": [
        "def evaluate_model(model, dataloader, audio_only=True, device='cuda'):\n",
        "    model.eval()\n",
        "    preds, labels = [], []\n",
        "\n",
        "    with torch.no_grad():\n",
        "        for batch in dataloader:\n",
        "            if audio_only:\n",
        "                audio, label = batch\n",
        "                audio = audio.to(device)\n",
        "                outputs = model(audio)\n",
        "            else:\n",
        "                audio, tokens, label = batch\n",
        "                audio = audio.to(device)\n",
        "                tokens = {k: v.squeeze(1).to(device) for k, v in tokens.items()}\n",
        "                outputs = model(audio, tokens)\n",
        "\n",
        "            pred = torch.argmax(outputs, dim=1)\n",
        "            preds.extend(pred.cpu().numpy())\n",
        "            labels.extend(label.cpu().numpy())\n",
        "\n",
        "    return preds, labels"
      ]
    },
    {
      "cell_type": "markdown",
      "id": "e8bc3132",
      "metadata": {
        "id": "e8bc3132"
      },
      "source": [
        "Run group for testing"
      ]
    },
    {
      "cell_type": "code",
      "execution_count": 30,
      "id": "ea1a1608",
      "metadata": {
        "id": "ea1a1608"
      },
      "outputs": [],
      "source": [
        "def run_group(model, df_group, name=\"Unnamed\"):\n",
        "    print(f\"\\n Running: {name}\")\n",
        "    predictions = []\n",
        "\n",
        "    is_system_wrapper = hasattr(model, \"predict\")\n",
        "\n",
        "    for idx, row in df_group.iterrows():\n",
        "        audio_tensor = row[\"audio\"]  # shape: [1, 16000]\n",
        "\n",
        "        # Save to temp .wav file if needed by Whisper pipeline\n",
        "        temp_path = f\"temp_audio_{idx}.wav\"\n",
        "        torchaudio.save(temp_path, audio_tensor, 16000)\n",
        "\n",
        "        if is_system_wrapper:\n",
        "            # For emotionDetectionSystem (audio + text)\n",
        "            emotion = model.predict(audio_path=temp_path)\n",
        "        else:\n",
        "            # For raw audio model like wav2Vec_transferModel\n",
        "            feature_extractor = Wav2Vec2FeatureExtractor.from_pretrained(\"r-f/wav2vec-english-speech-emotion-recognition\")\n",
        "            device = \"cuda\" if torch.cuda.is_available() else \"cpu\"\n",
        "            inputs = feature_extractor(audio_tensor.squeeze().numpy(), sampling_rate=16000, return_tensors=\"pt\")\n",
        "            inputs = {k: v.to(device) for k, v in inputs.items()}\n",
        "\n",
        "            with torch.no_grad():\n",
        "                logits = model(inputs)\n",
        "                probs = torch.nn.functional.softmax(logits, dim=-1)\n",
        "                pred_idx = torch.argmax(probs, dim=-1).item()\n",
        "                emotion = [\"Neutral\", \"Anger\", \"Disgust\", \"Fear\", \"Sadness\", \"Happiness\"][pred_idx]\n",
        "\n",
        "        predictions.append(emotion)\n",
        "\n",
        "    df_group = df_group.copy()\n",
        "    df_group[\"predicted_emotion\"] = predictions\n",
        "    return df_group"
      ]
    },
    {
      "cell_type": "markdown",
      "id": "8b63283c",
      "metadata": {
        "id": "8b63283c"
      },
      "source": [
        "# Testing\n",
        "\n",
        "Group 1: Same sentences, different tones\n",
        "\n",
        "Group 2: Different sentences, same tones\n",
        "\n",
        "Group 3: Different sentences, different tones"
      ]
    },
    {
      "cell_type": "code",
      "execution_count": 31,
      "id": "7e40f5b5",
      "metadata": {
        "id": "7e40f5b5"
      },
      "outputs": [],
      "source": [
        "# split groups for testing\n",
        "group1_df = df[df['group_x'] == 1]\n",
        "group2_df = df[df['group_x'] == 2]\n",
        "group3_df = df[df['group_x'] == 3]"
      ]
    },
    {
      "cell_type": "markdown",
      "source": [
        "### Audio only"
      ],
      "metadata": {
        "id": "ZFZx5En20hH3"
      },
      "id": "ZFZx5En20hH3"
    },
    {
      "cell_type": "code",
      "execution_count": 24,
      "id": "09161018",
      "metadata": {
        "colab": {
          "base_uri": "https://localhost:8080/"
        },
        "id": "09161018",
        "outputId": "295c01d7-d9e8-4b15-c8e7-58079f205619"
      },
      "outputs": [
        {
          "output_type": "stream",
          "name": "stdout",
          "text": [
            "\n",
            " Running: Group 1 - Audio Only\n",
            "\n",
            " Running: Group 2 - Audio Only\n",
            "\n",
            " Running: Group 3 - Audio Only\n"
          ]
        }
      ],
      "source": [
        "# Audio only\n",
        "group1_pred = run_group(model_audio_only, group1_df, name=\"Group 1 - Audio Only\")\n",
        "group2_pred = run_group(model_audio_only, group2_df, name=\"Group 2 - Audio Only\")\n",
        "group3_pred = run_group(model_audio_only, group3_df, name=\"Group 3 - Audio Only\")"
      ]
    },
    {
      "cell_type": "code",
      "source": [
        "def evaluate_group(df, group_name, label_list=None):\n",
        "    from sklearn.metrics import accuracy_score, classification_report, confusion_matrix\n",
        "    import seaborn as sns\n",
        "    import matplotlib.pyplot as plt\n",
        "\n",
        "    print(f\"\\n Evaluation for {group_name}\")\n",
        "    y_true = df[\"tone_x\"]\n",
        "    y_pred = df[\"predicted_emotion\"]\n",
        "\n",
        "    acc = accuracy_score(y_true, y_pred)\n",
        "    print(f\"Accuracy: {acc:.4f}\")\n",
        "\n",
        "    # Warn if any emotion labels are missing\n",
        "    present_classes = set(y_true) | set(y_pred)\n",
        "    missing = set(label_list) - present_classes\n",
        "    if missing:\n",
        "        print(f\"Warning: These classes are missing in this group: {missing}\")\n",
        "\n",
        "    print(\"\\nClassification Report:\")\n",
        "    print(classification_report(y_true, y_pred, labels=label_list, target_names=label_list, zero_division=0))\n",
        "\n",
        "    cm = confusion_matrix(y_true, y_pred, labels=label_list)\n",
        "    plt.figure(figsize=(6, 5))\n",
        "    sns.heatmap(cm, annot=True, fmt='d', xticklabels=label_list, yticklabels=label_list, cmap='Blues')\n",
        "    plt.title(f\"Confusion Matrix: {group_name}\")\n",
        "    plt.xlabel(\"Predicted\")\n",
        "    plt.ylabel(\"True\")\n",
        "    plt.tight_layout()\n",
        "    plt.show(block=False)\n",
        "\n",
        "emo_labels = [\"Neutral\", \"Anger\", \"Disgust\", \"Fear\", \"Sadness\", \"Happiness\"]\n",
        "\n",
        "evaluate_group(group1_pred, \"Group 1 - Audio Only\", label_list=emo_labels)\n",
        "evaluate_group(group2_pred, \"Group 2 - Audio Only\", label_list=emo_labels)\n",
        "evaluate_group(group3_pred, \"Group 3 - Audio Only\", label_list=emo_labels)"
      ],
      "metadata": {
        "colab": {
          "base_uri": "https://localhost:8080/",
          "height": 1000
        },
        "id": "C5K2GRdv2M0Z",
        "outputId": "6e15a087-0e55-48a2-d3f5-7f55b808d8b0"
      },
      "id": "C5K2GRdv2M0Z",
      "execution_count": 40,
      "outputs": [
        {
          "output_type": "stream",
          "name": "stdout",
          "text": [
            "\n",
            " Evaluation for Group 1 - Audio Only\n",
            "🎯 Accuracy: 0.1379\n",
            "Warning: These classes are missing in this group: {'Happiness', 'Sadness'}\n",
            "\n",
            "Classification Report:\n",
            "              precision    recall  f1-score   support\n",
            "\n",
            "     Neutral       0.14      0.89      0.25         9\n",
            "       Anger       0.00      0.00      0.00         9\n",
            "     Disgust       0.00      0.00      0.00        10\n",
            "        Fear       0.00      0.00      0.00        10\n",
            "     Sadness       0.00      0.00      0.00         0\n",
            "   Happiness       0.00      0.00      0.00         0\n",
            "\n",
            "   micro avg       0.14      0.21      0.17        38\n",
            "   macro avg       0.02      0.15      0.04        38\n",
            "weighted avg       0.03      0.21      0.06        38\n",
            "\n"
          ]
        },
        {
          "output_type": "display_data",
          "data": {
            "text/plain": [
              "<Figure size 600x500 with 2 Axes>"
            ],
            "image/png": "[encoded data removed]"
          },
          "metadata": {}
        },
        {
          "output_type": "stream",
          "name": "stdout",
          "text": [
            "\n",
            " Evaluation for Group 2 - Audio Only\n",
            "🎯 Accuracy: 1.0000\n",
            "Warning: These classes are missing in this group: {'Anger', 'Fear', 'Disgust', 'Sadness', 'Happiness'}\n",
            "\n",
            "Classification Report:\n",
            "              precision    recall  f1-score   support\n",
            "\n",
            "     Neutral       1.00      1.00      1.00        60\n",
            "       Anger       0.00      0.00      0.00         0\n",
            "     Disgust       0.00      0.00      0.00         0\n",
            "        Fear       0.00      0.00      0.00         0\n",
            "     Sadness       0.00      0.00      0.00         0\n",
            "   Happiness       0.00      0.00      0.00         0\n",
            "\n",
            "    accuracy                           1.00        60\n",
            "   macro avg       0.17      0.17      0.17        60\n",
            "weighted avg       1.00      1.00      1.00        60\n",
            "\n"
          ]
        },
        {
          "output_type": "display_data",
          "data": {
            "text/plain": [
              "<Figure size 600x500 with 2 Axes>"
            ],
            "image/png": "[encoded data removed]"
          },
          "metadata": {}
        },
        {
          "output_type": "stream",
          "name": "stdout",
          "text": [
            "\n",
            " Evaluation for Group 3 - Audio Only\n",
            "🎯 Accuracy: 0.1833\n",
            "Warning: These classes are missing in this group: {'Happiness', 'Sadness'}\n",
            "\n",
            "Classification Report:\n",
            "              precision    recall  f1-score   support\n",
            "\n",
            "     Neutral       0.18      1.00      0.30        10\n",
            "       Anger       0.00      0.00      0.00        10\n",
            "     Disgust       0.00      0.00      0.00        10\n",
            "        Fear       0.33      0.10      0.15        10\n",
            "     Sadness       0.00      0.00      0.00         0\n",
            "   Happiness       0.00      0.00      0.00         0\n",
            "\n",
            "   micro avg       0.18      0.28      0.22        40\n",
            "   macro avg       0.08      0.18      0.08        40\n",
            "weighted avg       0.13      0.28      0.11        40\n",
            "\n"
          ]
        },
        {
          "output_type": "display_data",
          "data": {
            "text/plain": [
              "<Figure size 600x500 with 2 Axes>"
            ],
            "image/png": "[encoded data removed]"
          },
          "metadata": {}
        }
      ]
    },
    {
      "cell_type": "markdown",
      "source": [
        "### Audio + text"
      ],
      "metadata": {
        "id": "rEbosSE70WHi"
      },
      "id": "rEbosSE70WHi"
    },
    {
      "cell_type": "code",
      "source": [
        "import torch.nn.functional as F"
      ],
      "metadata": {
        "id": "2MVu55971nDy"
      },
      "id": "2MVu55971nDy",
      "execution_count": 32,
      "outputs": []
    },
    {
      "cell_type": "code",
      "source": [
        "# Audio + Text\n",
        "group1_pred_text = run_group(model_text_audio, group1_df, name=\"Group 1 - Audio + Text\")\n",
        "group2_pred_text = run_group(model_text_audio, group2_df, name=\"Group 2 - Audio + Text\")\n",
        "group3_pred_text = run_group(model_text_audio, group3_df, name=\"Group 3 - Audio + Text\")"
      ],
      "metadata": {
        "colab": {
          "base_uri": "https://localhost:8080/"
        },
        "id": "XE5XG8Syv14T",
        "outputId": "21c6babb-6340-40ba-cadd-8d918b8c5617"
      },
      "id": "XE5XG8Syv14T",
      "execution_count": 33,
      "outputs": [
        {
          "output_type": "stream",
          "name": "stdout",
          "text": [
            "\n",
            " Running: Group 1 - Audio + Text\n"
          ]
        },
        {
          "output_type": "stream",
          "name": "stderr",
          "text": [
            "/usr/local/lib/python3.11/dist-packages/transformers/models/whisper/generation_whisper.py:573: FutureWarning: The input name `inputs` is deprecated. Please make sure to use `input_features` instead.\n",
            "  warnings.warn(\n"
          ]
        },
        {
          "output_type": "stream",
          "name": "stdout",
          "text": [
            "\n",
            "Predicted Emotion: Neutral\n",
            "\n",
            "Emotion Probabilities:\n",
            "Neutral: 0.7648\n",
            "Anger: 0.0373\n",
            "Disgust: 0.0528\n",
            "Fear: 0.0648\n",
            "Sadness: 0.0339\n",
            "Happiness: 0.0463\n"
          ]
        },
        {
          "output_type": "stream",
          "name": "stderr",
          "text": [
            "/usr/local/lib/python3.11/dist-packages/transformers/models/whisper/generation_whisper.py:573: FutureWarning: The input name `inputs` is deprecated. Please make sure to use `input_features` instead.\n",
            "  warnings.warn(\n"
          ]
        },
        {
          "output_type": "stream",
          "name": "stdout",
          "text": [
            "\n",
            "Predicted Emotion: Neutral\n",
            "\n",
            "Emotion Probabilities:\n",
            "Neutral: 0.7552\n",
            "Anger: 0.0494\n",
            "Disgust: 0.0524\n",
            "Fear: 0.0615\n",
            "Sadness: 0.0331\n",
            "Happiness: 0.0484\n"
          ]
        },
        {
          "output_type": "stream",
          "name": "stderr",
          "text": [
            "/usr/local/lib/python3.11/dist-packages/transformers/models/whisper/generation_whisper.py:573: FutureWarning: The input name `inputs` is deprecated. Please make sure to use `input_features` instead.\n",
            "  warnings.warn(\n"
          ]
        },
        {
          "output_type": "stream",
          "name": "stdout",
          "text": [
            "\n",
            "Predicted Emotion: Neutral\n",
            "\n",
            "Emotion Probabilities:\n",
            "Neutral: 0.7884\n",
            "Anger: 0.0276\n",
            "Disgust: 0.0524\n",
            "Fear: 0.0586\n",
            "Sadness: 0.0304\n",
            "Happiness: 0.0425\n"
          ]
        },
        {
          "output_type": "stream",
          "name": "stderr",
          "text": [
            "/usr/local/lib/python3.11/dist-packages/transformers/models/whisper/generation_whisper.py:573: FutureWarning: The input name `inputs` is deprecated. Please make sure to use `input_features` instead.\n",
            "  warnings.warn(\n"
          ]
        },
        {
          "output_type": "stream",
          "name": "stdout",
          "text": [
            "\n",
            "Predicted Emotion: Neutral\n",
            "\n",
            "Emotion Probabilities:\n",
            "Neutral: 0.6046\n",
            "Anger: 0.0361\n",
            "Disgust: 0.0529\n",
            "Fear: 0.0649\n",
            "Sadness: 0.1965\n",
            "Happiness: 0.0450\n"
          ]
        },
        {
          "output_type": "stream",
          "name": "stderr",
          "text": [
            "/usr/local/lib/python3.11/dist-packages/transformers/models/whisper/generation_whisper.py:573: FutureWarning: The input name `inputs` is deprecated. Please make sure to use `input_features` instead.\n",
            "  warnings.warn(\n"
          ]
        },
        {
          "output_type": "stream",
          "name": "stdout",
          "text": [
            "\n",
            "Predicted Emotion: Happiness\n",
            "\n",
            "Emotion Probabilities:\n",
            "Neutral: 0.3110\n",
            "Anger: 0.0449\n",
            "Disgust: 0.0549\n",
            "Fear: 0.0696\n",
            "Sadness: 0.0345\n",
            "Happiness: 0.4851\n"
          ]
        },
        {
          "output_type": "stream",
          "name": "stderr",
          "text": [
            "/usr/local/lib/python3.11/dist-packages/transformers/models/whisper/generation_whisper.py:573: FutureWarning: The input name `inputs` is deprecated. Please make sure to use `input_features` instead.\n",
            "  warnings.warn(\n"
          ]
        },
        {
          "output_type": "stream",
          "name": "stdout",
          "text": [
            "\n",
            "Predicted Emotion: Neutral\n",
            "\n",
            "Emotion Probabilities:\n",
            "Neutral: 0.7011\n",
            "Anger: 0.0524\n",
            "Disgust: 0.0514\n",
            "Fear: 0.0636\n",
            "Sadness: 0.0322\n",
            "Happiness: 0.0993\n"
          ]
        },
        {
          "output_type": "stream",
          "name": "stderr",
          "text": [
            "/usr/local/lib/python3.11/dist-packages/transformers/models/whisper/generation_whisper.py:573: FutureWarning: The input name `inputs` is deprecated. Please make sure to use `input_features` instead.\n",
            "  warnings.warn(\n"
          ]
        },
        {
          "output_type": "stream",
          "name": "stdout",
          "text": [
            "\n",
            "Predicted Emotion: Neutral\n",
            "\n",
            "Emotion Probabilities:\n",
            "Neutral: 0.6164\n",
            "Anger: 0.1606\n",
            "Disgust: 0.0332\n",
            "Fear: 0.0782\n",
            "Sadness: 0.0377\n",
            "Happiness: 0.0739\n"
          ]
        },
        {
          "output_type": "stream",
          "name": "stderr",
          "text": [
            "/usr/local/lib/python3.11/dist-packages/transformers/models/whisper/generation_whisper.py:573: FutureWarning: The input name `inputs` is deprecated. Please make sure to use `input_features` instead.\n",
            "  warnings.warn(\n"
          ]
        },
        {
          "output_type": "stream",
          "name": "stdout",
          "text": [
            "\n",
            "Predicted Emotion: Neutral\n",
            "\n",
            "Emotion Probabilities:\n",
            "Neutral: 0.5138\n",
            "Anger: 0.2493\n",
            "Disgust: 0.0349\n",
            "Fear: 0.0929\n",
            "Sadness: 0.0399\n",
            "Happiness: 0.0691\n"
          ]
        },
        {
          "output_type": "stream",
          "name": "stderr",
          "text": [
            "/usr/local/lib/python3.11/dist-packages/transformers/models/whisper/generation_whisper.py:573: FutureWarning: The input name `inputs` is deprecated. Please make sure to use `input_features` instead.\n",
            "  warnings.warn(\n",
            "You seem to be using the pipelines sequentially on GPU. In order to maximize efficiency please use a dataset\n"
          ]
        },
        {
          "output_type": "stream",
          "name": "stdout",
          "text": [
            "\n",
            "Predicted Emotion: Anger\n",
            "\n",
            "Emotion Probabilities:\n",
            "Neutral: 0.2532\n",
            "Anger: 0.3393\n",
            "Disgust: 0.0432\n",
            "Fear: 0.2570\n",
            "Sadness: 0.0377\n",
            "Happiness: 0.0695\n"
          ]
        },
        {
          "output_type": "stream",
          "name": "stderr",
          "text": [
            "/usr/local/lib/python3.11/dist-packages/transformers/models/whisper/generation_whisper.py:573: FutureWarning: The input name `inputs` is deprecated. Please make sure to use `input_features` instead.\n",
            "  warnings.warn(\n"
          ]
        },
        {
          "output_type": "stream",
          "name": "stdout",
          "text": [
            "\n",
            "Predicted Emotion: Neutral\n",
            "\n",
            "Emotion Probabilities:\n",
            "Neutral: 0.5808\n",
            "Anger: 0.2000\n",
            "Disgust: 0.0268\n",
            "Fear: 0.0726\n",
            "Sadness: 0.0519\n",
            "Happiness: 0.0678\n"
          ]
        },
        {
          "output_type": "stream",
          "name": "stderr",
          "text": [
            "/usr/local/lib/python3.11/dist-packages/transformers/models/whisper/generation_whisper.py:573: FutureWarning: The input name `inputs` is deprecated. Please make sure to use `input_features` instead.\n",
            "  warnings.warn(\n"
          ]
        },
        {
          "output_type": "stream",
          "name": "stdout",
          "text": [
            "\n",
            "Predicted Emotion: Neutral\n",
            "\n",
            "Emotion Probabilities:\n",
            "Neutral: 0.6551\n",
            "Anger: 0.1149\n",
            "Disgust: 0.0403\n",
            "Fear: 0.0843\n",
            "Sadness: 0.0397\n",
            "Happiness: 0.0657\n"
          ]
        },
        {
          "output_type": "stream",
          "name": "stderr",
          "text": [
            "/usr/local/lib/python3.11/dist-packages/transformers/models/whisper/generation_whisper.py:573: FutureWarning: The input name `inputs` is deprecated. Please make sure to use `input_features` instead.\n",
            "  warnings.warn(\n"
          ]
        },
        {
          "output_type": "stream",
          "name": "stdout",
          "text": [
            "\n",
            "Predicted Emotion: Neutral\n",
            "\n",
            "Emotion Probabilities:\n",
            "Neutral: 0.5577\n",
            "Anger: 0.2464\n",
            "Disgust: 0.0206\n",
            "Fear: 0.0689\n",
            "Sadness: 0.0341\n",
            "Happiness: 0.0722\n"
          ]
        },
        {
          "output_type": "stream",
          "name": "stderr",
          "text": [
            "/usr/local/lib/python3.11/dist-packages/transformers/models/whisper/generation_whisper.py:573: FutureWarning: The input name `inputs` is deprecated. Please make sure to use `input_features` instead.\n",
            "  warnings.warn(\n"
          ]
        },
        {
          "output_type": "stream",
          "name": "stdout",
          "text": [
            "\n",
            "Predicted Emotion: Neutral\n",
            "\n",
            "Emotion Probabilities:\n",
            "Neutral: 0.7021\n",
            "Anger: 0.0792\n",
            "Disgust: 0.0479\n",
            "Fear: 0.0736\n",
            "Sadness: 0.0414\n",
            "Happiness: 0.0560\n"
          ]
        },
        {
          "output_type": "stream",
          "name": "stderr",
          "text": [
            "/usr/local/lib/python3.11/dist-packages/transformers/models/whisper/generation_whisper.py:573: FutureWarning: The input name `inputs` is deprecated. Please make sure to use `input_features` instead.\n",
            "  warnings.warn(\n"
          ]
        },
        {
          "output_type": "stream",
          "name": "stdout",
          "text": [
            "\n",
            "Predicted Emotion: Happiness\n",
            "\n",
            "Emotion Probabilities:\n",
            "Neutral: 0.2479\n",
            "Anger: 0.0694\n",
            "Disgust: 0.0500\n",
            "Fear: 0.0739\n",
            "Sadness: 0.0386\n",
            "Happiness: 0.5203\n"
          ]
        },
        {
          "output_type": "stream",
          "name": "stderr",
          "text": [
            "/usr/local/lib/python3.11/dist-packages/transformers/models/whisper/generation_whisper.py:573: FutureWarning: The input name `inputs` is deprecated. Please make sure to use `input_features` instead.\n",
            "  warnings.warn(\n"
          ]
        },
        {
          "output_type": "stream",
          "name": "stdout",
          "text": [
            "\n",
            "Predicted Emotion: Neutral\n",
            "\n",
            "Emotion Probabilities:\n",
            "Neutral: 0.5882\n",
            "Anger: 0.0511\n",
            "Disgust: 0.0548\n",
            "Fear: 0.1880\n",
            "Sadness: 0.0668\n",
            "Happiness: 0.0511\n"
          ]
        },
        {
          "output_type": "stream",
          "name": "stderr",
          "text": [
            "/usr/local/lib/python3.11/dist-packages/transformers/models/whisper/generation_whisper.py:573: FutureWarning: The input name `inputs` is deprecated. Please make sure to use `input_features` instead.\n",
            "  warnings.warn(\n"
          ]
        },
        {
          "output_type": "stream",
          "name": "stdout",
          "text": [
            "\n",
            "Predicted Emotion: Neutral\n",
            "\n",
            "Emotion Probabilities:\n",
            "Neutral: 0.7152\n",
            "Anger: 0.0712\n",
            "Disgust: 0.0474\n",
            "Fear: 0.0745\n",
            "Sadness: 0.0393\n",
            "Happiness: 0.0524\n"
          ]
        },
        {
          "output_type": "stream",
          "name": "stderr",
          "text": [
            "/usr/local/lib/python3.11/dist-packages/transformers/models/whisper/generation_whisper.py:573: FutureWarning: The input name `inputs` is deprecated. Please make sure to use `input_features` instead.\n",
            "  warnings.warn(\n"
          ]
        },
        {
          "output_type": "stream",
          "name": "stdout",
          "text": [
            "\n",
            "Predicted Emotion: Neutral\n",
            "\n",
            "Emotion Probabilities:\n",
            "Neutral: 0.4899\n",
            "Anger: 0.0937\n",
            "Disgust: 0.0816\n",
            "Fear: 0.1773\n",
            "Sadness: 0.1045\n",
            "Happiness: 0.0530\n"
          ]
        },
        {
          "output_type": "stream",
          "name": "stderr",
          "text": [
            "/usr/local/lib/python3.11/dist-packages/transformers/models/whisper/generation_whisper.py:573: FutureWarning: The input name `inputs` is deprecated. Please make sure to use `input_features` instead.\n",
            "  warnings.warn(\n"
          ]
        },
        {
          "output_type": "stream",
          "name": "stdout",
          "text": [
            "\n",
            "Predicted Emotion: Neutral\n",
            "\n",
            "Emotion Probabilities:\n",
            "Neutral: 0.5654\n",
            "Anger: 0.2249\n",
            "Disgust: 0.0217\n",
            "Fear: 0.0826\n",
            "Sadness: 0.0405\n",
            "Happiness: 0.0649\n"
          ]
        },
        {
          "output_type": "stream",
          "name": "stderr",
          "text": [
            "/usr/local/lib/python3.11/dist-packages/transformers/models/whisper/generation_whisper.py:573: FutureWarning: The input name `inputs` is deprecated. Please make sure to use `input_features` instead.\n",
            "  warnings.warn(\n"
          ]
        },
        {
          "output_type": "stream",
          "name": "stdout",
          "text": [
            "\n",
            "Predicted Emotion: Neutral\n",
            "\n",
            "Emotion Probabilities:\n",
            "Neutral: 0.5770\n",
            "Anger: 0.2231\n",
            "Disgust: 0.0239\n",
            "Fear: 0.0708\n",
            "Sadness: 0.0364\n",
            "Happiness: 0.0688\n"
          ]
        },
        {
          "output_type": "stream",
          "name": "stderr",
          "text": [
            "/usr/local/lib/python3.11/dist-packages/transformers/models/whisper/generation_whisper.py:573: FutureWarning: The input name `inputs` is deprecated. Please make sure to use `input_features` instead.\n",
            "  warnings.warn(\n"
          ]
        },
        {
          "output_type": "stream",
          "name": "stdout",
          "text": [
            "\n",
            "Predicted Emotion: Neutral\n",
            "\n",
            "Emotion Probabilities:\n",
            "Neutral: 0.5976\n",
            "Anger: 0.2094\n",
            "Disgust: 0.0251\n",
            "Fear: 0.0669\n",
            "Sadness: 0.0364\n",
            "Happiness: 0.0646\n"
          ]
        },
        {
          "output_type": "stream",
          "name": "stderr",
          "text": [
            "/usr/local/lib/python3.11/dist-packages/transformers/models/whisper/generation_whisper.py:573: FutureWarning: The input name `inputs` is deprecated. Please make sure to use `input_features` instead.\n",
            "  warnings.warn(\n"
          ]
        },
        {
          "output_type": "stream",
          "name": "stdout",
          "text": [
            "\n",
            "Predicted Emotion: Neutral\n",
            "\n",
            "Emotion Probabilities:\n",
            "Neutral: 0.5289\n",
            "Anger: 0.1832\n",
            "Disgust: 0.0575\n",
            "Fear: 0.0744\n",
            "Sadness: 0.0910\n",
            "Happiness: 0.0650\n"
          ]
        },
        {
          "output_type": "stream",
          "name": "stderr",
          "text": [
            "/usr/local/lib/python3.11/dist-packages/transformers/models/whisper/generation_whisper.py:573: FutureWarning: The input name `inputs` is deprecated. Please make sure to use `input_features` instead.\n",
            "  warnings.warn(\n"
          ]
        },
        {
          "output_type": "stream",
          "name": "stdout",
          "text": [
            "\n",
            "Predicted Emotion: Neutral\n",
            "\n",
            "Emotion Probabilities:\n",
            "Neutral: 0.5878\n",
            "Anger: 0.2151\n",
            "Disgust: 0.0262\n",
            "Fear: 0.0674\n",
            "Sadness: 0.0378\n",
            "Happiness: 0.0657\n"
          ]
        },
        {
          "output_type": "stream",
          "name": "stderr",
          "text": [
            "/usr/local/lib/python3.11/dist-packages/transformers/models/whisper/generation_whisper.py:573: FutureWarning: The input name `inputs` is deprecated. Please make sure to use `input_features` instead.\n",
            "  warnings.warn(\n"
          ]
        },
        {
          "output_type": "stream",
          "name": "stdout",
          "text": [
            "\n",
            "Predicted Emotion: Anger\n",
            "\n",
            "Emotion Probabilities:\n",
            "Neutral: 0.1616\n",
            "Anger: 0.4297\n",
            "Disgust: 0.1647\n",
            "Fear: 0.0727\n",
            "Sadness: 0.0987\n",
            "Happiness: 0.0726\n"
          ]
        },
        {
          "output_type": "stream",
          "name": "stderr",
          "text": [
            "/usr/local/lib/python3.11/dist-packages/transformers/models/whisper/generation_whisper.py:573: FutureWarning: The input name `inputs` is deprecated. Please make sure to use `input_features` instead.\n",
            "  warnings.warn(\n"
          ]
        },
        {
          "output_type": "stream",
          "name": "stdout",
          "text": [
            "\n",
            "Predicted Emotion: Disgust\n",
            "\n",
            "Emotion Probabilities:\n",
            "Neutral: 0.1195\n",
            "Anger: 0.2298\n",
            "Disgust: 0.3220\n",
            "Fear: 0.0701\n",
            "Sadness: 0.1915\n",
            "Happiness: 0.0671\n"
          ]
        },
        {
          "output_type": "stream",
          "name": "stderr",
          "text": [
            "/usr/local/lib/python3.11/dist-packages/transformers/models/whisper/generation_whisper.py:573: FutureWarning: The input name `inputs` is deprecated. Please make sure to use `input_features` instead.\n",
            "  warnings.warn(\n"
          ]
        },
        {
          "output_type": "stream",
          "name": "stdout",
          "text": [
            "\n",
            "Predicted Emotion: Neutral\n",
            "\n",
            "Emotion Probabilities:\n",
            "Neutral: 0.5868\n",
            "Anger: 0.2139\n",
            "Disgust: 0.0225\n",
            "Fear: 0.0708\n",
            "Sadness: 0.0351\n",
            "Happiness: 0.0708\n"
          ]
        },
        {
          "output_type": "stream",
          "name": "stderr",
          "text": [
            "/usr/local/lib/python3.11/dist-packages/transformers/models/whisper/generation_whisper.py:573: FutureWarning: The input name `inputs` is deprecated. Please make sure to use `input_features` instead.\n",
            "  warnings.warn(\n"
          ]
        },
        {
          "output_type": "stream",
          "name": "stdout",
          "text": [
            "\n",
            "Predicted Emotion: Anger\n",
            "\n",
            "Emotion Probabilities:\n",
            "Neutral: 0.0853\n",
            "Anger: 0.7092\n",
            "Disgust: 0.0251\n",
            "Fear: 0.0751\n",
            "Sadness: 0.0336\n",
            "Happiness: 0.0716\n"
          ]
        },
        {
          "output_type": "stream",
          "name": "stderr",
          "text": [
            "/usr/local/lib/python3.11/dist-packages/transformers/models/whisper/generation_whisper.py:573: FutureWarning: The input name `inputs` is deprecated. Please make sure to use `input_features` instead.\n",
            "  warnings.warn(\n"
          ]
        },
        {
          "output_type": "stream",
          "name": "stdout",
          "text": [
            "\n",
            "Predicted Emotion: Neutral\n",
            "\n",
            "Emotion Probabilities:\n",
            "Neutral: 0.5758\n",
            "Anger: 0.2230\n",
            "Disgust: 0.0219\n",
            "Fear: 0.0716\n",
            "Sadness: 0.0355\n",
            "Happiness: 0.0722\n"
          ]
        },
        {
          "output_type": "stream",
          "name": "stderr",
          "text": [
            "/usr/local/lib/python3.11/dist-packages/transformers/models/whisper/generation_whisper.py:573: FutureWarning: The input name `inputs` is deprecated. Please make sure to use `input_features` instead.\n",
            "  warnings.warn(\n"
          ]
        },
        {
          "output_type": "stream",
          "name": "stdout",
          "text": [
            "\n",
            "Predicted Emotion: Neutral\n",
            "\n",
            "Emotion Probabilities:\n",
            "Neutral: 0.3814\n",
            "Anger: 0.2318\n",
            "Disgust: 0.0266\n",
            "Fear: 0.2550\n",
            "Sadness: 0.0341\n",
            "Happiness: 0.0712\n"
          ]
        },
        {
          "output_type": "stream",
          "name": "stderr",
          "text": [
            "/usr/local/lib/python3.11/dist-packages/transformers/models/whisper/generation_whisper.py:573: FutureWarning: The input name `inputs` is deprecated. Please make sure to use `input_features` instead.\n",
            "  warnings.warn(\n"
          ]
        },
        {
          "output_type": "stream",
          "name": "stdout",
          "text": [
            "\n",
            "Predicted Emotion: Neutral\n",
            "\n",
            "Emotion Probabilities:\n",
            "Neutral: 0.5731\n",
            "Anger: 0.2234\n",
            "Disgust: 0.0215\n",
            "Fear: 0.0739\n",
            "Sadness: 0.0345\n",
            "Happiness: 0.0737\n"
          ]
        },
        {
          "output_type": "stream",
          "name": "stderr",
          "text": [
            "/usr/local/lib/python3.11/dist-packages/transformers/models/whisper/generation_whisper.py:573: FutureWarning: The input name `inputs` is deprecated. Please make sure to use `input_features` instead.\n",
            "  warnings.warn(\n"
          ]
        },
        {
          "output_type": "stream",
          "name": "stdout",
          "text": [
            "\n",
            "Predicted Emotion: Neutral\n",
            "\n",
            "Emotion Probabilities:\n",
            "Neutral: 0.5630\n",
            "Anger: 0.2413\n",
            "Disgust: 0.0207\n",
            "Fear: 0.0705\n",
            "Sadness: 0.0331\n",
            "Happiness: 0.0714\n"
          ]
        },
        {
          "output_type": "stream",
          "name": "stderr",
          "text": [
            "/usr/local/lib/python3.11/dist-packages/transformers/models/whisper/generation_whisper.py:573: FutureWarning: The input name `inputs` is deprecated. Please make sure to use `input_features` instead.\n",
            "  warnings.warn(\n"
          ]
        },
        {
          "output_type": "stream",
          "name": "stdout",
          "text": [
            "\n",
            "Predicted Emotion: Neutral\n",
            "\n",
            "Emotion Probabilities:\n",
            "Neutral: 0.5589\n",
            "Anger: 0.2096\n",
            "Disgust: 0.0397\n",
            "Fear: 0.0716\n",
            "Sadness: 0.0380\n",
            "Happiness: 0.0823\n"
          ]
        },
        {
          "output_type": "stream",
          "name": "stderr",
          "text": [
            "/usr/local/lib/python3.11/dist-packages/transformers/models/whisper/generation_whisper.py:573: FutureWarning: The input name `inputs` is deprecated. Please make sure to use `input_features` instead.\n",
            "  warnings.warn(\n"
          ]
        },
        {
          "output_type": "stream",
          "name": "stdout",
          "text": [
            "\n",
            "Predicted Emotion: Neutral\n",
            "\n",
            "Emotion Probabilities:\n",
            "Neutral: 0.6609\n",
            "Anger: 0.1465\n",
            "Disgust: 0.0329\n",
            "Fear: 0.0671\n",
            "Sadness: 0.0371\n",
            "Happiness: 0.0555\n"
          ]
        },
        {
          "output_type": "stream",
          "name": "stderr",
          "text": [
            "/usr/local/lib/python3.11/dist-packages/transformers/models/whisper/generation_whisper.py:573: FutureWarning: The input name `inputs` is deprecated. Please make sure to use `input_features` instead.\n",
            "  warnings.warn(\n"
          ]
        },
        {
          "output_type": "stream",
          "name": "stdout",
          "text": [
            "\n",
            "Predicted Emotion: Disgust\n",
            "\n",
            "Emotion Probabilities:\n",
            "Neutral: 0.3147\n",
            "Anger: 0.1393\n",
            "Disgust: 0.3710\n",
            "Fear: 0.0697\n",
            "Sadness: 0.0471\n",
            "Happiness: 0.0583\n"
          ]
        },
        {
          "output_type": "stream",
          "name": "stderr",
          "text": [
            "/usr/local/lib/python3.11/dist-packages/transformers/models/whisper/generation_whisper.py:573: FutureWarning: The input name `inputs` is deprecated. Please make sure to use `input_features` instead.\n",
            "  warnings.warn(\n"
          ]
        },
        {
          "output_type": "stream",
          "name": "stdout",
          "text": [
            "\n",
            "Predicted Emotion: Neutral\n",
            "\n",
            "Emotion Probabilities:\n",
            "Neutral: 0.3216\n",
            "Anger: 0.1659\n",
            "Disgust: 0.1063\n",
            "Fear: 0.2521\n",
            "Sadness: 0.0488\n",
            "Happiness: 0.1054\n"
          ]
        },
        {
          "output_type": "stream",
          "name": "stderr",
          "text": [
            "/usr/local/lib/python3.11/dist-packages/transformers/models/whisper/generation_whisper.py:573: FutureWarning: The input name `inputs` is deprecated. Please make sure to use `input_features` instead.\n",
            "  warnings.warn(\n"
          ]
        },
        {
          "output_type": "stream",
          "name": "stdout",
          "text": [
            "\n",
            "Predicted Emotion: Neutral\n",
            "\n",
            "Emotion Probabilities:\n",
            "Neutral: 0.6195\n",
            "Anger: 0.1499\n",
            "Disgust: 0.0356\n",
            "Fear: 0.0767\n",
            "Sadness: 0.0593\n",
            "Happiness: 0.0589\n"
          ]
        },
        {
          "output_type": "stream",
          "name": "stderr",
          "text": [
            "/usr/local/lib/python3.11/dist-packages/transformers/models/whisper/generation_whisper.py:573: FutureWarning: The input name `inputs` is deprecated. Please make sure to use `input_features` instead.\n",
            "  warnings.warn(\n"
          ]
        },
        {
          "output_type": "stream",
          "name": "stdout",
          "text": [
            "\n",
            "Predicted Emotion: Neutral\n",
            "\n",
            "Emotion Probabilities:\n",
            "Neutral: 0.2855\n",
            "Anger: 0.2526\n",
            "Disgust: 0.0423\n",
            "Fear: 0.1648\n",
            "Sadness: 0.0825\n",
            "Happiness: 0.1722\n"
          ]
        },
        {
          "output_type": "stream",
          "name": "stderr",
          "text": [
            "/usr/local/lib/python3.11/dist-packages/transformers/models/whisper/generation_whisper.py:573: FutureWarning: The input name `inputs` is deprecated. Please make sure to use `input_features` instead.\n",
            "  warnings.warn(\n"
          ]
        },
        {
          "output_type": "stream",
          "name": "stdout",
          "text": [
            "\n",
            "Predicted Emotion: Neutral\n",
            "\n",
            "Emotion Probabilities:\n",
            "Neutral: 0.6089\n",
            "Anger: 0.1817\n",
            "Disgust: 0.0284\n",
            "Fear: 0.0734\n",
            "Sadness: 0.0378\n",
            "Happiness: 0.0698\n"
          ]
        },
        {
          "output_type": "stream",
          "name": "stderr",
          "text": [
            "/usr/local/lib/python3.11/dist-packages/transformers/models/whisper/generation_whisper.py:573: FutureWarning: The input name `inputs` is deprecated. Please make sure to use `input_features` instead.\n",
            "  warnings.warn(\n"
          ]
        },
        {
          "output_type": "stream",
          "name": "stdout",
          "text": [
            "\n",
            "Predicted Emotion: Neutral\n",
            "\n",
            "Emotion Probabilities:\n",
            "Neutral: 0.6612\n",
            "Anger: 0.1171\n",
            "Disgust: 0.0414\n",
            "Fear: 0.0794\n",
            "Sadness: 0.0428\n",
            "Happiness: 0.0581\n"
          ]
        },
        {
          "output_type": "stream",
          "name": "stderr",
          "text": [
            "/usr/local/lib/python3.11/dist-packages/transformers/models/whisper/generation_whisper.py:573: FutureWarning: The input name `inputs` is deprecated. Please make sure to use `input_features` instead.\n",
            "  warnings.warn(\n"
          ]
        },
        {
          "output_type": "stream",
          "name": "stdout",
          "text": [
            "\n",
            "Predicted Emotion: Happiness\n",
            "\n",
            "Emotion Probabilities:\n",
            "Neutral: 0.1482\n",
            "Anger: 0.2187\n",
            "Disgust: 0.0245\n",
            "Fear: 0.0713\n",
            "Sadness: 0.0368\n",
            "Happiness: 0.5005\n"
          ]
        },
        {
          "output_type": "stream",
          "name": "stderr",
          "text": [
            "/usr/local/lib/python3.11/dist-packages/transformers/models/whisper/generation_whisper.py:573: FutureWarning: The input name `inputs` is deprecated. Please make sure to use `input_features` instead.\n",
            "  warnings.warn(\n"
          ]
        },
        {
          "output_type": "stream",
          "name": "stdout",
          "text": [
            "\n",
            "Predicted Emotion: Neutral\n",
            "\n",
            "Emotion Probabilities:\n",
            "Neutral: 0.6194\n",
            "Anger: 0.1241\n",
            "Disgust: 0.0431\n",
            "Fear: 0.0780\n",
            "Sadness: 0.0437\n",
            "Happiness: 0.0917\n"
          ]
        },
        {
          "output_type": "stream",
          "name": "stderr",
          "text": [
            "/usr/local/lib/python3.11/dist-packages/transformers/models/whisper/generation_whisper.py:573: FutureWarning: The input name `inputs` is deprecated. Please make sure to use `input_features` instead.\n",
            "  warnings.warn(\n"
          ]
        },
        {
          "output_type": "stream",
          "name": "stdout",
          "text": [
            "\n",
            "Predicted Emotion: Neutral\n",
            "\n",
            "Emotion Probabilities:\n",
            "Neutral: 0.6134\n",
            "Anger: 0.1770\n",
            "Disgust: 0.0311\n",
            "Fear: 0.0775\n",
            "Sadness: 0.0405\n",
            "Happiness: 0.0605\n"
          ]
        },
        {
          "output_type": "stream",
          "name": "stderr",
          "text": [
            "/usr/local/lib/python3.11/dist-packages/transformers/models/whisper/generation_whisper.py:573: FutureWarning: The input name `inputs` is deprecated. Please make sure to use `input_features` instead.\n",
            "  warnings.warn(\n"
          ]
        },
        {
          "output_type": "stream",
          "name": "stdout",
          "text": [
            "\n",
            "Predicted Emotion: Happiness\n",
            "\n",
            "Emotion Probabilities:\n",
            "Neutral: 0.1437\n",
            "Anger: 0.2076\n",
            "Disgust: 0.0246\n",
            "Fear: 0.0717\n",
            "Sadness: 0.0368\n",
            "Happiness: 0.5157\n"
          ]
        },
        {
          "output_type": "stream",
          "name": "stderr",
          "text": [
            "/usr/local/lib/python3.11/dist-packages/transformers/models/whisper/generation_whisper.py:573: FutureWarning: The input name `inputs` is deprecated. Please make sure to use `input_features` instead.\n",
            "  warnings.warn(\n"
          ]
        },
        {
          "output_type": "stream",
          "name": "stdout",
          "text": [
            "\n",
            "Predicted Emotion: Neutral\n",
            "\n",
            "Emotion Probabilities:\n",
            "Neutral: 0.5651\n",
            "Anger: 0.1434\n",
            "Disgust: 0.0299\n",
            "Fear: 0.1638\n",
            "Sadness: 0.0314\n",
            "Happiness: 0.0663\n"
          ]
        },
        {
          "output_type": "stream",
          "name": "stderr",
          "text": [
            "/usr/local/lib/python3.11/dist-packages/transformers/models/whisper/generation_whisper.py:573: FutureWarning: The input name `inputs` is deprecated. Please make sure to use `input_features` instead.\n",
            "  warnings.warn(\n"
          ]
        },
        {
          "output_type": "stream",
          "name": "stdout",
          "text": [
            "\n",
            "Predicted Emotion: Neutral\n",
            "\n",
            "Emotion Probabilities:\n",
            "Neutral: 0.4935\n",
            "Anger: 0.2290\n",
            "Disgust: 0.0188\n",
            "Fear: 0.1616\n",
            "Sadness: 0.0273\n",
            "Happiness: 0.0698\n"
          ]
        },
        {
          "output_type": "stream",
          "name": "stderr",
          "text": [
            "/usr/local/lib/python3.11/dist-packages/transformers/models/whisper/generation_whisper.py:573: FutureWarning: The input name `inputs` is deprecated. Please make sure to use `input_features` instead.\n",
            "  warnings.warn(\n"
          ]
        },
        {
          "output_type": "stream",
          "name": "stdout",
          "text": [
            "\n",
            "Predicted Emotion: Neutral\n",
            "\n",
            "Emotion Probabilities:\n",
            "Neutral: 0.5423\n",
            "Anger: 0.1699\n",
            "Disgust: 0.0252\n",
            "Fear: 0.1638\n",
            "Sadness: 0.0282\n",
            "Happiness: 0.0705\n"
          ]
        },
        {
          "output_type": "stream",
          "name": "stderr",
          "text": [
            "/usr/local/lib/python3.11/dist-packages/transformers/models/whisper/generation_whisper.py:573: FutureWarning: The input name `inputs` is deprecated. Please make sure to use `input_features` instead.\n",
            "  warnings.warn(\n"
          ]
        },
        {
          "output_type": "stream",
          "name": "stdout",
          "text": [
            "\n",
            "Predicted Emotion: Neutral\n",
            "\n",
            "Emotion Probabilities:\n",
            "Neutral: 0.5455\n",
            "Anger: 0.1646\n",
            "Disgust: 0.0281\n",
            "Fear: 0.1622\n",
            "Sadness: 0.0336\n",
            "Happiness: 0.0660\n"
          ]
        },
        {
          "output_type": "stream",
          "name": "stderr",
          "text": [
            "/usr/local/lib/python3.11/dist-packages/transformers/models/whisper/generation_whisper.py:573: FutureWarning: The input name `inputs` is deprecated. Please make sure to use `input_features` instead.\n",
            "  warnings.warn(\n"
          ]
        },
        {
          "output_type": "stream",
          "name": "stdout",
          "text": [
            "\n",
            "Predicted Emotion: Neutral\n",
            "\n",
            "Emotion Probabilities:\n",
            "Neutral: 0.5210\n",
            "Anger: 0.1919\n",
            "Disgust: 0.0259\n",
            "Fear: 0.1620\n",
            "Sadness: 0.0342\n",
            "Happiness: 0.0651\n"
          ]
        },
        {
          "output_type": "stream",
          "name": "stderr",
          "text": [
            "/usr/local/lib/python3.11/dist-packages/transformers/models/whisper/generation_whisper.py:573: FutureWarning: The input name `inputs` is deprecated. Please make sure to use `input_features` instead.\n",
            "  warnings.warn(\n"
          ]
        },
        {
          "output_type": "stream",
          "name": "stdout",
          "text": [
            "\n",
            "Predicted Emotion: Neutral\n",
            "\n",
            "Emotion Probabilities:\n",
            "Neutral: 0.4888\n",
            "Anger: 0.2306\n",
            "Disgust: 0.0190\n",
            "Fear: 0.1624\n",
            "Sadness: 0.0276\n",
            "Happiness: 0.0716\n"
          ]
        },
        {
          "output_type": "stream",
          "name": "stderr",
          "text": [
            "/usr/local/lib/python3.11/dist-packages/transformers/models/whisper/generation_whisper.py:573: FutureWarning: The input name `inputs` is deprecated. Please make sure to use `input_features` instead.\n",
            "  warnings.warn(\n"
          ]
        },
        {
          "output_type": "stream",
          "name": "stdout",
          "text": [
            "\n",
            "Predicted Emotion: Fear\n",
            "\n",
            "Emotion Probabilities:\n",
            "Neutral: 0.1047\n",
            "Anger: 0.2269\n",
            "Disgust: 0.0225\n",
            "Fear: 0.5388\n",
            "Sadness: 0.0321\n",
            "Happiness: 0.0749\n"
          ]
        },
        {
          "output_type": "stream",
          "name": "stderr",
          "text": [
            "/usr/local/lib/python3.11/dist-packages/transformers/models/whisper/generation_whisper.py:573: FutureWarning: The input name `inputs` is deprecated. Please make sure to use `input_features` instead.\n",
            "  warnings.warn(\n"
          ]
        },
        {
          "output_type": "stream",
          "name": "stdout",
          "text": [
            "\n",
            "Predicted Emotion: Fear\n",
            "\n",
            "Emotion Probabilities:\n",
            "Neutral: 0.0746\n",
            "Anger: 0.2661\n",
            "Disgust: 0.0219\n",
            "Fear: 0.5398\n",
            "Sadness: 0.0275\n",
            "Happiness: 0.0701\n"
          ]
        },
        {
          "output_type": "stream",
          "name": "stderr",
          "text": [
            "/usr/local/lib/python3.11/dist-packages/transformers/models/whisper/generation_whisper.py:573: FutureWarning: The input name `inputs` is deprecated. Please make sure to use `input_features` instead.\n",
            "  warnings.warn(\n"
          ]
        },
        {
          "output_type": "stream",
          "name": "stdout",
          "text": [
            "\n",
            "Predicted Emotion: Fear\n",
            "\n",
            "Emotion Probabilities:\n",
            "Neutral: 0.2065\n",
            "Anger: 0.1138\n",
            "Disgust: 0.0375\n",
            "Fear: 0.5432\n",
            "Sadness: 0.0335\n",
            "Happiness: 0.0656\n"
          ]
        },
        {
          "output_type": "stream",
          "name": "stderr",
          "text": [
            "/usr/local/lib/python3.11/dist-packages/transformers/models/whisper/generation_whisper.py:573: FutureWarning: The input name `inputs` is deprecated. Please make sure to use `input_features` instead.\n",
            "  warnings.warn(\n"
          ]
        },
        {
          "output_type": "stream",
          "name": "stdout",
          "text": [
            "\n",
            "Predicted Emotion: Fear\n",
            "\n",
            "Emotion Probabilities:\n",
            "Neutral: 0.1990\n",
            "Anger: 0.1566\n",
            "Disgust: 0.0308\n",
            "Fear: 0.5051\n",
            "Sadness: 0.0327\n",
            "Happiness: 0.0758\n"
          ]
        },
        {
          "output_type": "stream",
          "name": "stderr",
          "text": [
            "/usr/local/lib/python3.11/dist-packages/transformers/models/whisper/generation_whisper.py:573: FutureWarning: The input name `inputs` is deprecated. Please make sure to use `input_features` instead.\n",
            "  warnings.warn(\n"
          ]
        },
        {
          "output_type": "stream",
          "name": "stdout",
          "text": [
            "\n",
            "Predicted Emotion: Fear\n",
            "\n",
            "Emotion Probabilities:\n",
            "Neutral: 0.1440\n",
            "Anger: 0.1776\n",
            "Disgust: 0.0279\n",
            "Fear: 0.5417\n",
            "Sadness: 0.0332\n",
            "Happiness: 0.0756\n"
          ]
        },
        {
          "output_type": "stream",
          "name": "stderr",
          "text": [
            "/usr/local/lib/python3.11/dist-packages/transformers/models/whisper/generation_whisper.py:573: FutureWarning: The input name `inputs` is deprecated. Please make sure to use `input_features` instead.\n",
            "  warnings.warn(\n"
          ]
        },
        {
          "output_type": "stream",
          "name": "stdout",
          "text": [
            "\n",
            "Predicted Emotion: Fear\n",
            "\n",
            "Emotion Probabilities:\n",
            "Neutral: 0.0717\n",
            "Anger: 0.2352\n",
            "Disgust: 0.0243\n",
            "Fear: 0.5575\n",
            "Sadness: 0.0333\n",
            "Happiness: 0.0779\n"
          ]
        },
        {
          "output_type": "stream",
          "name": "stderr",
          "text": [
            "/usr/local/lib/python3.11/dist-packages/transformers/models/whisper/generation_whisper.py:573: FutureWarning: The input name `inputs` is deprecated. Please make sure to use `input_features` instead.\n",
            "  warnings.warn(\n"
          ]
        },
        {
          "output_type": "stream",
          "name": "stdout",
          "text": [
            "\n",
            "Predicted Emotion: Neutral\n",
            "\n",
            "Emotion Probabilities:\n",
            "Neutral: 0.5226\n",
            "Anger: 0.2452\n",
            "Disgust: 0.0256\n",
            "Fear: 0.0702\n",
            "Sadness: 0.0575\n",
            "Happiness: 0.0789\n"
          ]
        },
        {
          "output_type": "stream",
          "name": "stderr",
          "text": [
            "/usr/local/lib/python3.11/dist-packages/transformers/models/whisper/generation_whisper.py:573: FutureWarning: The input name `inputs` is deprecated. Please make sure to use `input_features` instead.\n",
            "  warnings.warn(\n"
          ]
        },
        {
          "output_type": "stream",
          "name": "stdout",
          "text": [
            "\n",
            "Predicted Emotion: Neutral\n",
            "\n",
            "Emotion Probabilities:\n",
            "Neutral: 0.3523\n",
            "Anger: 0.2767\n",
            "Disgust: 0.0805\n",
            "Fear: 0.0721\n",
            "Sadness: 0.1450\n",
            "Happiness: 0.0735\n"
          ]
        },
        {
          "output_type": "stream",
          "name": "stderr",
          "text": [
            "/usr/local/lib/python3.11/dist-packages/transformers/models/whisper/generation_whisper.py:573: FutureWarning: The input name `inputs` is deprecated. Please make sure to use `input_features` instead.\n",
            "  warnings.warn(\n"
          ]
        },
        {
          "output_type": "stream",
          "name": "stdout",
          "text": [
            "\n",
            "Predicted Emotion: Neutral\n",
            "\n",
            "Emotion Probabilities:\n",
            "Neutral: 0.5830\n",
            "Anger: 0.2073\n",
            "Disgust: 0.0249\n",
            "Fear: 0.0747\n",
            "Sadness: 0.0376\n",
            "Happiness: 0.0725\n"
          ]
        },
        {
          "output_type": "stream",
          "name": "stderr",
          "text": [
            "/usr/local/lib/python3.11/dist-packages/transformers/models/whisper/generation_whisper.py:573: FutureWarning: The input name `inputs` is deprecated. Please make sure to use `input_features` instead.\n",
            "  warnings.warn(\n"
          ]
        },
        {
          "output_type": "stream",
          "name": "stdout",
          "text": [
            "\n",
            "Predicted Emotion: Neutral\n",
            "\n",
            "Emotion Probabilities:\n",
            "Neutral: 0.5747\n",
            "Anger: 0.2222\n",
            "Disgust: 0.0215\n",
            "Fear: 0.0698\n",
            "Sadness: 0.0409\n",
            "Happiness: 0.0709\n",
            "\n",
            " Running: Group 2 - Audio + Text\n"
          ]
        },
        {
          "output_type": "stream",
          "name": "stderr",
          "text": [
            "/usr/local/lib/python3.11/dist-packages/transformers/models/whisper/generation_whisper.py:573: FutureWarning: The input name `inputs` is deprecated. Please make sure to use `input_features` instead.\n",
            "  warnings.warn(\n"
          ]
        },
        {
          "output_type": "stream",
          "name": "stdout",
          "text": [
            "\n",
            "Predicted Emotion: Neutral\n",
            "\n",
            "Emotion Probabilities:\n",
            "Neutral: 0.7798\n",
            "Anger: 0.0329\n",
            "Disgust: 0.0529\n",
            "Fear: 0.0609\n",
            "Sadness: 0.0328\n",
            "Happiness: 0.0406\n"
          ]
        },
        {
          "output_type": "stream",
          "name": "stderr",
          "text": [
            "/usr/local/lib/python3.11/dist-packages/transformers/models/whisper/generation_whisper.py:573: FutureWarning: The input name `inputs` is deprecated. Please make sure to use `input_features` instead.\n",
            "  warnings.warn(\n"
          ]
        },
        {
          "output_type": "stream",
          "name": "stdout",
          "text": [
            "\n",
            "Predicted Emotion: Neutral\n",
            "\n",
            "Emotion Probabilities:\n",
            "Neutral: 0.4476\n",
            "Anger: 0.0418\n",
            "Disgust: 0.0506\n",
            "Fear: 0.0603\n",
            "Sadness: 0.0358\n",
            "Happiness: 0.3639\n"
          ]
        },
        {
          "output_type": "stream",
          "name": "stderr",
          "text": [
            "/usr/local/lib/python3.11/dist-packages/transformers/models/whisper/generation_whisper.py:573: FutureWarning: The input name `inputs` is deprecated. Please make sure to use `input_features` instead.\n",
            "  warnings.warn(\n"
          ]
        },
        {
          "output_type": "stream",
          "name": "stdout",
          "text": [
            "\n",
            "Predicted Emotion: Neutral\n",
            "\n",
            "Emotion Probabilities:\n",
            "Neutral: 0.7396\n",
            "Anger: 0.0369\n",
            "Disgust: 0.0514\n",
            "Fear: 0.0617\n",
            "Sadness: 0.0331\n",
            "Happiness: 0.0772\n"
          ]
        },
        {
          "output_type": "stream",
          "name": "stderr",
          "text": [
            "/usr/local/lib/python3.11/dist-packages/transformers/models/whisper/generation_whisper.py:573: FutureWarning: The input name `inputs` is deprecated. Please make sure to use `input_features` instead.\n",
            "  warnings.warn(\n"
          ]
        },
        {
          "output_type": "stream",
          "name": "stdout",
          "text": [
            "\n",
            "Predicted Emotion: Neutral\n",
            "\n",
            "Emotion Probabilities:\n",
            "Neutral: 0.7469\n",
            "Anger: 0.0448\n",
            "Disgust: 0.0487\n",
            "Fear: 0.0615\n",
            "Sadness: 0.0357\n",
            "Happiness: 0.0624\n"
          ]
        },
        {
          "output_type": "stream",
          "name": "stderr",
          "text": [
            "/usr/local/lib/python3.11/dist-packages/transformers/models/whisper/generation_whisper.py:573: FutureWarning: The input name `inputs` is deprecated. Please make sure to use `input_features` instead.\n",
            "  warnings.warn(\n"
          ]
        },
        {
          "output_type": "stream",
          "name": "stdout",
          "text": [
            "\n",
            "Predicted Emotion: Happiness\n",
            "\n",
            "Emotion Probabilities:\n",
            "Neutral: 0.3002\n",
            "Anger: 0.0380\n",
            "Disgust: 0.0493\n",
            "Fear: 0.0580\n",
            "Sadness: 0.0308\n",
            "Happiness: 0.5237\n"
          ]
        },
        {
          "output_type": "stream",
          "name": "stderr",
          "text": [
            "/usr/local/lib/python3.11/dist-packages/transformers/models/whisper/generation_whisper.py:573: FutureWarning: The input name `inputs` is deprecated. Please make sure to use `input_features` instead.\n",
            "  warnings.warn(\n"
          ]
        },
        {
          "output_type": "stream",
          "name": "stdout",
          "text": [
            "\n",
            "Predicted Emotion: Neutral\n",
            "\n",
            "Emotion Probabilities:\n",
            "Neutral: 0.7575\n",
            "Anger: 0.0512\n",
            "Disgust: 0.0489\n",
            "Fear: 0.0604\n",
            "Sadness: 0.0315\n",
            "Happiness: 0.0505\n"
          ]
        },
        {
          "output_type": "stream",
          "name": "stderr",
          "text": [
            "/usr/local/lib/python3.11/dist-packages/transformers/models/whisper/generation_whisper.py:573: FutureWarning: The input name `inputs` is deprecated. Please make sure to use `input_features` instead.\n",
            "  warnings.warn(\n"
          ]
        },
        {
          "output_type": "stream",
          "name": "stdout",
          "text": [
            "\n",
            "Predicted Emotion: Sadness\n",
            "\n",
            "Emotion Probabilities:\n",
            "Neutral: 0.1811\n",
            "Anger: 0.1229\n",
            "Disgust: 0.0413\n",
            "Fear: 0.0825\n",
            "Sadness: 0.5086\n",
            "Happiness: 0.0636\n"
          ]
        },
        {
          "output_type": "stream",
          "name": "stderr",
          "text": [
            "/usr/local/lib/python3.11/dist-packages/transformers/models/whisper/generation_whisper.py:573: FutureWarning: The input name `inputs` is deprecated. Please make sure to use `input_features` instead.\n",
            "  warnings.warn(\n"
          ]
        },
        {
          "output_type": "stream",
          "name": "stdout",
          "text": [
            "\n",
            "Predicted Emotion: Neutral\n",
            "\n",
            "Emotion Probabilities:\n",
            "Neutral: 0.4136\n",
            "Anger: 0.1576\n",
            "Disgust: 0.1402\n",
            "Fear: 0.1208\n",
            "Sadness: 0.0984\n",
            "Happiness: 0.0694\n"
          ]
        },
        {
          "output_type": "stream",
          "name": "stderr",
          "text": [
            "/usr/local/lib/python3.11/dist-packages/transformers/models/whisper/generation_whisper.py:573: FutureWarning: The input name `inputs` is deprecated. Please make sure to use `input_features` instead.\n",
            "  warnings.warn(\n"
          ]
        },
        {
          "output_type": "stream",
          "name": "stdout",
          "text": [
            "\n",
            "Predicted Emotion: Anger\n",
            "\n",
            "Emotion Probabilities:\n",
            "Neutral: 0.1581\n",
            "Anger: 0.3836\n",
            "Disgust: 0.0313\n",
            "Fear: 0.2024\n",
            "Sadness: 0.0956\n",
            "Happiness: 0.1289\n"
          ]
        },
        {
          "output_type": "stream",
          "name": "stderr",
          "text": [
            "/usr/local/lib/python3.11/dist-packages/transformers/models/whisper/generation_whisper.py:573: FutureWarning: The input name `inputs` is deprecated. Please make sure to use `input_features` instead.\n",
            "  warnings.warn(\n"
          ]
        },
        {
          "output_type": "stream",
          "name": "stdout",
          "text": [
            "\n",
            "Predicted Emotion: Happiness\n",
            "\n",
            "Emotion Probabilities:\n",
            "Neutral: 0.1786\n",
            "Anger: 0.1421\n",
            "Disgust: 0.0530\n",
            "Fear: 0.0831\n",
            "Sadness: 0.0406\n",
            "Happiness: 0.5027\n"
          ]
        },
        {
          "output_type": "stream",
          "name": "stderr",
          "text": [
            "/usr/local/lib/python3.11/dist-packages/transformers/models/whisper/generation_whisper.py:573: FutureWarning: The input name `inputs` is deprecated. Please make sure to use `input_features` instead.\n",
            "  warnings.warn(\n"
          ]
        },
        {
          "output_type": "stream",
          "name": "stdout",
          "text": [
            "\n",
            "Predicted Emotion: Neutral\n",
            "\n",
            "Emotion Probabilities:\n",
            "Neutral: 0.6690\n",
            "Anger: 0.1089\n",
            "Disgust: 0.0489\n",
            "Fear: 0.0718\n",
            "Sadness: 0.0380\n",
            "Happiness: 0.0635\n"
          ]
        },
        {
          "output_type": "stream",
          "name": "stderr",
          "text": [
            "/usr/local/lib/python3.11/dist-packages/transformers/models/whisper/generation_whisper.py:573: FutureWarning: The input name `inputs` is deprecated. Please make sure to use `input_features` instead.\n",
            "  warnings.warn(\n"
          ]
        },
        {
          "output_type": "stream",
          "name": "stdout",
          "text": [
            "\n",
            "Predicted Emotion: Neutral\n",
            "\n",
            "Emotion Probabilities:\n",
            "Neutral: 0.4018\n",
            "Anger: 0.1567\n",
            "Disgust: 0.1278\n",
            "Fear: 0.1847\n",
            "Sadness: 0.0587\n",
            "Happiness: 0.0704\n"
          ]
        },
        {
          "output_type": "stream",
          "name": "stderr",
          "text": [
            "/usr/local/lib/python3.11/dist-packages/transformers/models/whisper/generation_whisper.py:573: FutureWarning: The input name `inputs` is deprecated. Please make sure to use `input_features` instead.\n",
            "  warnings.warn(\n"
          ]
        },
        {
          "output_type": "stream",
          "name": "stdout",
          "text": [
            "\n",
            "Predicted Emotion: Neutral\n",
            "\n",
            "Emotion Probabilities:\n",
            "Neutral: 0.6795\n",
            "Anger: 0.0829\n",
            "Disgust: 0.0444\n",
            "Fear: 0.0681\n",
            "Sadness: 0.0615\n",
            "Happiness: 0.0636\n"
          ]
        },
        {
          "output_type": "stream",
          "name": "stderr",
          "text": [
            "/usr/local/lib/python3.11/dist-packages/transformers/models/whisper/generation_whisper.py:573: FutureWarning: The input name `inputs` is deprecated. Please make sure to use `input_features` instead.\n",
            "  warnings.warn(\n"
          ]
        },
        {
          "output_type": "stream",
          "name": "stdout",
          "text": [
            "\n",
            "Predicted Emotion: Neutral\n",
            "\n",
            "Emotion Probabilities:\n",
            "Neutral: 0.6348\n",
            "Anger: 0.1225\n",
            "Disgust: 0.0508\n",
            "Fear: 0.0743\n",
            "Sadness: 0.0488\n",
            "Happiness: 0.0687\n"
          ]
        },
        {
          "output_type": "stream",
          "name": "stderr",
          "text": [
            "/usr/local/lib/python3.11/dist-packages/transformers/models/whisper/generation_whisper.py:573: FutureWarning: The input name `inputs` is deprecated. Please make sure to use `input_features` instead.\n",
            "  warnings.warn(\n"
          ]
        },
        {
          "output_type": "stream",
          "name": "stdout",
          "text": [
            "\n",
            "Predicted Emotion: Neutral\n",
            "\n",
            "Emotion Probabilities:\n",
            "Neutral: 0.6565\n",
            "Anger: 0.1118\n",
            "Disgust: 0.0485\n",
            "Fear: 0.0825\n",
            "Sadness: 0.0468\n",
            "Happiness: 0.0539\n"
          ]
        },
        {
          "output_type": "stream",
          "name": "stderr",
          "text": [
            "/usr/local/lib/python3.11/dist-packages/transformers/models/whisper/generation_whisper.py:573: FutureWarning: The input name `inputs` is deprecated. Please make sure to use `input_features` instead.\n",
            "  warnings.warn(\n"
          ]
        },
        {
          "output_type": "stream",
          "name": "stdout",
          "text": [
            "\n",
            "Predicted Emotion: Sadness\n",
            "\n",
            "Emotion Probabilities:\n",
            "Neutral: 0.1882\n",
            "Anger: 0.1630\n",
            "Disgust: 0.0515\n",
            "Fear: 0.1149\n",
            "Sadness: 0.3066\n",
            "Happiness: 0.1758\n"
          ]
        },
        {
          "output_type": "stream",
          "name": "stderr",
          "text": [
            "/usr/local/lib/python3.11/dist-packages/transformers/models/whisper/generation_whisper.py:573: FutureWarning: The input name `inputs` is deprecated. Please make sure to use `input_features` instead.\n",
            "  warnings.warn(\n"
          ]
        },
        {
          "output_type": "stream",
          "name": "stdout",
          "text": [
            "\n",
            "Predicted Emotion: Neutral\n",
            "\n",
            "Emotion Probabilities:\n",
            "Neutral: 0.6013\n",
            "Anger: 0.1779\n",
            "Disgust: 0.0333\n",
            "Fear: 0.0712\n",
            "Sadness: 0.0402\n",
            "Happiness: 0.0762\n"
          ]
        },
        {
          "output_type": "stream",
          "name": "stderr",
          "text": [
            "/usr/local/lib/python3.11/dist-packages/transformers/models/whisper/generation_whisper.py:573: FutureWarning: The input name `inputs` is deprecated. Please make sure to use `input_features` instead.\n",
            "  warnings.warn(\n"
          ]
        },
        {
          "output_type": "stream",
          "name": "stdout",
          "text": [
            "\n",
            "Predicted Emotion: Neutral\n",
            "\n",
            "Emotion Probabilities:\n",
            "Neutral: 0.6195\n",
            "Anger: 0.1533\n",
            "Disgust: 0.0393\n",
            "Fear: 0.0729\n",
            "Sadness: 0.0402\n",
            "Happiness: 0.0748\n"
          ]
        },
        {
          "output_type": "stream",
          "name": "stderr",
          "text": [
            "/usr/local/lib/python3.11/dist-packages/transformers/models/whisper/generation_whisper.py:573: FutureWarning: The input name `inputs` is deprecated. Please make sure to use `input_features` instead.\n",
            "  warnings.warn(\n"
          ]
        },
        {
          "output_type": "stream",
          "name": "stdout",
          "text": [
            "\n",
            "Predicted Emotion: Neutral\n",
            "\n",
            "Emotion Probabilities:\n",
            "Neutral: 0.3559\n",
            "Anger: 0.1600\n",
            "Disgust: 0.1497\n",
            "Fear: 0.0723\n",
            "Sadness: 0.0442\n",
            "Happiness: 0.2179\n"
          ]
        },
        {
          "output_type": "stream",
          "name": "stderr",
          "text": [
            "/usr/local/lib/python3.11/dist-packages/transformers/models/whisper/generation_whisper.py:573: FutureWarning: The input name `inputs` is deprecated. Please make sure to use `input_features` instead.\n",
            "  warnings.warn(\n"
          ]
        },
        {
          "output_type": "stream",
          "name": "stdout",
          "text": [
            "\n",
            "Predicted Emotion: Neutral\n",
            "\n",
            "Emotion Probabilities:\n",
            "Neutral: 0.6247\n",
            "Anger: 0.1762\n",
            "Disgust: 0.0308\n",
            "Fear: 0.0677\n",
            "Sadness: 0.0403\n",
            "Happiness: 0.0603\n"
          ]
        },
        {
          "output_type": "stream",
          "name": "stderr",
          "text": [
            "/usr/local/lib/python3.11/dist-packages/transformers/models/whisper/generation_whisper.py:573: FutureWarning: The input name `inputs` is deprecated. Please make sure to use `input_features` instead.\n",
            "  warnings.warn(\n"
          ]
        },
        {
          "output_type": "stream",
          "name": "stdout",
          "text": [
            "\n",
            "Predicted Emotion: Happiness\n",
            "\n",
            "Emotion Probabilities:\n",
            "Neutral: 0.2142\n",
            "Anger: 0.2185\n",
            "Disgust: 0.0321\n",
            "Fear: 0.0947\n",
            "Sadness: 0.1093\n",
            "Happiness: 0.3312\n"
          ]
        },
        {
          "output_type": "stream",
          "name": "stderr",
          "text": [
            "/usr/local/lib/python3.11/dist-packages/transformers/models/whisper/generation_whisper.py:573: FutureWarning: The input name `inputs` is deprecated. Please make sure to use `input_features` instead.\n",
            "  warnings.warn(\n"
          ]
        },
        {
          "output_type": "stream",
          "name": "stdout",
          "text": [
            "\n",
            "Predicted Emotion: Neutral\n",
            "\n",
            "Emotion Probabilities:\n",
            "Neutral: 0.5738\n",
            "Anger: 0.1938\n",
            "Disgust: 0.0362\n",
            "Fear: 0.0709\n",
            "Sadness: 0.0618\n",
            "Happiness: 0.0635\n"
          ]
        },
        {
          "output_type": "stream",
          "name": "stderr",
          "text": [
            "/usr/local/lib/python3.11/dist-packages/transformers/models/whisper/generation_whisper.py:573: FutureWarning: The input name `inputs` is deprecated. Please make sure to use `input_features` instead.\n",
            "  warnings.warn(\n"
          ]
        },
        {
          "output_type": "stream",
          "name": "stdout",
          "text": [
            "\n",
            "Predicted Emotion: Sadness\n",
            "\n",
            "Emotion Probabilities:\n",
            "Neutral: 0.1408\n",
            "Anger: 0.1691\n",
            "Disgust: 0.0336\n",
            "Fear: 0.0679\n",
            "Sadness: 0.5318\n",
            "Happiness: 0.0569\n"
          ]
        },
        {
          "output_type": "stream",
          "name": "stderr",
          "text": [
            "/usr/local/lib/python3.11/dist-packages/transformers/models/whisper/generation_whisper.py:573: FutureWarning: The input name `inputs` is deprecated. Please make sure to use `input_features` instead.\n",
            "  warnings.warn(\n"
          ]
        },
        {
          "output_type": "stream",
          "name": "stdout",
          "text": [
            "\n",
            "Predicted Emotion: Neutral\n",
            "\n",
            "Emotion Probabilities:\n",
            "Neutral: 0.5956\n",
            "Anger: 0.1872\n",
            "Disgust: 0.0294\n",
            "Fear: 0.0679\n",
            "Sadness: 0.0394\n",
            "Happiness: 0.0805\n"
          ]
        },
        {
          "output_type": "stream",
          "name": "stderr",
          "text": [
            "/usr/local/lib/python3.11/dist-packages/transformers/models/whisper/generation_whisper.py:573: FutureWarning: The input name `inputs` is deprecated. Please make sure to use `input_features` instead.\n",
            "  warnings.warn(\n"
          ]
        },
        {
          "output_type": "stream",
          "name": "stdout",
          "text": [
            "\n",
            "Predicted Emotion: Happiness\n",
            "\n",
            "Emotion Probabilities:\n",
            "Neutral: 0.1951\n",
            "Anger: 0.2533\n",
            "Disgust: 0.0333\n",
            "Fear: 0.0677\n",
            "Sadness: 0.0343\n",
            "Happiness: 0.4163\n"
          ]
        },
        {
          "output_type": "stream",
          "name": "stderr",
          "text": [
            "/usr/local/lib/python3.11/dist-packages/transformers/models/whisper/generation_whisper.py:573: FutureWarning: The input name `inputs` is deprecated. Please make sure to use `input_features` instead.\n",
            "  warnings.warn(\n"
          ]
        },
        {
          "output_type": "stream",
          "name": "stdout",
          "text": [
            "\n",
            "Predicted Emotion: Sadness\n",
            "\n",
            "Emotion Probabilities:\n",
            "Neutral: 0.2653\n",
            "Anger: 0.2430\n",
            "Disgust: 0.0280\n",
            "Fear: 0.0881\n",
            "Sadness: 0.3047\n",
            "Happiness: 0.0709\n"
          ]
        },
        {
          "output_type": "stream",
          "name": "stderr",
          "text": [
            "/usr/local/lib/python3.11/dist-packages/transformers/models/whisper/generation_whisper.py:573: FutureWarning: The input name `inputs` is deprecated. Please make sure to use `input_features` instead.\n",
            "  warnings.warn(\n"
          ]
        },
        {
          "output_type": "stream",
          "name": "stdout",
          "text": [
            "\n",
            "Predicted Emotion: Neutral\n",
            "\n",
            "Emotion Probabilities:\n",
            "Neutral: 0.5896\n",
            "Anger: 0.2090\n",
            "Disgust: 0.0232\n",
            "Fear: 0.0708\n",
            "Sadness: 0.0360\n",
            "Happiness: 0.0714\n"
          ]
        },
        {
          "output_type": "stream",
          "name": "stderr",
          "text": [
            "/usr/local/lib/python3.11/dist-packages/transformers/models/whisper/generation_whisper.py:573: FutureWarning: The input name `inputs` is deprecated. Please make sure to use `input_features` instead.\n",
            "  warnings.warn(\n"
          ]
        },
        {
          "output_type": "stream",
          "name": "stdout",
          "text": [
            "\n",
            "Predicted Emotion: Neutral\n",
            "\n",
            "Emotion Probabilities:\n",
            "Neutral: 0.5507\n",
            "Anger: 0.2192\n",
            "Disgust: 0.0225\n",
            "Fear: 0.0697\n",
            "Sadness: 0.0383\n",
            "Happiness: 0.0995\n"
          ]
        },
        {
          "output_type": "stream",
          "name": "stderr",
          "text": [
            "/usr/local/lib/python3.11/dist-packages/transformers/models/whisper/generation_whisper.py:573: FutureWarning: The input name `inputs` is deprecated. Please make sure to use `input_features` instead.\n",
            "  warnings.warn(\n"
          ]
        },
        {
          "output_type": "stream",
          "name": "stdout",
          "text": [
            "\n",
            "Predicted Emotion: Neutral\n",
            "\n",
            "Emotion Probabilities:\n",
            "Neutral: 0.6229\n",
            "Anger: 0.1639\n",
            "Disgust: 0.0325\n",
            "Fear: 0.0737\n",
            "Sadness: 0.0394\n",
            "Happiness: 0.0675\n"
          ]
        },
        {
          "output_type": "stream",
          "name": "stderr",
          "text": [
            "/usr/local/lib/python3.11/dist-packages/transformers/models/whisper/generation_whisper.py:573: FutureWarning: The input name `inputs` is deprecated. Please make sure to use `input_features` instead.\n",
            "  warnings.warn(\n"
          ]
        },
        {
          "output_type": "stream",
          "name": "stdout",
          "text": [
            "\n",
            "Predicted Emotion: Neutral\n",
            "\n",
            "Emotion Probabilities:\n",
            "Neutral: 0.5021\n",
            "Anger: 0.2499\n",
            "Disgust: 0.0196\n",
            "Fear: 0.0707\n",
            "Sadness: 0.0334\n",
            "Happiness: 0.1242\n"
          ]
        },
        {
          "output_type": "stream",
          "name": "stderr",
          "text": [
            "/usr/local/lib/python3.11/dist-packages/transformers/models/whisper/generation_whisper.py:573: FutureWarning: The input name `inputs` is deprecated. Please make sure to use `input_features` instead.\n",
            "  warnings.warn(\n"
          ]
        },
        {
          "output_type": "stream",
          "name": "stdout",
          "text": [
            "\n",
            "Predicted Emotion: Neutral\n",
            "\n",
            "Emotion Probabilities:\n",
            "Neutral: 0.5774\n",
            "Anger: 0.1212\n",
            "Disgust: 0.0358\n",
            "Fear: 0.0706\n",
            "Sadness: 0.0406\n",
            "Happiness: 0.1543\n"
          ]
        },
        {
          "output_type": "stream",
          "name": "stderr",
          "text": [
            "/usr/local/lib/python3.11/dist-packages/transformers/models/whisper/generation_whisper.py:573: FutureWarning: The input name `inputs` is deprecated. Please make sure to use `input_features` instead.\n",
            "  warnings.warn(\n"
          ]
        },
        {
          "output_type": "stream",
          "name": "stdout",
          "text": [
            "\n",
            "Predicted Emotion: Neutral\n",
            "\n",
            "Emotion Probabilities:\n",
            "Neutral: 0.6720\n",
            "Anger: 0.1234\n",
            "Disgust: 0.0360\n",
            "Fear: 0.0743\n",
            "Sadness: 0.0386\n",
            "Happiness: 0.0558\n"
          ]
        },
        {
          "output_type": "stream",
          "name": "stderr",
          "text": [
            "/usr/local/lib/python3.11/dist-packages/transformers/models/whisper/generation_whisper.py:573: FutureWarning: The input name `inputs` is deprecated. Please make sure to use `input_features` instead.\n",
            "  warnings.warn(\n"
          ]
        },
        {
          "output_type": "stream",
          "name": "stdout",
          "text": [
            "\n",
            "Predicted Emotion: Neutral\n",
            "\n",
            "Emotion Probabilities:\n",
            "Neutral: 0.6114\n",
            "Anger: 0.1787\n",
            "Disgust: 0.0387\n",
            "Fear: 0.0737\n",
            "Sadness: 0.0396\n",
            "Happiness: 0.0578\n"
          ]
        },
        {
          "output_type": "stream",
          "name": "stderr",
          "text": [
            "/usr/local/lib/python3.11/dist-packages/transformers/models/whisper/generation_whisper.py:573: FutureWarning: The input name `inputs` is deprecated. Please make sure to use `input_features` instead.\n",
            "  warnings.warn(\n"
          ]
        },
        {
          "output_type": "stream",
          "name": "stdout",
          "text": [
            "\n",
            "Predicted Emotion: Neutral\n",
            "\n",
            "Emotion Probabilities:\n",
            "Neutral: 0.4867\n",
            "Anger: 0.1565\n",
            "Disgust: 0.0434\n",
            "Fear: 0.0826\n",
            "Sadness: 0.1731\n",
            "Happiness: 0.0577\n"
          ]
        },
        {
          "output_type": "stream",
          "name": "stderr",
          "text": [
            "/usr/local/lib/python3.11/dist-packages/transformers/models/whisper/generation_whisper.py:573: FutureWarning: The input name `inputs` is deprecated. Please make sure to use `input_features` instead.\n",
            "  warnings.warn(\n"
          ]
        },
        {
          "output_type": "stream",
          "name": "stdout",
          "text": [
            "\n",
            "Predicted Emotion: Neutral\n",
            "\n",
            "Emotion Probabilities:\n",
            "Neutral: 0.6419\n",
            "Anger: 0.1448\n",
            "Disgust: 0.0346\n",
            "Fear: 0.0802\n",
            "Sadness: 0.0415\n",
            "Happiness: 0.0570\n"
          ]
        },
        {
          "output_type": "stream",
          "name": "stderr",
          "text": [
            "/usr/local/lib/python3.11/dist-packages/transformers/models/whisper/generation_whisper.py:573: FutureWarning: The input name `inputs` is deprecated. Please make sure to use `input_features` instead.\n",
            "  warnings.warn(\n"
          ]
        },
        {
          "output_type": "stream",
          "name": "stdout",
          "text": [
            "\n",
            "Predicted Emotion: Disgust\n",
            "\n",
            "Emotion Probabilities:\n",
            "Neutral: 0.2815\n",
            "Anger: 0.1180\n",
            "Disgust: 0.4018\n",
            "Fear: 0.1006\n",
            "Sadness: 0.0456\n",
            "Happiness: 0.0525\n"
          ]
        },
        {
          "output_type": "stream",
          "name": "stderr",
          "text": [
            "/usr/local/lib/python3.11/dist-packages/transformers/models/whisper/generation_whisper.py:573: FutureWarning: The input name `inputs` is deprecated. Please make sure to use `input_features` instead.\n",
            "  warnings.warn(\n"
          ]
        },
        {
          "output_type": "stream",
          "name": "stdout",
          "text": [
            "\n",
            "Predicted Emotion: Happiness\n",
            "\n",
            "Emotion Probabilities:\n",
            "Neutral: 0.1816\n",
            "Anger: 0.1848\n",
            "Disgust: 0.0288\n",
            "Fear: 0.0727\n",
            "Sadness: 0.0407\n",
            "Happiness: 0.4912\n"
          ]
        },
        {
          "output_type": "stream",
          "name": "stderr",
          "text": [
            "/usr/local/lib/python3.11/dist-packages/transformers/models/whisper/generation_whisper.py:573: FutureWarning: The input name `inputs` is deprecated. Please make sure to use `input_features` instead.\n",
            "  warnings.warn(\n"
          ]
        },
        {
          "output_type": "stream",
          "name": "stdout",
          "text": [
            "\n",
            "Predicted Emotion: Neutral\n",
            "\n",
            "Emotion Probabilities:\n",
            "Neutral: 0.4116\n",
            "Anger: 0.1814\n",
            "Disgust: 0.1854\n",
            "Fear: 0.0904\n",
            "Sadness: 0.0766\n",
            "Happiness: 0.0546\n"
          ]
        },
        {
          "output_type": "stream",
          "name": "stderr",
          "text": [
            "/usr/local/lib/python3.11/dist-packages/transformers/models/whisper/generation_whisper.py:573: FutureWarning: The input name `inputs` is deprecated. Please make sure to use `input_features` instead.\n",
            "  warnings.warn(\n"
          ]
        },
        {
          "output_type": "stream",
          "name": "stdout",
          "text": [
            "\n",
            "Predicted Emotion: Neutral\n",
            "\n",
            "Emotion Probabilities:\n",
            "Neutral: 0.6321\n",
            "Anger: 0.1608\n",
            "Disgust: 0.0325\n",
            "Fear: 0.0756\n",
            "Sadness: 0.0425\n",
            "Happiness: 0.0565\n"
          ]
        },
        {
          "output_type": "stream",
          "name": "stderr",
          "text": [
            "/usr/local/lib/python3.11/dist-packages/transformers/models/whisper/generation_whisper.py:573: FutureWarning: The input name `inputs` is deprecated. Please make sure to use `input_features` instead.\n",
            "  warnings.warn(\n"
          ]
        },
        {
          "output_type": "stream",
          "name": "stdout",
          "text": [
            "\n",
            "Predicted Emotion: Neutral\n",
            "\n",
            "Emotion Probabilities:\n",
            "Neutral: 0.5726\n",
            "Anger: 0.2211\n",
            "Disgust: 0.0244\n",
            "Fear: 0.0770\n",
            "Sadness: 0.0405\n",
            "Happiness: 0.0644\n"
          ]
        },
        {
          "output_type": "stream",
          "name": "stderr",
          "text": [
            "/usr/local/lib/python3.11/dist-packages/transformers/models/whisper/generation_whisper.py:573: FutureWarning: The input name `inputs` is deprecated. Please make sure to use `input_features` instead.\n",
            "  warnings.warn(\n"
          ]
        },
        {
          "output_type": "stream",
          "name": "stdout",
          "text": [
            "\n",
            "Predicted Emotion: Neutral\n",
            "\n",
            "Emotion Probabilities:\n",
            "Neutral: 0.5292\n",
            "Anger: 0.1922\n",
            "Disgust: 0.0576\n",
            "Fear: 0.0780\n",
            "Sadness: 0.0853\n",
            "Happiness: 0.0576\n"
          ]
        },
        {
          "output_type": "stream",
          "name": "stderr",
          "text": [
            "/usr/local/lib/python3.11/dist-packages/transformers/models/whisper/generation_whisper.py:573: FutureWarning: The input name `inputs` is deprecated. Please make sure to use `input_features` instead.\n",
            "  warnings.warn(\n"
          ]
        },
        {
          "output_type": "stream",
          "name": "stdout",
          "text": [
            "\n",
            "Predicted Emotion: Neutral\n",
            "\n",
            "Emotion Probabilities:\n",
            "Neutral: 0.3886\n",
            "Anger: 0.1886\n",
            "Disgust: 0.0367\n",
            "Fear: 0.0750\n",
            "Sadness: 0.2518\n",
            "Happiness: 0.0593\n"
          ]
        },
        {
          "output_type": "stream",
          "name": "stderr",
          "text": [
            "/usr/local/lib/python3.11/dist-packages/transformers/models/whisper/generation_whisper.py:573: FutureWarning: The input name `inputs` is deprecated. Please make sure to use `input_features` instead.\n",
            "  warnings.warn(\n"
          ]
        },
        {
          "output_type": "stream",
          "name": "stdout",
          "text": [
            "\n",
            "Predicted Emotion: Fear\n",
            "\n",
            "Emotion Probabilities:\n",
            "Neutral: 0.2050\n",
            "Anger: 0.2368\n",
            "Disgust: 0.0859\n",
            "Fear: 0.3380\n",
            "Sadness: 0.0627\n",
            "Happiness: 0.0716\n"
          ]
        },
        {
          "output_type": "stream",
          "name": "stderr",
          "text": [
            "/usr/local/lib/python3.11/dist-packages/transformers/models/whisper/generation_whisper.py:573: FutureWarning: The input name `inputs` is deprecated. Please make sure to use `input_features` instead.\n",
            "  warnings.warn(\n"
          ]
        },
        {
          "output_type": "stream",
          "name": "stdout",
          "text": [
            "\n",
            "Predicted Emotion: Neutral\n",
            "\n",
            "Emotion Probabilities:\n",
            "Neutral: 0.3279\n",
            "Anger: 0.3183\n",
            "Disgust: 0.0734\n",
            "Fear: 0.1745\n",
            "Sadness: 0.0347\n",
            "Happiness: 0.0711\n"
          ]
        },
        {
          "output_type": "stream",
          "name": "stderr",
          "text": [
            "/usr/local/lib/python3.11/dist-packages/transformers/models/whisper/generation_whisper.py:573: FutureWarning: The input name `inputs` is deprecated. Please make sure to use `input_features` instead.\n",
            "  warnings.warn(\n"
          ]
        },
        {
          "output_type": "stream",
          "name": "stdout",
          "text": [
            "\n",
            "Predicted Emotion: Fear\n",
            "\n",
            "Emotion Probabilities:\n",
            "Neutral: 0.0976\n",
            "Anger: 0.2211\n",
            "Disgust: 0.0321\n",
            "Fear: 0.5482\n",
            "Sadness: 0.0294\n",
            "Happiness: 0.0715\n"
          ]
        },
        {
          "output_type": "stream",
          "name": "stderr",
          "text": [
            "/usr/local/lib/python3.11/dist-packages/transformers/models/whisper/generation_whisper.py:573: FutureWarning: The input name `inputs` is deprecated. Please make sure to use `input_features` instead.\n",
            "  warnings.warn(\n"
          ]
        },
        {
          "output_type": "stream",
          "name": "stdout",
          "text": [
            "\n",
            "Predicted Emotion: Neutral\n",
            "\n",
            "Emotion Probabilities:\n",
            "Neutral: 0.5773\n",
            "Anger: 0.2195\n",
            "Disgust: 0.0214\n",
            "Fear: 0.0787\n",
            "Sadness: 0.0314\n",
            "Happiness: 0.0717\n"
          ]
        },
        {
          "output_type": "stream",
          "name": "stderr",
          "text": [
            "/usr/local/lib/python3.11/dist-packages/transformers/models/whisper/generation_whisper.py:573: FutureWarning: The input name `inputs` is deprecated. Please make sure to use `input_features` instead.\n",
            "  warnings.warn(\n"
          ]
        },
        {
          "output_type": "stream",
          "name": "stdout",
          "text": [
            "\n",
            "Predicted Emotion: Neutral\n",
            "\n",
            "Emotion Probabilities:\n",
            "Neutral: 0.5115\n",
            "Anger: 0.2277\n",
            "Disgust: 0.0445\n",
            "Fear: 0.0880\n",
            "Sadness: 0.0564\n",
            "Happiness: 0.0720\n"
          ]
        },
        {
          "output_type": "stream",
          "name": "stderr",
          "text": [
            "/usr/local/lib/python3.11/dist-packages/transformers/models/whisper/generation_whisper.py:573: FutureWarning: The input name `inputs` is deprecated. Please make sure to use `input_features` instead.\n",
            "  warnings.warn(\n"
          ]
        },
        {
          "output_type": "stream",
          "name": "stdout",
          "text": [
            "\n",
            "Predicted Emotion: Neutral\n",
            "\n",
            "Emotion Probabilities:\n",
            "Neutral: 0.5170\n",
            "Anger: 0.1959\n",
            "Disgust: 0.0228\n",
            "Fear: 0.1019\n",
            "Sadness: 0.0299\n",
            "Happiness: 0.1326\n"
          ]
        },
        {
          "output_type": "stream",
          "name": "stderr",
          "text": [
            "/usr/local/lib/python3.11/dist-packages/transformers/models/whisper/generation_whisper.py:573: FutureWarning: The input name `inputs` is deprecated. Please make sure to use `input_features` instead.\n",
            "  warnings.warn(\n"
          ]
        },
        {
          "output_type": "stream",
          "name": "stdout",
          "text": [
            "\n",
            "Predicted Emotion: Fear\n",
            "\n",
            "Emotion Probabilities:\n",
            "Neutral: 0.2236\n",
            "Anger: 0.2232\n",
            "Disgust: 0.0247\n",
            "Fear: 0.4221\n",
            "Sadness: 0.0352\n",
            "Happiness: 0.0712\n"
          ]
        },
        {
          "output_type": "stream",
          "name": "stderr",
          "text": [
            "/usr/local/lib/python3.11/dist-packages/transformers/models/whisper/generation_whisper.py:573: FutureWarning: The input name `inputs` is deprecated. Please make sure to use `input_features` instead.\n",
            "  warnings.warn(\n"
          ]
        },
        {
          "output_type": "stream",
          "name": "stdout",
          "text": [
            "\n",
            "Predicted Emotion: Fear\n",
            "\n",
            "Emotion Probabilities:\n",
            "Neutral: 0.1261\n",
            "Anger: 0.2343\n",
            "Disgust: 0.0268\n",
            "Fear: 0.5074\n",
            "Sadness: 0.0335\n",
            "Happiness: 0.0719\n"
          ]
        },
        {
          "output_type": "stream",
          "name": "stderr",
          "text": [
            "/usr/local/lib/python3.11/dist-packages/transformers/models/whisper/generation_whisper.py:573: FutureWarning: The input name `inputs` is deprecated. Please make sure to use `input_features` instead.\n",
            "  warnings.warn(\n"
          ]
        },
        {
          "output_type": "stream",
          "name": "stdout",
          "text": [
            "\n",
            "Predicted Emotion: Anger\n",
            "\n",
            "Emotion Probabilities:\n",
            "Neutral: 0.1111\n",
            "Anger: 0.4048\n",
            "Disgust: 0.0383\n",
            "Fear: 0.3261\n",
            "Sadness: 0.0481\n",
            "Happiness: 0.0716\n"
          ]
        },
        {
          "output_type": "stream",
          "name": "stderr",
          "text": [
            "/usr/local/lib/python3.11/dist-packages/transformers/models/whisper/generation_whisper.py:573: FutureWarning: The input name `inputs` is deprecated. Please make sure to use `input_features` instead.\n",
            "  warnings.warn(\n"
          ]
        },
        {
          "output_type": "stream",
          "name": "stdout",
          "text": [
            "\n",
            "Predicted Emotion: Fear\n",
            "\n",
            "Emotion Probabilities:\n",
            "Neutral: 0.2603\n",
            "Anger: 0.1693\n",
            "Disgust: 0.0324\n",
            "Fear: 0.4246\n",
            "Sadness: 0.0447\n",
            "Happiness: 0.0686\n"
          ]
        },
        {
          "output_type": "stream",
          "name": "stderr",
          "text": [
            "/usr/local/lib/python3.11/dist-packages/transformers/models/whisper/generation_whisper.py:573: FutureWarning: The input name `inputs` is deprecated. Please make sure to use `input_features` instead.\n",
            "  warnings.warn(\n"
          ]
        },
        {
          "output_type": "stream",
          "name": "stdout",
          "text": [
            "\n",
            "Predicted Emotion: Fear\n",
            "\n",
            "Emotion Probabilities:\n",
            "Neutral: 0.1511\n",
            "Anger: 0.2134\n",
            "Disgust: 0.1194\n",
            "Fear: 0.2847\n",
            "Sadness: 0.1611\n",
            "Happiness: 0.0702\n"
          ]
        },
        {
          "output_type": "stream",
          "name": "stderr",
          "text": [
            "/usr/local/lib/python3.11/dist-packages/transformers/models/whisper/generation_whisper.py:573: FutureWarning: The input name `inputs` is deprecated. Please make sure to use `input_features` instead.\n",
            "  warnings.warn(\n"
          ]
        },
        {
          "output_type": "stream",
          "name": "stdout",
          "text": [
            "\n",
            "Predicted Emotion: Fear\n",
            "\n",
            "Emotion Probabilities:\n",
            "Neutral: 0.1963\n",
            "Anger: 0.1367\n",
            "Disgust: 0.0323\n",
            "Fear: 0.5347\n",
            "Sadness: 0.0340\n",
            "Happiness: 0.0660\n"
          ]
        },
        {
          "output_type": "stream",
          "name": "stderr",
          "text": [
            "/usr/local/lib/python3.11/dist-packages/transformers/models/whisper/generation_whisper.py:573: FutureWarning: The input name `inputs` is deprecated. Please make sure to use `input_features` instead.\n",
            "  warnings.warn(\n"
          ]
        },
        {
          "output_type": "stream",
          "name": "stdout",
          "text": [
            "\n",
            "Predicted Emotion: Neutral\n",
            "\n",
            "Emotion Probabilities:\n",
            "Neutral: 0.5511\n",
            "Anger: 0.2389\n",
            "Disgust: 0.0240\n",
            "Fear: 0.0706\n",
            "Sadness: 0.0368\n",
            "Happiness: 0.0786\n"
          ]
        },
        {
          "output_type": "stream",
          "name": "stderr",
          "text": [
            "/usr/local/lib/python3.11/dist-packages/transformers/models/whisper/generation_whisper.py:573: FutureWarning: The input name `inputs` is deprecated. Please make sure to use `input_features` instead.\n",
            "  warnings.warn(\n"
          ]
        },
        {
          "output_type": "stream",
          "name": "stdout",
          "text": [
            "\n",
            "Predicted Emotion: Sadness\n",
            "\n",
            "Emotion Probabilities:\n",
            "Neutral: 0.2004\n",
            "Anger: 0.2343\n",
            "Disgust: 0.0259\n",
            "Fear: 0.0701\n",
            "Sadness: 0.3972\n",
            "Happiness: 0.0721\n"
          ]
        },
        {
          "output_type": "stream",
          "name": "stderr",
          "text": [
            "/usr/local/lib/python3.11/dist-packages/transformers/models/whisper/generation_whisper.py:573: FutureWarning: The input name `inputs` is deprecated. Please make sure to use `input_features` instead.\n",
            "  warnings.warn(\n"
          ]
        },
        {
          "output_type": "stream",
          "name": "stdout",
          "text": [
            "\n",
            "Predicted Emotion: Neutral\n",
            "\n",
            "Emotion Probabilities:\n",
            "Neutral: 0.5021\n",
            "Anger: 0.2413\n",
            "Disgust: 0.0383\n",
            "Fear: 0.0687\n",
            "Sadness: 0.0776\n",
            "Happiness: 0.0721\n"
          ]
        },
        {
          "output_type": "stream",
          "name": "stderr",
          "text": [
            "/usr/local/lib/python3.11/dist-packages/transformers/models/whisper/generation_whisper.py:573: FutureWarning: The input name `inputs` is deprecated. Please make sure to use `input_features` instead.\n",
            "  warnings.warn(\n"
          ]
        },
        {
          "output_type": "stream",
          "name": "stdout",
          "text": [
            "\n",
            "Predicted Emotion: Neutral\n",
            "\n",
            "Emotion Probabilities:\n",
            "Neutral: 0.5980\n",
            "Anger: 0.1792\n",
            "Disgust: 0.0435\n",
            "Fear: 0.0764\n",
            "Sadness: 0.0444\n",
            "Happiness: 0.0585\n"
          ]
        },
        {
          "output_type": "stream",
          "name": "stderr",
          "text": [
            "/usr/local/lib/python3.11/dist-packages/transformers/models/whisper/generation_whisper.py:573: FutureWarning: The input name `inputs` is deprecated. Please make sure to use `input_features` instead.\n",
            "  warnings.warn(\n"
          ]
        },
        {
          "output_type": "stream",
          "name": "stdout",
          "text": [
            "\n",
            "Predicted Emotion: Happiness\n",
            "\n",
            "Emotion Probabilities:\n",
            "Neutral: 0.0963\n",
            "Anger: 0.2221\n",
            "Disgust: 0.0223\n",
            "Fear: 0.0724\n",
            "Sadness: 0.0386\n",
            "Happiness: 0.5482\n"
          ]
        },
        {
          "output_type": "stream",
          "name": "stderr",
          "text": [
            "/usr/local/lib/python3.11/dist-packages/transformers/models/whisper/generation_whisper.py:573: FutureWarning: The input name `inputs` is deprecated. Please make sure to use `input_features` instead.\n",
            "  warnings.warn(\n"
          ]
        },
        {
          "output_type": "stream",
          "name": "stdout",
          "text": [
            "\n",
            "Predicted Emotion: Neutral\n",
            "\n",
            "Emotion Probabilities:\n",
            "Neutral: 0.4855\n",
            "Anger: 0.2020\n",
            "Disgust: 0.0474\n",
            "Fear: 0.0759\n",
            "Sadness: 0.1184\n",
            "Happiness: 0.0708\n",
            "\n",
            " Running: Group 3 - Audio + Text\n"
          ]
        },
        {
          "output_type": "stream",
          "name": "stderr",
          "text": [
            "/usr/local/lib/python3.11/dist-packages/transformers/models/whisper/generation_whisper.py:573: FutureWarning: The input name `inputs` is deprecated. Please make sure to use `input_features` instead.\n",
            "  warnings.warn(\n"
          ]
        },
        {
          "output_type": "stream",
          "name": "stdout",
          "text": [
            "\n",
            "Predicted Emotion: Neutral\n",
            "\n",
            "Emotion Probabilities:\n",
            "Neutral: 0.6812\n",
            "Anger: 0.0518\n",
            "Disgust: 0.0576\n",
            "Fear: 0.0603\n",
            "Sadness: 0.0347\n",
            "Happiness: 0.1145\n"
          ]
        },
        {
          "output_type": "stream",
          "name": "stderr",
          "text": [
            "/usr/local/lib/python3.11/dist-packages/transformers/models/whisper/generation_whisper.py:573: FutureWarning: The input name `inputs` is deprecated. Please make sure to use `input_features` instead.\n",
            "  warnings.warn(\n"
          ]
        },
        {
          "output_type": "stream",
          "name": "stdout",
          "text": [
            "\n",
            "Predicted Emotion: Happiness\n",
            "\n",
            "Emotion Probabilities:\n",
            "Neutral: 0.2636\n",
            "Anger: 0.0622\n",
            "Disgust: 0.0460\n",
            "Fear: 0.0582\n",
            "Sadness: 0.0314\n",
            "Happiness: 0.5386\n"
          ]
        },
        {
          "output_type": "stream",
          "name": "stderr",
          "text": [
            "/usr/local/lib/python3.11/dist-packages/transformers/models/whisper/generation_whisper.py:573: FutureWarning: The input name `inputs` is deprecated. Please make sure to use `input_features` instead.\n",
            "  warnings.warn(\n"
          ]
        },
        {
          "output_type": "stream",
          "name": "stdout",
          "text": [
            "\n",
            "Predicted Emotion: Neutral\n",
            "\n",
            "Emotion Probabilities:\n",
            "Neutral: 0.7401\n",
            "Anger: 0.0585\n",
            "Disgust: 0.0491\n",
            "Fear: 0.0658\n",
            "Sadness: 0.0355\n",
            "Happiness: 0.0510\n"
          ]
        },
        {
          "output_type": "stream",
          "name": "stderr",
          "text": [
            "/usr/local/lib/python3.11/dist-packages/transformers/models/whisper/generation_whisper.py:573: FutureWarning: The input name `inputs` is deprecated. Please make sure to use `input_features` instead.\n",
            "  warnings.warn(\n"
          ]
        },
        {
          "output_type": "stream",
          "name": "stdout",
          "text": [
            "\n",
            "Predicted Emotion: Neutral\n",
            "\n",
            "Emotion Probabilities:\n",
            "Neutral: 0.7269\n",
            "Anger: 0.0689\n",
            "Disgust: 0.0460\n",
            "Fear: 0.0648\n",
            "Sadness: 0.0414\n",
            "Happiness: 0.0521\n"
          ]
        },
        {
          "output_type": "stream",
          "name": "stderr",
          "text": [
            "/usr/local/lib/python3.11/dist-packages/transformers/models/whisper/generation_whisper.py:573: FutureWarning: The input name `inputs` is deprecated. Please make sure to use `input_features` instead.\n",
            "  warnings.warn(\n"
          ]
        },
        {
          "output_type": "stream",
          "name": "stdout",
          "text": [
            "\n",
            "Predicted Emotion: Happiness\n",
            "\n",
            "Emotion Probabilities:\n",
            "Neutral: 0.2781\n",
            "Anger: 0.0441\n",
            "Disgust: 0.0487\n",
            "Fear: 0.0624\n",
            "Sadness: 0.0359\n",
            "Happiness: 0.5307\n"
          ]
        },
        {
          "output_type": "stream",
          "name": "stderr",
          "text": [
            "/usr/local/lib/python3.11/dist-packages/transformers/models/whisper/generation_whisper.py:573: FutureWarning: The input name `inputs` is deprecated. Please make sure to use `input_features` instead.\n",
            "  warnings.warn(\n"
          ]
        },
        {
          "output_type": "stream",
          "name": "stdout",
          "text": [
            "\n",
            "Predicted Emotion: Neutral\n",
            "\n",
            "Emotion Probabilities:\n",
            "Neutral: 0.7478\n",
            "Anger: 0.0605\n",
            "Disgust: 0.0480\n",
            "Fear: 0.0617\n",
            "Sadness: 0.0321\n",
            "Happiness: 0.0499\n"
          ]
        },
        {
          "output_type": "stream",
          "name": "stderr",
          "text": [
            "/usr/local/lib/python3.11/dist-packages/transformers/models/whisper/generation_whisper.py:573: FutureWarning: The input name `inputs` is deprecated. Please make sure to use `input_features` instead.\n",
            "  warnings.warn(\n"
          ]
        },
        {
          "output_type": "stream",
          "name": "stdout",
          "text": [
            "\n",
            "Predicted Emotion: Neutral\n",
            "\n",
            "Emotion Probabilities:\n",
            "Neutral: 0.6060\n",
            "Anger: 0.1783\n",
            "Disgust: 0.0312\n",
            "Fear: 0.0835\n",
            "Sadness: 0.0392\n",
            "Happiness: 0.0618\n"
          ]
        },
        {
          "output_type": "stream",
          "name": "stderr",
          "text": [
            "/usr/local/lib/python3.11/dist-packages/transformers/models/whisper/generation_whisper.py:573: FutureWarning: The input name `inputs` is deprecated. Please make sure to use `input_features` instead.\n",
            "  warnings.warn(\n"
          ]
        },
        {
          "output_type": "stream",
          "name": "stdout",
          "text": [
            "\n",
            "Predicted Emotion: Disgust\n",
            "\n",
            "Emotion Probabilities:\n",
            "Neutral: 0.1819\n",
            "Anger: 0.2133\n",
            "Disgust: 0.4143\n",
            "Fear: 0.0804\n",
            "Sadness: 0.0427\n",
            "Happiness: 0.0673\n"
          ]
        },
        {
          "output_type": "stream",
          "name": "stderr",
          "text": [
            "/usr/local/lib/python3.11/dist-packages/transformers/models/whisper/generation_whisper.py:573: FutureWarning: The input name `inputs` is deprecated. Please make sure to use `input_features` instead.\n",
            "  warnings.warn(\n"
          ]
        },
        {
          "output_type": "stream",
          "name": "stdout",
          "text": [
            "\n",
            "Predicted Emotion: Neutral\n",
            "\n",
            "Emotion Probabilities:\n",
            "Neutral: 0.6169\n",
            "Anger: 0.1683\n",
            "Disgust: 0.0321\n",
            "Fear: 0.0771\n",
            "Sadness: 0.0401\n",
            "Happiness: 0.0655\n"
          ]
        },
        {
          "output_type": "stream",
          "name": "stderr",
          "text": [
            "/usr/local/lib/python3.11/dist-packages/transformers/models/whisper/generation_whisper.py:573: FutureWarning: The input name `inputs` is deprecated. Please make sure to use `input_features` instead.\n",
            "  warnings.warn(\n"
          ]
        },
        {
          "output_type": "stream",
          "name": "stdout",
          "text": [
            "\n",
            "Predicted Emotion: Neutral\n",
            "\n",
            "Emotion Probabilities:\n",
            "Neutral: 0.6017\n",
            "Anger: 0.1959\n",
            "Disgust: 0.0267\n",
            "Fear: 0.0685\n",
            "Sadness: 0.0376\n",
            "Happiness: 0.0696\n"
          ]
        },
        {
          "output_type": "stream",
          "name": "stderr",
          "text": [
            "/usr/local/lib/python3.11/dist-packages/transformers/models/whisper/generation_whisper.py:573: FutureWarning: The input name `inputs` is deprecated. Please make sure to use `input_features` instead.\n",
            "  warnings.warn(\n"
          ]
        },
        {
          "output_type": "stream",
          "name": "stdout",
          "text": [
            "\n",
            "Predicted Emotion: Anger\n",
            "\n",
            "Emotion Probabilities:\n",
            "Neutral: 0.2893\n",
            "Anger: 0.3544\n",
            "Disgust: 0.1401\n",
            "Fear: 0.0758\n",
            "Sadness: 0.0838\n",
            "Happiness: 0.0566\n"
          ]
        },
        {
          "output_type": "stream",
          "name": "stderr",
          "text": [
            "/usr/local/lib/python3.11/dist-packages/transformers/models/whisper/generation_whisper.py:573: FutureWarning: The input name `inputs` is deprecated. Please make sure to use `input_features` instead.\n",
            "  warnings.warn(\n"
          ]
        },
        {
          "output_type": "stream",
          "name": "stdout",
          "text": [
            "\n",
            "Predicted Emotion: Neutral\n",
            "\n",
            "Emotion Probabilities:\n",
            "Neutral: 0.5662\n",
            "Anger: 0.2130\n",
            "Disgust: 0.0269\n",
            "Fear: 0.0763\n",
            "Sadness: 0.0504\n",
            "Happiness: 0.0672\n"
          ]
        },
        {
          "output_type": "stream",
          "name": "stderr",
          "text": [
            "/usr/local/lib/python3.11/dist-packages/transformers/models/whisper/generation_whisper.py:573: FutureWarning: The input name `inputs` is deprecated. Please make sure to use `input_features` instead.\n",
            "  warnings.warn(\n"
          ]
        },
        {
          "output_type": "stream",
          "name": "stdout",
          "text": [
            "\n",
            "Predicted Emotion: Disgust\n",
            "\n",
            "Emotion Probabilities:\n",
            "Neutral: 0.1895\n",
            "Anger: 0.2452\n",
            "Disgust: 0.3840\n",
            "Fear: 0.0767\n",
            "Sadness: 0.0461\n",
            "Happiness: 0.0585\n"
          ]
        },
        {
          "output_type": "stream",
          "name": "stderr",
          "text": [
            "/usr/local/lib/python3.11/dist-packages/transformers/models/whisper/generation_whisper.py:573: FutureWarning: The input name `inputs` is deprecated. Please make sure to use `input_features` instead.\n",
            "  warnings.warn(\n"
          ]
        },
        {
          "output_type": "stream",
          "name": "stdout",
          "text": [
            "\n",
            "Predicted Emotion: Neutral\n",
            "\n",
            "Emotion Probabilities:\n",
            "Neutral: 0.5558\n",
            "Anger: 0.2191\n",
            "Disgust: 0.0527\n",
            "Fear: 0.0670\n",
            "Sadness: 0.0420\n",
            "Happiness: 0.0635\n"
          ]
        },
        {
          "output_type": "stream",
          "name": "stderr",
          "text": [
            "/usr/local/lib/python3.11/dist-packages/transformers/models/whisper/generation_whisper.py:573: FutureWarning: The input name `inputs` is deprecated. Please make sure to use `input_features` instead.\n",
            "  warnings.warn(\n"
          ]
        },
        {
          "output_type": "stream",
          "name": "stdout",
          "text": [
            "\n",
            "Predicted Emotion: Happiness\n",
            "\n",
            "Emotion Probabilities:\n",
            "Neutral: 0.1317\n",
            "Anger: 0.2029\n",
            "Disgust: 0.0283\n",
            "Fear: 0.2903\n",
            "Sadness: 0.0371\n",
            "Happiness: 0.3096\n"
          ]
        },
        {
          "output_type": "stream",
          "name": "stderr",
          "text": [
            "/usr/local/lib/python3.11/dist-packages/transformers/models/whisper/generation_whisper.py:573: FutureWarning: The input name `inputs` is deprecated. Please make sure to use `input_features` instead.\n",
            "  warnings.warn(\n"
          ]
        },
        {
          "output_type": "stream",
          "name": "stdout",
          "text": [
            "\n",
            "Predicted Emotion: Neutral\n",
            "\n",
            "Emotion Probabilities:\n",
            "Neutral: 0.5375\n",
            "Anger: 0.1980\n",
            "Disgust: 0.0292\n",
            "Fear: 0.1163\n",
            "Sadness: 0.0381\n",
            "Happiness: 0.0808\n"
          ]
        },
        {
          "output_type": "stream",
          "name": "stderr",
          "text": [
            "/usr/local/lib/python3.11/dist-packages/transformers/models/whisper/generation_whisper.py:573: FutureWarning: The input name `inputs` is deprecated. Please make sure to use `input_features` instead.\n",
            "  warnings.warn(\n"
          ]
        },
        {
          "output_type": "stream",
          "name": "stdout",
          "text": [
            "\n",
            "Predicted Emotion: Neutral\n",
            "\n",
            "Emotion Probabilities:\n",
            "Neutral: 0.5064\n",
            "Anger: 0.2183\n",
            "Disgust: 0.0792\n",
            "Fear: 0.0952\n",
            "Sadness: 0.0390\n",
            "Happiness: 0.0618\n"
          ]
        },
        {
          "output_type": "stream",
          "name": "stderr",
          "text": [
            "/usr/local/lib/python3.11/dist-packages/transformers/models/whisper/generation_whisper.py:573: FutureWarning: The input name `inputs` is deprecated. Please make sure to use `input_features` instead.\n",
            "  warnings.warn(\n"
          ]
        },
        {
          "output_type": "stream",
          "name": "stdout",
          "text": [
            "\n",
            "Predicted Emotion: Neutral\n",
            "\n",
            "Emotion Probabilities:\n",
            "Neutral: 0.5902\n",
            "Anger: 0.1999\n",
            "Disgust: 0.0378\n",
            "Fear: 0.0690\n",
            "Sadness: 0.0383\n",
            "Happiness: 0.0649\n"
          ]
        },
        {
          "output_type": "stream",
          "name": "stderr",
          "text": [
            "/usr/local/lib/python3.11/dist-packages/transformers/models/whisper/generation_whisper.py:573: FutureWarning: The input name `inputs` is deprecated. Please make sure to use `input_features` instead.\n",
            "  warnings.warn(\n"
          ]
        },
        {
          "output_type": "stream",
          "name": "stdout",
          "text": [
            "\n",
            "Predicted Emotion: Neutral\n",
            "\n",
            "Emotion Probabilities:\n",
            "Neutral: 0.5978\n",
            "Anger: 0.1826\n",
            "Disgust: 0.0304\n",
            "Fear: 0.0678\n",
            "Sadness: 0.0406\n",
            "Happiness: 0.0809\n"
          ]
        },
        {
          "output_type": "stream",
          "name": "stderr",
          "text": [
            "/usr/local/lib/python3.11/dist-packages/transformers/models/whisper/generation_whisper.py:573: FutureWarning: The input name `inputs` is deprecated. Please make sure to use `input_features` instead.\n",
            "  warnings.warn(\n"
          ]
        },
        {
          "output_type": "stream",
          "name": "stdout",
          "text": [
            "\n",
            "Predicted Emotion: Neutral\n",
            "\n",
            "Emotion Probabilities:\n",
            "Neutral: 0.6155\n",
            "Anger: 0.1757\n",
            "Disgust: 0.0317\n",
            "Fear: 0.0770\n",
            "Sadness: 0.0392\n",
            "Happiness: 0.0609\n"
          ]
        },
        {
          "output_type": "stream",
          "name": "stderr",
          "text": [
            "/usr/local/lib/python3.11/dist-packages/transformers/models/whisper/generation_whisper.py:573: FutureWarning: The input name `inputs` is deprecated. Please make sure to use `input_features` instead.\n",
            "  warnings.warn(\n"
          ]
        },
        {
          "output_type": "stream",
          "name": "stdout",
          "text": [
            "\n",
            "Predicted Emotion: Fear\n",
            "\n",
            "Emotion Probabilities:\n",
            "Neutral: 0.2764\n",
            "Anger: 0.2156\n",
            "Disgust: 0.0271\n",
            "Fear: 0.3645\n",
            "Sadness: 0.0535\n",
            "Happiness: 0.0630\n"
          ]
        },
        {
          "output_type": "stream",
          "name": "stderr",
          "text": [
            "/usr/local/lib/python3.11/dist-packages/transformers/models/whisper/generation_whisper.py:573: FutureWarning: The input name `inputs` is deprecated. Please make sure to use `input_features` instead.\n",
            "  warnings.warn(\n"
          ]
        },
        {
          "output_type": "stream",
          "name": "stdout",
          "text": [
            "\n",
            "Predicted Emotion: Neutral\n",
            "\n",
            "Emotion Probabilities:\n",
            "Neutral: 0.3781\n",
            "Anger: 0.3107\n",
            "Disgust: 0.1310\n",
            "Fear: 0.0686\n",
            "Sadness: 0.0429\n",
            "Happiness: 0.0688\n"
          ]
        },
        {
          "output_type": "stream",
          "name": "stderr",
          "text": [
            "/usr/local/lib/python3.11/dist-packages/transformers/models/whisper/generation_whisper.py:573: FutureWarning: The input name `inputs` is deprecated. Please make sure to use `input_features` instead.\n",
            "  warnings.warn(\n"
          ]
        },
        {
          "output_type": "stream",
          "name": "stdout",
          "text": [
            "\n",
            "Predicted Emotion: Happiness\n",
            "\n",
            "Emotion Probabilities:\n",
            "Neutral: 0.1730\n",
            "Anger: 0.1482\n",
            "Disgust: 0.0352\n",
            "Fear: 0.0675\n",
            "Sadness: 0.0429\n",
            "Happiness: 0.5332\n"
          ]
        },
        {
          "output_type": "stream",
          "name": "stderr",
          "text": [
            "/usr/local/lib/python3.11/dist-packages/transformers/models/whisper/generation_whisper.py:573: FutureWarning: The input name `inputs` is deprecated. Please make sure to use `input_features` instead.\n",
            "  warnings.warn(\n"
          ]
        },
        {
          "output_type": "stream",
          "name": "stdout",
          "text": [
            "\n",
            "Predicted Emotion: Neutral\n",
            "\n",
            "Emotion Probabilities:\n",
            "Neutral: 0.6708\n",
            "Anger: 0.1210\n",
            "Disgust: 0.0380\n",
            "Fear: 0.0650\n",
            "Sadness: 0.0403\n",
            "Happiness: 0.0650\n"
          ]
        },
        {
          "output_type": "stream",
          "name": "stderr",
          "text": [
            "/usr/local/lib/python3.11/dist-packages/transformers/models/whisper/generation_whisper.py:573: FutureWarning: The input name `inputs` is deprecated. Please make sure to use `input_features` instead.\n",
            "  warnings.warn(\n"
          ]
        },
        {
          "output_type": "stream",
          "name": "stdout",
          "text": [
            "\n",
            "Predicted Emotion: Neutral\n",
            "\n",
            "Emotion Probabilities:\n",
            "Neutral: 0.5636\n",
            "Anger: 0.2146\n",
            "Disgust: 0.0241\n",
            "Fear: 0.0734\n",
            "Sadness: 0.0545\n",
            "Happiness: 0.0698\n"
          ]
        },
        {
          "output_type": "stream",
          "name": "stderr",
          "text": [
            "/usr/local/lib/python3.11/dist-packages/transformers/models/whisper/generation_whisper.py:573: FutureWarning: The input name `inputs` is deprecated. Please make sure to use `input_features` instead.\n",
            "  warnings.warn(\n"
          ]
        },
        {
          "output_type": "stream",
          "name": "stdout",
          "text": [
            "\n",
            "Predicted Emotion: Neutral\n",
            "\n",
            "Emotion Probabilities:\n",
            "Neutral: 0.4936\n",
            "Anger: 0.2571\n",
            "Disgust: 0.0493\n",
            "Fear: 0.0648\n",
            "Sadness: 0.0697\n",
            "Happiness: 0.0656\n"
          ]
        },
        {
          "output_type": "stream",
          "name": "stderr",
          "text": [
            "/usr/local/lib/python3.11/dist-packages/transformers/models/whisper/generation_whisper.py:573: FutureWarning: The input name `inputs` is deprecated. Please make sure to use `input_features` instead.\n",
            "  warnings.warn(\n"
          ]
        },
        {
          "output_type": "stream",
          "name": "stdout",
          "text": [
            "\n",
            "Predicted Emotion: Neutral\n",
            "\n",
            "Emotion Probabilities:\n",
            "Neutral: 0.6199\n",
            "Anger: 0.1771\n",
            "Disgust: 0.0287\n",
            "Fear: 0.0736\n",
            "Sadness: 0.0380\n",
            "Happiness: 0.0628\n"
          ]
        },
        {
          "output_type": "stream",
          "name": "stderr",
          "text": [
            "/usr/local/lib/python3.11/dist-packages/transformers/models/whisper/generation_whisper.py:573: FutureWarning: The input name `inputs` is deprecated. Please make sure to use `input_features` instead.\n",
            "  warnings.warn(\n"
          ]
        },
        {
          "output_type": "stream",
          "name": "stdout",
          "text": [
            "\n",
            "Predicted Emotion: Neutral\n",
            "\n",
            "Emotion Probabilities:\n",
            "Neutral: 0.5667\n",
            "Anger: 0.2366\n",
            "Disgust: 0.0216\n",
            "Fear: 0.0647\n",
            "Sadness: 0.0403\n",
            "Happiness: 0.0701\n"
          ]
        },
        {
          "output_type": "stream",
          "name": "stderr",
          "text": [
            "/usr/local/lib/python3.11/dist-packages/transformers/models/whisper/generation_whisper.py:573: FutureWarning: The input name `inputs` is deprecated. Please make sure to use `input_features` instead.\n",
            "  warnings.warn(\n"
          ]
        },
        {
          "output_type": "stream",
          "name": "stdout",
          "text": [
            "\n",
            "Predicted Emotion: Happiness\n",
            "\n",
            "Emotion Probabilities:\n",
            "Neutral: 0.1731\n",
            "Anger: 0.1648\n",
            "Disgust: 0.0300\n",
            "Fear: 0.0740\n",
            "Sadness: 0.0405\n",
            "Happiness: 0.5175\n"
          ]
        },
        {
          "output_type": "stream",
          "name": "stderr",
          "text": [
            "/usr/local/lib/python3.11/dist-packages/transformers/models/whisper/generation_whisper.py:573: FutureWarning: The input name `inputs` is deprecated. Please make sure to use `input_features` instead.\n",
            "  warnings.warn(\n"
          ]
        },
        {
          "output_type": "stream",
          "name": "stdout",
          "text": [
            "\n",
            "Predicted Emotion: Happiness\n",
            "\n",
            "Emotion Probabilities:\n",
            "Neutral: 0.3079\n",
            "Anger: 0.2325\n",
            "Disgust: 0.0229\n",
            "Fear: 0.0677\n",
            "Sadness: 0.0366\n",
            "Happiness: 0.3324\n"
          ]
        },
        {
          "output_type": "stream",
          "name": "stderr",
          "text": [
            "/usr/local/lib/python3.11/dist-packages/transformers/models/whisper/generation_whisper.py:573: FutureWarning: The input name `inputs` is deprecated. Please make sure to use `input_features` instead.\n",
            "  warnings.warn(\n"
          ]
        },
        {
          "output_type": "stream",
          "name": "stdout",
          "text": [
            "\n",
            "Predicted Emotion: Sadness\n",
            "\n",
            "Emotion Probabilities:\n",
            "Neutral: 0.1844\n",
            "Anger: 0.1406\n",
            "Disgust: 0.0345\n",
            "Fear: 0.0756\n",
            "Sadness: 0.5088\n",
            "Happiness: 0.0560\n"
          ]
        },
        {
          "output_type": "stream",
          "name": "stderr",
          "text": [
            "/usr/local/lib/python3.11/dist-packages/transformers/models/whisper/generation_whisper.py:573: FutureWarning: The input name `inputs` is deprecated. Please make sure to use `input_features` instead.\n",
            "  warnings.warn(\n"
          ]
        },
        {
          "output_type": "stream",
          "name": "stdout",
          "text": [
            "\n",
            "Predicted Emotion: Neutral\n",
            "\n",
            "Emotion Probabilities:\n",
            "Neutral: 0.3835\n",
            "Anger: 0.1436\n",
            "Disgust: 0.0342\n",
            "Fear: 0.0710\n",
            "Sadness: 0.1780\n",
            "Happiness: 0.1897\n"
          ]
        },
        {
          "output_type": "stream",
          "name": "stderr",
          "text": [
            "/usr/local/lib/python3.11/dist-packages/transformers/models/whisper/generation_whisper.py:573: FutureWarning: The input name `inputs` is deprecated. Please make sure to use `input_features` instead.\n",
            "  warnings.warn(\n"
          ]
        },
        {
          "output_type": "stream",
          "name": "stdout",
          "text": [
            "\n",
            "Predicted Emotion: Sadness\n",
            "\n",
            "Emotion Probabilities:\n",
            "Neutral: 0.1794\n",
            "Anger: 0.1256\n",
            "Disgust: 0.0373\n",
            "Fear: 0.0694\n",
            "Sadness: 0.5294\n",
            "Happiness: 0.0588\n"
          ]
        },
        {
          "output_type": "stream",
          "name": "stderr",
          "text": [
            "/usr/local/lib/python3.11/dist-packages/transformers/models/whisper/generation_whisper.py:573: FutureWarning: The input name `inputs` is deprecated. Please make sure to use `input_features` instead.\n",
            "  warnings.warn(\n"
          ]
        },
        {
          "output_type": "stream",
          "name": "stdout",
          "text": [
            "\n",
            "Predicted Emotion: Sadness\n",
            "\n",
            "Emotion Probabilities:\n",
            "Neutral: 0.2189\n",
            "Anger: 0.2575\n",
            "Disgust: 0.0460\n",
            "Fear: 0.0919\n",
            "Sadness: 0.3240\n",
            "Happiness: 0.0617\n"
          ]
        },
        {
          "output_type": "stream",
          "name": "stderr",
          "text": [
            "/usr/local/lib/python3.11/dist-packages/transformers/models/whisper/generation_whisper.py:573: FutureWarning: The input name `inputs` is deprecated. Please make sure to use `input_features` instead.\n",
            "  warnings.warn(\n"
          ]
        },
        {
          "output_type": "stream",
          "name": "stdout",
          "text": [
            "\n",
            "Predicted Emotion: Neutral\n",
            "\n",
            "Emotion Probabilities:\n",
            "Neutral: 0.6411\n",
            "Anger: 0.1499\n",
            "Disgust: 0.0349\n",
            "Fear: 0.0722\n",
            "Sadness: 0.0407\n",
            "Happiness: 0.0611\n"
          ]
        },
        {
          "output_type": "stream",
          "name": "stderr",
          "text": [
            "/usr/local/lib/python3.11/dist-packages/transformers/models/whisper/generation_whisper.py:573: FutureWarning: The input name `inputs` is deprecated. Please make sure to use `input_features` instead.\n",
            "  warnings.warn(\n"
          ]
        },
        {
          "output_type": "stream",
          "name": "stdout",
          "text": [
            "\n",
            "Predicted Emotion: Sadness\n",
            "\n",
            "Emotion Probabilities:\n",
            "Neutral: 0.1978\n",
            "Anger: 0.1228\n",
            "Disgust: 0.0348\n",
            "Fear: 0.0754\n",
            "Sadness: 0.5135\n",
            "Happiness: 0.0557\n"
          ]
        },
        {
          "output_type": "stream",
          "name": "stderr",
          "text": [
            "/usr/local/lib/python3.11/dist-packages/transformers/models/whisper/generation_whisper.py:573: FutureWarning: The input name `inputs` is deprecated. Please make sure to use `input_features` instead.\n",
            "  warnings.warn(\n"
          ]
        },
        {
          "output_type": "stream",
          "name": "stdout",
          "text": [
            "\n",
            "Predicted Emotion: Neutral\n",
            "\n",
            "Emotion Probabilities:\n",
            "Neutral: 0.5781\n",
            "Anger: 0.2055\n",
            "Disgust: 0.0268\n",
            "Fear: 0.0698\n",
            "Sadness: 0.0368\n",
            "Happiness: 0.0830\n"
          ]
        },
        {
          "output_type": "stream",
          "name": "stderr",
          "text": [
            "/usr/local/lib/python3.11/dist-packages/transformers/models/whisper/generation_whisper.py:573: FutureWarning: The input name `inputs` is deprecated. Please make sure to use `input_features` instead.\n",
            "  warnings.warn(\n"
          ]
        },
        {
          "output_type": "stream",
          "name": "stdout",
          "text": [
            "\n",
            "Predicted Emotion: Neutral\n",
            "\n",
            "Emotion Probabilities:\n",
            "Neutral: 0.3032\n",
            "Anger: 0.2686\n",
            "Disgust: 0.0496\n",
            "Fear: 0.0901\n",
            "Sadness: 0.2249\n",
            "Happiness: 0.0635\n"
          ]
        },
        {
          "output_type": "stream",
          "name": "stderr",
          "text": [
            "/usr/local/lib/python3.11/dist-packages/transformers/models/whisper/generation_whisper.py:573: FutureWarning: The input name `inputs` is deprecated. Please make sure to use `input_features` instead.\n",
            "  warnings.warn(\n"
          ]
        },
        {
          "output_type": "stream",
          "name": "stdout",
          "text": [
            "\n",
            "Predicted Emotion: Neutral\n",
            "\n",
            "Emotion Probabilities:\n",
            "Neutral: 0.6069\n",
            "Anger: 0.1983\n",
            "Disgust: 0.0290\n",
            "Fear: 0.0677\n",
            "Sadness: 0.0374\n",
            "Happiness: 0.0607\n"
          ]
        },
        {
          "output_type": "stream",
          "name": "stderr",
          "text": [
            "/usr/local/lib/python3.11/dist-packages/transformers/models/whisper/generation_whisper.py:573: FutureWarning: The input name `inputs` is deprecated. Please make sure to use `input_features` instead.\n",
            "  warnings.warn(\n"
          ]
        },
        {
          "output_type": "stream",
          "name": "stdout",
          "text": [
            "\n",
            "Predicted Emotion: Fear\n",
            "\n",
            "Emotion Probabilities:\n",
            "Neutral: 0.1540\n",
            "Anger: 0.2394\n",
            "Disgust: 0.0453\n",
            "Fear: 0.4604\n",
            "Sadness: 0.0333\n",
            "Happiness: 0.0677\n"
          ]
        },
        {
          "output_type": "stream",
          "name": "stderr",
          "text": [
            "/usr/local/lib/python3.11/dist-packages/transformers/models/whisper/generation_whisper.py:573: FutureWarning: The input name `inputs` is deprecated. Please make sure to use `input_features` instead.\n",
            "  warnings.warn(\n"
          ]
        },
        {
          "output_type": "stream",
          "name": "stdout",
          "text": [
            "\n",
            "Predicted Emotion: Neutral\n",
            "\n",
            "Emotion Probabilities:\n",
            "Neutral: 0.3612\n",
            "Anger: 0.2218\n",
            "Disgust: 0.0335\n",
            "Fear: 0.0849\n",
            "Sadness: 0.2385\n",
            "Happiness: 0.0601\n"
          ]
        },
        {
          "output_type": "stream",
          "name": "stderr",
          "text": [
            "/usr/local/lib/python3.11/dist-packages/transformers/models/whisper/generation_whisper.py:573: FutureWarning: The input name `inputs` is deprecated. Please make sure to use `input_features` instead.\n",
            "  warnings.warn(\n"
          ]
        },
        {
          "output_type": "stream",
          "name": "stdout",
          "text": [
            "\n",
            "Predicted Emotion: Neutral\n",
            "\n",
            "Emotion Probabilities:\n",
            "Neutral: 0.6173\n",
            "Anger: 0.1813\n",
            "Disgust: 0.0307\n",
            "Fear: 0.0706\n",
            "Sadness: 0.0415\n",
            "Happiness: 0.0586\n"
          ]
        },
        {
          "output_type": "stream",
          "name": "stderr",
          "text": [
            "/usr/local/lib/python3.11/dist-packages/transformers/models/whisper/generation_whisper.py:573: FutureWarning: The input name `inputs` is deprecated. Please make sure to use `input_features` instead.\n",
            "  warnings.warn(\n"
          ]
        },
        {
          "output_type": "stream",
          "name": "stdout",
          "text": [
            "\n",
            "Predicted Emotion: Fear\n",
            "\n",
            "Emotion Probabilities:\n",
            "Neutral: 0.1745\n",
            "Anger: 0.2728\n",
            "Disgust: 0.0823\n",
            "Fear: 0.3363\n",
            "Sadness: 0.0625\n",
            "Happiness: 0.0716\n"
          ]
        },
        {
          "output_type": "stream",
          "name": "stderr",
          "text": [
            "/usr/local/lib/python3.11/dist-packages/transformers/models/whisper/generation_whisper.py:573: FutureWarning: The input name `inputs` is deprecated. Please make sure to use `input_features` instead.\n",
            "  warnings.warn(\n"
          ]
        },
        {
          "output_type": "stream",
          "name": "stdout",
          "text": [
            "\n",
            "Predicted Emotion: Anger\n",
            "\n",
            "Emotion Probabilities:\n",
            "Neutral: 0.3185\n",
            "Anger: 0.3379\n",
            "Disgust: 0.0705\n",
            "Fear: 0.1724\n",
            "Sadness: 0.0315\n",
            "Happiness: 0.0693\n"
          ]
        },
        {
          "output_type": "stream",
          "name": "stderr",
          "text": [
            "/usr/local/lib/python3.11/dist-packages/transformers/models/whisper/generation_whisper.py:573: FutureWarning: The input name `inputs` is deprecated. Please make sure to use `input_features` instead.\n",
            "  warnings.warn(\n"
          ]
        },
        {
          "output_type": "stream",
          "name": "stdout",
          "text": [
            "\n",
            "Predicted Emotion: Fear\n",
            "\n",
            "Emotion Probabilities:\n",
            "Neutral: 0.0883\n",
            "Anger: 0.2421\n",
            "Disgust: 0.0265\n",
            "Fear: 0.5458\n",
            "Sadness: 0.0281\n",
            "Happiness: 0.0692\n"
          ]
        },
        {
          "output_type": "stream",
          "name": "stderr",
          "text": [
            "/usr/local/lib/python3.11/dist-packages/transformers/models/whisper/generation_whisper.py:573: FutureWarning: The input name `inputs` is deprecated. Please make sure to use `input_features` instead.\n",
            "  warnings.warn(\n"
          ]
        },
        {
          "output_type": "stream",
          "name": "stdout",
          "text": [
            "\n",
            "Predicted Emotion: Neutral\n",
            "\n",
            "Emotion Probabilities:\n",
            "Neutral: 0.6197\n",
            "Anger: 0.1731\n",
            "Disgust: 0.0263\n",
            "Fear: 0.0799\n",
            "Sadness: 0.0325\n",
            "Happiness: 0.0685\n"
          ]
        },
        {
          "output_type": "stream",
          "name": "stderr",
          "text": [
            "/usr/local/lib/python3.11/dist-packages/transformers/models/whisper/generation_whisper.py:573: FutureWarning: The input name `inputs` is deprecated. Please make sure to use `input_features` instead.\n",
            "  warnings.warn(\n"
          ]
        },
        {
          "output_type": "stream",
          "name": "stdout",
          "text": [
            "\n",
            "Predicted Emotion: Neutral\n",
            "\n",
            "Emotion Probabilities:\n",
            "Neutral: 0.5556\n",
            "Anger: 0.1854\n",
            "Disgust: 0.0295\n",
            "Fear: 0.1213\n",
            "Sadness: 0.0378\n",
            "Happiness: 0.0704\n"
          ]
        },
        {
          "output_type": "stream",
          "name": "stderr",
          "text": [
            "/usr/local/lib/python3.11/dist-packages/transformers/models/whisper/generation_whisper.py:573: FutureWarning: The input name `inputs` is deprecated. Please make sure to use `input_features` instead.\n",
            "  warnings.warn(\n"
          ]
        },
        {
          "output_type": "stream",
          "name": "stdout",
          "text": [
            "\n",
            "Predicted Emotion: Neutral\n",
            "\n",
            "Emotion Probabilities:\n",
            "Neutral: 0.4668\n",
            "Anger: 0.2659\n",
            "Disgust: 0.0162\n",
            "Fear: 0.0945\n",
            "Sadness: 0.0270\n",
            "Happiness: 0.1297\n"
          ]
        },
        {
          "output_type": "stream",
          "name": "stderr",
          "text": [
            "/usr/local/lib/python3.11/dist-packages/transformers/models/whisper/generation_whisper.py:573: FutureWarning: The input name `inputs` is deprecated. Please make sure to use `input_features` instead.\n",
            "  warnings.warn(\n"
          ]
        },
        {
          "output_type": "stream",
          "name": "stdout",
          "text": [
            "\n",
            "Predicted Emotion: Fear\n",
            "\n",
            "Emotion Probabilities:\n",
            "Neutral: 0.1370\n",
            "Anger: 0.2217\n",
            "Disgust: 0.0683\n",
            "Fear: 0.4690\n",
            "Sadness: 0.0323\n",
            "Happiness: 0.0718\n"
          ]
        },
        {
          "output_type": "stream",
          "name": "stderr",
          "text": [
            "/usr/local/lib/python3.11/dist-packages/transformers/models/whisper/generation_whisper.py:573: FutureWarning: The input name `inputs` is deprecated. Please make sure to use `input_features` instead.\n",
            "  warnings.warn(\n"
          ]
        },
        {
          "output_type": "stream",
          "name": "stdout",
          "text": [
            "\n",
            "Predicted Emotion: Anger\n",
            "\n",
            "Emotion Probabilities:\n",
            "Neutral: 0.0819\n",
            "Anger: 0.4046\n",
            "Disgust: 0.2210\n",
            "Fear: 0.1960\n",
            "Sadness: 0.0323\n",
            "Happiness: 0.0642\n"
          ]
        },
        {
          "output_type": "stream",
          "name": "stderr",
          "text": [
            "/usr/local/lib/python3.11/dist-packages/transformers/models/whisper/generation_whisper.py:573: FutureWarning: The input name `inputs` is deprecated. Please make sure to use `input_features` instead.\n",
            "  warnings.warn(\n"
          ]
        },
        {
          "output_type": "stream",
          "name": "stdout",
          "text": [
            "\n",
            "Predicted Emotion: Anger\n",
            "\n",
            "Emotion Probabilities:\n",
            "Neutral: 0.0765\n",
            "Anger: 0.4685\n",
            "Disgust: 0.0321\n",
            "Fear: 0.3137\n",
            "Sadness: 0.0438\n",
            "Happiness: 0.0655\n"
          ]
        },
        {
          "output_type": "stream",
          "name": "stderr",
          "text": [
            "/usr/local/lib/python3.11/dist-packages/transformers/models/whisper/generation_whisper.py:573: FutureWarning: The input name `inputs` is deprecated. Please make sure to use `input_features` instead.\n",
            "  warnings.warn(\n"
          ]
        },
        {
          "output_type": "stream",
          "name": "stdout",
          "text": [
            "\n",
            "Predicted Emotion: Fear\n",
            "\n",
            "Emotion Probabilities:\n",
            "Neutral: 0.1799\n",
            "Anger: 0.2642\n",
            "Disgust: 0.0214\n",
            "Fear: 0.4187\n",
            "Sadness: 0.0434\n",
            "Happiness: 0.0724\n"
          ]
        },
        {
          "output_type": "stream",
          "name": "stderr",
          "text": [
            "/usr/local/lib/python3.11/dist-packages/transformers/models/whisper/generation_whisper.py:573: FutureWarning: The input name `inputs` is deprecated. Please make sure to use `input_features` instead.\n",
            "  warnings.warn(\n"
          ]
        },
        {
          "output_type": "stream",
          "name": "stdout",
          "text": [
            "\n",
            "Predicted Emotion: Anger\n",
            "\n",
            "Emotion Probabilities:\n",
            "Neutral: 0.0833\n",
            "Anger: 0.3002\n",
            "Disgust: 0.1090\n",
            "Fear: 0.2761\n",
            "Sadness: 0.1583\n",
            "Happiness: 0.0731\n"
          ]
        },
        {
          "output_type": "stream",
          "name": "stderr",
          "text": [
            "/usr/local/lib/python3.11/dist-packages/transformers/models/whisper/generation_whisper.py:573: FutureWarning: The input name `inputs` is deprecated. Please make sure to use `input_features` instead.\n",
            "  warnings.warn(\n"
          ]
        },
        {
          "output_type": "stream",
          "name": "stdout",
          "text": [
            "\n",
            "Predicted Emotion: Fear\n",
            "\n",
            "Emotion Probabilities:\n",
            "Neutral: 0.0845\n",
            "Anger: 0.2426\n",
            "Disgust: 0.0204\n",
            "Fear: 0.5514\n",
            "Sadness: 0.0311\n",
            "Happiness: 0.0700\n"
          ]
        },
        {
          "output_type": "stream",
          "name": "stderr",
          "text": [
            "/usr/local/lib/python3.11/dist-packages/transformers/models/whisper/generation_whisper.py:573: FutureWarning: The input name `inputs` is deprecated. Please make sure to use `input_features` instead.\n",
            "  warnings.warn(\n"
          ]
        },
        {
          "output_type": "stream",
          "name": "stdout",
          "text": [
            "\n",
            "Predicted Emotion: Neutral\n",
            "\n",
            "Emotion Probabilities:\n",
            "Neutral: 0.4546\n",
            "Anger: 0.2144\n",
            "Disgust: 0.0919\n",
            "Fear: 0.0733\n",
            "Sadness: 0.0960\n",
            "Happiness: 0.0697\n"
          ]
        },
        {
          "output_type": "stream",
          "name": "stderr",
          "text": [
            "/usr/local/lib/python3.11/dist-packages/transformers/models/whisper/generation_whisper.py:573: FutureWarning: The input name `inputs` is deprecated. Please make sure to use `input_features` instead.\n",
            "  warnings.warn(\n"
          ]
        },
        {
          "output_type": "stream",
          "name": "stdout",
          "text": [
            "\n",
            "Predicted Emotion: Neutral\n",
            "\n",
            "Emotion Probabilities:\n",
            "Neutral: 0.5645\n",
            "Anger: 0.2403\n",
            "Disgust: 0.0228\n",
            "Fear: 0.0670\n",
            "Sadness: 0.0330\n",
            "Happiness: 0.0724\n"
          ]
        },
        {
          "output_type": "stream",
          "name": "stderr",
          "text": [
            "/usr/local/lib/python3.11/dist-packages/transformers/models/whisper/generation_whisper.py:573: FutureWarning: The input name `inputs` is deprecated. Please make sure to use `input_features` instead.\n",
            "  warnings.warn(\n"
          ]
        },
        {
          "output_type": "stream",
          "name": "stdout",
          "text": [
            "\n",
            "Predicted Emotion: Happiness\n",
            "\n",
            "Emotion Probabilities:\n",
            "Neutral: 0.1599\n",
            "Anger: 0.1871\n",
            "Disgust: 0.0271\n",
            "Fear: 0.0705\n",
            "Sadness: 0.0416\n",
            "Happiness: 0.5137\n"
          ]
        },
        {
          "output_type": "stream",
          "name": "stderr",
          "text": [
            "/usr/local/lib/python3.11/dist-packages/transformers/models/whisper/generation_whisper.py:573: FutureWarning: The input name `inputs` is deprecated. Please make sure to use `input_features` instead.\n",
            "  warnings.warn(\n"
          ]
        },
        {
          "output_type": "stream",
          "name": "stdout",
          "text": [
            "\n",
            "Predicted Emotion: Neutral\n",
            "\n",
            "Emotion Probabilities:\n",
            "Neutral: 0.5907\n",
            "Anger: 0.1741\n",
            "Disgust: 0.0397\n",
            "Fear: 0.0755\n",
            "Sadness: 0.0450\n",
            "Happiness: 0.0749\n"
          ]
        },
        {
          "output_type": "stream",
          "name": "stderr",
          "text": [
            "/usr/local/lib/python3.11/dist-packages/transformers/models/whisper/generation_whisper.py:573: FutureWarning: The input name `inputs` is deprecated. Please make sure to use `input_features` instead.\n",
            "  warnings.warn(\n"
          ]
        },
        {
          "output_type": "stream",
          "name": "stdout",
          "text": [
            "\n",
            "Predicted Emotion: Anger\n",
            "\n",
            "Emotion Probabilities:\n",
            "Neutral: 0.1088\n",
            "Anger: 0.3739\n",
            "Disgust: 0.3362\n",
            "Fear: 0.0730\n",
            "Sadness: 0.0430\n",
            "Happiness: 0.0652\n"
          ]
        },
        {
          "output_type": "stream",
          "name": "stderr",
          "text": [
            "/usr/local/lib/python3.11/dist-packages/transformers/models/whisper/generation_whisper.py:573: FutureWarning: The input name `inputs` is deprecated. Please make sure to use `input_features` instead.\n",
            "  warnings.warn(\n"
          ]
        },
        {
          "output_type": "stream",
          "name": "stdout",
          "text": [
            "\n",
            "Predicted Emotion: Anger\n",
            "\n",
            "Emotion Probabilities:\n",
            "Neutral: 0.2364\n",
            "Anger: 0.4132\n",
            "Disgust: 0.1395\n",
            "Fear: 0.0723\n",
            "Sadness: 0.0688\n",
            "Happiness: 0.0697\n"
          ]
        }
      ]
    },
    {
      "cell_type": "code",
      "source": [
        "def evaluate_text_group(df, group_name):\n",
        "    print(f\"\\n Evaluation for {group_name}\")\n",
        "\n",
        "    # Get true and predicted labels\n",
        "    y_true = df[\"tone_x\"]\n",
        "    y_pred = df[\"predicted_emotion\"]\n",
        "\n",
        "    # Get unique labels from both true and predicted\n",
        "    unique_labels = sorted(list(set(y_true) | set(y_pred)))\n",
        "\n",
        "    # Accuracy\n",
        "    acc = accuracy_score(y_true, y_pred)\n",
        "    print(f\" Accuracy: {acc:.4f}\")\n",
        "\n",
        "    # Classification report with dynamic labels\n",
        "    print(\"\\nClassification Report:\")\n",
        "    print(classification_report(y_true, y_pred, target_names=unique_labels))\n",
        "\n",
        "    # Confusion matrix with dynamic labels\n",
        "    cm = confusion_matrix(y_true, y_pred, labels=unique_labels)\n",
        "    plt.figure(figsize=(6, 5))\n",
        "    sns.heatmap(cm, annot=True, fmt='d', xticklabels=unique_labels, yticklabels=unique_labels, cmap=\"Purples\")\n",
        "    plt.title(f\"Confusion Matrix: {group_name}\")\n",
        "    plt.xlabel(\"Predicted Emotion\")\n",
        "    plt.ylabel(\"True Emotion\")\n",
        "    plt.tight_layout()\n",
        "    plt.show()\n",
        "\n",
        "# Run evaluations (unchanged)\n",
        "evaluate_text_group(group1_pred_text, \"Group 1 - Audio + Text\")\n",
        "evaluate_text_group(group2_pred_text, \"Group 2 - Audio + Text\")\n",
        "evaluate_text_group(group3_pred_text, \"Group 3 - Audio + Text\")"
      ],
      "metadata": {
        "colab": {
          "base_uri": "https://localhost:8080/",
          "height": 1000
        },
        "id": "FJlLxOWY2Bs6",
        "outputId": "ee7a2e6b-d03c-434c-b46f-e3acefe11d9a"
      },
      "id": "FJlLxOWY2Bs6",
      "execution_count": 44,
      "outputs": [
        {
          "output_type": "stream",
          "name": "stdout",
          "text": [
            "\n",
            " Evaluation for Group 1 - Audio + Text\n",
            " Accuracy: 0.1897\n",
            "\n",
            "Classification Report:\n",
            "              precision    recall  f1-score   support\n",
            "\n",
            "       Anger       0.33      0.11      0.17         9\n",
            "     Disgust       0.50      0.10      0.17        10\n",
            "        Fear       0.17      0.10      0.12        10\n",
            "   Happiness       0.00      0.00      0.00         0\n",
            "       Happy       0.00      0.00      0.00        10\n",
            "     Neutral       0.19      0.89      0.31         9\n",
            "         Sad       0.00      0.00      0.00        10\n",
            "\n",
            "    accuracy                           0.19        58\n",
            "   macro avg       0.17      0.17      0.11        58\n",
            "weighted avg       0.20      0.19      0.12        58\n",
            "\n"
          ]
        },
        {
          "output_type": "stream",
          "name": "stderr",
          "text": [
            "/usr/local/lib/python3.11/dist-packages/sklearn/metrics/_classification.py:1565: UndefinedMetricWarning: Precision is ill-defined and being set to 0.0 in labels with no predicted samples. Use `zero_division` parameter to control this behavior.\n",
            "  _warn_prf(average, modifier, f\"{metric.capitalize()} is\", len(result))\n",
            "/usr/local/lib/python3.11/dist-packages/sklearn/metrics/_classification.py:1565: UndefinedMetricWarning: Recall is ill-defined and being set to 0.0 in labels with no true samples. Use `zero_division` parameter to control this behavior.\n",
            "  _warn_prf(average, modifier, f\"{metric.capitalize()} is\", len(result))\n",
            "/usr/local/lib/python3.11/dist-packages/sklearn/metrics/_classification.py:1565: UndefinedMetricWarning: Precision is ill-defined and being set to 0.0 in labels with no predicted samples. Use `zero_division` parameter to control this behavior.\n",
            "  _warn_prf(average, modifier, f\"{metric.capitalize()} is\", len(result))\n",
            "/usr/local/lib/python3.11/dist-packages/sklearn/metrics/_classification.py:1565: UndefinedMetricWarning: Recall is ill-defined and being set to 0.0 in labels with no true samples. Use `zero_division` parameter to control this behavior.\n",
            "  _warn_prf(average, modifier, f\"{metric.capitalize()} is\", len(result))\n",
            "/usr/local/lib/python3.11/dist-packages/sklearn/metrics/_classification.py:1565: UndefinedMetricWarning: Precision is ill-defined and being set to 0.0 in labels with no predicted samples. Use `zero_division` parameter to control this behavior.\n",
            "  _warn_prf(average, modifier, f\"{metric.capitalize()} is\", len(result))\n",
            "/usr/local/lib/python3.11/dist-packages/sklearn/metrics/_classification.py:1565: UndefinedMetricWarning: Recall is ill-defined and being set to 0.0 in labels with no true samples. Use `zero_division` parameter to control this behavior.\n",
            "  _warn_prf(average, modifier, f\"{metric.capitalize()} is\", len(result))\n"
          ]
        },
        {
          "output_type": "display_data",
          "data": {
            "text/plain": [
              "<Figure size 600x500 with 2 Axes>"
            ],
            "image/png": "[encoded data removed]"
          },
          "metadata": {}
        },
        {
          "output_type": "stream",
          "name": "stdout",
          "text": [
            "\n",
            " Evaluation for Group 2 - Audio + Text\n",
            " Accuracy: 0.6500\n",
            "\n",
            "Classification Report:\n",
            "              precision    recall  f1-score   support\n",
            "\n",
            "       Anger       0.00      0.00      0.00         0\n",
            "     Disgust       0.00      0.00      0.00         0\n",
            "        Fear       0.00      0.00      0.00         0\n",
            "   Happiness       0.00      0.00      0.00         0\n",
            "     Neutral       1.00      0.65      0.79        60\n",
            "     Sadness       0.00      0.00      0.00         0\n",
            "\n",
            "    accuracy                           0.65        60\n",
            "   macro avg       0.17      0.11      0.13        60\n",
            "weighted avg       1.00      0.65      0.79        60\n",
            "\n"
          ]
        },
        {
          "output_type": "stream",
          "name": "stderr",
          "text": [
            "/usr/local/lib/python3.11/dist-packages/sklearn/metrics/_classification.py:1565: UndefinedMetricWarning: Recall is ill-defined and being set to 0.0 in labels with no true samples. Use `zero_division` parameter to control this behavior.\n",
            "  _warn_prf(average, modifier, f\"{metric.capitalize()} is\", len(result))\n",
            "/usr/local/lib/python3.11/dist-packages/sklearn/metrics/_classification.py:1565: UndefinedMetricWarning: Recall is ill-defined and being set to 0.0 in labels with no true samples. Use `zero_division` parameter to control this behavior.\n",
            "  _warn_prf(average, modifier, f\"{metric.capitalize()} is\", len(result))\n",
            "/usr/local/lib/python3.11/dist-packages/sklearn/metrics/_classification.py:1565: UndefinedMetricWarning: Recall is ill-defined and being set to 0.0 in labels with no true samples. Use `zero_division` parameter to control this behavior.\n",
            "  _warn_prf(average, modifier, f\"{metric.capitalize()} is\", len(result))\n"
          ]
        },
        {
          "output_type": "display_data",
          "data": {
            "text/plain": [
              "<Figure size 600x500 with 2 Axes>"
            ],
            "image/png": "[encoded data removed]"
          },
          "metadata": {}
        },
        {
          "output_type": "stream",
          "name": "stdout",
          "text": [
            "\n",
            " Evaluation for Group 3 - Audio + Text\n",
            " Accuracy: 0.1667\n",
            "\n",
            "Classification Report:\n",
            "              precision    recall  f1-score   support\n",
            "\n",
            "       Anger       0.29      0.20      0.24        10\n",
            "     Disgust       0.00      0.00      0.00        10\n",
            "        Fear       0.29      0.20      0.24        10\n",
            "   Happiness       0.00      0.00      0.00         0\n",
            "       Happy       0.00      0.00      0.00        10\n",
            "     Neutral       0.18      0.60      0.28        10\n",
            "         Sad       0.00      0.00      0.00        10\n",
            "     Sadness       0.00      0.00      0.00         0\n",
            "\n",
            "    accuracy                           0.17        60\n",
            "   macro avg       0.09      0.12      0.09        60\n",
            "weighted avg       0.13      0.17      0.12        60\n",
            "\n"
          ]
        },
        {
          "output_type": "stream",
          "name": "stderr",
          "text": [
            "/usr/local/lib/python3.11/dist-packages/sklearn/metrics/_classification.py:1565: UndefinedMetricWarning: Precision is ill-defined and being set to 0.0 in labels with no predicted samples. Use `zero_division` parameter to control this behavior.\n",
            "  _warn_prf(average, modifier, f\"{metric.capitalize()} is\", len(result))\n",
            "/usr/local/lib/python3.11/dist-packages/sklearn/metrics/_classification.py:1565: UndefinedMetricWarning: Recall is ill-defined and being set to 0.0 in labels with no true samples. Use `zero_division` parameter to control this behavior.\n",
            "  _warn_prf(average, modifier, f\"{metric.capitalize()} is\", len(result))\n",
            "/usr/local/lib/python3.11/dist-packages/sklearn/metrics/_classification.py:1565: UndefinedMetricWarning: Precision is ill-defined and being set to 0.0 in labels with no predicted samples. Use `zero_division` parameter to control this behavior.\n",
            "  _warn_prf(average, modifier, f\"{metric.capitalize()} is\", len(result))\n",
            "/usr/local/lib/python3.11/dist-packages/sklearn/metrics/_classification.py:1565: UndefinedMetricWarning: Recall is ill-defined and being set to 0.0 in labels with no true samples. Use `zero_division` parameter to control this behavior.\n",
            "  _warn_prf(average, modifier, f\"{metric.capitalize()} is\", len(result))\n",
            "/usr/local/lib/python3.11/dist-packages/sklearn/metrics/_classification.py:1565: UndefinedMetricWarning: Precision is ill-defined and being set to 0.0 in labels with no predicted samples. Use `zero_division` parameter to control this behavior.\n",
            "  _warn_prf(average, modifier, f\"{metric.capitalize()} is\", len(result))\n",
            "/usr/local/lib/python3.11/dist-packages/sklearn/metrics/_classification.py:1565: UndefinedMetricWarning: Recall is ill-defined and being set to 0.0 in labels with no true samples. Use `zero_division` parameter to control this behavior.\n",
            "  _warn_prf(average, modifier, f\"{metric.capitalize()} is\", len(result))\n"
          ]
        },
        {
          "output_type": "display_data",
          "data": {
            "text/plain": [
              "<Figure size 600x500 with 2 Axes>"
            ],
            "image/png": "[encoded data removed]"
          },
          "metadata": {}
        }
      ]
    }
  ],
  "metadata": {
    "colab": {
      "provenance": [],
      "gpuType": "T4"
    },
    "accelerator": "GPU",
    "language_info": {
      "name": "python"
    },
    "kernelspec": {
      "name": "python3",
      "display_name": "Python 3"
    }
  },
  "nbformat": 4,
  "nbformat_minor": 5
}