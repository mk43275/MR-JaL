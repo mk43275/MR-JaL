{
 "cells": [
  {
   "cell_type": "code",
   "execution_count": null,
   "metadata": {},
   "outputs": [],
   "source": [
    "import torch\n",
    "import torch.nn as nn\n",
    "import torch.nn.functional as F\n",
    "\n",
    "from fan import FANLayer\n",
    "\n",
    "class FAN_Classifier(nn.Module):\n",
    "    def __init__(self, hidden_size, num_layers, dropout_rate):\n",
    "        super().__init__()\n",
    "        \n",
    "        # Define a list of layers\n",
    "        self.layers = nn.ModuleList()\n",
    "        \n",
    "        # Define the first layer\n",
    "        self.layers.append(FANLayer(173, hidden_size))\n",
    "        \n",
    "        # Define the intermediate hidden layers\n",
    "        for _ in range(num_layers - 2):\n",
    "            self.layers.append(FANLayer(hidden_size, hidden_size))\n",
    "        \n",
    "        # Final layer to output\n",
    "        self.emo_output_layer = FANLayer(hidden_size, 6)\n",
    "        self.strength_output_layer = FANLayer(hidden_size, 3)\n",
    "\n",
    "        # Dropout layer\n",
    "        self.dropout = nn.Dropout(dropout_rate)\n",
    "\n",
    "        # Initialize weights\n",
    "        self.init_weights()\n",
    "\n",
    "    def init_weights(self):\n",
    "        for layer in self.modules():\n",
    "            if isinstance(layer, nn.Linear):\n",
    "                nn.init.xavier_uniform_(layer.weight)\n",
    "                if layer.bias is not None:\n",
    "                    nn.init.zeros_(layer.bias)\n",
    "\n",
    "    def forward(self,x):\n",
    "        # Pass through hidden layers\n",
    "        for layer in self.layers:\n",
    "            x = layer(x)\n",
    "            x = self.dropout(x)\n",
    "        # Output layers\n",
    "        emo_output = self.emo_output_layer(x)\n",
    "        strength_output = self.strength_output_layer(x)\n",
    "        \n",
    "        return emo_output, strength_output"
   ]
  }
 ],
 "metadata": {
  "language_info": {
   "name": "python"
  }
 },
 "nbformat": 4,
 "nbformat_minor": 2
}
