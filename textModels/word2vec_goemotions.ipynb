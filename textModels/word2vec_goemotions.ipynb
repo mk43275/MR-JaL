{
  "cells": [
    {
      "cell_type": "markdown",
      "id": "549842a9",
      "metadata": {
        "id": "549842a9"
      },
      "source": [
        "## Load Dataset"
      ]
    },
    {
      "cell_type": "code",
      "execution_count": 1,
      "id": "101c38ac",
      "metadata": {
        "colab": {
          "base_uri": "https://localhost:8080/"
        },
        "id": "101c38ac",
        "outputId": "84492b2d-7272-421a-ff65-e2789c0e104f"
      },
      "outputs": [
        {
          "output_type": "stream",
          "name": "stdout",
          "text": [
            "--2025-04-10 20:30:34--  https://storage.googleapis.com/gresearch/goemotions/data/full_dataset/goemotions_1.csv\n",
            "Resolving storage.googleapis.com (storage.googleapis.com)... 172.217.204.207, 172.217.203.207, 142.250.98.207, ...\n",
            "Connecting to storage.googleapis.com (storage.googleapis.com)|172.217.204.207|:443... connected.\n",
            "HTTP request sent, awaiting response... 200 OK\n",
            "Length: 14174600 (14M) [application/octet-stream]\n",
            "Saving to: ‘data/full_dataset/goemotions_1.csv.4’\n",
            "\n",
            "\rgoemotions_1.csv.4    0%[                    ]       0  --.-KB/s               \rgoemotions_1.csv.4  100%[===================>]  13.52M  --.-KB/s    in 0.07s   \n",
            "\n",
            "2025-04-10 20:30:35 (199 MB/s) - ‘data/full_dataset/goemotions_1.csv.4’ saved [14174600/14174600]\n",
            "\n",
            "--2025-04-10 20:30:35--  https://storage.googleapis.com/gresearch/goemotions/data/full_dataset/goemotions_2.csv\n",
            "Resolving storage.googleapis.com (storage.googleapis.com)... 172.217.204.207, 172.217.203.207, 142.250.98.207, ...\n",
            "Connecting to storage.googleapis.com (storage.googleapis.com)|172.217.204.207|:443... connected.\n",
            "HTTP request sent, awaiting response... 200 OK\n",
            "Length: 14173154 (14M) [application/octet-stream]\n",
            "Saving to: ‘data/full_dataset/goemotions_2.csv.4’\n",
            "\n",
            "goemotions_2.csv.4  100%[===================>]  13.52M  70.3MB/s    in 0.2s    \n",
            "\n",
            "2025-04-10 20:30:35 (70.3 MB/s) - ‘data/full_dataset/goemotions_2.csv.4’ saved [14173154/14173154]\n",
            "\n",
            "--2025-04-10 20:30:35--  https://storage.googleapis.com/gresearch/goemotions/data/full_dataset/goemotions_3.csv\n",
            "Resolving storage.googleapis.com (storage.googleapis.com)... 172.217.204.207, 172.217.203.207, 142.250.98.207, ...\n",
            "Connecting to storage.googleapis.com (storage.googleapis.com)|172.217.204.207|:443... connected.\n",
            "HTTP request sent, awaiting response... 200 OK\n",
            "Length: 14395164 (14M) [application/octet-stream]\n",
            "Saving to: ‘data/full_dataset/goemotions_3.csv.4’\n",
            "\n",
            "goemotions_3.csv.4  100%[===================>]  13.73M  83.5MB/s    in 0.2s    \n",
            "\n",
            "2025-04-10 20:30:35 (83.5 MB/s) - ‘data/full_dataset/goemotions_3.csv.4’ saved [14395164/14395164]\n",
            "\n"
          ]
        }
      ],
      "source": [
        "!wget -P data/full_dataset/ https://storage.googleapis.com/gresearch/goemotions/data/full_dataset/goemotions_1.csv\n",
        "!wget -P data/full_dataset/ https://storage.googleapis.com/gresearch/goemotions/data/full_dataset/goemotions_2.csv\n",
        "!wget -P data/full_dataset/ https://storage.googleapis.com/gresearch/goemotions/data/full_dataset/goemotions_3.csv"
      ]
    },
    {
      "cell_type": "code",
      "source": [
        "import pandas as pd\n",
        "\n",
        "df1 = pd.read_csv('data/full_dataset/goemotions_1.csv')\n",
        "df2 = pd.read_csv('data/full_dataset/goemotions_2.csv')\n",
        "df3 = pd.read_csv('data/full_dataset/goemotions_3.csv')\n",
        "\n",
        "df = pd.concat([df1, df2, df3], ignore_index=True)\n",
        "df.head(2)"
      ],
      "metadata": {
        "colab": {
          "base_uri": "https://localhost:8080/",
          "height": 283
        },
        "id": "3PBaKAyhXLxI",
        "outputId": "5cd2fccd-1a65-441f-9bc4-57e29e9621eb"
      },
      "id": "3PBaKAyhXLxI",
      "execution_count": 2,
      "outputs": [
        {
          "output_type": "execute_result",
          "data": {
            "text/plain": [
              "                                                text       id       author  \\\n",
              "0                                    That game hurt.  eew5j0j        Brdd9   \n",
              "1   >sexuality shouldn’t be a grouping category I...  eemcysk  TheGreen888   \n",
              "\n",
              "          subreddit    link_id   parent_id   created_utc  rater_id  \\\n",
              "0               nrl  t3_ajis4z  t1_eew18eq  1.548381e+09         1   \n",
              "1  unpopularopinion  t3_ai4q37   t3_ai4q37  1.548084e+09        37   \n",
              "\n",
              "   example_very_unclear  admiration  ...  love  nervousness  optimism  pride  \\\n",
              "0                 False           0  ...     0            0         0      0   \n",
              "1                  True           0  ...     0            0         0      0   \n",
              "\n",
              "   realization  relief  remorse  sadness  surprise  neutral  \n",
              "0            0       0        0        1         0        0  \n",
              "1            0       0        0        0         0        0  \n",
              "\n",
              "[2 rows x 37 columns]"
            ],
            "text/html": [
              "\n",
              "  <div id=\"df-061944b0-0ef5-41eb-a673-e1fd7008ff8e\" class=\"colab-df-container\">\n",
              "    <div>\n",
              "<style scoped>\n",
              "    .dataframe tbody tr th:only-of-type {\n",
              "        vertical-align: middle;\n",
              "    }\n",
              "\n",
              "    .dataframe tbody tr th {\n",
              "        vertical-align: top;\n",
              "    }\n",
              "\n",
              "    .dataframe thead th {\n",
              "        text-align: right;\n",
              "    }\n",
              "</style>\n",
              "<table border=\"1\" class=\"dataframe\">\n",
              "  <thead>\n",
              "    <tr style=\"text-align: right;\">\n",
              "      <th></th>\n",
              "      <th>text</th>\n",
              "      <th>id</th>\n",
              "      <th>author</th>\n",
              "      <th>subreddit</th>\n",
              "      <th>link_id</th>\n",
              "      <th>parent_id</th>\n",
              "      <th>created_utc</th>\n",
              "      <th>rater_id</th>\n",
              "      <th>example_very_unclear</th>\n",
              "      <th>admiration</th>\n",
              "      <th>...</th>\n",
              "      <th>love</th>\n",
              "      <th>nervousness</th>\n",
              "      <th>optimism</th>\n",
              "      <th>pride</th>\n",
              "      <th>realization</th>\n",
              "      <th>relief</th>\n",
              "      <th>remorse</th>\n",
              "      <th>sadness</th>\n",
              "      <th>surprise</th>\n",
              "      <th>neutral</th>\n",
              "    </tr>\n",
              "  </thead>\n",
              "  <tbody>\n",
              "    <tr>\n",
              "      <th>0</th>\n",
              "      <td>That game hurt.</td>\n",
              "      <td>eew5j0j</td>\n",
              "      <td>Brdd9</td>\n",
              "      <td>nrl</td>\n",
              "      <td>t3_ajis4z</td>\n",
              "      <td>t1_eew18eq</td>\n",
              "      <td>1.548381e+09</td>\n",
              "      <td>1</td>\n",
              "      <td>False</td>\n",
              "      <td>0</td>\n",
              "      <td>...</td>\n",
              "      <td>0</td>\n",
              "      <td>0</td>\n",
              "      <td>0</td>\n",
              "      <td>0</td>\n",
              "      <td>0</td>\n",
              "      <td>0</td>\n",
              "      <td>0</td>\n",
              "      <td>1</td>\n",
              "      <td>0</td>\n",
              "      <td>0</td>\n",
              "    </tr>\n",
              "    <tr>\n",
              "      <th>1</th>\n",
              "      <td>&gt;sexuality shouldn’t be a grouping category I...</td>\n",
              "      <td>eemcysk</td>\n",
              "      <td>TheGreen888</td>\n",
              "      <td>unpopularopinion</td>\n",
              "      <td>t3_ai4q37</td>\n",
              "      <td>t3_ai4q37</td>\n",
              "      <td>1.548084e+09</td>\n",
              "      <td>37</td>\n",
              "      <td>True</td>\n",
              "      <td>0</td>\n",
              "      <td>...</td>\n",
              "      <td>0</td>\n",
              "      <td>0</td>\n",
              "      <td>0</td>\n",
              "      <td>0</td>\n",
              "      <td>0</td>\n",
              "      <td>0</td>\n",
              "      <td>0</td>\n",
              "      <td>0</td>\n",
              "      <td>0</td>\n",
              "      <td>0</td>\n",
              "    </tr>\n",
              "  </tbody>\n",
              "</table>\n",
              "<p>2 rows × 37 columns</p>\n",
              "</div>\n",
              "    <div class=\"colab-df-buttons\">\n",
              "\n",
              "  <div class=\"colab-df-container\">\n",
              "    <button class=\"colab-df-convert\" onclick=\"convertToInteractive('df-061944b0-0ef5-41eb-a673-e1fd7008ff8e')\"\n",
              "            title=\"Convert this dataframe to an interactive table.\"\n",
              "            style=\"display:none;\">\n",
              "\n",
              "  <svg xmlns=\"http://www.w3.org/2000/svg\" height=\"24px\" viewBox=\"0 -960 960 960\">\n",
              "    <path d=\"M120-120v-720h720v720H120Zm60-500h600v-160H180v160Zm220 220h160v-160H400v160Zm0 220h160v-160H400v160ZM180-400h160v-160H180v160Zm440 0h160v-160H620v160ZM180-180h160v-160H180v160Zm440 0h160v-160H620v160Z\"/>\n",
              "  </svg>\n",
              "    </button>\n",
              "\n",
              "  <style>\n",
              "    .colab-df-container {\n",
              "      display:flex;\n",
              "      gap: 12px;\n",
              "    }\n",
              "\n",
              "    .colab-df-convert {\n",
              "      background-color: #E8F0FE;\n",
              "      border: none;\n",
              "      border-radius: 50%;\n",
              "      cursor: pointer;\n",
              "      display: none;\n",
              "      fill: #1967D2;\n",
              "      height: 32px;\n",
              "      padding: 0 0 0 0;\n",
              "      width: 32px;\n",
              "    }\n",
              "\n",
              "    .colab-df-convert:hover {\n",
              "      background-color: #E2EBFA;\n",
              "      box-shadow: 0px 1px 2px rgba(60, 64, 67, 0.3), 0px 1px 3px 1px rgba(60, 64, 67, 0.15);\n",
              "      fill: #174EA6;\n",
              "    }\n",
              "\n",
              "    .colab-df-buttons div {\n",
              "      margin-bottom: 4px;\n",
              "    }\n",
              "\n",
              "    [theme=dark] .colab-df-convert {\n",
              "      background-color: #3B4455;\n",
              "      fill: #D2E3FC;\n",
              "    }\n",
              "\n",
              "    [theme=dark] .colab-df-convert:hover {\n",
              "      background-color: #434B5C;\n",
              "      box-shadow: 0px 1px 3px 1px rgba(0, 0, 0, 0.15);\n",
              "      filter: drop-shadow(0px 1px 2px rgba(0, 0, 0, 0.3));\n",
              "      fill: #FFFFFF;\n",
              "    }\n",
              "  </style>\n",
              "\n",
              "    <script>\n",
              "      const buttonEl =\n",
              "        document.querySelector('#df-061944b0-0ef5-41eb-a673-e1fd7008ff8e button.colab-df-convert');\n",
              "      buttonEl.style.display =\n",
              "        google.colab.kernel.accessAllowed ? 'block' : 'none';\n",
              "\n",
              "      async function convertToInteractive(key) {\n",
              "        const element = document.querySelector('#df-061944b0-0ef5-41eb-a673-e1fd7008ff8e');\n",
              "        const dataTable =\n",
              "          await google.colab.kernel.invokeFunction('convertToInteractive',\n",
              "                                                    [key], {});\n",
              "        if (!dataTable) return;\n",
              "\n",
              "        const docLinkHtml = 'Like what you see? Visit the ' +\n",
              "          '<a target=\"_blank\" href=https://colab.research.google.com/notebooks/data_table.ipynb>data table notebook</a>'\n",
              "          + ' to learn more about interactive tables.';\n",
              "        element.innerHTML = '';\n",
              "        dataTable['output_type'] = 'display_data';\n",
              "        await google.colab.output.renderOutput(dataTable, element);\n",
              "        const docLink = document.createElement('div');\n",
              "        docLink.innerHTML = docLinkHtml;\n",
              "        element.appendChild(docLink);\n",
              "      }\n",
              "    </script>\n",
              "  </div>\n",
              "\n",
              "\n",
              "<div id=\"df-26833742-76d8-4f8c-88ca-9a90cb644544\">\n",
              "  <button class=\"colab-df-quickchart\" onclick=\"quickchart('df-26833742-76d8-4f8c-88ca-9a90cb644544')\"\n",
              "            title=\"Suggest charts\"\n",
              "            style=\"display:none;\">\n",
              "\n",
              "<svg xmlns=\"http://www.w3.org/2000/svg\" height=\"24px\"viewBox=\"0 0 24 24\"\n",
              "     width=\"24px\">\n",
              "    <g>\n",
              "        <path d=\"M19 3H5c-1.1 0-2 .9-2 2v14c0 1.1.9 2 2 2h14c1.1 0 2-.9 2-2V5c0-1.1-.9-2-2-2zM9 17H7v-7h2v7zm4 0h-2V7h2v10zm4 0h-2v-4h2v4z\"/>\n",
              "    </g>\n",
              "</svg>\n",
              "  </button>\n",
              "\n",
              "<style>\n",
              "  .colab-df-quickchart {\n",
              "      --bg-color: #E8F0FE;\n",
              "      --fill-color: #1967D2;\n",
              "      --hover-bg-color: #E2EBFA;\n",
              "      --hover-fill-color: #174EA6;\n",
              "      --disabled-fill-color: #AAA;\n",
              "      --disabled-bg-color: #DDD;\n",
              "  }\n",
              "\n",
              "  [theme=dark] .colab-df-quickchart {\n",
              "      --bg-color: #3B4455;\n",
              "      --fill-color: #D2E3FC;\n",
              "      --hover-bg-color: #434B5C;\n",
              "      --hover-fill-color: #FFFFFF;\n",
              "      --disabled-bg-color: #3B4455;\n",
              "      --disabled-fill-color: #666;\n",
              "  }\n",
              "\n",
              "  .colab-df-quickchart {\n",
              "    background-color: var(--bg-color);\n",
              "    border: none;\n",
              "    border-radius: 50%;\n",
              "    cursor: pointer;\n",
              "    display: none;\n",
              "    fill: var(--fill-color);\n",
              "    height: 32px;\n",
              "    padding: 0;\n",
              "    width: 32px;\n",
              "  }\n",
              "\n",
              "  .colab-df-quickchart:hover {\n",
              "    background-color: var(--hover-bg-color);\n",
              "    box-shadow: 0 1px 2px rgba(60, 64, 67, 0.3), 0 1px 3px 1px rgba(60, 64, 67, 0.15);\n",
              "    fill: var(--button-hover-fill-color);\n",
              "  }\n",
              "\n",
              "  .colab-df-quickchart-complete:disabled,\n",
              "  .colab-df-quickchart-complete:disabled:hover {\n",
              "    background-color: var(--disabled-bg-color);\n",
              "    fill: var(--disabled-fill-color);\n",
              "    box-shadow: none;\n",
              "  }\n",
              "\n",
              "  .colab-df-spinner {\n",
              "    border: 2px solid var(--fill-color);\n",
              "    border-color: transparent;\n",
              "    border-bottom-color: var(--fill-color);\n",
              "    animation:\n",
              "      spin 1s steps(1) infinite;\n",
              "  }\n",
              "\n",
              "  @keyframes spin {\n",
              "    0% {\n",
              "      border-color: transparent;\n",
              "      border-bottom-color: var(--fill-color);\n",
              "      border-left-color: var(--fill-color);\n",
              "    }\n",
              "    20% {\n",
              "      border-color: transparent;\n",
              "      border-left-color: var(--fill-color);\n",
              "      border-top-color: var(--fill-color);\n",
              "    }\n",
              "    30% {\n",
              "      border-color: transparent;\n",
              "      border-left-color: var(--fill-color);\n",
              "      border-top-color: var(--fill-color);\n",
              "      border-right-color: var(--fill-color);\n",
              "    }\n",
              "    40% {\n",
              "      border-color: transparent;\n",
              "      border-right-color: var(--fill-color);\n",
              "      border-top-color: var(--fill-color);\n",
              "    }\n",
              "    60% {\n",
              "      border-color: transparent;\n",
              "      border-right-color: var(--fill-color);\n",
              "    }\n",
              "    80% {\n",
              "      border-color: transparent;\n",
              "      border-right-color: var(--fill-color);\n",
              "      border-bottom-color: var(--fill-color);\n",
              "    }\n",
              "    90% {\n",
              "      border-color: transparent;\n",
              "      border-bottom-color: var(--fill-color);\n",
              "    }\n",
              "  }\n",
              "</style>\n",
              "\n",
              "  <script>\n",
              "    async function quickchart(key) {\n",
              "      const quickchartButtonEl =\n",
              "        document.querySelector('#' + key + ' button');\n",
              "      quickchartButtonEl.disabled = true;  // To prevent multiple clicks.\n",
              "      quickchartButtonEl.classList.add('colab-df-spinner');\n",
              "      try {\n",
              "        const charts = await google.colab.kernel.invokeFunction(\n",
              "            'suggestCharts', [key], {});\n",
              "      } catch (error) {\n",
              "        console.error('Error during call to suggestCharts:', error);\n",
              "      }\n",
              "      quickchartButtonEl.classList.remove('colab-df-spinner');\n",
              "      quickchartButtonEl.classList.add('colab-df-quickchart-complete');\n",
              "    }\n",
              "    (() => {\n",
              "      let quickchartButtonEl =\n",
              "        document.querySelector('#df-26833742-76d8-4f8c-88ca-9a90cb644544 button');\n",
              "      quickchartButtonEl.style.display =\n",
              "        google.colab.kernel.accessAllowed ? 'block' : 'none';\n",
              "    })();\n",
              "  </script>\n",
              "</div>\n",
              "\n",
              "    </div>\n",
              "  </div>\n"
            ],
            "application/vnd.google.colaboratory.intrinsic+json": {
              "type": "dataframe",
              "variable_name": "df"
            }
          },
          "metadata": {},
          "execution_count": 2
        }
      ]
    },
    {
      "cell_type": "code",
      "source": [
        "# Identify emotion columns starting from \"admiration\"\n",
        "cols = df.columns.tolist()\n",
        "emotion_start_idx = cols.index(\"admiration\")\n",
        "emotion_cols = cols[emotion_start_idx:]\n",
        "\n",
        "# Create a new column with only the first emotion\n",
        "def get_first_emotion(row):\n",
        "    for emotion in emotion_cols:\n",
        "        if row[emotion] == 1:\n",
        "            return emotion\n",
        "    return None  # In case there's no emotion tagged\n",
        "\n",
        "df['label'] = df.apply(get_first_emotion, axis=1)\n",
        "\n",
        "# Preview\n",
        "print(df[['text', 'label']].head())"
      ],
      "metadata": {
        "colab": {
          "base_uri": "https://localhost:8080/"
        },
        "id": "FLlzFihOXbNz",
        "outputId": "c647dcee-dfec-42d4-e01b-3a7f5fb340f7"
      },
      "id": "FLlzFihOXbNz",
      "execution_count": 3,
      "outputs": [
        {
          "output_type": "stream",
          "name": "stdout",
          "text": [
            "                                                text    label\n",
            "0                                    That game hurt.  sadness\n",
            "1   >sexuality shouldn’t be a grouping category I...     None\n",
            "2     You do right, if you don't care then fuck 'em!  neutral\n",
            "3                                 Man I love reddit.     love\n",
            "4  [NAME] was nowhere near them, he was by the Fa...  neutral\n"
          ]
        }
      ]
    },
    {
      "cell_type": "code",
      "source": [
        "from sklearn.preprocessing import LabelEncoder\n",
        "\n",
        "df['label'] = df.apply(get_first_emotion, axis=1)\n",
        "df = df[df['label'].notna()].reset_index(drop=True)\n",
        "\n",
        "# Encode string labels into integers\n",
        "label_encoder = LabelEncoder()\n",
        "df['label_id'] = label_encoder.fit_transform(df['label'])"
      ],
      "metadata": {
        "id": "HDfcqU6fXefL"
      },
      "id": "HDfcqU6fXefL",
      "execution_count": 4,
      "outputs": []
    },
    {
      "cell_type": "code",
      "source": [
        "label_mapping = {\n",
        "    'anger': 'Anger',\n",
        "    'annoyance': 'Anger',\n",
        "    'disapproval': 'Disgust',\n",
        "    'disgust': 'Disgust',\n",
        "    'confusion': 'Fear',\n",
        "    'embarrassment': 'Fear',\n",
        "    'fear': 'Fear',\n",
        "    'nervousness': 'Fear',\n",
        "    'admiration': 'Happy',\n",
        "    'amusement': 'Happy',\n",
        "    'curiosity': 'Happy',\n",
        "    'desire': 'Happy',\n",
        "    'excitement': 'Happy',\n",
        "    'gratitude': 'Happy',\n",
        "    'joy': 'Happy',\n",
        "    'love': 'Happy',\n",
        "    'optimism': 'Happy',\n",
        "    'pride': 'Happy',\n",
        "    'relief': 'Happy',\n",
        "    'approval': 'Neutral',\n",
        "    'caring': 'Neutral',\n",
        "    'realization': 'Neutral',\n",
        "    'surprise': 'Neutral',\n",
        "    'neutral': 'Neutral',\n",
        "    'disappointment': 'Sad',\n",
        "    'grief': 'Sad',\n",
        "    'remorse': 'Sad',\n",
        "    'sadness': 'Sad'\n",
        "}\n",
        "\n",
        "df['label'] = df['label'].map(label_mapping)\n",
        "print(df['label'].value_counts())"
      ],
      "metadata": {
        "colab": {
          "base_uri": "https://localhost:8080/"
        },
        "id": "hNCXrgygXhCx",
        "outputId": "a5dab760-5b40-44af-94ac-45557f3b564e"
      },
      "id": "hNCXrgygXhCx",
      "execution_count": 5,
      "outputs": [
        {
          "output_type": "stream",
          "name": "stdout",
          "text": [
            "label\n",
            "Neutral    84572\n",
            "Happy      66466\n",
            "Anger      19885\n",
            "Sad        12774\n",
            "Disgust    12337\n",
            "Fear       11780\n",
            "Name: count, dtype: int64\n"
          ]
        }
      ]
    },
    {
      "cell_type": "code",
      "source": [
        "# Remove rows with missing or empty text or label\n",
        "df = df[df['text'].notna() & df['label'].notna()]\n",
        "df = df[df['text'].str.strip() != \"\"]\n",
        "\n",
        "# Drop duplicates\n",
        "df = df.drop_duplicates(subset='text').reset_index(drop=True)\n",
        "# Remove rare or unknown labels if needed (optional)\n",
        "df = df[df['label'].isin(['Anger', 'Disgust', 'Fear', 'Happy', 'Neutral', 'Sad'])]"
      ],
      "metadata": {
        "id": "OQi9jcnvXjK3"
      },
      "id": "OQi9jcnvXjK3",
      "execution_count": 6,
      "outputs": []
    },
    {
      "cell_type": "code",
      "source": [
        "# Shuffle dataset\n",
        "from sklearn.utils import shuffle\n",
        "df = shuffle(df, random_state=42).reset_index(drop=True)\n",
        "\n",
        "# Encode final labels as integers\n",
        "label_encoder = LabelEncoder()\n",
        "df['label_id'] = label_encoder.fit_transform(df['label'])\n",
        "\n",
        "# Check class balance\n",
        "print(df['label'].value_counts())\n",
        "print(label_encoder.classes_)"
      ],
      "metadata": {
        "colab": {
          "base_uri": "https://localhost:8080/"
        },
        "id": "-ZXw2A3WXnjH",
        "outputId": "347fb00a-19dc-4917-9526-17f527ed2a3e"
      },
      "id": "-ZXw2A3WXnjH",
      "execution_count": 7,
      "outputs": [
        {
          "output_type": "stream",
          "name": "stdout",
          "text": [
            "label\n",
            "Neutral    23753\n",
            "Happy      18916\n",
            "Anger       5265\n",
            "Disgust     3311\n",
            "Sad         3301\n",
            "Fear        3184\n",
            "Name: count, dtype: int64\n",
            "['Anger' 'Disgust' 'Fear' 'Happy' 'Neutral' 'Sad']\n"
          ]
        }
      ]
    },
    {
      "cell_type": "markdown",
      "id": "1f18bece",
      "metadata": {
        "id": "1f18bece"
      },
      "source": [
        "## Preprocess Text"
      ]
    },
    {
      "cell_type": "code",
      "execution_count": 8,
      "id": "6d7b338a",
      "metadata": {
        "id": "6d7b338a"
      },
      "outputs": [],
      "source": [
        "!pip install gensim --quiet"
      ]
    },
    {
      "cell_type": "code",
      "execution_count": 15,
      "id": "76c329a4",
      "metadata": {
        "colab": {
          "base_uri": "https://localhost:8080/",
          "height": 348
        },
        "id": "76c329a4",
        "outputId": "02dbc3d2-655f-48b9-ca8a-49061a4f18f6"
      },
      "outputs": [
        {
          "output_type": "stream",
          "name": "stderr",
          "text": [
            "[nltk_data] Downloading package punkt to /root/nltk_data...\n",
            "[nltk_data]   Package punkt is already up-to-date!\n",
            "[nltk_data] Downloading package stopwords to /root/nltk_data...\n",
            "[nltk_data]   Package stopwords is already up-to-date!\n",
            "[nltk_data] Downloading package punkt_tab to /root/nltk_data...\n",
            "[nltk_data]   Package punkt_tab is already up-to-date!\n"
          ]
        },
        {
          "output_type": "execute_result",
          "data": {
            "text/plain": [
              "0    [enjoy, toxic, umoderated, cesspool, apparentl...\n",
              "1    [dear, name, please, help, name, less, disgust...\n",
              "2    [also, name, raised, money, many, subscribers,...\n",
              "3    [used, use, phillips, switched, state, farm, y...\n",
              "4    [make, sense, anxiety, afraid, things, since, ...\n",
              "Name: tokens, dtype: object"
            ],
            "text/html": [
              "<div>\n",
              "<style scoped>\n",
              "    .dataframe tbody tr th:only-of-type {\n",
              "        vertical-align: middle;\n",
              "    }\n",
              "\n",
              "    .dataframe tbody tr th {\n",
              "        vertical-align: top;\n",
              "    }\n",
              "\n",
              "    .dataframe thead th {\n",
              "        text-align: right;\n",
              "    }\n",
              "</style>\n",
              "<table border=\"1\" class=\"dataframe\">\n",
              "  <thead>\n",
              "    <tr style=\"text-align: right;\">\n",
              "      <th></th>\n",
              "      <th>tokens</th>\n",
              "    </tr>\n",
              "  </thead>\n",
              "  <tbody>\n",
              "    <tr>\n",
              "      <th>0</th>\n",
              "      <td>[enjoy, toxic, umoderated, cesspool, apparentl...</td>\n",
              "    </tr>\n",
              "    <tr>\n",
              "      <th>1</th>\n",
              "      <td>[dear, name, please, help, name, less, disgust...</td>\n",
              "    </tr>\n",
              "    <tr>\n",
              "      <th>2</th>\n",
              "      <td>[also, name, raised, money, many, subscribers,...</td>\n",
              "    </tr>\n",
              "    <tr>\n",
              "      <th>3</th>\n",
              "      <td>[used, use, phillips, switched, state, farm, y...</td>\n",
              "    </tr>\n",
              "    <tr>\n",
              "      <th>4</th>\n",
              "      <td>[make, sense, anxiety, afraid, things, since, ...</td>\n",
              "    </tr>\n",
              "  </tbody>\n",
              "</table>\n",
              "</div><br><label><b>dtype:</b> object</label>"
            ]
          },
          "metadata": {},
          "execution_count": 15
        }
      ],
      "source": [
        "import re\n",
        "from nltk.tokenize import word_tokenize\n",
        "from nltk.corpus import stopwords\n",
        "import nltk\n",
        "\n",
        "nltk.download('punkt')\n",
        "nltk.download('stopwords')\n",
        "nltk.download('punkt_tab') # Download the punkt_tab data\n",
        "\n",
        "stop_words = set(stopwords.words('english'))\n",
        "\n",
        "def preprocess(text):\n",
        "    text = text.lower()\n",
        "    text = re.sub(r'[^a-zA-Z]', ' ', text)\n",
        "    tokens = word_tokenize(text)\n",
        "    return [word for word in tokens if word not in stop_words and len(word) > 1]\n",
        "\n",
        "df['tokens'] = df['text'].apply(preprocess)\n",
        "df['tokens'].head()"
      ]
    },
    {
      "cell_type": "markdown",
      "id": "dbf0ff2f",
      "metadata": {
        "id": "dbf0ff2f"
      },
      "source": [
        "## Train Word2Vec Model"
      ]
    },
    {
      "cell_type": "code",
      "source": [
        "!pip install --upgrade --force-reinstall gensim"
      ],
      "metadata": {
        "colab": {
          "base_uri": "https://localhost:8080/"
        },
        "id": "6qHNsdlFZEEL",
        "outputId": "53578f45-dc8e-42f5-a04a-c850938acc0f"
      },
      "id": "6qHNsdlFZEEL",
      "execution_count": 10,
      "outputs": [
        {
          "output_type": "stream",
          "name": "stdout",
          "text": [
            "Collecting gensim\n",
            "  Using cached gensim-4.3.3-cp311-cp311-manylinux_2_17_x86_64.manylinux2014_x86_64.whl.metadata (8.1 kB)\n",
            "Collecting numpy<2.0,>=1.18.5 (from gensim)\n",
            "  Using cached numpy-1.26.4-cp311-cp311-manylinux_2_17_x86_64.manylinux2014_x86_64.whl.metadata (61 kB)\n",
            "Collecting scipy<1.14.0,>=1.7.0 (from gensim)\n",
            "  Using cached scipy-1.13.1-cp311-cp311-manylinux_2_17_x86_64.manylinux2014_x86_64.whl.metadata (60 kB)\n",
            "Collecting smart-open>=1.8.1 (from gensim)\n",
            "  Using cached smart_open-7.1.0-py3-none-any.whl.metadata (24 kB)\n",
            "Collecting wrapt (from smart-open>=1.8.1->gensim)\n",
            "  Using cached wrapt-1.17.2-cp311-cp311-manylinux_2_5_x86_64.manylinux1_x86_64.manylinux_2_17_x86_64.manylinux2014_x86_64.whl.metadata (6.4 kB)\n",
            "Using cached gensim-4.3.3-cp311-cp311-manylinux_2_17_x86_64.manylinux2014_x86_64.whl (26.7 MB)\n",
            "Using cached numpy-1.26.4-cp311-cp311-manylinux_2_17_x86_64.manylinux2014_x86_64.whl (18.3 MB)\n",
            "Using cached scipy-1.13.1-cp311-cp311-manylinux_2_17_x86_64.manylinux2014_x86_64.whl (38.6 MB)\n",
            "Using cached smart_open-7.1.0-py3-none-any.whl (61 kB)\n",
            "Using cached wrapt-1.17.2-cp311-cp311-manylinux_2_5_x86_64.manylinux1_x86_64.manylinux_2_17_x86_64.manylinux2014_x86_64.whl (83 kB)\n",
            "Installing collected packages: wrapt, numpy, smart-open, scipy, gensim\n",
            "  Attempting uninstall: wrapt\n",
            "    Found existing installation: wrapt 1.17.2\n",
            "    Uninstalling wrapt-1.17.2:\n",
            "      Successfully uninstalled wrapt-1.17.2\n",
            "  Attempting uninstall: numpy\n",
            "    Found existing installation: numpy 1.26.4\n",
            "    Uninstalling numpy-1.26.4:\n",
            "      Successfully uninstalled numpy-1.26.4\n",
            "  Attempting uninstall: smart-open\n",
            "    Found existing installation: smart-open 7.1.0\n",
            "    Uninstalling smart-open-7.1.0:\n",
            "      Successfully uninstalled smart-open-7.1.0\n",
            "  Attempting uninstall: scipy\n",
            "    Found existing installation: scipy 1.13.1\n",
            "    Uninstalling scipy-1.13.1:\n",
            "      Successfully uninstalled scipy-1.13.1\n",
            "  Attempting uninstall: gensim\n",
            "    Found existing installation: gensim 4.3.3\n",
            "    Uninstalling gensim-4.3.3:\n",
            "      Successfully uninstalled gensim-4.3.3\n",
            "\u001b[31mERROR: pip's dependency resolver does not currently take into account all the packages that are installed. This behaviour is the source of the following dependency conflicts.\n",
            "google-colab 1.0.0 requires pandas==2.2.2, but you have pandas 2.2.3 which is incompatible.\n",
            "thinc 8.3.6 requires numpy<3.0.0,>=2.0.0, but you have numpy 1.26.4 which is incompatible.\u001b[0m\u001b[31m\n",
            "\u001b[0mSuccessfully installed gensim-4.3.3 numpy-1.26.4 scipy-1.13.1 smart-open-7.1.0 wrapt-1.17.2\n",
            "^C\n"
          ]
        }
      ]
    },
    {
      "cell_type": "code",
      "execution_count": 16,
      "id": "2605a697",
      "metadata": {
        "id": "2605a697"
      },
      "outputs": [],
      "source": [
        "from gensim.models import Word2Vec\n",
        "sentences = df['tokens'].tolist()\n",
        "model = Word2Vec(sentences=sentences, vector_size=100, window=5, min_count=5, workers=4, sg=1)\n",
        "model.save('goemotions_word2vec.model')"
      ]
    },
    {
      "cell_type": "code",
      "source": [
        "from sklearn.model_selection import train_test_split\n",
        "from sklearn.linear_model import LogisticRegression\n",
        "from sklearn.metrics import classification_report, confusion_matrix\n",
        "import numpy as np\n",
        "\n",
        "# Assuming 'tokens' column contains the features and 'label_id' is the target\n",
        "# Convert the tokens to numerical representations using Word2Vec embeddings\n",
        "X = df['tokens'].apply(lambda tokens: np.mean([model.wv[token] for token in tokens if token in model.wv], axis=0) if any(token in model.wv for token in tokens) else np.zeros(model.vector_size)).tolist()\n",
        "# Check if all elements in X are of the same shape\n",
        "X = [x if x.shape == (model.vector_size,) else np.zeros(model.vector_size) for x in X]\n",
        "\n",
        "X = np.array(X)\n",
        "\n",
        "y = df['label_id']\n",
        "\n",
        "X_train, X_test, y_train, y_test = train_test_split(X, y, test_size=0.2, random_state=42)\n",
        "clf = LogisticRegression(max_iter=200)\n",
        "clf.fit(X_train, y_train)\n",
        "y_pred = clf.predict(X_test)"
      ],
      "metadata": {
        "id": "jwuH9miycMCD"
      },
      "id": "jwuH9miycMCD",
      "execution_count": 25,
      "outputs": []
    },
    {
      "cell_type": "markdown",
      "id": "89890b2a",
      "metadata": {
        "id": "89890b2a"
      },
      "source": [
        "## Evaluation"
      ]
    },
    {
      "cell_type": "code",
      "source": [
        "print(confusion_matrix(y_test, y_pred))\n",
        "print(classification_report(y_test, y_pred))"
      ],
      "metadata": {
        "colab": {
          "base_uri": "https://localhost:8080/"
        },
        "id": "ea861QmpcYow",
        "outputId": "ff139d32-9196-4b22-8a67-d7260411ce57"
      },
      "id": "ea861QmpcYow",
      "execution_count": 27,
      "outputs": [
        {
          "output_type": "stream",
          "name": "stdout",
          "text": [
            "[[  93    1    0  131  831    8]\n",
            " [  19    1    0   83  536   11]\n",
            " [   9    0    0   72  519    7]\n",
            " [  20    0    1 2028 1760   15]\n",
            " [  51    4    3  706 4008   21]\n",
            " [  11    0    0   70  491   36]]\n",
            "              precision    recall  f1-score   support\n",
            "\n",
            "           0       0.46      0.09      0.15      1064\n",
            "           1       0.17      0.00      0.00       650\n",
            "           2       0.00      0.00      0.00       607\n",
            "           3       0.66      0.53      0.59      3824\n",
            "           4       0.49      0.84      0.62      4793\n",
            "           5       0.37      0.06      0.10       608\n",
            "\n",
            "    accuracy                           0.53     11546\n",
            "   macro avg       0.36      0.25      0.24     11546\n",
            "weighted avg       0.49      0.53      0.47     11546\n",
            "\n"
          ]
        }
      ]
    },
    {
      "cell_type": "code",
      "source": [
        "model.save(\"./word2vec_goemotions\")"
      ],
      "metadata": {
        "id": "hdntjag-c5xW"
      },
      "id": "hdntjag-c5xW",
      "execution_count": 29,
      "outputs": []
    }
  ],
  "metadata": {
    "colab": {
      "provenance": []
    },
    "language_info": {
      "name": "python"
    },
    "kernelspec": {
      "name": "python3",
      "display_name": "Python 3"
    }
  },
  "nbformat": 4,
  "nbformat_minor": 5
}