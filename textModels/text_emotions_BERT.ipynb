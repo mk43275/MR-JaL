{
 "cells": [
  {
   "cell_type": "markdown",
   "metadata": {
    "id": "QEvXMPR-rdjw"
   },
   "source": [
    "### Load & clean the dataset"
   ]
  },
  {
   "cell_type": "code",
   "execution_count": 7,
   "metadata": {
    "colab": {
     "base_uri": "https://localhost:8080/"
    },
    "id": "rfBIzSD9mCb9",
    "outputId": "d851b3d5-c0be-47ed-d4e5-af7b03e33d11"
   },
   "outputs": [
    {
     "name": "stdout",
     "output_type": "stream",
     "text": [
      "--2025-04-08 20:02:34--  https://storage.googleapis.com/gresearch/goemotions/data/full_dataset/goemotions_1.csv\n",
      "Resolving storage.googleapis.com (storage.googleapis.com)... 142.251.186.207, 142.250.115.207, 142.250.113.207, ...\n",
      "Connecting to storage.googleapis.com (storage.googleapis.com)|142.251.186.207|:443... connected.\n",
      "HTTP request sent, awaiting response... 200 OK\n",
      "Length: 14174600 (14M) [application/octet-stream]\n",
      "Saving to: ‘data/full_dataset/goemotions_1.csv.3’\n",
      "\n",
      "goemotions_1.csv.3  100%[===================>]  13.52M  --.-KB/s    in 0.1s    \n",
      "\n",
      "2025-04-08 20:02:34 (116 MB/s) - ‘data/full_dataset/goemotions_1.csv.3’ saved [14174600/14174600]\n",
      "\n",
      "--2025-04-08 20:02:34--  https://storage.googleapis.com/gresearch/goemotions/data/full_dataset/goemotions_2.csv\n",
      "Resolving storage.googleapis.com (storage.googleapis.com)... 142.250.114.207, 142.250.113.207, 142.251.186.207, ...\n",
      "Connecting to storage.googleapis.com (storage.googleapis.com)|142.250.114.207|:443... connected.\n",
      "HTTP request sent, awaiting response... 200 OK\n",
      "Length: 14173154 (14M) [application/octet-stream]\n",
      "Saving to: ‘data/full_dataset/goemotions_2.csv.3’\n",
      "\n",
      "goemotions_2.csv.3  100%[===================>]  13.52M  --.-KB/s    in 0.1s    \n",
      "\n",
      "2025-04-08 20:02:35 (105 MB/s) - ‘data/full_dataset/goemotions_2.csv.3’ saved [14173154/14173154]\n",
      "\n",
      "--2025-04-08 20:02:35--  https://storage.googleapis.com/gresearch/goemotions/data/full_dataset/goemotions_3.csv\n",
      "Resolving storage.googleapis.com (storage.googleapis.com)... 142.250.113.207, 142.250.114.207, 142.251.116.207, ...\n",
      "Connecting to storage.googleapis.com (storage.googleapis.com)|142.250.113.207|:443... connected.\n",
      "HTTP request sent, awaiting response... 200 OK\n",
      "Length: 14395164 (14M) [application/octet-stream]\n",
      "Saving to: ‘data/full_dataset/goemotions_3.csv.3’\n",
      "\n",
      "goemotions_3.csv.3  100%[===================>]  13.73M  71.2MB/s    in 0.2s    \n",
      "\n",
      "2025-04-08 20:02:35 (71.2 MB/s) - ‘data/full_dataset/goemotions_3.csv.3’ saved [14395164/14395164]\n",
      "\n"
     ]
    }
   ],
   "source": [
    "!wget -P data/full_dataset/ https://storage.googleapis.com/gresearch/goemotions/data/full_dataset/goemotions_1.csv\n",
    "!wget -P data/full_dataset/ https://storage.googleapis.com/gresearch/goemotions/data/full_dataset/goemotions_2.csv\n",
    "!wget -P data/full_dataset/ https://storage.googleapis.com/gresearch/goemotions/data/full_dataset/goemotions_3.csv"
   ]
  },
  {
   "cell_type": "code",
   "execution_count": 8,
   "metadata": {
    "colab": {
     "base_uri": "https://localhost:8080/",
     "height": 283
    },
    "id": "dn9RtZfgmFCm",
    "outputId": "178967f4-e2fa-4bcb-e053-e7ac826684f1"
   },
   "outputs": [
    {
     "data": {
      "text/html": [
       "<div>\n",
       "<style scoped>\n",
       "    .dataframe tbody tr th:only-of-type {\n",
       "        vertical-align: middle;\n",
       "    }\n",
       "\n",
       "    .dataframe tbody tr th {\n",
       "        vertical-align: top;\n",
       "    }\n",
       "\n",
       "    .dataframe thead th {\n",
       "        text-align: right;\n",
       "    }\n",
       "</style>\n",
       "<table border=\"1\" class=\"dataframe\">\n",
       "  <thead>\n",
       "    <tr style=\"text-align: right;\">\n",
       "      <th></th>\n",
       "      <th>text</th>\n",
       "      <th>id</th>\n",
       "      <th>author</th>\n",
       "      <th>subreddit</th>\n",
       "      <th>link_id</th>\n",
       "      <th>parent_id</th>\n",
       "      <th>created_utc</th>\n",
       "      <th>rater_id</th>\n",
       "      <th>example_very_unclear</th>\n",
       "      <th>admiration</th>\n",
       "      <th>...</th>\n",
       "      <th>love</th>\n",
       "      <th>nervousness</th>\n",
       "      <th>optimism</th>\n",
       "      <th>pride</th>\n",
       "      <th>realization</th>\n",
       "      <th>relief</th>\n",
       "      <th>remorse</th>\n",
       "      <th>sadness</th>\n",
       "      <th>surprise</th>\n",
       "      <th>neutral</th>\n",
       "    </tr>\n",
       "  </thead>\n",
       "  <tbody>\n",
       "    <tr>\n",
       "      <th>0</th>\n",
       "      <td>That game hurt.</td>\n",
       "      <td>eew5j0j</td>\n",
       "      <td>Brdd9</td>\n",
       "      <td>nrl</td>\n",
       "      <td>t3_ajis4z</td>\n",
       "      <td>t1_eew18eq</td>\n",
       "      <td>1.548381e+09</td>\n",
       "      <td>1</td>\n",
       "      <td>False</td>\n",
       "      <td>0</td>\n",
       "      <td>...</td>\n",
       "      <td>0</td>\n",
       "      <td>0</td>\n",
       "      <td>0</td>\n",
       "      <td>0</td>\n",
       "      <td>0</td>\n",
       "      <td>0</td>\n",
       "      <td>0</td>\n",
       "      <td>1</td>\n",
       "      <td>0</td>\n",
       "      <td>0</td>\n",
       "    </tr>\n",
       "    <tr>\n",
       "      <th>1</th>\n",
       "      <td>&gt;sexuality shouldn’t be a grouping category I...</td>\n",
       "      <td>eemcysk</td>\n",
       "      <td>TheGreen888</td>\n",
       "      <td>unpopularopinion</td>\n",
       "      <td>t3_ai4q37</td>\n",
       "      <td>t3_ai4q37</td>\n",
       "      <td>1.548084e+09</td>\n",
       "      <td>37</td>\n",
       "      <td>True</td>\n",
       "      <td>0</td>\n",
       "      <td>...</td>\n",
       "      <td>0</td>\n",
       "      <td>0</td>\n",
       "      <td>0</td>\n",
       "      <td>0</td>\n",
       "      <td>0</td>\n",
       "      <td>0</td>\n",
       "      <td>0</td>\n",
       "      <td>0</td>\n",
       "      <td>0</td>\n",
       "      <td>0</td>\n",
       "    </tr>\n",
       "  </tbody>\n",
       "</table>\n",
       "<p>2 rows × 37 columns</p>\n",
       "</div>"
      ],
      "text/plain": [
       "                                                text       id       author  \\\n",
       "0                                    That game hurt.  eew5j0j        Brdd9   \n",
       "1   >sexuality shouldn’t be a grouping category I...  eemcysk  TheGreen888   \n",
       "\n",
       "          subreddit    link_id   parent_id   created_utc  rater_id  \\\n",
       "0               nrl  t3_ajis4z  t1_eew18eq  1.548381e+09         1   \n",
       "1  unpopularopinion  t3_ai4q37   t3_ai4q37  1.548084e+09        37   \n",
       "\n",
       "   example_very_unclear  admiration  ...  love  nervousness  optimism  pride  \\\n",
       "0                 False           0  ...     0            0         0      0   \n",
       "1                  True           0  ...     0            0         0      0   \n",
       "\n",
       "   realization  relief  remorse  sadness  surprise  neutral  \n",
       "0            0       0        0        1         0        0  \n",
       "1            0       0        0        0         0        0  \n",
       "\n",
       "[2 rows x 37 columns]"
      ]
     },
     "execution_count": 8,
     "metadata": {},
     "output_type": "execute_result"
    }
   ],
   "source": [
    "import pandas as pd\n",
    "\n",
    "df1 = pd.read_csv('data/full_dataset/goemotions_1.csv')\n",
    "df2 = pd.read_csv('data/full_dataset/goemotions_2.csv')\n",
    "df3 = pd.read_csv('data/full_dataset/goemotions_3.csv')\n",
    "\n",
    "df = pd.concat([df1, df2, df3], ignore_index=True)\n",
    "df.head(2)"
   ]
  },
  {
   "cell_type": "code",
   "execution_count": 9,
   "metadata": {
    "colab": {
     "base_uri": "https://localhost:8080/"
    },
    "id": "06ZTLeqJpz0D",
    "outputId": "97ec98b9-de71-4853-cb0a-1ffa7d33da4c"
   },
   "outputs": [
    {
     "name": "stdout",
     "output_type": "stream",
     "text": [
      "<class 'pandas.core.frame.DataFrame'>\n",
      "RangeIndex: 211225 entries, 0 to 211224\n",
      "Data columns (total 37 columns):\n",
      " #   Column                Non-Null Count   Dtype  \n",
      "---  ------                --------------   -----  \n",
      " 0   text                  211225 non-null  object \n",
      " 1   id                    211225 non-null  object \n",
      " 2   author                211225 non-null  object \n",
      " 3   subreddit             211225 non-null  object \n",
      " 4   link_id               211225 non-null  object \n",
      " 5   parent_id             211225 non-null  object \n",
      " 6   created_utc           211225 non-null  float64\n",
      " 7   rater_id              211225 non-null  int64  \n",
      " 8   example_very_unclear  211225 non-null  bool   \n",
      " 9   admiration            211225 non-null  int64  \n",
      " 10  amusement             211225 non-null  int64  \n",
      " 11  anger                 211225 non-null  int64  \n",
      " 12  annoyance             211225 non-null  int64  \n",
      " 13  approval              211225 non-null  int64  \n",
      " 14  caring                211225 non-null  int64  \n",
      " 15  confusion             211225 non-null  int64  \n",
      " 16  curiosity             211225 non-null  int64  \n",
      " 17  desire                211225 non-null  int64  \n",
      " 18  disappointment        211225 non-null  int64  \n",
      " 19  disapproval           211225 non-null  int64  \n",
      " 20  disgust               211225 non-null  int64  \n",
      " 21  embarrassment         211225 non-null  int64  \n",
      " 22  excitement            211225 non-null  int64  \n",
      " 23  fear                  211225 non-null  int64  \n",
      " 24  gratitude             211225 non-null  int64  \n",
      " 25  grief                 211225 non-null  int64  \n",
      " 26  joy                   211225 non-null  int64  \n",
      " 27  love                  211225 non-null  int64  \n",
      " 28  nervousness           211225 non-null  int64  \n",
      " 29  optimism              211225 non-null  int64  \n",
      " 30  pride                 211225 non-null  int64  \n",
      " 31  realization           211225 non-null  int64  \n",
      " 32  relief                211225 non-null  int64  \n",
      " 33  remorse               211225 non-null  int64  \n",
      " 34  sadness               211225 non-null  int64  \n",
      " 35  surprise              211225 non-null  int64  \n",
      " 36  neutral               211225 non-null  int64  \n",
      "dtypes: bool(1), float64(1), int64(29), object(6)\n",
      "memory usage: 58.2+ MB\n"
     ]
    }
   ],
   "source": [
    "df.info()"
   ]
  },
  {
   "cell_type": "code",
   "execution_count": 10,
   "metadata": {
    "colab": {
     "base_uri": "https://localhost:8080/"
    },
    "id": "_Di8AvwEnhL1",
    "outputId": "410bcc97-de05-4b9e-edfd-e7f06b2d6e58"
   },
   "outputs": [
    {
     "name": "stdout",
     "output_type": "stream",
     "text": [
      "                                                text    label\n",
      "0                                    That game hurt.  sadness\n",
      "1   >sexuality shouldn’t be a grouping category I...     None\n",
      "2     You do right, if you don't care then fuck 'em!  neutral\n",
      "3                                 Man I love reddit.     love\n",
      "4  [NAME] was nowhere near them, he was by the Fa...  neutral\n"
     ]
    }
   ],
   "source": [
    "# Identify emotion columns starting from \"admiration\"\n",
    "cols = df.columns.tolist()\n",
    "emotion_start_idx = cols.index(\"admiration\")\n",
    "emotion_cols = cols[emotion_start_idx:]\n",
    "\n",
    "# Create a new column with only the first emotion\n",
    "def get_first_emotion(row):\n",
    "    for emotion in emotion_cols:\n",
    "        if row[emotion] == 1:\n",
    "            return emotion\n",
    "    return None  # In case there's no emotion tagged\n",
    "\n",
    "df['label'] = df.apply(get_first_emotion, axis=1)\n",
    "\n",
    "# Preview\n",
    "print(df[['text', 'label']].head())"
   ]
  },
  {
   "cell_type": "code",
   "execution_count": 11,
   "metadata": {
    "id": "za-EiY9S5v1M"
   },
   "outputs": [],
   "source": [
    "from sklearn.preprocessing import LabelEncoder\n",
    "\n",
    "df['label'] = df.apply(get_first_emotion, axis=1)\n",
    "df = df[df['label'].notna()].reset_index(drop=True)\n",
    "\n",
    "# Encode string labels into integers\n",
    "label_encoder = LabelEncoder()\n",
    "df['label_id'] = label_encoder.fit_transform(df['label'])"
   ]
  },
  {
   "cell_type": "code",
   "execution_count": 12,
   "metadata": {},
   "outputs": [
    {
     "name": "stdout",
     "output_type": "stream",
     "text": [
      "label\n",
      "Neutral    84572\n",
      "Happy      66466\n",
      "Anger      19885\n",
      "Sad        12774\n",
      "Disgust    12337\n",
      "Fear       11780\n",
      "Name: count, dtype: int64\n"
     ]
    }
   ],
   "source": [
    "label_mapping = {\n",
    "    'anger': 'Anger',\n",
    "    'annoyance': 'Anger',\n",
    "    'disapproval': 'Disgust',\n",
    "    'disgust': 'Disgust',\n",
    "    'confusion': 'Fear',\n",
    "    'embarrassment': 'Fear',\n",
    "    'fear': 'Fear',\n",
    "    'nervousness': 'Fear',\n",
    "    'admiration': 'Happy',\n",
    "    'amusement': 'Happy',\n",
    "    'curiosity': 'Happy',\n",
    "    'desire': 'Happy',\n",
    "    'excitement': 'Happy',\n",
    "    'gratitude': 'Happy',\n",
    "    'joy': 'Happy',\n",
    "    'love': 'Happy',\n",
    "    'optimism': 'Happy',\n",
    "    'pride': 'Happy',\n",
    "    'relief': 'Happy',\n",
    "    'approval': 'Neutral',\n",
    "    'caring': 'Neutral',\n",
    "    'realization': 'Neutral',\n",
    "    'surprise': 'Neutral',\n",
    "    'neutral': 'Neutral',\n",
    "    'disappointment': 'Sad',\n",
    "    'grief': 'Sad',\n",
    "    'remorse': 'Sad',\n",
    "    'sadness': 'Sad'\n",
    "}\n",
    "\n",
    "df['label'] = df['label'].map(label_mapping)\n",
    "print(df['label'].value_counts())"
   ]
  },
  {
   "cell_type": "code",
   "execution_count": 13,
   "metadata": {},
   "outputs": [],
   "source": [
    "# Remove rows with missing or empty text or label\n",
    "df = df[df['text'].notna() & df['label'].notna()]\n",
    "df = df[df['text'].str.strip() != \"\"]\n",
    "\n",
    "# Drop duplicates\n",
    "df = df.drop_duplicates(subset='text').reset_index(drop=True)\n",
    "# Remove rare or unknown labels if needed (optional)\n",
    "df = df[df['label'].isin(['Anger', 'Disgust', 'Fear', 'Happy', 'Neutral', 'Sad'])]"
   ]
  },
  {
   "cell_type": "code",
   "execution_count": 19,
   "metadata": {},
   "outputs": [
    {
     "name": "stdout",
     "output_type": "stream",
     "text": [
      "label\n",
      "Neutral    23753\n",
      "Happy      18916\n",
      "Anger       5265\n",
      "Disgust     3311\n",
      "Sad         3301\n",
      "Fear        3184\n",
      "Name: count, dtype: int64\n",
      "['Anger' 'Disgust' 'Fear' 'Happy' 'Neutral' 'Sad']\n"
     ]
    }
   ],
   "source": [
    "# Shuffle dataset\n",
    "from sklearn.utils import shuffle\n",
    "df = shuffle(df, random_state=42).reset_index(drop=True)\n",
    "\n",
    "# Encode final labels as integers\n",
    "label_encoder = LabelEncoder()\n",
    "df['label_id'] = label_encoder.fit_transform(df['label'])\n",
    "\n",
    "# Check class balance\n",
    "print(df['label'].value_counts())\n",
    "print(label_encoder.classes_)"
   ]
  },
  {
   "cell_type": "markdown",
   "metadata": {
    "id": "A_3QsH6FrnwY"
   },
   "source": [
    "### Tokenizing & data loader"
   ]
  },
  {
   "cell_type": "code",
   "execution_count": 20,
   "metadata": {
    "id": "tkD1kSrWmSYE"
   },
   "outputs": [],
   "source": [
    "import torch\n",
    "from torch.utils.data import Dataset, DataLoader\n",
    "from transformers import BertTokenizer, BertForSequenceClassification\n",
    "from sklearn.model_selection import train_test_split\n",
    "from sklearn.metrics import classification_report\n",
    "import numpy as np\n",
    "from torch.nn import BCEWithLogitsLoss\n",
    "from tqdm import tqdm\n",
    "import ast"
   ]
  },
  {
   "cell_type": "code",
   "execution_count": 21,
   "metadata": {
    "id": "1q12v0qd5-RR"
   },
   "outputs": [],
   "source": [
    "tokenizer = BertTokenizer.from_pretrained(\"bert-base-uncased\")\n",
    "\n",
    "class EmotionDataset(Dataset):\n",
    "    def __init__(self, texts, labels, tokenizer, max_len=128):\n",
    "        self.encodings = tokenizer(texts, padding='max_length', truncation=True, max_length=max_len, return_tensors='pt')\n",
    "        self.labels = torch.tensor(labels, dtype=torch.long)\n",
    "\n",
    "    def __len__(self):\n",
    "        return len(self.labels)\n",
    "\n",
    "    def __getitem__(self, idx):\n",
    "        item = {key: val[idx] for key, val in self.encodings.items()}\n",
    "        item['labels'] = self.labels[idx]\n",
    "        return item\n",
    "\n",
    "texts = df['text'].astype(str).tolist()\n",
    "labels = df['label_id'].tolist()\n",
    "\n",
    "from sklearn.model_selection import train_test_split\n",
    "train_texts, val_texts, train_labels, val_labels = train_test_split(\n",
    "    texts, labels, test_size=0.1, random_state=42, stratify=labels\n",
    ")\n",
    "\n",
    "train_dataset = EmotionDataset(train_texts, train_labels, tokenizer)\n",
    "val_dataset = EmotionDataset(val_texts, val_labels, tokenizer)\n",
    "\n",
    "train_loader = DataLoader(train_dataset, batch_size=16, shuffle=True)\n",
    "val_loader = DataLoader(val_dataset, batch_size=16)"
   ]
  },
  {
   "cell_type": "markdown",
   "metadata": {
    "id": "ucgcbShOrp54"
   },
   "source": [
    "### Model architect:"
   ]
  },
  {
   "cell_type": "code",
   "execution_count": 22,
   "metadata": {
    "colab": {
     "base_uri": "https://localhost:8080/",
     "height": 373,
     "referenced_widgets": [
      "613dabe97e2744f4a12fa11692613fe8",
      "0042f3b250cf43fba34fa4f0c936a45a",
      "060d844b30a34d55a99e2f927c4ff08f",
      "20440f2c7c014b3389bbb1bf9f92bf38",
      "d2385450baf6482c899f3e2a78173ca8",
      "d18e0f0b02db481bb5f4d616e82b2181",
      "d8bfbff8da1d47b4b8ec481a7f1ba72f",
      "6ae2a1afb4f047fab28d84633fffe4d2",
      "cc677ae6284844aaa1007ef90ce9f733",
      "33d25d2d67f3482398777f2b70142a67",
      "73d109e2dd5e4565bb7ad9f6a4b4f2d2"
     ]
    },
    "id": "l7DzwN5x6gB4",
    "outputId": "efaaf4a1-01f8-4a2b-e478-56fc232b9243"
   },
   "outputs": [
    {
     "name": "stdout",
     "output_type": "stream",
     "text": [
      "Requirement already satisfied: huggingface_hub[hf_xet] in /opt/jupyterhub/pyvenv/lib/python3.9/site-packages (0.29.1)\n",
      "\u001b[33mWARNING: huggingface-hub 0.29.1 does not provide the extra 'hf-xet'\u001b[0m\u001b[33m\n",
      "\u001b[0mRequirement already satisfied: filelock in /opt/jupyterhub/pyvenv/lib/python3.9/site-packages (from huggingface_hub[hf_xet]) (3.17.0)\n",
      "Requirement already satisfied: fsspec>=2023.5.0 in /opt/jupyterhub/pyvenv/lib/python3.9/site-packages (from huggingface_hub[hf_xet]) (2024.5.0)\n",
      "Requirement already satisfied: packaging>=20.9 in /opt/jupyterhub/pyvenv/lib/python3.9/site-packages (from huggingface_hub[hf_xet]) (24.2)\n",
      "Requirement already satisfied: pyyaml>=5.1 in /opt/jupyterhub/pyvenv/lib/python3.9/site-packages (from huggingface_hub[hf_xet]) (6.0.1)\n",
      "Requirement already satisfied: requests in /opt/jupyterhub/pyvenv/lib/python3.9/site-packages (from huggingface_hub[hf_xet]) (2.32.3)\n",
      "Requirement already satisfied: tqdm>=4.42.1 in /opt/jupyterhub/pyvenv/lib/python3.9/site-packages (from huggingface_hub[hf_xet]) (4.66.4)\n",
      "Requirement already satisfied: typing-extensions>=3.7.4.3 in /opt/jupyterhub/pyvenv/lib/python3.9/site-packages (from huggingface_hub[hf_xet]) (4.9.0)\n",
      "Requirement already satisfied: charset-normalizer<4,>=2 in /opt/jupyterhub/pyvenv/lib/python3.9/site-packages (from requests->huggingface_hub[hf_xet]) (3.4.1)\n",
      "Requirement already satisfied: idna<4,>=2.5 in /opt/jupyterhub/pyvenv/lib/python3.9/site-packages (from requests->huggingface_hub[hf_xet]) (3.10)\n",
      "Requirement already satisfied: urllib3<3,>=1.21.1 in /opt/jupyterhub/pyvenv/lib/python3.9/site-packages (from requests->huggingface_hub[hf_xet]) (1.26.20)\n",
      "Requirement already satisfied: certifi>=2017.4.17 in /opt/jupyterhub/pyvenv/lib/python3.9/site-packages (from requests->huggingface_hub[hf_xet]) (2023.11.17)\n"
     ]
    },
    {
     "name": "stderr",
     "output_type": "stream",
     "text": [
      "Some weights of BertForSequenceClassification were not initialized from the model checkpoint at bert-base-uncased and are newly initialized: ['classifier.bias', 'classifier.weight']\n",
      "You should probably TRAIN this model on a down-stream task to be able to use it for predictions and inference.\n"
     ]
    }
   ],
   "source": [
    "!pip install huggingface_hub[hf_xet]\n",
    "from transformers import BertForSequenceClassification\n",
    "\n",
    "num_labels = len(label_encoder.classes_)\n",
    "model = BertForSequenceClassification.from_pretrained(\"bert-base-uncased\", num_labels=num_labels)\n",
    "\n",
    "device = torch.device(\"cuda\" if torch.cuda.is_available() else \"cpu\")\n",
    "model.to(device)\n",
    "\n",
    "optimizer = torch.optim.AdamW(model.parameters(), lr=2e-5)\n",
    "loss_fn = torch.nn.CrossEntropyLoss()"
   ]
  },
  {
   "cell_type": "markdown",
   "metadata": {
    "id": "YxXrjYr5wNR8"
   },
   "source": [
    "### Training"
   ]
  },
  {
   "cell_type": "code",
   "execution_count": 23,
   "metadata": {
    "colab": {
     "base_uri": "https://localhost:8080/"
    },
    "id": "-xJCXQThwPRL",
    "outputId": "85fc5209-5984-4708-98fd-90d6c40b4a93"
   },
   "outputs": [
    {
     "name": "stdout",
     "output_type": "stream",
     "text": [
      "Epoch 1/5\n"
     ]
    },
    {
     "name": "stderr",
     "output_type": "stream",
     "text": [
      "100%|██████████| 3248/3248 [04:32<00:00, 11.91it/s]\n"
     ]
    },
    {
     "name": "stdout",
     "output_type": "stream",
     "text": [
      "Average training loss: 1.0705\n",
      "Epoch 2/5\n"
     ]
    },
    {
     "name": "stderr",
     "output_type": "stream",
     "text": [
      "100%|██████████| 3248/3248 [04:32<00:00, 11.92it/s]\n"
     ]
    },
    {
     "name": "stdout",
     "output_type": "stream",
     "text": [
      "Average training loss: 0.9174\n",
      "Epoch 3/5\n"
     ]
    },
    {
     "name": "stderr",
     "output_type": "stream",
     "text": [
      "100%|██████████| 3248/3248 [04:32<00:00, 11.92it/s]\n"
     ]
    },
    {
     "name": "stdout",
     "output_type": "stream",
     "text": [
      "Average training loss: 0.7316\n",
      "Epoch 4/5\n"
     ]
    },
    {
     "name": "stderr",
     "output_type": "stream",
     "text": [
      "100%|██████████| 3248/3248 [04:32<00:00, 11.93it/s]\n"
     ]
    },
    {
     "name": "stdout",
     "output_type": "stream",
     "text": [
      "Average training loss: 0.4984\n",
      "Epoch 5/5\n"
     ]
    },
    {
     "name": "stderr",
     "output_type": "stream",
     "text": [
      "100%|██████████| 3248/3248 [04:32<00:00, 11.93it/s]"
     ]
    },
    {
     "name": "stdout",
     "output_type": "stream",
     "text": [
      "Average training loss: 0.3087\n"
     ]
    },
    {
     "name": "stderr",
     "output_type": "stream",
     "text": [
      "\n"
     ]
    }
   ],
   "source": [
    "from torch.cuda.amp import autocast, GradScaler\n",
    "scaler = GradScaler()\n",
    "from tqdm import tqdm\n",
    "\n",
    "EPOCHS = 5\n",
    "for epoch in range(EPOCHS):\n",
    "    print(f\"Epoch {epoch + 1}/{EPOCHS}\")\n",
    "    model.train()\n",
    "    total_loss = 0\n",
    "\n",
    "    for batch in tqdm(train_loader):\n",
    "        input_ids = batch['input_ids'].to(device)\n",
    "        attention_mask = batch['attention_mask'].to(device)\n",
    "        labels = batch['labels'].to(device)\n",
    "\n",
    "        outputs = model(input_ids=input_ids, attention_mask=attention_mask, labels=labels)\n",
    "        loss = outputs.loss\n",
    "\n",
    "        optimizer.zero_grad()\n",
    "        loss.backward()\n",
    "        optimizer.step()\n",
    "\n",
    "        total_loss += loss.item()\n",
    "\n",
    "    print(f\"Average training loss: {total_loss / len(train_loader):.4f}\")"
   ]
  },
  {
   "cell_type": "markdown",
   "metadata": {
    "id": "6Q4UZmGZ7rp_"
   },
   "source": [
    "### Evaluation"
   ]
  },
  {
   "cell_type": "code",
   "execution_count": 24,
   "metadata": {
    "id": "wrYQi6Yj7P9X"
   },
   "outputs": [
    {
     "name": "stdout",
     "output_type": "stream",
     "text": [
      "              precision    recall  f1-score   support\n",
      "\n",
      "       Anger       0.40      0.39      0.39       527\n",
      "     Disgust       0.28      0.18      0.22       331\n",
      "        Fear       0.33      0.33      0.33       318\n",
      "       Happy       0.70      0.70      0.70      1892\n",
      "     Neutral       0.61      0.64      0.62      2375\n",
      "         Sad       0.34      0.36      0.35       330\n",
      "\n",
      "    accuracy                           0.58      5773\n",
      "   macro avg       0.44      0.43      0.44      5773\n",
      "weighted avg       0.57      0.58      0.57      5773\n",
      "\n"
     ]
    }
   ],
   "source": [
    "from sklearn.metrics import classification_report\n",
    "\n",
    "model.eval()\n",
    "all_preds = []\n",
    "all_true = []\n",
    "\n",
    "with torch.no_grad():\n",
    "    for batch in val_loader:\n",
    "        input_ids = batch['input_ids'].to(device)\n",
    "        attention_mask = batch['attention_mask'].to(device)\n",
    "        labels = batch['labels'].to(device)\n",
    "\n",
    "        outputs = model(input_ids=input_ids, attention_mask=attention_mask)\n",
    "        preds = torch.argmax(outputs.logits, dim=1)\n",
    "\n",
    "        all_preds.extend(preds.cpu().numpy())\n",
    "        all_true.extend(labels.cpu().numpy())\n",
    "\n",
    "print(classification_report(all_true, all_preds, target_names=label_encoder.classes_))"
   ]
  },
  {
   "cell_type": "code",
   "execution_count": 25,
   "metadata": {
    "id": "HcLbT0JJwT0r"
   },
   "outputs": [
    {
     "data": {
      "text/plain": [
       "('./bert_text_model/tokenizer_config.json',\n",
       " './bert_text_model/special_tokens_map.json',\n",
       " './bert_text_model/vocab.txt',\n",
       " './bert_text_model/added_tokens.json')"
      ]
     },
     "execution_count": 25,
     "metadata": {},
     "output_type": "execute_result"
    }
   ],
   "source": [
    "model.save_pretrained(\"./bert_text_model\")\n",
    "tokenizer.save_pretrained(\"./bert_text_model\")"
   ]
  }
 ],
 "metadata": {
  "accelerator": "GPU",
  "colab": {
   "gpuType": "T4",
   "provenance": []
  },
  "kernelspec": {
   "display_name": "Python 3 (ipykernel)",
   "language": "python",
   "name": "python3"
  },
  "language_info": {
   "codemirror_mode": {
    "name": "ipython",
    "version": 3
   },
   "file_extension": ".py",
   "mimetype": "text/x-python",
   "name": "python",
   "nbconvert_exporter": "python",
   "pygments_lexer": "ipython3",
   "version": "3.9.5"
  },
  "widgets": {
   "application/vnd.jupyter.widget-state+json": {
    "0042f3b250cf43fba34fa4f0c936a45a": {
     "model_module": "@jupyter-widgets/controls",
     "model_module_version": "1.5.0",
     "model_name": "HTMLModel",
     "state": {
      "_dom_classes": [],
      "_model_module": "@jupyter-widgets/controls",
      "_model_module_version": "1.5.0",
      "_model_name": "HTMLModel",
      "_view_count": null,
      "_view_module": "@jupyter-widgets/controls",
      "_view_module_version": "1.5.0",
      "_view_name": "HTMLView",
      "description": "",
      "description_tooltip": null,
      "layout": "IPY_MODEL_d18e0f0b02db481bb5f4d616e82b2181",
      "placeholder": "​",
      "style": "IPY_MODEL_d8bfbff8da1d47b4b8ec481a7f1ba72f",
      "value": "model.safetensors: 100%"
     }
    },
    "060d844b30a34d55a99e2f927c4ff08f": {
     "model_module": "@jupyter-widgets/controls",
     "model_module_version": "1.5.0",
     "model_name": "FloatProgressModel",
     "state": {
      "_dom_classes": [],
      "_model_module": "@jupyter-widgets/controls",
      "_model_module_version": "1.5.0",
      "_model_name": "FloatProgressModel",
      "_view_count": null,
      "_view_module": "@jupyter-widgets/controls",
      "_view_module_version": "1.5.0",
      "_view_name": "ProgressView",
      "bar_style": "success",
      "description": "",
      "description_tooltip": null,
      "layout": "IPY_MODEL_6ae2a1afb4f047fab28d84633fffe4d2",
      "max": 440449768,
      "min": 0,
      "orientation": "horizontal",
      "style": "IPY_MODEL_cc677ae6284844aaa1007ef90ce9f733",
      "value": 440449768
     }
    },
    "20440f2c7c014b3389bbb1bf9f92bf38": {
     "model_module": "@jupyter-widgets/controls",
     "model_module_version": "1.5.0",
     "model_name": "HTMLModel",
     "state": {
      "_dom_classes": [],
      "_model_module": "@jupyter-widgets/controls",
      "_model_module_version": "1.5.0",
      "_model_name": "HTMLModel",
      "_view_count": null,
      "_view_module": "@jupyter-widgets/controls",
      "_view_module_version": "1.5.0",
      "_view_name": "HTMLView",
      "description": "",
      "description_tooltip": null,
      "layout": "IPY_MODEL_33d25d2d67f3482398777f2b70142a67",
      "placeholder": "​",
      "style": "IPY_MODEL_73d109e2dd5e4565bb7ad9f6a4b4f2d2",
      "value": " 440M/440M [00:08&lt;00:00, 73.2MB/s]"
     }
    },
    "33d25d2d67f3482398777f2b70142a67": {
     "model_module": "@jupyter-widgets/base",
     "model_module_version": "1.2.0",
     "model_name": "LayoutModel",
     "state": {
      "_model_module": "@jupyter-widgets/base",
      "_model_module_version": "1.2.0",
      "_model_name": "LayoutModel",
      "_view_count": null,
      "_view_module": "@jupyter-widgets/base",
      "_view_module_version": "1.2.0",
      "_view_name": "LayoutView",
      "align_content": null,
      "align_items": null,
      "align_self": null,
      "border": null,
      "bottom": null,
      "display": null,
      "flex": null,
      "flex_flow": null,
      "grid_area": null,
      "grid_auto_columns": null,
      "grid_auto_flow": null,
      "grid_auto_rows": null,
      "grid_column": null,
      "grid_gap": null,
      "grid_row": null,
      "grid_template_areas": null,
      "grid_template_columns": null,
      "grid_template_rows": null,
      "height": null,
      "justify_content": null,
      "justify_items": null,
      "left": null,
      "margin": null,
      "max_height": null,
      "max_width": null,
      "min_height": null,
      "min_width": null,
      "object_fit": null,
      "object_position": null,
      "order": null,
      "overflow": null,
      "overflow_x": null,
      "overflow_y": null,
      "padding": null,
      "right": null,
      "top": null,
      "visibility": null,
      "width": null
     }
    },
    "613dabe97e2744f4a12fa11692613fe8": {
     "model_module": "@jupyter-widgets/controls",
     "model_module_version": "1.5.0",
     "model_name": "HBoxModel",
     "state": {
      "_dom_classes": [],
      "_model_module": "@jupyter-widgets/controls",
      "_model_module_version": "1.5.0",
      "_model_name": "HBoxModel",
      "_view_count": null,
      "_view_module": "@jupyter-widgets/controls",
      "_view_module_version": "1.5.0",
      "_view_name": "HBoxView",
      "box_style": "",
      "children": [
       "IPY_MODEL_0042f3b250cf43fba34fa4f0c936a45a",
       "IPY_MODEL_060d844b30a34d55a99e2f927c4ff08f",
       "IPY_MODEL_20440f2c7c014b3389bbb1bf9f92bf38"
      ],
      "layout": "IPY_MODEL_d2385450baf6482c899f3e2a78173ca8"
     }
    },
    "6ae2a1afb4f047fab28d84633fffe4d2": {
     "model_module": "@jupyter-widgets/base",
     "model_module_version": "1.2.0",
     "model_name": "LayoutModel",
     "state": {
      "_model_module": "@jupyter-widgets/base",
      "_model_module_version": "1.2.0",
      "_model_name": "LayoutModel",
      "_view_count": null,
      "_view_module": "@jupyter-widgets/base",
      "_view_module_version": "1.2.0",
      "_view_name": "LayoutView",
      "align_content": null,
      "align_items": null,
      "align_self": null,
      "border": null,
      "bottom": null,
      "display": null,
      "flex": null,
      "flex_flow": null,
      "grid_area": null,
      "grid_auto_columns": null,
      "grid_auto_flow": null,
      "grid_auto_rows": null,
      "grid_column": null,
      "grid_gap": null,
      "grid_row": null,
      "grid_template_areas": null,
      "grid_template_columns": null,
      "grid_template_rows": null,
      "height": null,
      "justify_content": null,
      "justify_items": null,
      "left": null,
      "margin": null,
      "max_height": null,
      "max_width": null,
      "min_height": null,
      "min_width": null,
      "object_fit": null,
      "object_position": null,
      "order": null,
      "overflow": null,
      "overflow_x": null,
      "overflow_y": null,
      "padding": null,
      "right": null,
      "top": null,
      "visibility": null,
      "width": null
     }
    },
    "73d109e2dd5e4565bb7ad9f6a4b4f2d2": {
     "model_module": "@jupyter-widgets/controls",
     "model_module_version": "1.5.0",
     "model_name": "DescriptionStyleModel",
     "state": {
      "_model_module": "@jupyter-widgets/controls",
      "_model_module_version": "1.5.0",
      "_model_name": "DescriptionStyleModel",
      "_view_count": null,
      "_view_module": "@jupyter-widgets/base",
      "_view_module_version": "1.2.0",
      "_view_name": "StyleView",
      "description_width": ""
     }
    },
    "cc677ae6284844aaa1007ef90ce9f733": {
     "model_module": "@jupyter-widgets/controls",
     "model_module_version": "1.5.0",
     "model_name": "ProgressStyleModel",
     "state": {
      "_model_module": "@jupyter-widgets/controls",
      "_model_module_version": "1.5.0",
      "_model_name": "ProgressStyleModel",
      "_view_count": null,
      "_view_module": "@jupyter-widgets/base",
      "_view_module_version": "1.2.0",
      "_view_name": "StyleView",
      "bar_color": null,
      "description_width": ""
     }
    },
    "d18e0f0b02db481bb5f4d616e82b2181": {
     "model_module": "@jupyter-widgets/base",
     "model_module_version": "1.2.0",
     "model_name": "LayoutModel",
     "state": {
      "_model_module": "@jupyter-widgets/base",
      "_model_module_version": "1.2.0",
      "_model_name": "LayoutModel",
      "_view_count": null,
      "_view_module": "@jupyter-widgets/base",
      "_view_module_version": "1.2.0",
      "_view_name": "LayoutView",
      "align_content": null,
      "align_items": null,
      "align_self": null,
      "border": null,
      "bottom": null,
      "display": null,
      "flex": null,
      "flex_flow": null,
      "grid_area": null,
      "grid_auto_columns": null,
      "grid_auto_flow": null,
      "grid_auto_rows": null,
      "grid_column": null,
      "grid_gap": null,
      "grid_row": null,
      "grid_template_areas": null,
      "grid_template_columns": null,
      "grid_template_rows": null,
      "height": null,
      "justify_content": null,
      "justify_items": null,
      "left": null,
      "margin": null,
      "max_height": null,
      "max_width": null,
      "min_height": null,
      "min_width": null,
      "object_fit": null,
      "object_position": null,
      "order": null,
      "overflow": null,
      "overflow_x": null,
      "overflow_y": null,
      "padding": null,
      "right": null,
      "top": null,
      "visibility": null,
      "width": null
     }
    },
    "d2385450baf6482c899f3e2a78173ca8": {
     "model_module": "@jupyter-widgets/base",
     "model_module_version": "1.2.0",
     "model_name": "LayoutModel",
     "state": {
      "_model_module": "@jupyter-widgets/base",
      "_model_module_version": "1.2.0",
      "_model_name": "LayoutModel",
      "_view_count": null,
      "_view_module": "@jupyter-widgets/base",
      "_view_module_version": "1.2.0",
      "_view_name": "LayoutView",
      "align_content": null,
      "align_items": null,
      "align_self": null,
      "border": null,
      "bottom": null,
      "display": null,
      "flex": null,
      "flex_flow": null,
      "grid_area": null,
      "grid_auto_columns": null,
      "grid_auto_flow": null,
      "grid_auto_rows": null,
      "grid_column": null,
      "grid_gap": null,
      "grid_row": null,
      "grid_template_areas": null,
      "grid_template_columns": null,
      "grid_template_rows": null,
      "height": null,
      "justify_content": null,
      "justify_items": null,
      "left": null,
      "margin": null,
      "max_height": null,
      "max_width": null,
      "min_height": null,
      "min_width": null,
      "object_fit": null,
      "object_position": null,
      "order": null,
      "overflow": null,
      "overflow_x": null,
      "overflow_y": null,
      "padding": null,
      "right": null,
      "top": null,
      "visibility": null,
      "width": null
     }
    },
    "d8bfbff8da1d47b4b8ec481a7f1ba72f": {
     "model_module": "@jupyter-widgets/controls",
     "model_module_version": "1.5.0",
     "model_name": "DescriptionStyleModel",
     "state": {
      "_model_module": "@jupyter-widgets/controls",
      "_model_module_version": "1.5.0",
      "_model_name": "DescriptionStyleModel",
      "_view_count": null,
      "_view_module": "@jupyter-widgets/base",
      "_view_module_version": "1.2.0",
      "_view_name": "StyleView",
      "description_width": ""
     }
    }
   }
  }
 },
 "nbformat": 4,
 "nbformat_minor": 1
}
