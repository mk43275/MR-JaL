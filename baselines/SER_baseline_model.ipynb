{
 "cells": [
  {
   "cell_type": "code",
   "execution_count": null,
   "metadata": {},
   "outputs": [],
   "source": [
    "import numpy as np\n",
    "import matplotlib.pyplot as plt\n",
    "from sklearn.model_selection import train_test_split\n",
    "from sklearn.preprocessing import LabelEncoder\n",
    "from sklearn.metrics import classification_report, confusion_matrix\n",
    "import seaborn as sns"
   ]
  },
  {
   "cell_type": "code",
   "execution_count": null,
   "metadata": {},
   "outputs": [],
   "source": [
    "import tensorflow as tf\n",
    "from tensorflow.keras.models import Sequential\n",
    "from tensorflow.keras.layers import Conv2D, MaxPooling2D, Flatten, Dense, Dropout, LSTM, TimeDistributed, Reshape\n",
    "from tensorflow.keras.utils import to_categorical\n",
    "\n",
    "# Load preprocessed features and labels\n",
    "X = np.load('extracted_features.npy', allow_pickle=True)\n",
    "y = np.load('labels.npy', allow_pickle=True)\n",
    "\n",
    "# Encode labels\n",
    "label_encoder = LabelEncoder()\n",
    "y_encoded = label_encoder.fit_transform(y)\n",
    "y_cat = to_categorical(y_encoded)\n",
    "\n",
    "# Train-test split\n",
    "X_train, X_test, y_train, y_test = train_test_split(X, y_cat, test_size=0.2, random_state=42, stratify=y_cat)\n",
    "\n",
    "# Reshape input for CNN (assume each sample is 2D: (n_features, time_steps))\n",
    "X_train = X_train[..., np.newaxis]  # Shape: (num_samples, n_features, time_steps, 1)\n",
    "X_test = X_test[..., np.newaxis]\n",
    "\n",
    "print(\"Training shape:\", X_train.shape)\n",
    "print(\"Test shape:\", X_test.shape)"
   ]
  },
  {
   "cell_type": "code",
   "execution_count": null,
   "metadata": {},
   "outputs": [],
   "source": [
    "# CNN\n",
    "cnn_model = Sequential([\n",
    "    Conv2D(32, kernel_size=(3, 3), activation='relu', input_shape=X_train.shape[1:]),\n",
    "    MaxPooling2D(pool_size=(2, 2)),\n",
    "    Dropout(0.3),\n",
    "\n",
    "    Conv2D(64, kernel_size=(3, 3), activation='relu'),\n",
    "    MaxPooling2D(pool_size=(2, 2)),\n",
    "    Dropout(0.3),\n",
    "\n",
    "    Flatten(),\n",
    "    Dense(128, activation='relu'),\n",
    "    Dropout(0.3),\n",
    "    Dense(y_cat.shape[1], activation='softmax')\n",
    "])\n",
    "\n",
    "cnn_model.compile(optimizer='adam', loss='categorical_crossentropy', metrics=['accuracy'])\n",
    "cnn_model.summary()\n",
    "\n",
    "history_cnn = cnn_model.fit(X_train, y_train, epochs=30, batch_size=32, validation_split=0.2)"
   ]
  },
  {
   "cell_type": "code",
   "execution_count": null,
   "metadata": {},
   "outputs": [],
   "source": [
    "# CNN + LSTM\n",
    "X_train_seq = X_train.reshape(X_train.shape[0], X_train.shape[2], X_train.shape[1])  # (samples, time, features)\n",
    "X_test_seq = X_test.reshape(X_test.shape[0], X_test.shape[2], X_test.shape[1])\n",
    "\n",
    "cnn_lstm_model = Sequential([\n",
    "    TimeDistributed(Dense(64), input_shape=X_train_seq.shape[1:]),\n",
    "    LSTM(128, return_sequences=False),\n",
    "    Dropout(0.3),\n",
    "    Dense(64, activation='relu'),\n",
    "    Dropout(0.3),\n",
    "    Dense(y_cat.shape[1], activation='softmax')\n",
    "])\n",
    "\n",
    "cnn_lstm_model.compile(optimizer='adam', loss='categorical_crossentropy', metrics=['accuracy'])\n",
    "cnn_lstm_model.summary()\n",
    "\n",
    "history_lstm = cnn_lstm_model.fit(X_train_seq, y_train, epochs=30, batch_size=32, validation_split=0.2)"
   ]
  },
  {
   "cell_type": "code",
   "execution_count": null,
   "metadata": {},
   "outputs": [],
   "source": [
    "def plot_confusion(y_true, y_pred, title):\n",
    "    cm = confusion_matrix(y_true, y_pred)\n",
    "    plt.figure(figsize=(8, 6))\n",
    "    sns.heatmap(cm, annot=True, fmt='d', cmap='Blues', xticklabels=label_encoder.classes_, yticklabels=label_encoder.classes_)\n",
    "    plt.title(title)\n",
    "    plt.xlabel('Predicted')\n",
    "    plt.ylabel('True')\n",
    "    plt.show()\n",
    "\n",
    "# CNN Evaluation\n",
    "y_pred_cnn = cnn_model.predict(X_test)\n",
    "y_pred_cnn_classes = np.argmax(y_pred_cnn, axis=1)\n",
    "y_true = np.argmax(y_test, axis=1)\n",
    "\n",
    "print(\"CNN Classification Report:\")\n",
    "print(classification_report(y_true, y_pred_cnn_classes, target_names=label_encoder.classes_))\n",
    "plot_confusion(y_true, y_pred_cnn_classes, \"CNN Confusion Matrix\")\n",
    "\n",
    "# CNN + LSTM Evaluation\n",
    "y_pred_lstm = cnn_lstm_model.predict(X_test_seq)\n",
    "y_pred_lstm_classes = np.argmax(y_pred_lstm, axis=1)\n",
    "\n",
    "print(\"CNN + LSTM Classification Report:\")\n",
    "print(classification_report(y_true, y_pred_lstm_classes, target_names=label_encoder.classes_))\n",
    "plot_confusion(y_true, y_pred_lstm_classes, \"CNN + LSTM Confusion Matrix\")"
   ]
  }
 ],
 "metadata": {
  "kernelspec": {
   "display_name": "Python 3 (ipykernel)",
   "language": "python",
   "name": "python3"
  },
  "language_info": {
   "codemirror_mode": {
    "name": "ipython",
    "version": 3
   },
   "file_extension": ".py",
   "mimetype": "text/x-python",
   "name": "python",
   "nbconvert_exporter": "python",
   "pygments_lexer": "ipython3",
   "version": "3.11.7"
  }
 },
 "nbformat": 4,
 "nbformat_minor": 2
}
