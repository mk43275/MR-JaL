{
 "cells": [
  {
   "cell_type": "markdown",
   "metadata": {
    "id": "QEvXMPR-rdjw"
   },
   "source": [
    "### Load & clean the dataset"
   ]
  },
  {
   "cell_type": "code",
   "execution_count": 1,
   "metadata": {
    "colab": {
     "base_uri": "https://localhost:8080/"
    },
    "id": "rfBIzSD9mCb9",
    "outputId": "d851b3d5-c0be-47ed-d4e5-af7b03e33d11"
   },
   "outputs": [
    {
     "name": "stdout",
     "output_type": "stream",
     "text": [
      "--2025-04-08 09:47:34--  https://storage.googleapis.com/gresearch/goemotions/data/full_dataset/goemotions_1.csv\n",
      "Resolving storage.googleapis.com (storage.googleapis.com)... 142.251.186.207, 142.251.116.207, 142.250.138.207, ...\n",
      "Connecting to storage.googleapis.com (storage.googleapis.com)|142.251.186.207|:443... connected.\n",
      "HTTP request sent, awaiting response... 200 OK\n",
      "Length: 14174600 (14M) [application/octet-stream]\n",
      "Saving to: ‘data/full_dataset/goemotions_1.csv’\n",
      "\n",
      "goemotions_1.csv    100%[===================>]  13.52M  61.8MB/s    in 0.2s    \n",
      "\n",
      "2025-04-08 09:47:34 (61.8 MB/s) - ‘data/full_dataset/goemotions_1.csv’ saved [14174600/14174600]\n",
      "\n",
      "--2025-04-08 09:47:34--  https://storage.googleapis.com/gresearch/goemotions/data/full_dataset/goemotions_2.csv\n",
      "Resolving storage.googleapis.com (storage.googleapis.com)... 142.250.115.207, 142.250.138.207, 142.250.113.207, ...\n",
      "Connecting to storage.googleapis.com (storage.googleapis.com)|142.250.115.207|:443... connected.\n",
      "HTTP request sent, awaiting response... 200 OK\n",
      "Length: 14173154 (14M) [application/octet-stream]\n",
      "Saving to: ‘data/full_dataset/goemotions_2.csv’\n",
      "\n",
      "goemotions_2.csv    100%[===================>]  13.52M  78.0MB/s    in 0.2s    \n",
      "\n",
      "2025-04-08 09:47:35 (78.0 MB/s) - ‘data/full_dataset/goemotions_2.csv’ saved [14173154/14173154]\n",
      "\n",
      "--2025-04-08 09:47:35--  https://storage.googleapis.com/gresearch/goemotions/data/full_dataset/goemotions_3.csv\n",
      "Resolving storage.googleapis.com (storage.googleapis.com)... 142.250.114.207, 142.251.186.207, 142.251.116.207, ...\n",
      "Connecting to storage.googleapis.com (storage.googleapis.com)|142.250.114.207|:443... connected.\n",
      "HTTP request sent, awaiting response... 200 OK\n",
      "Length: 14395164 (14M) [application/octet-stream]\n",
      "Saving to: ‘data/full_dataset/goemotions_3.csv’\n",
      "\n",
      "goemotions_3.csv    100%[===================>]  13.73M  81.3MB/s    in 0.2s    \n",
      "\n",
      "2025-04-08 09:47:35 (81.3 MB/s) - ‘data/full_dataset/goemotions_3.csv’ saved [14395164/14395164]\n",
      "\n"
     ]
    }
   ],
   "source": [
    "!wget -P data/full_dataset/ https://storage.googleapis.com/gresearch/goemotions/data/full_dataset/goemotions_1.csv\n",
    "!wget -P data/full_dataset/ https://storage.googleapis.com/gresearch/goemotions/data/full_dataset/goemotions_2.csv\n",
    "!wget -P data/full_dataset/ https://storage.googleapis.com/gresearch/goemotions/data/full_dataset/goemotions_3.csv"
   ]
  },
  {
   "cell_type": "code",
   "execution_count": 2,
   "metadata": {
    "colab": {
     "base_uri": "https://localhost:8080/",
     "height": 283
    },
    "id": "dn9RtZfgmFCm",
    "outputId": "178967f4-e2fa-4bcb-e053-e7ac826684f1"
   },
   "outputs": [
    {
     "data": {
      "text/html": [
       "<div>\n",
       "<style scoped>\n",
       "    .dataframe tbody tr th:only-of-type {\n",
       "        vertical-align: middle;\n",
       "    }\n",
       "\n",
       "    .dataframe tbody tr th {\n",
       "        vertical-align: top;\n",
       "    }\n",
       "\n",
       "    .dataframe thead th {\n",
       "        text-align: right;\n",
       "    }\n",
       "</style>\n",
       "<table border=\"1\" class=\"dataframe\">\n",
       "  <thead>\n",
       "    <tr style=\"text-align: right;\">\n",
       "      <th></th>\n",
       "      <th>text</th>\n",
       "      <th>id</th>\n",
       "      <th>author</th>\n",
       "      <th>subreddit</th>\n",
       "      <th>link_id</th>\n",
       "      <th>parent_id</th>\n",
       "      <th>created_utc</th>\n",
       "      <th>rater_id</th>\n",
       "      <th>example_very_unclear</th>\n",
       "      <th>admiration</th>\n",
       "      <th>...</th>\n",
       "      <th>love</th>\n",
       "      <th>nervousness</th>\n",
       "      <th>optimism</th>\n",
       "      <th>pride</th>\n",
       "      <th>realization</th>\n",
       "      <th>relief</th>\n",
       "      <th>remorse</th>\n",
       "      <th>sadness</th>\n",
       "      <th>surprise</th>\n",
       "      <th>neutral</th>\n",
       "    </tr>\n",
       "  </thead>\n",
       "  <tbody>\n",
       "    <tr>\n",
       "      <th>0</th>\n",
       "      <td>That game hurt.</td>\n",
       "      <td>eew5j0j</td>\n",
       "      <td>Brdd9</td>\n",
       "      <td>nrl</td>\n",
       "      <td>t3_ajis4z</td>\n",
       "      <td>t1_eew18eq</td>\n",
       "      <td>1.548381e+09</td>\n",
       "      <td>1</td>\n",
       "      <td>False</td>\n",
       "      <td>0</td>\n",
       "      <td>...</td>\n",
       "      <td>0</td>\n",
       "      <td>0</td>\n",
       "      <td>0</td>\n",
       "      <td>0</td>\n",
       "      <td>0</td>\n",
       "      <td>0</td>\n",
       "      <td>0</td>\n",
       "      <td>1</td>\n",
       "      <td>0</td>\n",
       "      <td>0</td>\n",
       "    </tr>\n",
       "    <tr>\n",
       "      <th>1</th>\n",
       "      <td>&gt;sexuality shouldn’t be a grouping category I...</td>\n",
       "      <td>eemcysk</td>\n",
       "      <td>TheGreen888</td>\n",
       "      <td>unpopularopinion</td>\n",
       "      <td>t3_ai4q37</td>\n",
       "      <td>t3_ai4q37</td>\n",
       "      <td>1.548084e+09</td>\n",
       "      <td>37</td>\n",
       "      <td>True</td>\n",
       "      <td>0</td>\n",
       "      <td>...</td>\n",
       "      <td>0</td>\n",
       "      <td>0</td>\n",
       "      <td>0</td>\n",
       "      <td>0</td>\n",
       "      <td>0</td>\n",
       "      <td>0</td>\n",
       "      <td>0</td>\n",
       "      <td>0</td>\n",
       "      <td>0</td>\n",
       "      <td>0</td>\n",
       "    </tr>\n",
       "  </tbody>\n",
       "</table>\n",
       "<p>2 rows × 37 columns</p>\n",
       "</div>"
      ],
      "text/plain": [
       "                                                text       id       author  \\\n",
       "0                                    That game hurt.  eew5j0j        Brdd9   \n",
       "1   >sexuality shouldn’t be a grouping category I...  eemcysk  TheGreen888   \n",
       "\n",
       "          subreddit    link_id   parent_id   created_utc  rater_id  \\\n",
       "0               nrl  t3_ajis4z  t1_eew18eq  1.548381e+09         1   \n",
       "1  unpopularopinion  t3_ai4q37   t3_ai4q37  1.548084e+09        37   \n",
       "\n",
       "   example_very_unclear  admiration  ...  love  nervousness  optimism  pride  \\\n",
       "0                 False           0  ...     0            0         0      0   \n",
       "1                  True           0  ...     0            0         0      0   \n",
       "\n",
       "   realization  relief  remorse  sadness  surprise  neutral  \n",
       "0            0       0        0        1         0        0  \n",
       "1            0       0        0        0         0        0  \n",
       "\n",
       "[2 rows x 37 columns]"
      ]
     },
     "execution_count": 2,
     "metadata": {},
     "output_type": "execute_result"
    }
   ],
   "source": [
    "import pandas as pd\n",
    "\n",
    "df = pd.read_csv('data/full_dataset/goemotions_1.csv')\n",
    "#df2 = pd.read_csv('data/full_dataset/goemotions_2.csv')\n",
    "#df3 = pd.read_csv('data/full_dataset/goemotions_3.csv')\n",
    "\n",
    "#df = pd.concat([df1, df2, df3], ignore_index=True)\n",
    "df.head(2)"
   ]
  },
  {
   "cell_type": "code",
   "execution_count": 3,
   "metadata": {
    "colab": {
     "base_uri": "https://localhost:8080/"
    },
    "id": "06ZTLeqJpz0D",
    "outputId": "97ec98b9-de71-4853-cb0a-1ffa7d33da4c"
   },
   "outputs": [
    {
     "name": "stdout",
     "output_type": "stream",
     "text": [
      "<class 'pandas.core.frame.DataFrame'>\n",
      "RangeIndex: 70000 entries, 0 to 69999\n",
      "Data columns (total 37 columns):\n",
      " #   Column                Non-Null Count  Dtype  \n",
      "---  ------                --------------  -----  \n",
      " 0   text                  70000 non-null  object \n",
      " 1   id                    70000 non-null  object \n",
      " 2   author                70000 non-null  object \n",
      " 3   subreddit             70000 non-null  object \n",
      " 4   link_id               70000 non-null  object \n",
      " 5   parent_id             70000 non-null  object \n",
      " 6   created_utc           70000 non-null  float64\n",
      " 7   rater_id              70000 non-null  int64  \n",
      " 8   example_very_unclear  70000 non-null  bool   \n",
      " 9   admiration            70000 non-null  int64  \n",
      " 10  amusement             70000 non-null  int64  \n",
      " 11  anger                 70000 non-null  int64  \n",
      " 12  annoyance             70000 non-null  int64  \n",
      " 13  approval              70000 non-null  int64  \n",
      " 14  caring                70000 non-null  int64  \n",
      " 15  confusion             70000 non-null  int64  \n",
      " 16  curiosity             70000 non-null  int64  \n",
      " 17  desire                70000 non-null  int64  \n",
      " 18  disappointment        70000 non-null  int64  \n",
      " 19  disapproval           70000 non-null  int64  \n",
      " 20  disgust               70000 non-null  int64  \n",
      " 21  embarrassment         70000 non-null  int64  \n",
      " 22  excitement            70000 non-null  int64  \n",
      " 23  fear                  70000 non-null  int64  \n",
      " 24  gratitude             70000 non-null  int64  \n",
      " 25  grief                 70000 non-null  int64  \n",
      " 26  joy                   70000 non-null  int64  \n",
      " 27  love                  70000 non-null  int64  \n",
      " 28  nervousness           70000 non-null  int64  \n",
      " 29  optimism              70000 non-null  int64  \n",
      " 30  pride                 70000 non-null  int64  \n",
      " 31  realization           70000 non-null  int64  \n",
      " 32  relief                70000 non-null  int64  \n",
      " 33  remorse               70000 non-null  int64  \n",
      " 34  sadness               70000 non-null  int64  \n",
      " 35  surprise              70000 non-null  int64  \n",
      " 36  neutral               70000 non-null  int64  \n",
      "dtypes: bool(1), float64(1), int64(29), object(6)\n",
      "memory usage: 19.3+ MB\n"
     ]
    }
   ],
   "source": [
    "df.info()"
   ]
  },
  {
   "cell_type": "code",
   "execution_count": 4,
   "metadata": {
    "colab": {
     "base_uri": "https://localhost:8080/"
    },
    "id": "_Di8AvwEnhL1",
    "outputId": "410bcc97-de05-4b9e-edfd-e7f06b2d6e58"
   },
   "outputs": [
    {
     "name": "stdout",
     "output_type": "stream",
     "text": [
      "                                                text    label\n",
      "0                                    That game hurt.  sadness\n",
      "1   >sexuality shouldn’t be a grouping category I...     None\n",
      "2     You do right, if you don't care then fuck 'em!  neutral\n",
      "3                                 Man I love reddit.     love\n",
      "4  [NAME] was nowhere near them, he was by the Fa...  neutral\n"
     ]
    }
   ],
   "source": [
    "# Identify emotion columns starting from \"admiration\"\n",
    "cols = df.columns.tolist()\n",
    "emotion_start_idx = cols.index(\"admiration\")\n",
    "emotion_cols = cols[emotion_start_idx:]\n",
    "\n",
    "# Create a new column with only the first emotion\n",
    "def get_first_emotion(row):\n",
    "    for emotion in emotion_cols:\n",
    "        if row[emotion] == 1:\n",
    "            return emotion\n",
    "    return None  # In case there's no emotion tagged\n",
    "\n",
    "df['label'] = df.apply(get_first_emotion, axis=1)\n",
    "\n",
    "# Preview\n",
    "print(df[['text', 'label']].head())"
   ]
  },
  {
   "cell_type": "code",
   "execution_count": 5,
   "metadata": {
    "id": "za-EiY9S5v1M"
   },
   "outputs": [],
   "source": [
    "from sklearn.preprocessing import LabelEncoder\n",
    "\n",
    "df['label'] = df.apply(get_first_emotion, axis=1)\n",
    "df = df[df['label'].notna()].reset_index(drop=True)\n",
    "\n",
    "# Encode string labels into integers\n",
    "label_encoder = LabelEncoder()\n",
    "df['label_id'] = label_encoder.fit_transform(df['label'])"
   ]
  },
  {
   "cell_type": "markdown",
   "metadata": {
    "id": "A_3QsH6FrnwY"
   },
   "source": [
    "### Tokenizing & data loader"
   ]
  },
  {
   "cell_type": "code",
   "execution_count": 6,
   "metadata": {
    "id": "tkD1kSrWmSYE"
   },
   "outputs": [],
   "source": [
    "import torch\n",
    "from torch.utils.data import Dataset, DataLoader\n",
    "from transformers import BertTokenizer, BertForSequenceClassification\n",
    "from sklearn.model_selection import train_test_split\n",
    "from sklearn.metrics import classification_report\n",
    "import numpy as np\n",
    "from torch.nn import BCEWithLogitsLoss\n",
    "from tqdm import tqdm\n",
    "import ast"
   ]
  },
  {
   "cell_type": "code",
   "execution_count": 7,
   "metadata": {
    "id": "1q12v0qd5-RR"
   },
   "outputs": [
    {
     "data": {
      "application/vnd.jupyter.widget-view+json": {
       "model_id": "98029ceabf864fda9b3f974ba71f8dfc",
       "version_major": 2,
       "version_minor": 0
      },
      "text/plain": [
       "tokenizer_config.json:   0%|          | 0.00/48.0 [00:00<?, ?B/s]"
      ]
     },
     "metadata": {},
     "output_type": "display_data"
    },
    {
     "data": {
      "application/vnd.jupyter.widget-view+json": {
       "model_id": "9ec76927ea2948ce99e2dc97098ae5bc",
       "version_major": 2,
       "version_minor": 0
      },
      "text/plain": [
       "vocab.txt:   0%|          | 0.00/232k [00:00<?, ?B/s]"
      ]
     },
     "metadata": {},
     "output_type": "display_data"
    },
    {
     "data": {
      "application/vnd.jupyter.widget-view+json": {
       "model_id": "4fc237e6881b4958a351d548a188c07f",
       "version_major": 2,
       "version_minor": 0
      },
      "text/plain": [
       "tokenizer.json:   0%|          | 0.00/466k [00:00<?, ?B/s]"
      ]
     },
     "metadata": {},
     "output_type": "display_data"
    },
    {
     "name": "stderr",
     "output_type": "stream",
     "text": [
      "/opt/jupyterhub/pyvenv/lib/python3.9/site-packages/huggingface_hub/file_download.py:797: FutureWarning: `resume_download` is deprecated and will be removed in version 1.0.0. Downloads always resume when possible. If you want to force a new download, use `force_download=True`.\n",
      "  warnings.warn(\n"
     ]
    },
    {
     "data": {
      "application/vnd.jupyter.widget-view+json": {
       "model_id": "a830c4322b6b43bba4ea5e9bfb53285c",
       "version_major": 2,
       "version_minor": 0
      },
      "text/plain": [
       "config.json:   0%|          | 0.00/570 [00:00<?, ?B/s]"
      ]
     },
     "metadata": {},
     "output_type": "display_data"
    }
   ],
   "source": [
    "tokenizer = BertTokenizer.from_pretrained(\"bert-base-uncased\")\n",
    "\n",
    "class EmotionDataset(Dataset):\n",
    "    def __init__(self, texts, labels, tokenizer, max_len=128):\n",
    "        self.encodings = tokenizer(texts, padding='max_length', truncation=True, max_length=max_len, return_tensors='pt')\n",
    "        self.labels = torch.tensor(labels, dtype=torch.long)\n",
    "\n",
    "    def __len__(self):\n",
    "        return len(self.labels)\n",
    "\n",
    "    def __getitem__(self, idx):\n",
    "        item = {key: val[idx] for key, val in self.encodings.items()}\n",
    "        item['labels'] = self.labels[idx]\n",
    "        return item\n",
    "\n",
    "texts = df['text'].astype(str).tolist()\n",
    "labels = df['label_id'].tolist()\n",
    "\n",
    "from sklearn.model_selection import train_test_split\n",
    "train_texts, val_texts, train_labels, val_labels = train_test_split(\n",
    "    texts, labels, test_size=0.1, random_state=42, stratify=labels\n",
    ")\n",
    "\n",
    "train_dataset = EmotionDataset(train_texts, train_labels, tokenizer)\n",
    "val_dataset = EmotionDataset(val_texts, val_labels, tokenizer)\n",
    "\n",
    "train_loader = DataLoader(train_dataset, batch_size=16, shuffle=True)\n",
    "val_loader = DataLoader(val_dataset, batch_size=16)"
   ]
  },
  {
   "cell_type": "markdown",
   "metadata": {
    "id": "ucgcbShOrp54"
   },
   "source": [
    "### Model architect:"
   ]
  },
  {
   "cell_type": "code",
   "execution_count": 8,
   "metadata": {
    "colab": {
     "base_uri": "https://localhost:8080/",
     "height": 373,
     "referenced_widgets": [
      "613dabe97e2744f4a12fa11692613fe8",
      "0042f3b250cf43fba34fa4f0c936a45a",
      "060d844b30a34d55a99e2f927c4ff08f",
      "20440f2c7c014b3389bbb1bf9f92bf38",
      "d2385450baf6482c899f3e2a78173ca8",
      "d18e0f0b02db481bb5f4d616e82b2181",
      "d8bfbff8da1d47b4b8ec481a7f1ba72f",
      "6ae2a1afb4f047fab28d84633fffe4d2",
      "cc677ae6284844aaa1007ef90ce9f733",
      "33d25d2d67f3482398777f2b70142a67",
      "73d109e2dd5e4565bb7ad9f6a4b4f2d2"
     ]
    },
    "id": "l7DzwN5x6gB4",
    "outputId": "efaaf4a1-01f8-4a2b-e478-56fc232b9243"
   },
   "outputs": [
    {
     "name": "stdout",
     "output_type": "stream",
     "text": [
      "Requirement already satisfied: huggingface_hub[hf_xet] in /opt/jupyterhub/pyvenv/lib/python3.9/site-packages (0.29.1)\n",
      "\u001b[33mWARNING: huggingface-hub 0.29.1 does not provide the extra 'hf-xet'\u001b[0m\u001b[33m\n",
      "\u001b[0mRequirement already satisfied: filelock in /opt/jupyterhub/pyvenv/lib/python3.9/site-packages (from huggingface_hub[hf_xet]) (3.17.0)\n",
      "Requirement already satisfied: fsspec>=2023.5.0 in /opt/jupyterhub/pyvenv/lib/python3.9/site-packages (from huggingface_hub[hf_xet]) (2024.5.0)\n",
      "Requirement already satisfied: packaging>=20.9 in /opt/jupyterhub/pyvenv/lib/python3.9/site-packages (from huggingface_hub[hf_xet]) (24.2)\n",
      "Requirement already satisfied: pyyaml>=5.1 in /opt/jupyterhub/pyvenv/lib/python3.9/site-packages (from huggingface_hub[hf_xet]) (6.0.1)\n",
      "Requirement already satisfied: requests in /opt/jupyterhub/pyvenv/lib/python3.9/site-packages (from huggingface_hub[hf_xet]) (2.32.3)\n",
      "Requirement already satisfied: tqdm>=4.42.1 in /opt/jupyterhub/pyvenv/lib/python3.9/site-packages (from huggingface_hub[hf_xet]) (4.66.4)\n",
      "Requirement already satisfied: typing-extensions>=3.7.4.3 in /opt/jupyterhub/pyvenv/lib/python3.9/site-packages (from huggingface_hub[hf_xet]) (4.9.0)\n",
      "Requirement already satisfied: charset-normalizer<4,>=2 in /opt/jupyterhub/pyvenv/lib/python3.9/site-packages (from requests->huggingface_hub[hf_xet]) (3.4.1)\n",
      "Requirement already satisfied: idna<4,>=2.5 in /opt/jupyterhub/pyvenv/lib/python3.9/site-packages (from requests->huggingface_hub[hf_xet]) (3.10)\n",
      "Requirement already satisfied: urllib3<3,>=1.21.1 in /opt/jupyterhub/pyvenv/lib/python3.9/site-packages (from requests->huggingface_hub[hf_xet]) (1.26.20)\n",
      "Requirement already satisfied: certifi>=2017.4.17 in /opt/jupyterhub/pyvenv/lib/python3.9/site-packages (from requests->huggingface_hub[hf_xet]) (2023.11.17)\n"
     ]
    },
    {
     "data": {
      "application/vnd.jupyter.widget-view+json": {
       "model_id": "44db3429e16247c5a93623793ef19474",
       "version_major": 2,
       "version_minor": 0
      },
      "text/plain": [
       "model.safetensors:   0%|          | 0.00/440M [00:00<?, ?B/s]"
      ]
     },
     "metadata": {},
     "output_type": "display_data"
    },
    {
     "name": "stderr",
     "output_type": "stream",
     "text": [
      "Some weights of BertForSequenceClassification were not initialized from the model checkpoint at bert-base-uncased and are newly initialized: ['classifier.bias', 'classifier.weight']\n",
      "You should probably TRAIN this model on a down-stream task to be able to use it for predictions and inference.\n"
     ]
    }
   ],
   "source": [
    "!pip install huggingface_hub[hf_xet]\n",
    "from transformers import BertForSequenceClassification\n",
    "\n",
    "num_labels = len(label_encoder.classes_)\n",
    "model = BertForSequenceClassification.from_pretrained(\"bert-base-uncased\", num_labels=num_labels)\n",
    "\n",
    "device = torch.device(\"cuda\" if torch.cuda.is_available() else \"cpu\")\n",
    "model.to(device)\n",
    "\n",
    "optimizer = torch.optim.AdamW(model.parameters(), lr=2e-5)\n",
    "loss_fn = torch.nn.CrossEntropyLoss()"
   ]
  },
  {
   "cell_type": "markdown",
   "metadata": {
    "id": "YxXrjYr5wNR8"
   },
   "source": [
    "### Training"
   ]
  },
  {
   "cell_type": "code",
   "execution_count": 9,
   "metadata": {
    "colab": {
     "base_uri": "https://localhost:8080/"
    },
    "id": "-xJCXQThwPRL",
    "outputId": "85fc5209-5984-4708-98fd-90d6c40b4a93"
   },
   "outputs": [
    {
     "name": "stdout",
     "output_type": "stream",
     "text": [
      "Epoch 1/5\n"
     ]
    },
    {
     "name": "stderr",
     "output_type": "stream",
     "text": [
      "100%|██████████| 3874/3874 [05:27<00:00, 11.83it/s]\n"
     ]
    },
    {
     "name": "stdout",
     "output_type": "stream",
     "text": [
      "Average training loss: 2.1172\n",
      "Epoch 2/5\n"
     ]
    },
    {
     "name": "stderr",
     "output_type": "stream",
     "text": [
      "100%|██████████| 3874/3874 [05:27<00:00, 11.84it/s]\n"
     ]
    },
    {
     "name": "stdout",
     "output_type": "stream",
     "text": [
      "Average training loss: 1.8233\n",
      "Epoch 3/5\n"
     ]
    },
    {
     "name": "stderr",
     "output_type": "stream",
     "text": [
      "100%|██████████| 3874/3874 [05:27<00:00, 11.84it/s]\n"
     ]
    },
    {
     "name": "stdout",
     "output_type": "stream",
     "text": [
      "Average training loss: 1.6369\n",
      "Epoch 4/5\n"
     ]
    },
    {
     "name": "stderr",
     "output_type": "stream",
     "text": [
      "100%|██████████| 3874/3874 [05:27<00:00, 11.84it/s]\n"
     ]
    },
    {
     "name": "stdout",
     "output_type": "stream",
     "text": [
      "Average training loss: 1.4531\n",
      "Epoch 5/5\n"
     ]
    },
    {
     "name": "stderr",
     "output_type": "stream",
     "text": [
      "100%|██████████| 3874/3874 [05:28<00:00, 11.80it/s]"
     ]
    },
    {
     "name": "stdout",
     "output_type": "stream",
     "text": [
      "Average training loss: 1.2813\n"
     ]
    },
    {
     "name": "stderr",
     "output_type": "stream",
     "text": [
      "\n"
     ]
    }
   ],
   "source": [
    "from torch.cuda.amp import autocast, GradScaler\n",
    "scaler = GradScaler()\n",
    "from tqdm import tqdm\n",
    "\n",
    "EPOCHS = 5\n",
    "for epoch in range(EPOCHS):\n",
    "    print(f\"Epoch {epoch + 1}/{EPOCHS}\")\n",
    "    model.train()\n",
    "    total_loss = 0\n",
    "\n",
    "    for batch in tqdm(train_loader):\n",
    "        input_ids = batch['input_ids'].to(device)\n",
    "        attention_mask = batch['attention_mask'].to(device)\n",
    "        labels = batch['labels'].to(device)\n",
    "\n",
    "        outputs = model(input_ids=input_ids, attention_mask=attention_mask, labels=labels)\n",
    "        loss = outputs.loss\n",
    "\n",
    "        optimizer.zero_grad()\n",
    "        loss.backward()\n",
    "        optimizer.step()\n",
    "\n",
    "        total_loss += loss.item()\n",
    "\n",
    "    print(f\"Average training loss: {total_loss / len(train_loader):.4f}\")"
   ]
  },
  {
   "cell_type": "markdown",
   "metadata": {
    "id": "6Q4UZmGZ7rp_"
   },
   "source": [
    "### Evaluation"
   ]
  },
  {
   "cell_type": "code",
   "execution_count": 10,
   "metadata": {
    "id": "wrYQi6Yj7P9X"
   },
   "outputs": [
    {
     "name": "stdout",
     "output_type": "stream",
     "text": [
      "                precision    recall  f1-score   support\n",
      "\n",
      "    admiration       0.45      0.64      0.53       565\n",
      "     amusement       0.48      0.64      0.55       293\n",
      "         anger       0.37      0.33      0.35       255\n",
      "     annoyance       0.21      0.22      0.22       391\n",
      "      approval       0.26      0.22      0.24       521\n",
      "        caring       0.26      0.33      0.29       170\n",
      "     confusion       0.32      0.39      0.35       223\n",
      "     curiosity       0.34      0.41      0.37       260\n",
      "        desire       0.30      0.34      0.32        98\n",
      "disappointment       0.17      0.16      0.16       222\n",
      "   disapproval       0.28      0.24      0.26       296\n",
      "       disgust       0.24      0.25      0.24       109\n",
      " embarrassment       0.26      0.20      0.22        56\n",
      "    excitement       0.20      0.18      0.19       147\n",
      "          fear       0.28      0.37      0.32        82\n",
      "     gratitude       0.64      0.68      0.66       282\n",
      "         grief       0.50      0.24      0.32        17\n",
      "           joy       0.31      0.26      0.28       167\n",
      "          love       0.47      0.60      0.52       181\n",
      "   nervousness       0.19      0.16      0.18        31\n",
      "       neutral       0.51      0.40      0.45      1843\n",
      "      optimism       0.26      0.30      0.28       168\n",
      "         pride       0.19      0.12      0.15        24\n",
      "   realization       0.14      0.15      0.14       165\n",
      "        relief       0.27      0.14      0.18        29\n",
      "       remorse       0.25      0.42      0.32        55\n",
      "       sadness       0.32      0.24      0.27       125\n",
      "      surprise       0.27      0.33      0.29       113\n",
      "\n",
      "      accuracy                           0.37      6888\n",
      "     macro avg       0.31      0.32      0.31      6888\n",
      "  weighted avg       0.38      0.37      0.37      6888\n",
      "\n"
     ]
    }
   ],
   "source": [
    "from sklearn.metrics import classification_report\n",
    "\n",
    "model.eval()\n",
    "all_preds = []\n",
    "all_true = []\n",
    "\n",
    "with torch.no_grad():\n",
    "    for batch in val_loader:\n",
    "        input_ids = batch['input_ids'].to(device)\n",
    "        attention_mask = batch['attention_mask'].to(device)\n",
    "        labels = batch['labels'].to(device)\n",
    "\n",
    "        outputs = model(input_ids=input_ids, attention_mask=attention_mask)\n",
    "        preds = torch.argmax(outputs.logits, dim=1)\n",
    "\n",
    "        all_preds.extend(preds.cpu().numpy())\n",
    "        all_true.extend(labels.cpu().numpy())\n",
    "\n",
    "print(classification_report(all_true, all_preds, target_names=label_encoder.classes_))"
   ]
  },
  {
   "cell_type": "code",
   "execution_count": 11,
   "metadata": {
    "id": "HcLbT0JJwT0r"
   },
   "outputs": [
    {
     "data": {
      "text/plain": [
       "('./bert_text_model/tokenizer_config.json',\n",
       " './bert_text_model/special_tokens_map.json',\n",
       " './bert_text_model/vocab.txt',\n",
       " './bert_text_model/added_tokens.json')"
      ]
     },
     "execution_count": 11,
     "metadata": {},
     "output_type": "execute_result"
    }
   ],
   "source": [
    "model.save_pretrained(\"./bert_text_model\")\n",
    "tokenizer.save_pretrained(\"./bert_text_model\")"
   ]
  }
 ],
 "metadata": {
  "accelerator": "GPU",
  "colab": {
   "gpuType": "T4",
   "provenance": []
  },
  "kernelspec": {
   "display_name": "Python 3 (ipykernel)",
   "language": "python",
   "name": "python3"
  },
  "language_info": {
   "codemirror_mode": {
    "name": "ipython",
    "version": 3
   },
   "file_extension": ".py",
   "mimetype": "text/x-python",
   "name": "python",
   "nbconvert_exporter": "python",
   "pygments_lexer": "ipython3",
   "version": "3.9.5"
  },
  "widgets": {
   "application/vnd.jupyter.widget-state+json": {
    "0042f3b250cf43fba34fa4f0c936a45a": {
     "model_module": "@jupyter-widgets/controls",
     "model_module_version": "1.5.0",
     "model_name": "HTMLModel",
     "state": {
      "_dom_classes": [],
      "_model_module": "@jupyter-widgets/controls",
      "_model_module_version": "1.5.0",
      "_model_name": "HTMLModel",
      "_view_count": null,
      "_view_module": "@jupyter-widgets/controls",
      "_view_module_version": "1.5.0",
      "_view_name": "HTMLView",
      "description": "",
      "description_tooltip": null,
      "layout": "IPY_MODEL_d18e0f0b02db481bb5f4d616e82b2181",
      "placeholder": "​",
      "style": "IPY_MODEL_d8bfbff8da1d47b4b8ec481a7f1ba72f",
      "value": "model.safetensors: 100%"
     }
    },
    "060d844b30a34d55a99e2f927c4ff08f": {
     "model_module": "@jupyter-widgets/controls",
     "model_module_version": "1.5.0",
     "model_name": "FloatProgressModel",
     "state": {
      "_dom_classes": [],
      "_model_module": "@jupyter-widgets/controls",
      "_model_module_version": "1.5.0",
      "_model_name": "FloatProgressModel",
      "_view_count": null,
      "_view_module": "@jupyter-widgets/controls",
      "_view_module_version": "1.5.0",
      "_view_name": "ProgressView",
      "bar_style": "success",
      "description": "",
      "description_tooltip": null,
      "layout": "IPY_MODEL_6ae2a1afb4f047fab28d84633fffe4d2",
      "max": 440449768,
      "min": 0,
      "orientation": "horizontal",
      "style": "IPY_MODEL_cc677ae6284844aaa1007ef90ce9f733",
      "value": 440449768
     }
    },
    "20440f2c7c014b3389bbb1bf9f92bf38": {
     "model_module": "@jupyter-widgets/controls",
     "model_module_version": "1.5.0",
     "model_name": "HTMLModel",
     "state": {
      "_dom_classes": [],
      "_model_module": "@jupyter-widgets/controls",
      "_model_module_version": "1.5.0",
      "_model_name": "HTMLModel",
      "_view_count": null,
      "_view_module": "@jupyter-widgets/controls",
      "_view_module_version": "1.5.0",
      "_view_name": "HTMLView",
      "description": "",
      "description_tooltip": null,
      "layout": "IPY_MODEL_33d25d2d67f3482398777f2b70142a67",
      "placeholder": "​",
      "style": "IPY_MODEL_73d109e2dd5e4565bb7ad9f6a4b4f2d2",
      "value": " 440M/440M [00:08&lt;00:00, 73.2MB/s]"
     }
    },
    "33d25d2d67f3482398777f2b70142a67": {
     "model_module": "@jupyter-widgets/base",
     "model_module_version": "1.2.0",
     "model_name": "LayoutModel",
     "state": {
      "_model_module": "@jupyter-widgets/base",
      "_model_module_version": "1.2.0",
      "_model_name": "LayoutModel",
      "_view_count": null,
      "_view_module": "@jupyter-widgets/base",
      "_view_module_version": "1.2.0",
      "_view_name": "LayoutView",
      "align_content": null,
      "align_items": null,
      "align_self": null,
      "border": null,
      "bottom": null,
      "display": null,
      "flex": null,
      "flex_flow": null,
      "grid_area": null,
      "grid_auto_columns": null,
      "grid_auto_flow": null,
      "grid_auto_rows": null,
      "grid_column": null,
      "grid_gap": null,
      "grid_row": null,
      "grid_template_areas": null,
      "grid_template_columns": null,
      "grid_template_rows": null,
      "height": null,
      "justify_content": null,
      "justify_items": null,
      "left": null,
      "margin": null,
      "max_height": null,
      "max_width": null,
      "min_height": null,
      "min_width": null,
      "object_fit": null,
      "object_position": null,
      "order": null,
      "overflow": null,
      "overflow_x": null,
      "overflow_y": null,
      "padding": null,
      "right": null,
      "top": null,
      "visibility": null,
      "width": null
     }
    },
    "613dabe97e2744f4a12fa11692613fe8": {
     "model_module": "@jupyter-widgets/controls",
     "model_module_version": "1.5.0",
     "model_name": "HBoxModel",
     "state": {
      "_dom_classes": [],
      "_model_module": "@jupyter-widgets/controls",
      "_model_module_version": "1.5.0",
      "_model_name": "HBoxModel",
      "_view_count": null,
      "_view_module": "@jupyter-widgets/controls",
      "_view_module_version": "1.5.0",
      "_view_name": "HBoxView",
      "box_style": "",
      "children": [
       "IPY_MODEL_0042f3b250cf43fba34fa4f0c936a45a",
       "IPY_MODEL_060d844b30a34d55a99e2f927c4ff08f",
       "IPY_MODEL_20440f2c7c014b3389bbb1bf9f92bf38"
      ],
      "layout": "IPY_MODEL_d2385450baf6482c899f3e2a78173ca8"
     }
    },
    "6ae2a1afb4f047fab28d84633fffe4d2": {
     "model_module": "@jupyter-widgets/base",
     "model_module_version": "1.2.0",
     "model_name": "LayoutModel",
     "state": {
      "_model_module": "@jupyter-widgets/base",
      "_model_module_version": "1.2.0",
      "_model_name": "LayoutModel",
      "_view_count": null,
      "_view_module": "@jupyter-widgets/base",
      "_view_module_version": "1.2.0",
      "_view_name": "LayoutView",
      "align_content": null,
      "align_items": null,
      "align_self": null,
      "border": null,
      "bottom": null,
      "display": null,
      "flex": null,
      "flex_flow": null,
      "grid_area": null,
      "grid_auto_columns": null,
      "grid_auto_flow": null,
      "grid_auto_rows": null,
      "grid_column": null,
      "grid_gap": null,
      "grid_row": null,
      "grid_template_areas": null,
      "grid_template_columns": null,
      "grid_template_rows": null,
      "height": null,
      "justify_content": null,
      "justify_items": null,
      "left": null,
      "margin": null,
      "max_height": null,
      "max_width": null,
      "min_height": null,
      "min_width": null,
      "object_fit": null,
      "object_position": null,
      "order": null,
      "overflow": null,
      "overflow_x": null,
      "overflow_y": null,
      "padding": null,
      "right": null,
      "top": null,
      "visibility": null,
      "width": null
     }
    },
    "73d109e2dd5e4565bb7ad9f6a4b4f2d2": {
     "model_module": "@jupyter-widgets/controls",
     "model_module_version": "1.5.0",
     "model_name": "DescriptionStyleModel",
     "state": {
      "_model_module": "@jupyter-widgets/controls",
      "_model_module_version": "1.5.0",
      "_model_name": "DescriptionStyleModel",
      "_view_count": null,
      "_view_module": "@jupyter-widgets/base",
      "_view_module_version": "1.2.0",
      "_view_name": "StyleView",
      "description_width": ""
     }
    },
    "cc677ae6284844aaa1007ef90ce9f733": {
     "model_module": "@jupyter-widgets/controls",
     "model_module_version": "1.5.0",
     "model_name": "ProgressStyleModel",
     "state": {
      "_model_module": "@jupyter-widgets/controls",
      "_model_module_version": "1.5.0",
      "_model_name": "ProgressStyleModel",
      "_view_count": null,
      "_view_module": "@jupyter-widgets/base",
      "_view_module_version": "1.2.0",
      "_view_name": "StyleView",
      "bar_color": null,
      "description_width": ""
     }
    },
    "d18e0f0b02db481bb5f4d616e82b2181": {
     "model_module": "@jupyter-widgets/base",
     "model_module_version": "1.2.0",
     "model_name": "LayoutModel",
     "state": {
      "_model_module": "@jupyter-widgets/base",
      "_model_module_version": "1.2.0",
      "_model_name": "LayoutModel",
      "_view_count": null,
      "_view_module": "@jupyter-widgets/base",
      "_view_module_version": "1.2.0",
      "_view_name": "LayoutView",
      "align_content": null,
      "align_items": null,
      "align_self": null,
      "border": null,
      "bottom": null,
      "display": null,
      "flex": null,
      "flex_flow": null,
      "grid_area": null,
      "grid_auto_columns": null,
      "grid_auto_flow": null,
      "grid_auto_rows": null,
      "grid_column": null,
      "grid_gap": null,
      "grid_row": null,
      "grid_template_areas": null,
      "grid_template_columns": null,
      "grid_template_rows": null,
      "height": null,
      "justify_content": null,
      "justify_items": null,
      "left": null,
      "margin": null,
      "max_height": null,
      "max_width": null,
      "min_height": null,
      "min_width": null,
      "object_fit": null,
      "object_position": null,
      "order": null,
      "overflow": null,
      "overflow_x": null,
      "overflow_y": null,
      "padding": null,
      "right": null,
      "top": null,
      "visibility": null,
      "width": null
     }
    },
    "d2385450baf6482c899f3e2a78173ca8": {
     "model_module": "@jupyter-widgets/base",
     "model_module_version": "1.2.0",
     "model_name": "LayoutModel",
     "state": {
      "_model_module": "@jupyter-widgets/base",
      "_model_module_version": "1.2.0",
      "_model_name": "LayoutModel",
      "_view_count": null,
      "_view_module": "@jupyter-widgets/base",
      "_view_module_version": "1.2.0",
      "_view_name": "LayoutView",
      "align_content": null,
      "align_items": null,
      "align_self": null,
      "border": null,
      "bottom": null,
      "display": null,
      "flex": null,
      "flex_flow": null,
      "grid_area": null,
      "grid_auto_columns": null,
      "grid_auto_flow": null,
      "grid_auto_rows": null,
      "grid_column": null,
      "grid_gap": null,
      "grid_row": null,
      "grid_template_areas": null,
      "grid_template_columns": null,
      "grid_template_rows": null,
      "height": null,
      "justify_content": null,
      "justify_items": null,
      "left": null,
      "margin": null,
      "max_height": null,
      "max_width": null,
      "min_height": null,
      "min_width": null,
      "object_fit": null,
      "object_position": null,
      "order": null,
      "overflow": null,
      "overflow_x": null,
      "overflow_y": null,
      "padding": null,
      "right": null,
      "top": null,
      "visibility": null,
      "width": null
     }
    },
    "d8bfbff8da1d47b4b8ec481a7f1ba72f": {
     "model_module": "@jupyter-widgets/controls",
     "model_module_version": "1.5.0",
     "model_name": "DescriptionStyleModel",
     "state": {
      "_model_module": "@jupyter-widgets/controls",
      "_model_module_version": "1.5.0",
      "_model_name": "DescriptionStyleModel",
      "_view_count": null,
      "_view_module": "@jupyter-widgets/base",
      "_view_module_version": "1.2.0",
      "_view_name": "StyleView",
      "description_width": ""
     }
    }
   }
  }
 },
 "nbformat": 4,
 "nbformat_minor": 1
}
